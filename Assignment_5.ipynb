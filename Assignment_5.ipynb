{
  "nbformat": 4,
  "nbformat_minor": 0,
  "metadata": {
    "colab": {
      "name": "Assignment_5.ipynb",
      "version": "0.3.2",
      "provenance": [],
      "collapsed_sections": []
    },
    "kernelspec": {
      "display_name": "Python 3",
      "language": "python",
      "name": "python3"
    }
  },
  "cells": [
    {
      "cell_type": "markdown",
      "metadata": {
        "id": "BKM7WrRLwNyT",
        "colab_type": "text"
      },
      "source": [
        "# Amazon Fine Food Reviews Analysis\n",
        "\n",
        "\n",
        "Data Source: https://www.kaggle.com/snap/amazon-fine-food-reviews <br>\n",
        "\n",
        "EDA: https://nycdatascience.com/blog/student-works/amazon-fine-foods-visualization/\n",
        "\n",
        "\n",
        "The Amazon Fine Food Reviews dataset consists of reviews of fine foods from Amazon.<br>\n",
        "\n",
        "Number of reviews: 568,454<br>\n",
        "Number of users: 256,059<br>\n",
        "Number of products: 74,258<br>\n",
        "Timespan: Oct 1999 - Oct 2012<br>\n",
        "Number of Attributes/Columns in data: 10 \n",
        "\n",
        "Attribute Information:\n",
        "\n",
        "1. Id\n",
        "2. ProductId - unique identifier for the product\n",
        "3. UserId - unqiue identifier for the user\n",
        "4. ProfileName\n",
        "5. HelpfulnessNumerator - number of users who found the review helpful\n",
        "6. HelpfulnessDenominator - number of users who indicated whether they found the review helpful or not\n",
        "7. Score - rating between 1 and 5\n",
        "8. Time - timestamp for the review\n",
        "9. Summary - brief summary of the review\n",
        "10. Text - text of the review\n",
        "\n",
        "\n",
        "#### Objective:\n",
        "Given a review, determine whether the review is positive (rating of 4 or 5) or negative (rating of 1 or 2).\n",
        "\n",
        "<br>\n",
        "[Q] How to determine if a review is positive or negative?<br>\n",
        "<br> \n",
        "[Ans] We could use Score/Rating. A rating of 4 or 5 can be cosnidered as a positive review. A rating of 1 or 2 can be considered as negative one. A review of rating 3 is considered nuetral and such reviews are ignored from our analysis. This is an approximate and proxy way of determining the polarity (positivity/negativity) of a review.\n",
        "\n",
        "\n"
      ]
    },
    {
      "cell_type": "markdown",
      "metadata": {
        "id": "lrXAykvSwNyi",
        "colab_type": "text"
      },
      "source": [
        "# [1]. Reading Data"
      ]
    },
    {
      "cell_type": "markdown",
      "metadata": {
        "id": "4iqo5DBWwNyr",
        "colab_type": "text"
      },
      "source": [
        "## [1.1] Loading the data\n",
        "\n",
        "The dataset is available in two forms\n",
        "1. .csv file\n",
        "2. SQLite Database\n",
        "\n",
        "In order to load the data, We have used the SQLITE dataset as it is easier to query the data and visualise the data efficiently.\n",
        "<br> \n",
        "\n",
        "Here as we only want to get the global sentiment of the recommendations (positive or negative), we will purposefully ignore all Scores equal to 3. If the score is above 3, then the recommendation wil be set to \"positive\". Otherwise, it will be set to \"negative\"."
      ]
    },
    {
      "cell_type": "code",
      "metadata": {
        "id": "CfuTRk29wNy4",
        "colab_type": "code",
        "outputId": "bca2cad1-c311-4f79-b949-ebd74dd88b72",
        "colab": {
          "base_uri": "https://localhost:8080/",
          "height": 34
        }
      },
      "source": [
        "%matplotlib inline\n",
        "import warnings\n",
        "warnings.filterwarnings(\"ignore\")\n",
        "\n",
        "\n",
        "\n",
        "import sqlite3\n",
        "import pandas as pd\n",
        "import numpy as np\n",
        "import nltk\n",
        "import string\n",
        "import matplotlib.pyplot as plt\n",
        "import seaborn as sns\n",
        "from sklearn.feature_extraction.text import TfidfTransformer\n",
        "from sklearn.feature_extraction.text import TfidfVectorizer\n",
        "\n",
        "from sklearn.feature_extraction.text import CountVectorizer\n",
        "from sklearn.metrics import confusion_matrix\n",
        "from sklearn import metrics\n",
        "from sklearn.metrics import roc_curve, auc\n",
        "from nltk.stem.porter import PorterStemmer\n",
        "\n",
        "import re\n",
        "# Tutorial about Python regular expressions: https://pymotw.com/2/re/\n",
        "import string\n",
        "from nltk.corpus import stopwords\n",
        "from nltk.stem import PorterStemmer\n",
        "from nltk.stem.wordnet import WordNetLemmatizer\n",
        "\n",
        "from gensim.models import Word2Vec\n",
        "from gensim.models import KeyedVectors\n",
        "import pickle\n",
        "\n",
        "from tqdm import tqdm\n",
        "import os\n",
        "\n",
        "from google.colab import drive\n",
        "drive.mount('/content/gdrive')"
      ],
      "execution_count": 0,
      "outputs": [
        {
          "output_type": "stream",
          "text": [
            "Drive already mounted at /content/gdrive; to attempt to forcibly remount, call drive.mount(\"/content/gdrive\", force_remount=True).\n"
          ],
          "name": "stdout"
        }
      ]
    },
    {
      "cell_type": "code",
      "metadata": {
        "id": "efUSH42awNzL",
        "colab_type": "code",
        "outputId": "0c084703-5e6f-4d64-d406-dac3a554003f",
        "colab": {
          "base_uri": "https://localhost:8080/",
          "height": 210
        }
      },
      "source": [
        "\n",
        "# using the SQLite Table to read data.\n",
        "con = sqlite3.connect('gdrive/My Drive/Colab Notebooks/database.sqlite') \n",
        "#filtering only positive and negative reviews i.e. \n",
        "# not taking into consideration those reviews with Score=3\n",
        "# SELECT * FROM Reviews WHERE Score != 3 LIMIT 500000, will give top 500000 data points\n",
        "# you can change the number to any other number based on your computing power\n",
        "\n",
        "# filtered_data = pd.read_sql_query(\"\"\" SELECT * FROM Reviews WHERE Score != 3 LIMIT 500000\"\"\", con) \n",
        "# for tsne assignment you can take 5k data points\n",
        "\n",
        "filtered_data = pd.read_sql_query(\"\"\" SELECT * FROM Reviews WHERE Score != 3 LIMIT 50000\"\"\", con) \n",
        "\n",
        "# Give reviews with Score>3 a positive rating, and reviews with a score<3 a negative rating.\n",
        "def partition(x):\n",
        "    if x < 3:\n",
        "        return 0\n",
        "    return 1\n",
        "\n",
        "#changing reviews with score less than 3 to be positive and vice-versa\n",
        "actualScore = filtered_data['Score']\n",
        "positiveNegative = actualScore.map(partition) \n",
        "filtered_data['Score'] = positiveNegative\n",
        "print(\"Number of data points in our data\", filtered_data.shape)\n",
        "filtered_data.head(3)"
      ],
      "execution_count": 0,
      "outputs": [
        {
          "output_type": "stream",
          "text": [
            "Number of data points in our data (50000, 10)\n"
          ],
          "name": "stdout"
        },
        {
          "output_type": "execute_result",
          "data": {
            "text/html": [
              "<div>\n",
              "<style scoped>\n",
              "    .dataframe tbody tr th:only-of-type {\n",
              "        vertical-align: middle;\n",
              "    }\n",
              "\n",
              "    .dataframe tbody tr th {\n",
              "        vertical-align: top;\n",
              "    }\n",
              "\n",
              "    .dataframe thead th {\n",
              "        text-align: right;\n",
              "    }\n",
              "</style>\n",
              "<table border=\"1\" class=\"dataframe\">\n",
              "  <thead>\n",
              "    <tr style=\"text-align: right;\">\n",
              "      <th></th>\n",
              "      <th>Id</th>\n",
              "      <th>ProductId</th>\n",
              "      <th>UserId</th>\n",
              "      <th>ProfileName</th>\n",
              "      <th>HelpfulnessNumerator</th>\n",
              "      <th>HelpfulnessDenominator</th>\n",
              "      <th>Score</th>\n",
              "      <th>Time</th>\n",
              "      <th>Summary</th>\n",
              "      <th>Text</th>\n",
              "    </tr>\n",
              "  </thead>\n",
              "  <tbody>\n",
              "    <tr>\n",
              "      <th>0</th>\n",
              "      <td>1</td>\n",
              "      <td>B001E4KFG0</td>\n",
              "      <td>A3SGXH7AUHU8GW</td>\n",
              "      <td>delmartian</td>\n",
              "      <td>1</td>\n",
              "      <td>1</td>\n",
              "      <td>1</td>\n",
              "      <td>1303862400</td>\n",
              "      <td>Good Quality Dog Food</td>\n",
              "      <td>I have bought several of the Vitality canned d...</td>\n",
              "    </tr>\n",
              "    <tr>\n",
              "      <th>1</th>\n",
              "      <td>2</td>\n",
              "      <td>B00813GRG4</td>\n",
              "      <td>A1D87F6ZCVE5NK</td>\n",
              "      <td>dll pa</td>\n",
              "      <td>0</td>\n",
              "      <td>0</td>\n",
              "      <td>0</td>\n",
              "      <td>1346976000</td>\n",
              "      <td>Not as Advertised</td>\n",
              "      <td>Product arrived labeled as Jumbo Salted Peanut...</td>\n",
              "    </tr>\n",
              "    <tr>\n",
              "      <th>2</th>\n",
              "      <td>3</td>\n",
              "      <td>B000LQOCH0</td>\n",
              "      <td>ABXLMWJIXXAIN</td>\n",
              "      <td>Natalia Corres \"Natalia Corres\"</td>\n",
              "      <td>1</td>\n",
              "      <td>1</td>\n",
              "      <td>1</td>\n",
              "      <td>1219017600</td>\n",
              "      <td>\"Delight\" says it all</td>\n",
              "      <td>This is a confection that has been around a fe...</td>\n",
              "    </tr>\n",
              "  </tbody>\n",
              "</table>\n",
              "</div>"
            ],
            "text/plain": [
              "   Id  ...                                               Text\n",
              "0   1  ...  I have bought several of the Vitality canned d...\n",
              "1   2  ...  Product arrived labeled as Jumbo Salted Peanut...\n",
              "2   3  ...  This is a confection that has been around a fe...\n",
              "\n",
              "[3 rows x 10 columns]"
            ]
          },
          "metadata": {
            "tags": []
          },
          "execution_count": 91
        }
      ]
    },
    {
      "cell_type": "code",
      "metadata": {
        "id": "anPPXcpMwNzj",
        "colab_type": "code",
        "colab": {}
      },
      "source": [
        "display = pd.read_sql_query(\"\"\"\n",
        "SELECT UserId, ProductId, ProfileName, Time, Score, Summary,Text, COUNT(*)\n",
        "FROM Reviews\n",
        "GROUP BY UserId\n",
        "HAVING COUNT(*)>1\n",
        "\"\"\", con)"
      ],
      "execution_count": 0,
      "outputs": []
    },
    {
      "cell_type": "code",
      "metadata": {
        "scrolled": true,
        "id": "HLD263RxwNzx",
        "colab_type": "code",
        "outputId": "ca4e5e64-4c8e-4628-9d17-2890f97efb5b",
        "colab": {
          "base_uri": "https://localhost:8080/",
          "height": 221
        }
      },
      "source": [
        "print(display.shape)\n",
        "display.head()"
      ],
      "execution_count": 0,
      "outputs": [
        {
          "output_type": "stream",
          "text": [
            "(80668, 8)\n"
          ],
          "name": "stdout"
        },
        {
          "output_type": "execute_result",
          "data": {
            "text/html": [
              "<div>\n",
              "<style scoped>\n",
              "    .dataframe tbody tr th:only-of-type {\n",
              "        vertical-align: middle;\n",
              "    }\n",
              "\n",
              "    .dataframe tbody tr th {\n",
              "        vertical-align: top;\n",
              "    }\n",
              "\n",
              "    .dataframe thead th {\n",
              "        text-align: right;\n",
              "    }\n",
              "</style>\n",
              "<table border=\"1\" class=\"dataframe\">\n",
              "  <thead>\n",
              "    <tr style=\"text-align: right;\">\n",
              "      <th></th>\n",
              "      <th>UserId</th>\n",
              "      <th>ProductId</th>\n",
              "      <th>ProfileName</th>\n",
              "      <th>Time</th>\n",
              "      <th>Score</th>\n",
              "      <th>Summary</th>\n",
              "      <th>Text</th>\n",
              "      <th>COUNT(*)</th>\n",
              "    </tr>\n",
              "  </thead>\n",
              "  <tbody>\n",
              "    <tr>\n",
              "      <th>0</th>\n",
              "      <td>#oc-R115TNMSPFT9I7</td>\n",
              "      <td>B007Y59HVM</td>\n",
              "      <td>Breyton</td>\n",
              "      <td>1331510400</td>\n",
              "      <td>2</td>\n",
              "      <td>\"Green\" K-cup packaging sacrifices flavor</td>\n",
              "      <td>Overall its just OK when considering the price...</td>\n",
              "      <td>2</td>\n",
              "    </tr>\n",
              "    <tr>\n",
              "      <th>1</th>\n",
              "      <td>#oc-R11D9D7SHXIJB9</td>\n",
              "      <td>B005HG9ET0</td>\n",
              "      <td>Louis E. Emory \"hoppy\"</td>\n",
              "      <td>1342396800</td>\n",
              "      <td>5</td>\n",
              "      <td>Muscle spasms</td>\n",
              "      <td>My wife has recurring extreme muscle spasms, u...</td>\n",
              "      <td>3</td>\n",
              "    </tr>\n",
              "    <tr>\n",
              "      <th>2</th>\n",
              "      <td>#oc-R11DNU2NBKQ23Z</td>\n",
              "      <td>B007Y59HVM</td>\n",
              "      <td>Kim Cieszykowski</td>\n",
              "      <td>1348531200</td>\n",
              "      <td>1</td>\n",
              "      <td>Terrible coffee</td>\n",
              "      <td>This coffee is horrible and unfortunately not ...</td>\n",
              "      <td>2</td>\n",
              "    </tr>\n",
              "    <tr>\n",
              "      <th>3</th>\n",
              "      <td>#oc-R11O5J5ZVQE25C</td>\n",
              "      <td>B005HG9ET0</td>\n",
              "      <td>Penguin Chick</td>\n",
              "      <td>1346889600</td>\n",
              "      <td>5</td>\n",
              "      <td>Refreshing!</td>\n",
              "      <td>This will be the bottle that you grab from the...</td>\n",
              "      <td>3</td>\n",
              "    </tr>\n",
              "    <tr>\n",
              "      <th>4</th>\n",
              "      <td>#oc-R12KPBODL2B5ZD</td>\n",
              "      <td>B007OSBE1U</td>\n",
              "      <td>Christopher P. Presta</td>\n",
              "      <td>1348617600</td>\n",
              "      <td>1</td>\n",
              "      <td>Not what I expected</td>\n",
              "      <td>I didnt like this coffee. Instead of telling y...</td>\n",
              "      <td>2</td>\n",
              "    </tr>\n",
              "  </tbody>\n",
              "</table>\n",
              "</div>"
            ],
            "text/plain": [
              "               UserId  ... COUNT(*)\n",
              "0  #oc-R115TNMSPFT9I7  ...        2\n",
              "1  #oc-R11D9D7SHXIJB9  ...        3\n",
              "2  #oc-R11DNU2NBKQ23Z  ...        2\n",
              "3  #oc-R11O5J5ZVQE25C  ...        3\n",
              "4  #oc-R12KPBODL2B5ZD  ...        2\n",
              "\n",
              "[5 rows x 8 columns]"
            ]
          },
          "metadata": {
            "tags": []
          },
          "execution_count": 93
        }
      ]
    },
    {
      "cell_type": "code",
      "metadata": {
        "id": "6HPOtKyAwN0E",
        "colab_type": "code",
        "outputId": "135cb815-0eb1-423b-edde-32219928534b",
        "colab": {
          "base_uri": "https://localhost:8080/",
          "height": 80
        }
      },
      "source": [
        "display[display['UserId']=='AZY10LLTJ71NX']"
      ],
      "execution_count": 0,
      "outputs": [
        {
          "output_type": "execute_result",
          "data": {
            "text/html": [
              "<div>\n",
              "<style scoped>\n",
              "    .dataframe tbody tr th:only-of-type {\n",
              "        vertical-align: middle;\n",
              "    }\n",
              "\n",
              "    .dataframe tbody tr th {\n",
              "        vertical-align: top;\n",
              "    }\n",
              "\n",
              "    .dataframe thead th {\n",
              "        text-align: right;\n",
              "    }\n",
              "</style>\n",
              "<table border=\"1\" class=\"dataframe\">\n",
              "  <thead>\n",
              "    <tr style=\"text-align: right;\">\n",
              "      <th></th>\n",
              "      <th>UserId</th>\n",
              "      <th>ProductId</th>\n",
              "      <th>ProfileName</th>\n",
              "      <th>Time</th>\n",
              "      <th>Score</th>\n",
              "      <th>Summary</th>\n",
              "      <th>Text</th>\n",
              "      <th>COUNT(*)</th>\n",
              "    </tr>\n",
              "  </thead>\n",
              "  <tbody>\n",
              "    <tr>\n",
              "      <th>80638</th>\n",
              "      <td>AZY10LLTJ71NX</td>\n",
              "      <td>B006P7E5ZI</td>\n",
              "      <td>undertheshrine \"undertheshrine\"</td>\n",
              "      <td>1334707200</td>\n",
              "      <td>5</td>\n",
              "      <td>works for me.  lost 10-15 pounds my first month</td>\n",
              "      <td>I was recommended to try green tea extract to ...</td>\n",
              "      <td>5</td>\n",
              "    </tr>\n",
              "  </tbody>\n",
              "</table>\n",
              "</div>"
            ],
            "text/plain": [
              "              UserId  ... COUNT(*)\n",
              "80638  AZY10LLTJ71NX  ...        5\n",
              "\n",
              "[1 rows x 8 columns]"
            ]
          },
          "metadata": {
            "tags": []
          },
          "execution_count": 94
        }
      ]
    },
    {
      "cell_type": "code",
      "metadata": {
        "id": "HNQmNj-MwN0X",
        "colab_type": "code",
        "outputId": "c1d27470-418a-4662-8a83-54f4ac03aa24",
        "colab": {
          "base_uri": "https://localhost:8080/",
          "height": 34
        }
      },
      "source": [
        "display['COUNT(*)'].sum()"
      ],
      "execution_count": 0,
      "outputs": [
        {
          "output_type": "execute_result",
          "data": {
            "text/plain": [
              "393063"
            ]
          },
          "metadata": {
            "tags": []
          },
          "execution_count": 95
        }
      ]
    },
    {
      "cell_type": "markdown",
      "metadata": {
        "id": "oNPLSb9BwN0s",
        "colab_type": "text"
      },
      "source": [
        "#  [2] Exploratory Data Analysis"
      ]
    },
    {
      "cell_type": "markdown",
      "metadata": {
        "id": "7dB523DQwN07",
        "colab_type": "text"
      },
      "source": [
        "## [2.1] Data Cleaning: Deduplication\n",
        "\n",
        "It is observed (as shown in the table below) that the reviews data had many duplicate entries. Hence it was necessary to remove duplicates in order to get unbiased results for the analysis of the data.  Following is an example:"
      ]
    },
    {
      "cell_type": "code",
      "metadata": {
        "scrolled": false,
        "id": "i03D3fyewN1D",
        "colab_type": "code",
        "outputId": "f57c2d9a-61f0-4edd-8313-af52744e156c",
        "colab": {
          "base_uri": "https://localhost:8080/",
          "height": 289
        }
      },
      "source": [
        "display= pd.read_sql_query(\"\"\"\n",
        "SELECT *\n",
        "FROM Reviews\n",
        "WHERE Score != 3 AND UserId=\"AR5J8UI46CURR\"\n",
        "ORDER BY ProductID\n",
        "\"\"\", con)\n",
        "display.head()"
      ],
      "execution_count": 0,
      "outputs": [
        {
          "output_type": "execute_result",
          "data": {
            "text/html": [
              "<div>\n",
              "<style scoped>\n",
              "    .dataframe tbody tr th:only-of-type {\n",
              "        vertical-align: middle;\n",
              "    }\n",
              "\n",
              "    .dataframe tbody tr th {\n",
              "        vertical-align: top;\n",
              "    }\n",
              "\n",
              "    .dataframe thead th {\n",
              "        text-align: right;\n",
              "    }\n",
              "</style>\n",
              "<table border=\"1\" class=\"dataframe\">\n",
              "  <thead>\n",
              "    <tr style=\"text-align: right;\">\n",
              "      <th></th>\n",
              "      <th>Id</th>\n",
              "      <th>ProductId</th>\n",
              "      <th>UserId</th>\n",
              "      <th>ProfileName</th>\n",
              "      <th>HelpfulnessNumerator</th>\n",
              "      <th>HelpfulnessDenominator</th>\n",
              "      <th>Score</th>\n",
              "      <th>Time</th>\n",
              "      <th>Summary</th>\n",
              "      <th>Text</th>\n",
              "    </tr>\n",
              "  </thead>\n",
              "  <tbody>\n",
              "    <tr>\n",
              "      <th>0</th>\n",
              "      <td>78445</td>\n",
              "      <td>B000HDL1RQ</td>\n",
              "      <td>AR5J8UI46CURR</td>\n",
              "      <td>Geetha Krishnan</td>\n",
              "      <td>2</td>\n",
              "      <td>2</td>\n",
              "      <td>5</td>\n",
              "      <td>1199577600</td>\n",
              "      <td>LOACKER QUADRATINI VANILLA WAFERS</td>\n",
              "      <td>DELICIOUS WAFERS. I FIND THAT EUROPEAN WAFERS ...</td>\n",
              "    </tr>\n",
              "    <tr>\n",
              "      <th>1</th>\n",
              "      <td>138317</td>\n",
              "      <td>B000HDOPYC</td>\n",
              "      <td>AR5J8UI46CURR</td>\n",
              "      <td>Geetha Krishnan</td>\n",
              "      <td>2</td>\n",
              "      <td>2</td>\n",
              "      <td>5</td>\n",
              "      <td>1199577600</td>\n",
              "      <td>LOACKER QUADRATINI VANILLA WAFERS</td>\n",
              "      <td>DELICIOUS WAFERS. I FIND THAT EUROPEAN WAFERS ...</td>\n",
              "    </tr>\n",
              "    <tr>\n",
              "      <th>2</th>\n",
              "      <td>138277</td>\n",
              "      <td>B000HDOPYM</td>\n",
              "      <td>AR5J8UI46CURR</td>\n",
              "      <td>Geetha Krishnan</td>\n",
              "      <td>2</td>\n",
              "      <td>2</td>\n",
              "      <td>5</td>\n",
              "      <td>1199577600</td>\n",
              "      <td>LOACKER QUADRATINI VANILLA WAFERS</td>\n",
              "      <td>DELICIOUS WAFERS. I FIND THAT EUROPEAN WAFERS ...</td>\n",
              "    </tr>\n",
              "    <tr>\n",
              "      <th>3</th>\n",
              "      <td>73791</td>\n",
              "      <td>B000HDOPZG</td>\n",
              "      <td>AR5J8UI46CURR</td>\n",
              "      <td>Geetha Krishnan</td>\n",
              "      <td>2</td>\n",
              "      <td>2</td>\n",
              "      <td>5</td>\n",
              "      <td>1199577600</td>\n",
              "      <td>LOACKER QUADRATINI VANILLA WAFERS</td>\n",
              "      <td>DELICIOUS WAFERS. I FIND THAT EUROPEAN WAFERS ...</td>\n",
              "    </tr>\n",
              "    <tr>\n",
              "      <th>4</th>\n",
              "      <td>155049</td>\n",
              "      <td>B000PAQ75C</td>\n",
              "      <td>AR5J8UI46CURR</td>\n",
              "      <td>Geetha Krishnan</td>\n",
              "      <td>2</td>\n",
              "      <td>2</td>\n",
              "      <td>5</td>\n",
              "      <td>1199577600</td>\n",
              "      <td>LOACKER QUADRATINI VANILLA WAFERS</td>\n",
              "      <td>DELICIOUS WAFERS. I FIND THAT EUROPEAN WAFERS ...</td>\n",
              "    </tr>\n",
              "  </tbody>\n",
              "</table>\n",
              "</div>"
            ],
            "text/plain": [
              "       Id  ...                                               Text\n",
              "0   78445  ...  DELICIOUS WAFERS. I FIND THAT EUROPEAN WAFERS ...\n",
              "1  138317  ...  DELICIOUS WAFERS. I FIND THAT EUROPEAN WAFERS ...\n",
              "2  138277  ...  DELICIOUS WAFERS. I FIND THAT EUROPEAN WAFERS ...\n",
              "3   73791  ...  DELICIOUS WAFERS. I FIND THAT EUROPEAN WAFERS ...\n",
              "4  155049  ...  DELICIOUS WAFERS. I FIND THAT EUROPEAN WAFERS ...\n",
              "\n",
              "[5 rows x 10 columns]"
            ]
          },
          "metadata": {
            "tags": []
          },
          "execution_count": 96
        }
      ]
    },
    {
      "cell_type": "markdown",
      "metadata": {
        "id": "EIV7_aHcwN1b",
        "colab_type": "text"
      },
      "source": [
        "As it can be seen above that same user has multiple reviews with same values for HelpfulnessNumerator, HelpfulnessDenominator, Score, Time, Summary and Text and on doing analysis it was found that <br>\n",
        "<br> \n",
        "ProductId=B000HDOPZG was Loacker Quadratini Vanilla Wafer Cookies, 8.82-Ounce Packages (Pack of 8)<br>\n",
        "<br> \n",
        "ProductId=B000HDL1RQ was Loacker Quadratini Lemon Wafer Cookies, 8.82-Ounce Packages (Pack of 8) and so on<br>\n",
        "\n",
        "It was inferred after analysis that reviews with same parameters other than ProductId belonged to the same product just having different flavour or quantity. Hence in order to reduce redundancy it was decided to eliminate the rows having same parameters.<br>\n",
        "\n",
        "The method used for the same was that we first sort the data according to ProductId and then just keep the first similar product review and delelte the others. for eg. in the above just the review for ProductId=B000HDL1RQ remains. This method ensures that there is only one representative for each product and deduplication without sorting would lead to possibility of different representatives still existing for the same product."
      ]
    },
    {
      "cell_type": "code",
      "metadata": {
        "id": "I9LOdNDGwN1g",
        "colab_type": "code",
        "colab": {}
      },
      "source": [
        "#Sorting data according to ProductId in ascending order\n",
        "sorted_data=filtered_data.sort_values('ProductId', axis=0, ascending=True, inplace=False, kind='quicksort', na_position='last')"
      ],
      "execution_count": 0,
      "outputs": []
    },
    {
      "cell_type": "code",
      "metadata": {
        "id": "cbiwN_WgwN1p",
        "colab_type": "code",
        "outputId": "22307185-8f9b-4bb5-d04c-6123b7739824",
        "colab": {
          "base_uri": "https://localhost:8080/",
          "height": 34
        }
      },
      "source": [
        "#Deduplication of entries\n",
        "final=sorted_data.drop_duplicates(subset={\"UserId\",\"ProfileName\",\"Time\",\"Text\"}, keep='first', inplace=False)\n",
        "final.shape"
      ],
      "execution_count": 0,
      "outputs": [
        {
          "output_type": "execute_result",
          "data": {
            "text/plain": [
              "(46072, 10)"
            ]
          },
          "metadata": {
            "tags": []
          },
          "execution_count": 98
        }
      ]
    },
    {
      "cell_type": "code",
      "metadata": {
        "id": "O1jjQe1AwN11",
        "colab_type": "code",
        "outputId": "f0af51e2-daba-4fb2-c63e-fac85c24022b",
        "colab": {
          "base_uri": "https://localhost:8080/",
          "height": 34
        }
      },
      "source": [
        "#Checking to see how much % of data still remains\n",
        "(final['Id'].size*1.0)/(filtered_data['Id'].size*1.0)*100"
      ],
      "execution_count": 0,
      "outputs": [
        {
          "output_type": "execute_result",
          "data": {
            "text/plain": [
              "92.144"
            ]
          },
          "metadata": {
            "tags": []
          },
          "execution_count": 99
        }
      ]
    },
    {
      "cell_type": "markdown",
      "metadata": {
        "id": "xMggmuY8wN2F",
        "colab_type": "text"
      },
      "source": [
        "<b>Observation:-</b> It was also seen that in two rows given below the value of HelpfulnessNumerator is greater than HelpfulnessDenominator which is not practically possible hence these two rows too are removed from calcualtions"
      ]
    },
    {
      "cell_type": "code",
      "metadata": {
        "id": "B7rSWkmbwN2I",
        "colab_type": "code",
        "outputId": "0414b9e0-ffec-4306-edd4-9ae2ef9c3c90",
        "colab": {
          "base_uri": "https://localhost:8080/",
          "height": 145
        }
      },
      "source": [
        "display= pd.read_sql_query(\"\"\"\n",
        "SELECT *\n",
        "FROM Reviews\n",
        "WHERE Score != 3 AND Id=44737 OR Id=64422\n",
        "ORDER BY ProductID\n",
        "\"\"\", con)\n",
        "\n",
        "display.head()"
      ],
      "execution_count": 0,
      "outputs": [
        {
          "output_type": "execute_result",
          "data": {
            "text/html": [
              "<div>\n",
              "<style scoped>\n",
              "    .dataframe tbody tr th:only-of-type {\n",
              "        vertical-align: middle;\n",
              "    }\n",
              "\n",
              "    .dataframe tbody tr th {\n",
              "        vertical-align: top;\n",
              "    }\n",
              "\n",
              "    .dataframe thead th {\n",
              "        text-align: right;\n",
              "    }\n",
              "</style>\n",
              "<table border=\"1\" class=\"dataframe\">\n",
              "  <thead>\n",
              "    <tr style=\"text-align: right;\">\n",
              "      <th></th>\n",
              "      <th>Id</th>\n",
              "      <th>ProductId</th>\n",
              "      <th>UserId</th>\n",
              "      <th>ProfileName</th>\n",
              "      <th>HelpfulnessNumerator</th>\n",
              "      <th>HelpfulnessDenominator</th>\n",
              "      <th>Score</th>\n",
              "      <th>Time</th>\n",
              "      <th>Summary</th>\n",
              "      <th>Text</th>\n",
              "    </tr>\n",
              "  </thead>\n",
              "  <tbody>\n",
              "    <tr>\n",
              "      <th>0</th>\n",
              "      <td>64422</td>\n",
              "      <td>B000MIDROQ</td>\n",
              "      <td>A161DK06JJMCYF</td>\n",
              "      <td>J. E. Stephens \"Jeanne\"</td>\n",
              "      <td>3</td>\n",
              "      <td>1</td>\n",
              "      <td>5</td>\n",
              "      <td>1224892800</td>\n",
              "      <td>Bought This for My Son at College</td>\n",
              "      <td>My son loves spaghetti so I didn't hesitate or...</td>\n",
              "    </tr>\n",
              "    <tr>\n",
              "      <th>1</th>\n",
              "      <td>44737</td>\n",
              "      <td>B001EQ55RW</td>\n",
              "      <td>A2V0I904FH7ABY</td>\n",
              "      <td>Ram</td>\n",
              "      <td>3</td>\n",
              "      <td>2</td>\n",
              "      <td>4</td>\n",
              "      <td>1212883200</td>\n",
              "      <td>Pure cocoa taste with crunchy almonds inside</td>\n",
              "      <td>It was almost a 'love at first bite' - the per...</td>\n",
              "    </tr>\n",
              "  </tbody>\n",
              "</table>\n",
              "</div>"
            ],
            "text/plain": [
              "      Id  ...                                               Text\n",
              "0  64422  ...  My son loves spaghetti so I didn't hesitate or...\n",
              "1  44737  ...  It was almost a 'love at first bite' - the per...\n",
              "\n",
              "[2 rows x 10 columns]"
            ]
          },
          "metadata": {
            "tags": []
          },
          "execution_count": 100
        }
      ]
    },
    {
      "cell_type": "code",
      "metadata": {
        "id": "DalZFiZdwN2a",
        "colab_type": "code",
        "colab": {}
      },
      "source": [
        "final=final[final.HelpfulnessNumerator<=final.HelpfulnessDenominator]"
      ],
      "execution_count": 0,
      "outputs": []
    },
    {
      "cell_type": "code",
      "metadata": {
        "id": "VgAkQ3JawN2p",
        "colab_type": "code",
        "outputId": "e4f10cc2-b2a7-4ba5-994c-a9ce1b5ad2ad",
        "colab": {
          "base_uri": "https://localhost:8080/",
          "height": 85
        }
      },
      "source": [
        "#Before starting the next phase of preprocessing lets see the number of entries left\n",
        "print(final.shape)\n",
        "\n",
        "#How many positive and negative reviews are present in our dataset?\n",
        "final['Score'].value_counts()"
      ],
      "execution_count": 0,
      "outputs": [
        {
          "output_type": "stream",
          "text": [
            "(46071, 10)\n"
          ],
          "name": "stdout"
        },
        {
          "output_type": "execute_result",
          "data": {
            "text/plain": [
              "1    38479\n",
              "0     7592\n",
              "Name: Score, dtype: int64"
            ]
          },
          "metadata": {
            "tags": []
          },
          "execution_count": 102
        }
      ]
    },
    {
      "cell_type": "markdown",
      "metadata": {
        "id": "5IUekrFxwN3P",
        "colab_type": "text"
      },
      "source": [
        "#  [3] Preprocessing"
      ]
    },
    {
      "cell_type": "markdown",
      "metadata": {
        "id": "DWxxxARRwN3V",
        "colab_type": "text"
      },
      "source": [
        "## [3.1].  Preprocessing Review Text\n",
        "\n",
        "Now that we have finished deduplication our data requires some preprocessing before we go on further with analysis and making the prediction model.\n",
        "\n",
        "Hence in the Preprocessing phase we do the following in the order below:-\n",
        "\n",
        "1. Begin by removing the html tags\n",
        "2. Remove any punctuations or limited set of special characters like , or . or # etc.\n",
        "3. Check if the word is made up of english letters and is not alpha-numeric\n",
        "4. Check to see if the length of the word is greater than 2 (as it was researched that there is no adjective in 2-letters)\n",
        "5. Convert the word to lowercase\n",
        "6. Remove Stopwords\n",
        "7. Finally Snowball Stemming the word (it was obsereved to be better than Porter Stemming)<br>\n",
        "\n",
        "After which we collect the words used to describe positive and negative reviews"
      ]
    },
    {
      "cell_type": "code",
      "metadata": {
        "id": "8JNzUrrxwN3Y",
        "colab_type": "code",
        "outputId": "c75697cb-37ee-4518-bec9-da384b3ad511",
        "colab": {
          "base_uri": "https://localhost:8080/"
        }
      },
      "source": [
        "# printing some random reviews\n",
        "sent_0 = final['Text'].values[0]\n",
        "print(sent_0)\n",
        "print(\"=\"*50)\n",
        "\n",
        "sent_1000 = final['Text'].values[1000]\n",
        "print(sent_1000)\n",
        "print(\"=\"*50)\n",
        "\n",
        "sent_1500 = final['Text'].values[1500]\n",
        "print(sent_1500)\n",
        "print(\"=\"*50)\n",
        "\n",
        "sent_4900 = final['Text'].values[4900]\n",
        "print(sent_4900)\n",
        "print(\"=\"*50)"
      ],
      "execution_count": 0,
      "outputs": [
        {
          "output_type": "stream",
          "text": [
            "My dogs loves this chicken but its a product from China, so we wont be buying it anymore.  Its very hard to find any chicken products made in the USA but they are out there, but this one isnt.  Its too bad too because its a good product but I wont take any chances till they know what is going on with the china imports.\n",
            "==================================================\n",
            "this is yummy, easy and unusual. it makes a quick, delicous pie, crisp or cobbler. home made is better, but a heck of a lot more work. this is great to have on hand for last minute dessert needs where you really want to impress wih your creativity in cooking! recommended.\n",
            "==================================================\n",
            "Great flavor, low in calories, high in nutrients, high in protein! Usually protein powders are high priced and high in calories, this one is a great bargain and tastes great, I highly recommend for the lady gym rats, probably not \"macho\" enough for guys since it is soy based...\n",
            "==================================================\n",
            "For those of you wanting a high-quality, yet affordable green tea, you should definitely give this one a try. Let me first start by saying that everyone is looking for something different for their ideal tea, and I will attempt to briefly highlight what makes this tea attractive to a wide range of tea drinkers (whether you are a beginner or long-time tea enthusiast).  I have gone through over 12 boxes of this tea myself, and highly recommend it for the following reasons:<br /><br />-Quality:  First, this tea offers a smooth quality without any harsh or bitter after tones, which often turns people off from many green teas.  I've found my ideal brewing time to be between 3-5 minutes, giving you a light but flavorful cup of tea.  However, if you get distracted or forget about your tea and leave it brewing for 20+ minutes like I sometimes do, the quality of this tea is such that you still get a smooth but deeper flavor without the bad after taste.  The leaves themselves are whole leaves (not powdered stems, branches, etc commonly found in other brands), and the high-quality nylon bags also include chunks of tropical fruit and other discernible ingredients.  This isn't your standard cheap paper bag with a mix of unknown ingredients that have been ground down to a fine powder, leaving you to wonder what it is you are actually drinking.<br /><br />-Taste:  This tea offers notes of real pineapple and other hints of tropical fruits, yet isn't sweet or artificially flavored.  You have the foundation of a high-quality young hyson green tea for those true \"tea flavor\" lovers, yet the subtle hints of fruit make this a truly unique tea that I believe most will enjoy.  If you want it sweet, you can add sugar, splenda, etc but this really is not necessary as this tea offers an inherent warmth of flavor through it's ingredients.<br /><br />-Price:  This tea offers an excellent product at an exceptional price (especially when purchased at the prices Amazon offers).  Compared to other brands which I believe to be of similar quality (Mighty Leaf, Rishi, Two Leaves, etc.), Revolution offers a superior product at an outstanding price.  I have been purchasing this through Amazon for less per box than I would be paying at my local grocery store for Lipton, etc.<br /><br />Overall, this is a wonderful tea that is comparable, and even better than, other teas that are priced much higher.  It offers a well-balanced cup of green tea that I believe many will enjoy.  In terms of taste, quality, and price, I would argue you won't find a better combination that that offered by Revolution's Tropical Green Tea.\n",
            "==================================================\n"
          ],
          "name": "stdout"
        }
      ]
    },
    {
      "cell_type": "code",
      "metadata": {
        "id": "XY2RSHcqwN3m",
        "colab_type": "code",
        "outputId": "d795ba5b-aad9-42d7-eb19-5655824712f2",
        "colab": {
          "base_uri": "https://localhost:8080/"
        }
      },
      "source": [
        "# remove urls from text python: https://stackoverflow.com/a/40823105/4084039\n",
        "sent_0 = re.sub(r\"http\\S+\", \"\", sent_0)\n",
        "sent_1000 = re.sub(r\"http\\S+\", \"\", sent_1000)\n",
        "sent_150 = re.sub(r\"http\\S+\", \"\", sent_1500)\n",
        "sent_4900 = re.sub(r\"http\\S+\", \"\", sent_4900)\n",
        "\n",
        "print(sent_0)"
      ],
      "execution_count": 0,
      "outputs": [
        {
          "output_type": "stream",
          "text": [
            "My dogs loves this chicken but its a product from China, so we wont be buying it anymore.  Its very hard to find any chicken products made in the USA but they are out there, but this one isnt.  Its too bad too because its a good product but I wont take any chances till they know what is going on with the china imports.\n"
          ],
          "name": "stdout"
        }
      ]
    },
    {
      "cell_type": "code",
      "metadata": {
        "id": "GLbVxDmNwN4A",
        "colab_type": "code",
        "outputId": "535bab7d-4df5-4d63-dbde-55087226be97",
        "colab": {
          "base_uri": "https://localhost:8080/"
        }
      },
      "source": [
        "# https://stackoverflow.com/questions/16206380/python-beautifulsoup-how-to-remove-all-tags-from-an-element\n",
        "from bs4 import BeautifulSoup\n",
        "\n",
        "soup = BeautifulSoup(sent_0, 'lxml')\n",
        "text = soup.get_text()\n",
        "print(text)\n",
        "print(\"=\"*50)\n",
        "\n",
        "soup = BeautifulSoup(sent_1000, 'lxml')\n",
        "text = soup.get_text()\n",
        "print(text)\n",
        "print(\"=\"*50)\n",
        "\n",
        "soup = BeautifulSoup(sent_1500, 'lxml')\n",
        "text = soup.get_text()\n",
        "print(text)\n",
        "print(\"=\"*50)\n",
        "\n",
        "soup = BeautifulSoup(sent_4900, 'lxml')\n",
        "text = soup.get_text()\n",
        "print(text)"
      ],
      "execution_count": 0,
      "outputs": [
        {
          "output_type": "stream",
          "text": [
            "My dogs loves this chicken but its a product from China, so we wont be buying it anymore.  Its very hard to find any chicken products made in the USA but they are out there, but this one isnt.  Its too bad too because its a good product but I wont take any chances till they know what is going on with the china imports.\n",
            "==================================================\n",
            "this is yummy, easy and unusual. it makes a quick, delicous pie, crisp or cobbler. home made is better, but a heck of a lot more work. this is great to have on hand for last minute dessert needs where you really want to impress wih your creativity in cooking! recommended.\n",
            "==================================================\n",
            "Great flavor, low in calories, high in nutrients, high in protein! Usually protein powders are high priced and high in calories, this one is a great bargain and tastes great, I highly recommend for the lady gym rats, probably not \"macho\" enough for guys since it is soy based...\n",
            "==================================================\n",
            "For those of you wanting a high-quality, yet affordable green tea, you should definitely give this one a try. Let me first start by saying that everyone is looking for something different for their ideal tea, and I will attempt to briefly highlight what makes this tea attractive to a wide range of tea drinkers (whether you are a beginner or long-time tea enthusiast).  I have gone through over 12 boxes of this tea myself, and highly recommend it for the following reasons:-Quality:  First, this tea offers a smooth quality without any harsh or bitter after tones, which often turns people off from many green teas.  I've found my ideal brewing time to be between 3-5 minutes, giving you a light but flavorful cup of tea.  However, if you get distracted or forget about your tea and leave it brewing for 20+ minutes like I sometimes do, the quality of this tea is such that you still get a smooth but deeper flavor without the bad after taste.  The leaves themselves are whole leaves (not powdered stems, branches, etc commonly found in other brands), and the high-quality nylon bags also include chunks of tropical fruit and other discernible ingredients.  This isn't your standard cheap paper bag with a mix of unknown ingredients that have been ground down to a fine powder, leaving you to wonder what it is you are actually drinking.-Taste:  This tea offers notes of real pineapple and other hints of tropical fruits, yet isn't sweet or artificially flavored.  You have the foundation of a high-quality young hyson green tea for those true \"tea flavor\" lovers, yet the subtle hints of fruit make this a truly unique tea that I believe most will enjoy.  If you want it sweet, you can add sugar, splenda, etc but this really is not necessary as this tea offers an inherent warmth of flavor through it's ingredients.-Price:  This tea offers an excellent product at an exceptional price (especially when purchased at the prices Amazon offers).  Compared to other brands which I believe to be of similar quality (Mighty Leaf, Rishi, Two Leaves, etc.), Revolution offers a superior product at an outstanding price.  I have been purchasing this through Amazon for less per box than I would be paying at my local grocery store for Lipton, etc.Overall, this is a wonderful tea that is comparable, and even better than, other teas that are priced much higher.  It offers a well-balanced cup of green tea that I believe many will enjoy.  In terms of taste, quality, and price, I would argue you won't find a better combination that that offered by Revolution's Tropical Green Tea.\n"
          ],
          "name": "stdout"
        }
      ]
    },
    {
      "cell_type": "code",
      "metadata": {
        "id": "FEIeiCRpwN4W",
        "colab_type": "code",
        "colab": {}
      },
      "source": [
        "# https://stackoverflow.com/a/47091490/4084039\n",
        "import re\n",
        "\n",
        "def decontracted(phrase):\n",
        "    # specific\n",
        "    phrase = re.sub(r\"won't\", \"will not\", phrase)\n",
        "    phrase = re.sub(r\"can\\'t\", \"can not\", phrase)\n",
        "\n",
        "    # general\n",
        "    phrase = re.sub(r\"n\\'t\", \" not\", phrase)\n",
        "    phrase = re.sub(r\"\\'re\", \" are\", phrase)\n",
        "    phrase = re.sub(r\"\\'s\", \" is\", phrase)\n",
        "    phrase = re.sub(r\"\\'d\", \" would\", phrase)\n",
        "    phrase = re.sub(r\"\\'ll\", \" will\", phrase)\n",
        "    phrase = re.sub(r\"\\'t\", \" not\", phrase)\n",
        "    phrase = re.sub(r\"\\'ve\", \" have\", phrase)\n",
        "    phrase = re.sub(r\"\\'m\", \" am\", phrase)\n",
        "    return phrase"
      ],
      "execution_count": 0,
      "outputs": []
    },
    {
      "cell_type": "code",
      "metadata": {
        "id": "UGxvS6E-wN4e",
        "colab_type": "code",
        "outputId": "66072319-9a04-4b57-b7a5-3449a6c784e6",
        "colab": {
          "base_uri": "https://localhost:8080/"
        }
      },
      "source": [
        "sent_1500 = decontracted(sent_1500)\n",
        "print(sent_1500)\n",
        "print(\"=\"*50)"
      ],
      "execution_count": 0,
      "outputs": [
        {
          "output_type": "stream",
          "text": [
            "Great flavor, low in calories, high in nutrients, high in protein! Usually protein powders are high priced and high in calories, this one is a great bargain and tastes great, I highly recommend for the lady gym rats, probably not \"macho\" enough for guys since it is soy based...\n",
            "==================================================\n"
          ],
          "name": "stdout"
        }
      ]
    },
    {
      "cell_type": "code",
      "metadata": {
        "id": "TzbWjgGewN4p",
        "colab_type": "code",
        "outputId": "4a56f2c3-8b02-4fd8-dc92-3169cc544c55",
        "colab": {
          "base_uri": "https://localhost:8080/"
        }
      },
      "source": [
        "#remove words with numbers python: https://stackoverflow.com/a/18082370/4084039\n",
        "sent_0 = re.sub(\"\\S*\\d\\S*\", \"\", sent_0).strip()\n",
        "print(sent_0)"
      ],
      "execution_count": 0,
      "outputs": [
        {
          "output_type": "stream",
          "text": [
            "My dogs loves this chicken but its a product from China, so we wont be buying it anymore.  Its very hard to find any chicken products made in the USA but they are out there, but this one isnt.  Its too bad too because its a good product but I wont take any chances till they know what is going on with the china imports.\n"
          ],
          "name": "stdout"
        }
      ]
    },
    {
      "cell_type": "code",
      "metadata": {
        "id": "nTz1cnIKwN42",
        "colab_type": "code",
        "outputId": "5fff0049-f74a-47a8-b175-a358cf5d6c08",
        "colab": {
          "base_uri": "https://localhost:8080/"
        }
      },
      "source": [
        "#remove spacial character: https://stackoverflow.com/a/5843547/4084039\n",
        "sent_1500 = re.sub('[^A-Za-z0-9]+', ' ', sent_1500)\n",
        "print(sent_1500)"
      ],
      "execution_count": 0,
      "outputs": [
        {
          "output_type": "stream",
          "text": [
            "Great flavor low in calories high in nutrients high in protein Usually protein powders are high priced and high in calories this one is a great bargain and tastes great I highly recommend for the lady gym rats probably not macho enough for guys since it is soy based \n"
          ],
          "name": "stdout"
        }
      ]
    },
    {
      "cell_type": "code",
      "metadata": {
        "id": "coCcPGZtwN5R",
        "colab_type": "code",
        "colab": {}
      },
      "source": [
        "# https://gist.github.com/sebleier/554280\n",
        "# we are removing the words from the stop words list: 'no', 'nor', 'not'\n",
        "# <br /><br /> ==> after the above steps, we are getting \"br br\"\n",
        "# we are including them into stop words list\n",
        "# instead of <br /> if we have <br/> these tags would have revmoved in the 1st step\n",
        "\n",
        "stopwords= set(['br', 'the', 'i', 'me', 'my', 'myself', 'we', 'our', 'ours', 'ourselves', 'you', \"you're\", \"you've\",\\\n",
        "            \"you'll\", \"you'd\", 'your', 'yours', 'yourself', 'yourselves', 'he', 'him', 'his', 'himself', \\\n",
        "            'she', \"she's\", 'her', 'hers', 'herself', 'it', \"it's\", 'its', 'itself', 'they', 'them', 'their',\\\n",
        "            'theirs', 'themselves', 'what', 'which', 'who', 'whom', 'this', 'that', \"that'll\", 'these', 'those', \\\n",
        "            'am', 'is', 'are', 'was', 'were', 'be', 'been', 'being', 'have', 'has', 'had', 'having', 'do', 'does', \\\n",
        "            'did', 'doing', 'a', 'an', 'the', 'and', 'but', 'if', 'or', 'because', 'as', 'until', 'while', 'of', \\\n",
        "            'at', 'by', 'for', 'with', 'about', 'against', 'between', 'into', 'through', 'during', 'before', 'after',\\\n",
        "            'above', 'below', 'to', 'from', 'up', 'down', 'in', 'out', 'on', 'off', 'over', 'under', 'again', 'further',\\\n",
        "            'then', 'once', 'here', 'there', 'when', 'where', 'why', 'how', 'all', 'any', 'both', 'each', 'few', 'more',\\\n",
        "            'most', 'other', 'some', 'such', 'only', 'own', 'same', 'so', 'than', 'too', 'very', \\\n",
        "            's', 't', 'can', 'will', 'just', 'don', \"don't\", 'should', \"should've\", 'now', 'd', 'll', 'm', 'o', 're', \\\n",
        "            've', 'y', 'ain', 'aren', \"aren't\", 'couldn', \"couldn't\", 'didn', \"didn't\", 'doesn', \"doesn't\", 'hadn',\\\n",
        "            \"hadn't\", 'hasn', \"hasn't\", 'haven', \"haven't\", 'isn', \"isn't\", 'ma', 'mightn', \"mightn't\", 'mustn',\\\n",
        "            \"mustn't\", 'needn', \"needn't\", 'shan', \"shan't\", 'shouldn', \"shouldn't\", 'wasn', \"wasn't\", 'weren', \"weren't\", \\\n",
        "            'won', \"won't\", 'wouldn', \"wouldn't\"])"
      ],
      "execution_count": 0,
      "outputs": []
    },
    {
      "cell_type": "code",
      "metadata": {
        "id": "EKio1Y60wN5j",
        "colab_type": "code",
        "outputId": "c810dd33-40a8-48d4-867d-b3c9c96a9206",
        "colab": {
          "base_uri": "https://localhost:8080/"
        }
      },
      "source": [
        "# Combining all the above stundents \n",
        "from tqdm import tqdm\n",
        "preprocessed_reviews = []\n",
        "# tqdm is for printing the status bar\n",
        "for sentance in tqdm(final['Text'].values):\n",
        "    sentance = re.sub(r\"http\\S+\", \"\", sentance)\n",
        "    sentance = BeautifulSoup(sentance, 'lxml').get_text()\n",
        "    sentance = decontracted(sentance)\n",
        "    sentance = re.sub(\"\\S*\\d\\S*\", \"\", sentance).strip()\n",
        "    sentance = re.sub('[^A-Za-z]+', ' ', sentance)\n",
        "    # https://gist.github.com/sebleier/554280\n",
        "    sentance = ' '.join(e.lower() for e in sentance.split() if e.lower() not in stopwords)\n",
        "    preprocessed_reviews.append(sentance.strip())"
      ],
      "execution_count": 0,
      "outputs": [
        {
          "output_type": "stream",
          "text": [
            "100%|██████████| 46071/46071 [00:17<00:00, 2640.79it/s]\n"
          ],
          "name": "stderr"
        }
      ]
    },
    {
      "cell_type": "code",
      "metadata": {
        "id": "T41rwZvDwN5u",
        "colab_type": "code",
        "outputId": "67ccfc5c-4594-443d-c9a1-eef45bb6917e",
        "colab": {
          "base_uri": "https://localhost:8080/"
        }
      },
      "source": [
        "preprocessed_reviews[1500]"
      ],
      "execution_count": 0,
      "outputs": [
        {
          "output_type": "execute_result",
          "data": {
            "text/plain": [
              "'great flavor low calories high nutrients high protein usually protein powders high priced high calories one great bargain tastes great highly recommend lady gym rats probably not macho enough guys since soy based'"
            ]
          },
          "metadata": {
            "tags": []
          },
          "execution_count": 112
        }
      ]
    },
    {
      "cell_type": "markdown",
      "metadata": {
        "id": "Kpjpt-u4wN52",
        "colab_type": "text"
      },
      "source": [
        "<h2><font color='red'>[3.2] Preprocessing Review Summary</font></h2>"
      ]
    },
    {
      "cell_type": "code",
      "metadata": {
        "id": "sz-M8gZfwN53",
        "colab_type": "code",
        "colab": {}
      },
      "source": [
        "## Similartly you can do preprocessing for review summary also."
      ],
      "execution_count": 0,
      "outputs": []
    },
    {
      "cell_type": "markdown",
      "metadata": {
        "id": "rV5Qr2VSwN6B",
        "colab_type": "text"
      },
      "source": [
        "# [4] Featurization"
      ]
    },
    {
      "cell_type": "markdown",
      "metadata": {
        "id": "c7Aus1KqwN6E",
        "colab_type": "text"
      },
      "source": [
        "## [4.1] BAG OF WORDS"
      ]
    },
    {
      "cell_type": "code",
      "metadata": {
        "id": "SV79qzecwN6G",
        "colab_type": "code",
        "outputId": "d855e877-c31c-4f7b-a31f-c6a80c2ce2ea",
        "colab": {
          "base_uri": "https://localhost:8080/",
          "height": 102
        }
      },
      "source": [
        "#BoW\n",
        "count_vect = CountVectorizer() #in scikit-learn\n",
        "count_vect.fit(preprocessed_reviews)\n",
        "print(\"some feature names \", count_vect.get_feature_names()[:10])\n",
        "print('='*50)\n",
        "\n",
        "final_counts = count_vect.transform(preprocessed_reviews)\n",
        "print(\"the type of count vectorizer \",type(final_counts))\n",
        "print(\"the shape of out text BOW vectorizer \",final_counts.get_shape())\n",
        "print(\"the number of unique words \", final_counts.get_shape()[1])\n",
        "\n"
      ],
      "execution_count": 0,
      "outputs": [
        {
          "output_type": "stream",
          "text": [
            "some feature names  ['aa', 'aaa', 'aaaa', 'aaaaa', 'aaaaaaaaaaaa', 'aaaaaaaaaaaaaaa', 'aaaaaaahhhhhh', 'aaaaaawwwwwwwwww', 'aaaaah', 'aaaand']\n",
            "==================================================\n",
            "the type of count vectorizer  <class 'scipy.sparse.csr.csr_matrix'>\n",
            "the shape of out text BOW vectorizer  (46071, 39364)\n",
            "the number of unique words  39364\n"
          ],
          "name": "stdout"
        }
      ]
    },
    {
      "cell_type": "markdown",
      "metadata": {
        "id": "J5Fe1DAhwN6Q",
        "colab_type": "text"
      },
      "source": [
        "## [4.2] Bi-Grams and n-Grams."
      ]
    },
    {
      "cell_type": "code",
      "metadata": {
        "id": "VN-UUOaowN6R",
        "colab_type": "code",
        "outputId": "d3d05a22-f927-4f86-925c-72722b36e890",
        "colab": {
          "base_uri": "https://localhost:8080/",
          "height": 85
        }
      },
      "source": [
        "#bi-gram, tri-gram and n-gram\n",
        "\n",
        "#removing stop words like \"not\" should be avoided before building n-grams\n",
        "# count_vect = CountVectorizer(ngram_range=(1,2))\n",
        "# please do read the CountVectorizer documentation http://scikit-learn.org/stable/modules/generated/sklearn.feature_extraction.text.CountVectorizer.html\n",
        "# you can choose these numebrs min_df=10, max_features=5000, of your choice\n",
        "count_vect = CountVectorizer(ngram_range=(1,2), min_df=10, max_features=5000)\n",
        "final_bigram_counts = count_vect.fit_transform(preprocessed_reviews)\n",
        "print(\"some feature names \", count_vect.get_feature_names()[:10])\n",
        "print(\"the type of count vectorizer \",type(final_bigram_counts))\n",
        "print(\"the shape of out text BOW vectorizer \",final_bigram_counts.get_shape())\n",
        "print(\"the number of unique words including both unigrams and bigrams \", final_bigram_counts.get_shape()[1])"
      ],
      "execution_count": 0,
      "outputs": [
        {
          "output_type": "stream",
          "text": [
            "some feature names  ['ability', 'able', 'able buy', 'able find', 'able get', 'absolute', 'absolute favorite', 'absolutely', 'absolutely best', 'absolutely delicious']\n",
            "the type of count vectorizer  <class 'scipy.sparse.csr.csr_matrix'>\n",
            "the shape of out text BOW vectorizer  (46071, 5000)\n",
            "the number of unique words including both unigrams and bigrams  5000\n"
          ],
          "name": "stdout"
        }
      ]
    },
    {
      "cell_type": "markdown",
      "metadata": {
        "id": "8SSpNj9YwN6W",
        "colab_type": "text"
      },
      "source": [
        "## [4.3] TF-IDF"
      ]
    },
    {
      "cell_type": "code",
      "metadata": {
        "id": "MbRHtCZHwN6W",
        "colab_type": "code",
        "outputId": "fb0886cd-63af-4e8c-cdf8-6d2608d86fbf",
        "colab": {
          "base_uri": "https://localhost:8080/",
          "height": 221
        }
      },
      "source": [
        "tf_idf_vect = TfidfVectorizer(ngram_range=(1,2), min_df=10)\n",
        "tf_idf_vect.fit(preprocessed_reviews)\n",
        "print(\"some sample features(unique words in the corpus)\",tf_idf_vect.get_feature_names()[0:10])\n",
        "print('='*50)\n",
        "\n",
        "final_tf_idf = tf_idf_vect.transform(preprocessed_reviews)\n",
        "print(\"the type of count vectorizer \",type(final_tf_idf))\n",
        "print(\"the shape of out text TFIDF vectorizer \",final_tf_idf.get_shape())\n",
        "print(\"the number of unique words including both unigrams and bigrams \", final_tf_idf.get_shape()[1])\n",
        "print(final_tf_idf[1:10].toarray())"
      ],
      "execution_count": 0,
      "outputs": [
        {
          "output_type": "stream",
          "text": [
            "some sample features(unique words in the corpus) ['ability', 'able', 'able buy', 'able chew', 'able drink', 'able eat', 'able enjoy', 'able feed', 'able figure', 'able find']\n",
            "==================================================\n",
            "the type of count vectorizer  <class 'scipy.sparse.csr.csr_matrix'>\n",
            "the shape of out text TFIDF vectorizer  (46071, 27311)\n",
            "the number of unique words including both unigrams and bigrams  27311\n",
            "[[0. 0. 0. ... 0. 0. 0.]\n",
            " [0. 0. 0. ... 0. 0. 0.]\n",
            " [0. 0. 0. ... 0. 0. 0.]\n",
            " ...\n",
            " [0. 0. 0. ... 0. 0. 0.]\n",
            " [0. 0. 0. ... 0. 0. 0.]\n",
            " [0. 0. 0. ... 0. 0. 0.]]\n"
          ],
          "name": "stdout"
        }
      ]
    },
    {
      "cell_type": "markdown",
      "metadata": {
        "id": "tdCwnmgvwN6h",
        "colab_type": "text"
      },
      "source": [
        "## [4.4] Word2Vec"
      ]
    },
    {
      "cell_type": "code",
      "metadata": {
        "id": "6ugBDH_FwN6o",
        "colab_type": "code",
        "colab": {}
      },
      "source": [
        "# Train your own Word2Vec model using your own text corpus\n",
        "i=0\n",
        "list_of_sentance=[]\n",
        "for sentance in preprocessed_reviews:\n",
        "    list_of_sentance.append(sentance.split())"
      ],
      "execution_count": 0,
      "outputs": []
    },
    {
      "cell_type": "code",
      "metadata": {
        "scrolled": true,
        "id": "trWWYqjnwN60",
        "colab_type": "code",
        "outputId": "56311ed5-e182-4467-b7db-928e77171e5c",
        "colab": {
          "base_uri": "https://localhost:8080/",
          "height": 88
        }
      },
      "source": [
        "# Using Google News Word2Vectors\n",
        "\n",
        "# in this project we are using a pretrained model by google\n",
        "# its 3.3G file, once you load this into your memory \n",
        "# it occupies ~9Gb, so please do this step only if you have >12G of ram\n",
        "# we will provide a pickle file wich contains a dict , \n",
        "# and it contains all our courpus words as keys and  model[word] as values\n",
        "# To use this code-snippet, download \"GoogleNews-vectors-negative300.bin\" \n",
        "# from https://drive.google.com/file/d/0B7XkCwpI5KDYNlNUTTlSS21pQmM/edit\n",
        "# it's 1.9GB in size.\n",
        "\n",
        "\n",
        "# http://kavita-ganesan.com/gensim-word2vec-tutorial-starter-code/#.W17SRFAzZPY\n",
        "# you can comment this whole cell\n",
        "# or change these varible according to your need\n",
        "\n",
        "is_your_ram_gt_16g=False\n",
        "want_to_use_google_w2v = False\n",
        "want_to_train_w2v = True\n",
        "\n",
        "if want_to_train_w2v:\n",
        "    # min_count = 5 considers only words that occured atleast 5 times\n",
        "    w2v_model=Word2Vec(list_of_sentance,min_count=5,size=500, workers=4)\n",
        "    print(w2v_model.wv.most_similar('great'))\n",
        "    print('='*50)\n",
        "    print(w2v_model.wv.most_similar('worst'))\n",
        "    \n",
        "elif want_to_use_google_w2v and is_your_ram_gt_16g:\n",
        "    if os.path.isfile('GoogleNews-vectors-negative300.bin'):\n",
        "        w2v_model=KeyedVectors.load_word2vec_format('GoogleNews-vectors-negative300.bin', binary=True)\n",
        "        print(w2v_model.wv.most_similar('great'))\n",
        "        print(w2v_model.wv.most_similar('worst'))\n",
        "    else:\n",
        "        print(\"you don't have gogole's word2vec file, keep want_to_train_w2v = True, to train your own w2v \")"
      ],
      "execution_count": 0,
      "outputs": [
        {
          "output_type": "stream",
          "text": [
            "[('fantastic', 0.796227753162384), ('awesome', 0.7939319610595703), ('terrific', 0.7618538737297058), ('excellent', 0.7507032155990601), ('good', 0.7413029074668884), ('amazing', 0.734583854675293), ('wonderful', 0.723333477973938), ('perfect', 0.6750333309173584), ('decent', 0.652714729309082), ('fabulous', 0.625918447971344)]\n",
            "==================================================\n",
            "[('greatest', 0.7437870502471924), ('best', 0.7178452014923096), ('experienced', 0.6793797016143799), ('nastiest', 0.6740593910217285), ('awful', 0.6554255485534668), ('ive', 0.6540125608444214), ('closest', 0.6513950824737549), ('tastiest', 0.634124219417572), ('eaten', 0.6174018979072571), ('horrible', 0.6130803227424622)]\n"
          ],
          "name": "stdout"
        }
      ]
    },
    {
      "cell_type": "code",
      "metadata": {
        "id": "LXHStaj2wN7B",
        "colab_type": "code",
        "outputId": "568068e8-639b-44e3-f3e2-8fd8cfdf6be7",
        "colab": {
          "base_uri": "https://localhost:8080/",
          "height": 71
        }
      },
      "source": [
        "w2v_words = list(w2v_model.wv.vocab)\n",
        "print(\"number of words that occured minimum 5 times \",len(w2v_words))\n",
        "print(\"sample words \", w2v_words[0:50])"
      ],
      "execution_count": 0,
      "outputs": [
        {
          "output_type": "stream",
          "text": [
            "number of words that occured minimum 5 times  12798\n",
            "sample words  ['dogs', 'loves', 'chicken', 'product', 'china', 'wont', 'buying', 'anymore', 'hard', 'find', 'products', 'made', 'usa', 'one', 'isnt', 'bad', 'good', 'take', 'chances', 'till', 'know', 'going', 'imports', 'love', 'saw', 'pet', 'store', 'tag', 'attached', 'regarding', 'satisfied', 'safe', 'available', 'victor', 'traps', 'unreal', 'course', 'total', 'fly', 'pretty', 'stinky', 'right', 'nearby', 'used', 'bait', 'seasons', 'ca', 'not', 'beat', 'great']\n"
          ],
          "name": "stdout"
        }
      ]
    },
    {
      "cell_type": "markdown",
      "metadata": {
        "id": "Zgt8gkUAwN7J",
        "colab_type": "text"
      },
      "source": [
        "## [4.4.1] Converting text into vectors using Avg W2V, TFIDF-W2V"
      ]
    },
    {
      "cell_type": "markdown",
      "metadata": {
        "id": "ZZzSGfKpwN7M",
        "colab_type": "text"
      },
      "source": [
        "#### [4.4.1.1] Avg W2v"
      ]
    },
    {
      "cell_type": "code",
      "metadata": {
        "id": "_Au4KI_FwN7P",
        "colab_type": "code",
        "outputId": "a77a22f7-1f21-4768-d162-75080ccd87c6",
        "colab": {
          "base_uri": "https://localhost:8080/",
          "height": 85
        }
      },
      "source": [
        "# average Word2Vec\n",
        "# compute average word2vec for each review.\n",
        "sent_vectors = []; # the avg-w2v for each sentence/review is stored in this list\n",
        "for sent in tqdm(list_of_sentance): # for each review/sentence\n",
        "    sent_vec = np.zeros(500) # as word vectors are of zero length 50, you might need to change this to 300 if you use google's w2v\n",
        "    cnt_words =0; # num of words with a valid vector in the sentence/review\n",
        "    for word in sent: # for each word in a review/sentence\n",
        "        if word in w2v_words:\n",
        "            vec = w2v_model.wv[word]\n",
        "            sent_vec += vec\n",
        "            cnt_words += 1\n",
        "    if cnt_words != 0:\n",
        "        sent_vec /= cnt_words\n",
        "    sent_vectors.append(sent_vec)\n",
        "print('count',cnt_words)    \n",
        "print(len(sent_vectors))\n",
        "print(len(sent_vectors[0]))"
      ],
      "execution_count": 0,
      "outputs": [
        {
          "output_type": "stream",
          "text": [
            "100%|██████████| 46071/46071 [01:40<00:00, 460.14it/s]"
          ],
          "name": "stderr"
        },
        {
          "output_type": "stream",
          "text": [
            "count 19\n",
            "46071\n",
            "500\n"
          ],
          "name": "stdout"
        },
        {
          "output_type": "stream",
          "text": [
            "\n"
          ],
          "name": "stderr"
        }
      ]
    },
    {
      "cell_type": "markdown",
      "metadata": {
        "id": "qG8L-DBvwN7a",
        "colab_type": "text"
      },
      "source": [
        "#### [4.4.1.2] TFIDF weighted W2v"
      ]
    },
    {
      "cell_type": "code",
      "metadata": {
        "id": "Px1evjvawN7b",
        "colab_type": "code",
        "colab": {}
      },
      "source": [
        "# S = [\"abc def pqr\", \"def def def abc\", \"pqr pqr def\"]\n",
        "model = TfidfVectorizer()\n",
        "tf_idf_matrix = model.fit_transform(preprocessed_reviews)\n",
        "# we are converting a dictionary with word as a key, and the idf as a value\n",
        "dictionary = dict(zip(model.get_feature_names(), list(model.idf_)))"
      ],
      "execution_count": 0,
      "outputs": []
    },
    {
      "cell_type": "code",
      "metadata": {
        "scrolled": true,
        "id": "pV8VOxRwwN7f",
        "colab_type": "code",
        "outputId": "50e1c06c-98bc-4de0-bab2-53482d784505",
        "colab": {
          "base_uri": "https://localhost:8080/",
          "height": 34
        }
      },
      "source": [
        "# TF-IDF weighted Word2Vec\n",
        "tfidf_feat = model.get_feature_names() # tfidf words/col-names\n",
        "# final_tf_idf is the sparse matrix with row= sentence, col=word and cell_val = tfidf\n",
        "\n",
        "tfidf_sent_vectors = []; # the tfidf-w2v for each sentence/review is stored in this list\n",
        "row=0;\n",
        "for sent in tqdm(list_of_sentance): # for each review/sentence \n",
        "    sent_vec = np.zeros(500) # as word vectors are of zero length\n",
        "    weight_sum =0; # num of words with a valid vector in the sentence/review\n",
        "    for word in sent: # for each word in a review/sentence\n",
        "        if word in w2v_words and word in tfidf_feat:\n",
        "            vec = w2v_model.wv[word]\n",
        "#             tf_idf = tf_idf_matrix[row, tfidf_feat.index(word)]\n",
        "            # to reduce the computation we are \n",
        "            # dictionary[word] = idf value of word in whole courpus\n",
        "            # sent.count(word) = tf valeus of word in this review\n",
        "            tf_idf = dictionary[word]*(sent.count(word)/len(sent))\n",
        "            sent_vec += (vec * tf_idf)\n",
        "            weight_sum += tf_idf\n",
        "    if weight_sum != 0:\n",
        "        sent_vec /= weight_sum\n",
        "    tfidf_sent_vectors.append(sent_vec)\n",
        "    row += 1"
      ],
      "execution_count": 0,
      "outputs": [
        {
          "output_type": "stream",
          "text": [
            "100%|██████████| 46071/46071 [19:46<00:00, 38.84it/s]\n"
          ],
          "name": "stderr"
        }
      ]
    },
    {
      "cell_type": "markdown",
      "metadata": {
        "id": "Z-F0N1yjHLNM",
        "colab_type": "text"
      },
      "source": [
        ""
      ]
    },
    {
      "cell_type": "markdown",
      "metadata": {
        "id": "Kxx72u1hLPo1",
        "colab_type": "text"
      },
      "source": [
        "# [5] Assignment 5: Apply Logistic Regression"
      ]
    },
    {
      "cell_type": "markdown",
      "metadata": {
        "id": "KDR9We0oLPo2",
        "colab_type": "text"
      },
      "source": [
        "<ol>\n",
        "    <li><strong>Apply Logistic Regression on these feature sets</strong>\n",
        "        <ul>\n",
        "            <li><font color='red'>SET 1:</font>Review text, preprocessed one converted into vectors using (BOW)</li>\n",
        "            <li><font color='red'>SET 2:</font>Review text, preprocessed one converted into vectors using (TFIDF)</li>\n",
        "            <li><font color='red'>SET 3:</font>Review text, preprocessed one converted into vectors using (AVG W2v)</li>\n",
        "            <li><font color='red'>SET 4:</font>Review text, preprocessed one converted into vectors using (TFIDF W2v)</li>\n",
        "        </ul>\n",
        "    </li>\n",
        "    <br>\n",
        "    <li><strong>Hyper paramter tuning (find best hyper parameters corresponding the algorithm that you choose)</strong>\n",
        "        <ul>\n",
        "    <li>Find the best hyper parameter which will give the maximum <a href='https://www.appliedaicourse.com/course/applied-ai-course-online/lessons/receiver-operating-characteristic-curve-roc-curve-and-auc-1/'>AUC</a> value</li>\n",
        "    <li>Find the best hyper paramter using k-fold cross validation or simple cross validation data</li>\n",
        "    <li>Use gridsearch cv or randomsearch cv or you can also write your own for loops to do this task of hyperparameter tuning</li>          \n",
        "        </ul>\n",
        "    </li>\n",
        "    <br>\n",
        "    <li><strong>Pertubation Test</strong>\n",
        "        <ul>\n",
        "    <li>Get the weights W after fit your model with the data X i.e Train data.</li>\n",
        "    <li>Add a noise to the X (X' = X + e) and get the new data set X' (if X is a sparse\n",
        "matrix, X.data+=e)</li>\n",
        "    <li>Fit the model again on data X' and get the weights W'</li>\n",
        "    <li>Add a small eps value(to eliminate the divisible by zero error) to W and W’ i.e\n",
        "W=W+10^-6 and W’ = W’+10^-6</li>\n",
        "    <li>Now find the % change between W and W' (| (W-W') / (W) |)*100)</li>\n",
        "    <li>Calculate the 0th, 10th, 20th, 30th, ...100th percentiles, and observe any sudden rise in the values of percentage_change_vector</li>\n",
        "    <li> Ex: consider your 99th percentile is 1.3 and your 100th percentiles are 34.6, there is sudden rise from 1.3 to 34.6, now calculate the 99.1, 99.2, 99.3,..., 100th percentile values and get the proper value after which there is sudden rise the values, assume it is 2.5</li>\n",
        "            <li> Print the feature names whose % change is more than a threshold x(in our example it's 2.5)</li>\n",
        "        </ul>\n",
        "    </li>\n",
        "    <br>\n",
        "    <li><strong>Sparsity</strong>\n",
        "        <ul>\n",
        "    <li>Calculate sparsity on weight vector obtained after using L1 regularization</li>\n",
        "        </ul>\n",
        "    </li>\n",
        "    <br><font color='red'>NOTE: Do sparsity and multicollinearity for any one of the vectorizers. Bow or tf-idf is recommended.</font>\n",
        "    <br>\n",
        "    <br>\n",
        "    <li><strong>Feature importance</strong>\n",
        "        <ul>\n",
        "    <li>Get top 10 important features for both positive and negative classes separately.</li>\n",
        "        </ul>\n",
        "    </li>\n",
        "    <br>\n",
        "    <li><strong>Feature engineering</strong>\n",
        "        <ul>\n",
        "    <li>To increase the performance of your model, you can also experiment with with feature engineering like :</li>\n",
        "            <ul>\n",
        "            <li>Taking length of reviews as another feature.</li>\n",
        "            <li>Considering some features from review summary as well.</li>\n",
        "        </ul>\n",
        "        </ul>\n",
        "    </li>\n",
        "    <br>\n",
        "    <li><strong>Representation of results</strong>\n",
        "        <ul>\n",
        "    <li>You need to plot the performance of model both on train data and cross validation data for each hyper parameter, like shown in the figure.\n",
        "    <img src='train_cv_auc.JPG' width=300px></li>\n",
        "    <li>Once after you found the best hyper parameter, you need to train your model with it, and find the AUC on test data and plot the ROC curve on both train and test.\n",
        "    <img src='train_test_auc.JPG' width=300px></li>\n",
        "    <li>Along with plotting ROC curve, you need to print the <a href='https://www.appliedaicourse.com/course/applied-ai-course-online/lessons/confusion-matrix-tpr-fpr-fnr-tnr-1/'>confusion matrix</a> with predicted and original labels of test data points. Please visualize your confusion matrices using <a href='https://seaborn.pydata.org/generated/seaborn.heatmap.html'>seaborn heatmaps.\n",
        "    <img src='confusion_matrix.png' width=300px></li>\n",
        "        </ul>\n",
        "    </li>\n",
        "    <br>\n",
        "    <li><strong>Conclusion</strong>\n",
        "        <ul>\n",
        "    <li>You need to summarize the results at the end of the notebook, summarize it in the table format. To print out a table please refer to this prettytable library<a href='http://zetcode.com/python/prettytable/'>  link</a> \n",
        "        <img src='summary.JPG' width=400px>\n",
        "    </li>\n",
        "        </ul>\n",
        "</ol>"
      ]
    },
    {
      "cell_type": "markdown",
      "metadata": {
        "id": "gilb-DOVLPo2",
        "colab_type": "text"
      },
      "source": [
        "<h4><font color='red'>Note: Data Leakage</font></h4>\n",
        "\n",
        "1. There will be an issue of data-leakage if you vectorize the entire data and then split it into train/cv/test.\n",
        "2. To avoid the issue of data-leakag, make sure to split your data first and then vectorize it. \n",
        "3. While vectorizing your data, apply the method fit_transform() on you train data, and apply the method transform() on cv/test data.\n",
        "4. For more details please go through this <a href='https://soundcloud.com/applied-ai-course/leakage-bow-and-tfidf'>link.</a>"
      ]
    },
    {
      "cell_type": "code",
      "metadata": {
        "id": "UR0f8SfZJkle",
        "colab_type": "code",
        "outputId": "9d4e7397-5a65-4bd1-ba0e-318ee81f68ee",
        "colab": {
          "base_uri": "https://localhost:8080/",
          "height": 1489
        }
      },
      "source": [
        "# Please write all the code with proper documentation\n",
        "# https://scikit-learn.org/stable/modules/generated/sklearn.model_selection.train_test_split.html\n",
        "from sklearn.model_selection import train_test_split\n",
        "from sklearn.feature_extraction.text import CountVectorizer\n",
        "from sklearn.metrics import roc_auc_score\n",
        "from sklearn.linear_model import LogisticRegression\n",
        "import seaborn as sn\n",
        "from sklearn.model_selection import GridSearchCV\n",
        "from sklearn.model_selection import RandomizedSearchCV\n",
        "from sklearn.preprocessing import StandardScaler\n",
        "from sklearn import preprocessing\n",
        "# Split the SET1 in Train, CV and test data set\n",
        "\n",
        "Y = final['Score'].values\n",
        "X = preprocessed_reviews\n",
        "\n",
        "\n",
        "\n",
        "\n",
        "\n",
        "X_train, X_test, y_train, y_test = train_test_split(X,Y, test_size = 0.3, random_state = 100)\n",
        "X_train, X_cv, y_train, y_cv = train_test_split(X_train, y_train, test_size=0.33) # this is random splitting\n",
        "\n",
        "\n",
        "vectorizer = CountVectorizer()\n",
        "vectorizer.fit(X_train)\n",
        "X_train_bow = vectorizer.transform(X_train)\n",
        "X_cv_bow = vectorizer.transform(X_cv)\n",
        "X_test_bow = vectorizer.transform(X_test)\n",
        "\n",
        "\n",
        "scaler = StandardScaler(with_mean=False, with_std=True)\n",
        "scaler.fit(X_train_bow)\n",
        "scaler.transform(X_train_bow)\n",
        "scaler.transform(X_cv_bow)\n",
        "scaler.transform(X_test_bow)\n",
        "#preprocessing.scale(X_train_bow)\n",
        "\n",
        "\n",
        "print(X_train_bow.get_shape())\n",
        "print(X_cv_bow.get_shape())\n",
        "print(X_test_bow.get_shape())\n",
        "\n",
        "# getting AUC ROC curve\n",
        "\n",
        "# Getting the optimal function with Grid search\n",
        "parameters = [{'C':[5,1,0.1,0.01,0.05,0.01,0.005,0.001, 0.0005, 0.0001]}]\n",
        "LR_optimal = GridSearchCV(LogisticRegression(penalty='l2'),parameters,scoring = 'f1',cv=8)\n",
        "LR_optimal.fit(X_train_bow, y_train)\n",
        "print(\"Best estimator & Score for the LR with GridSearchCV\")\n",
        "print(LR_optimal.best_estimator_)\n",
        "print(LR_optimal.score(X_train_bow, y_train))\n",
        "\n",
        "# Getting the optimal function with normal looping\n",
        "train_auc = []\n",
        "cv_auc = []\n",
        "alpha = [5,1,0.5,0.1,0.05,0.01,0.005,0.001, 0.0005, 0.0001]\n",
        "for i in alpha:\n",
        "    LR_optimal = LogisticRegression(C=i, class_weight=None, dual=False, fit_intercept=True, max_iter=100, multi_class='warn',n_jobs=None, penalty='l2', random_state=None, solver='warn',tol=0.0001, verbose=0, warm_start=False)\n",
        "    LR_optimal.fit(X_train_bow, y_train)\n",
        "    # roc_auc_score(y_true, y_score) the 2nd parameter should be probability estimates of the positive class\n",
        "    # not the predicted outputs\n",
        "    y_train_pred =  LR_optimal.predict_log_proba(X_train_bow)[:,1]\n",
        "    y_cv_pred =  LR_optimal.predict_log_proba(X_cv_bow)[:,1]\n",
        "    \n",
        "    train_auc.append(roc_auc_score(y_train,y_train_pred))\n",
        "    cv_auc.append(roc_auc_score(y_cv, y_cv_pred))\n",
        "    \n",
        "plt.plot(np.log(alpha), train_auc, label='Train AUC')\n",
        "plt.plot(np.log(alpha), cv_auc, label='CV AUC')\n",
        "plt.legend()\n",
        "plt.xlabel(\"hyperparameter\")\n",
        "plt.ylabel(\"Error\")\n",
        "plt.title(\"ERROR PLOTS\")\n",
        "plt.show()\n",
        "\n",
        "\n",
        "\n",
        "#Checking if sparsity increases with L1 regularizer\n",
        "clf = LogisticRegression(C=1,penalty = 'l1')\n",
        "clf.fit(X_train_bow, y_train)\n",
        "w=clf.coef_\n",
        "print(np.count_nonzero(w))\n",
        "\n",
        "clf = LogisticRegression(C=0.1,penalty = 'l1')\n",
        "clf.fit(X_train_bow, y_train)\n",
        "w=clf.coef_\n",
        "print(np.count_nonzero(w))\n",
        "\n",
        "# Fitting with best hyperparamter\n",
        "LR_optimal = LogisticRegression(C=1, class_weight=None, dual=False, fit_intercept=True,intercept_scaling=1, max_iter=100, multi_class='warn',n_jobs=None, penalty='l2', random_state=None, solver='warn',tol=0.0001, verbose=0, warm_start=False)\n",
        "LR_optimal.fit(X_train_bow, y_train)\n",
        "train_fpr, train_tpr, thresholds = roc_curve(y_train, LR_optimal.predict_log_proba(X_train_bow)[:,1])\n",
        "test_fpr, test_tpr, thresholds = roc_curve(y_test, LR_optimal.predict_log_proba(X_test_bow)[:,1])\n",
        "plt.plot(train_fpr, train_tpr, label=\"train AUC =\"+str(auc(train_fpr, train_tpr)))\n",
        "plt.plot(test_fpr, test_tpr, label=\"test AUC =\"+str(auc(test_fpr, test_tpr)))\n",
        "plt.legend()\n",
        "plt.xlabel(\"FPR\")\n",
        "plt.ylabel(\"TPR\")\n",
        "plt.title(\"ROC AUC Plot\")\n",
        "plt.show()\n",
        "\n",
        "print(\"Printing weight vector befor noise\")\n",
        "W1 = LR_optimal.coef_\n",
        "print(W1)\n",
        "\n",
        "print(\"=\"*100)\n",
        "\n",
        "# Adding some noise\n",
        "print(\"Plotting the graph after some adding some noise\")\n",
        "e = np.random.normal()\n",
        "X_train_bow.data = X_train_bow.data + e\n",
        "X_cv_bow.data = X_cv_bow.data + e\n",
        "X_test_bow.data = X_test_bow.data + e\n",
        "\n",
        "LR_optimal = LogisticRegression(C=1, class_weight=None, dual=False, fit_intercept=True,intercept_scaling=1, max_iter=100, multi_class='warn',n_jobs=None, penalty='l2', random_state=None, solver='warn',tol=0.0001, verbose=0, warm_start=False)\n",
        "LR_optimal.fit(X_train_bow, y_train)\n",
        "train_fpr, train_tpr, thresholds = roc_curve(y_train, LR_optimal.predict_log_proba(X_train_bow)[:,1])\n",
        "test_fpr, test_tpr, thresholds = roc_curve(y_test, LR_optimal.predict_log_proba(X_test_bow)[:,1])\n",
        "plt.plot(train_fpr, train_tpr, label=\"train AUC =\"+str(auc(train_fpr, train_tpr)))\n",
        "plt.plot(test_fpr, test_tpr, label=\"test AUC =\"+str(auc(test_fpr, test_tpr)))\n",
        "plt.legend()\n",
        "plt.xlabel(\"FPR\")\n",
        "plt.ylabel(\"TPR\")\n",
        "plt.title(\"ROC AUC PLOTS with Noise\")\n",
        "plt.show()\n",
        "\n",
        "print(\"Printing weight vector after noise\")\n",
        "W2 = LR_optimal.coef_\n",
        "print(W2)\n",
        "#W1 = W1 + e\n",
        "#W2 = W2 + e\n",
        "# Finding percentage difference between 2 vectors\n",
        "percentage_change_vector = np.abs((W2-W1)/W1)*100\n",
        "print(\"%change\",percentage_change_vector)\n",
        "change=[]\n",
        "for i in range(90,101):\n",
        "   change.append(np.percentile(percentage_change_vector,i))\n",
        "x1 = list(range(90,101))\n",
        "y1 = change\n",
        "plt.title(\"Multicolliniearlity test\")\n",
        "plt.plot(x1,y1)\n",
        "plt.show()\n",
        "\n",
        "\n",
        "\n"
      ],
      "execution_count": 0,
      "outputs": [
        {
          "output_type": "stream",
          "text": [
            "(21606, 27756)\n",
            "(10643, 27756)\n",
            "(13822, 27756)\n",
            "Best estimator & Score for the LR with GridSearchCV\n",
            "LogisticRegression(C=0.1, class_weight=None, dual=False, fit_intercept=True,\n",
            "                   intercept_scaling=1, l1_ratio=None, max_iter=100,\n",
            "                   multi_class='warn', n_jobs=None, penalty='l2',\n",
            "                   random_state=None, solver='warn', tol=0.0001, verbose=0,\n",
            "                   warm_start=False)\n",
            "0.9683439576834396\n"
          ],
          "name": "stdout"
        },
        {
          "output_type": "display_data",
          "data": {
            "image/png": "[encoded data removed]",
            "text/plain": [
              "<Figure size 432x288 with 1 Axes>"
            ]
          },
          "metadata": {
            "tags": []
          }
        },
        {
          "output_type": "stream",
          "text": [
            "2342\n",
            "441\n"
          ],
          "name": "stdout"
        },
        {
          "output_type": "display_data",
          "data": {
            "image/png": "[encoded data removed]",
            "text/plain": [
              "<Figure size 432x288 with 1 Axes>"
            ]
          },
          "metadata": {
            "tags": []
          }
        },
        {
          "output_type": "stream",
          "text": [
            "Printing weight vector befor noise\n",
            "[[-3.16444206e-01  1.17292509e-02  7.98769576e-03 ...  1.05542065e-01\n",
            "  -4.67734882e-02  7.02525959e-06]]\n",
            "====================================================================================================\n",
            "Plotting the graph after some adding some noise\n"
          ],
          "name": "stdout"
        },
        {
          "output_type": "display_data",
          "data": {
            "image/png": "[encoded data removed]",
            "text/plain": [
              "<Figure size 432x288 with 1 Axes>"
            ]
          },
          "metadata": {
            "tags": []
          }
        },
        {
          "output_type": "stream",
          "text": [
            "Printing weight vector after noise\n",
            "[[-3.38564386e-01  1.61389500e-02  9.29613968e-03 ...  1.01059250e-01\n",
            "  -4.67829495e-02  2.50242062e-05]]\n",
            "%change [[6.99023076e+00 3.75957434e+01 1.63807431e+01 ... 4.24742024e+00\n",
            "  2.02279636e-02 2.56203297e+02]]\n"
          ],
          "name": "stdout"
        },
        {
          "output_type": "display_data",
          "data": {
            "image/png": "[encoded data removed]",
            "text/plain": [
              "<Figure size 432x288 with 1 Axes>"
            ]
          },
          "metadata": {
            "tags": []
          }
        }
      ]
    },
    {
      "cell_type": "code",
      "metadata": {
        "id": "cUm74yRvDqRH",
        "colab_type": "code",
        "outputId": "48590eb5-04a9-441c-d8d0-b758a44b6c99",
        "colab": {
          "base_uri": "https://localhost:8080/",
          "height": 476
        }
      },
      "source": [
        "change_max = []\n",
        "ind = 1;\n",
        "print(\"features which changed more than threshold\")\n",
        "feature_names = vectorizer.get_feature_names()\n",
        "print(percentage_change_vector[0])\n",
        "for i in range(1,len(percentage_change_vector[0])):\n",
        " \n",
        "  if(percentage_change_vector[0][i]>2.5):    \n",
        "    change_max.append(feature_names[i])  \n",
        "  \n",
        "print(change_max)  \n",
        "\n",
        "\n",
        "from sklearn.metrics import confusion_matrix\n",
        "print(\"Train confusion matrix\")\n",
        "print(confusion_matrix(y_train, LR_optimal.predict(X_train_bow)))\n",
        "print(\"Test confusion matrix\")\n",
        "print(confusion_matrix(y_test, LR_optimal.predict(X_test_bow)))\n",
        "sn.heatmap(confusion_matrix(y_test, LR_optimal.predict(X_test_bow)), annot=True)"
      ],
      "execution_count": 0,
      "outputs": [
        {
          "output_type": "stream",
          "text": [
            "features which changed more than threshold\n",
            "[6.99023076e+00 3.75957434e+01 1.63807431e+01 ... 4.24742024e+00\n",
            " 2.02279636e-02 2.56203297e+02]\n",
            "['aaa', 'aaaa', 'aaaaa', 'aaaaaaaaaaaa', 'aaaaaaaaaaaaaaa', 'aaaaaaahhhhhh', 'aaaaaawwwwwwwwww', 'aaaaah', 'aaf', 'aafco', 'aahs', 'aarthur', 'ab', 'aback', 'abandon', 'abandoned', 'abandoning', 'abates', 'abbey', 'abbott', 'abbreviated', 'abbreviation', 'abby', 'abdominal', 'abe', 'abhor', 'ability', 'abilling', 'able', 'ablution', 'abnormal', 'abnormally', 'abnoxious', 'abolitionists', 'abomination', 'abominations', 'abosoutely', 'abound', 'abounds', 'aboutamazon', 'aboveour', 'aboviously', 'abowt', 'abrasive', 'abroad', 'abruptly', 'abs', 'absence', 'absent', 'absentmindedly', 'absinthe', 'absoloutely', 'absolutely', 'absolutelydelicious', 'absolutey', 'absolutlely', 'absolutley', 'absolutly', 'absoluttely', 'absorb', 'absorbable', 'absorbed', 'absorbic', 'absorbing', 'absorption', 'absoultely', 'absoulutely', 'absoulutly', 'absurd', 'abt', 'abums', 'abundance', 'abundant', 'abundent', 'abuse', 'abused', 'abusing', 'abut', 'abv', 'abysmal', 'ac', 'acabaron', 'academia', 'academy', 'acai', 'accelerant', 'accelerated', 'accelerates', 'accent', 'accented', 'accents', 'accentuate', 'accentuated', 'accentuates', 'accept', 'acceptable', 'acceptance', 'accepted', 'accepting', 'accepts', 'accessible', 'accessories', 'accessory', 'accident', 'accidental', 'accidentally', 'accidents', 'acclaimed', 'acclimated', 'accommodate', 'accomodate', 'accomodation', 'accompained', 'accompanied', 'accompanies', 'accompany', 'accompanying', 'accomplish', 'accomplished', 'accomplishment', 'accord', 'accordance', 'according', 'accords', 'account', 'accountable', 'accounting', 'accounts', 'accourding', 'accoutrements', 'accredited', 'accross', 'accrue', 'acctually', 'accumulates', 'accumulation', 'accuracy', 'accurate', 'accurately', 'accusatory', 'accustomed', 'acd', 'ace', 'acehardwareoutlet', 'acerbic', 'acerola', 'acesulfame', 'acetaminophen', 'acetate', 'acetone', 'ache', 'aches', 'achieve', 'achieved', 'achieves', 'achieving', 'aching', 'achy', 'acid', 'acidacidity', 'acidic', 'acidify', 'acidity', 'acidolphilus', 'acidophilus', 'acids', 'acknowledge', 'acknowledged', 'acknowledgement', 'acknowledgment', 'acl', 'acme', 'acne', 'acording', 'acorss', 'acoustically', 'acquaintance', 'acquaintances', 'acquainted', 'acquire', 'acquired', 'acquiring', 'acquisition', 'acre', 'acres', 'acrid', 'across', 'acrylic', 'act', 'acted', 'acting', 'action', 'actions', 'activate', 'active', 'activia', 'activities', 'activity', 'actlly', 'actor', 'actors', 'acts', 'actual', 'actuality', 'actuallly', 'actually', 'actualy', 'acually', 'acupressure', 'acupuncture', 'acustom', 'acutal', 'acutally', 'acute', 'ad', 'adage', 'adagio', 'adam', 'adamant', 'adapt', 'adaptability', 'adaptable', 'adapter', 'adaptor', 'adapts', 'add', 'addded', 'addedsweeteners', 'addendum', 'adder', 'addict', 'addictable', 'addicted', 'addicting', 'addictingly', 'addictions', 'addictive', 'addictively', 'addictiveness', 'addicts', 'adding', 'addison', 'addition', 'additional', 'additionally', 'additions', 'addititional', 'additive', 'additives', 'additivesas', 'addled', 'address', 'addressed', 'addresses', 'addressesit', 'addressing', 'adds', 'ade', 'adem', 'adept', 'adepts', 'adequate', 'adequately', 'adequeately', 'adfvnouadv', 'adhd', 'adheared', 'adheres', 'adhesions', 'adhesive', 'adiago', 'adiitonal', 'adirondack', 'adjective', 'adjustability', 'adjustable', 'adjusted', 'adjusting', 'adjustment', 'adjustments', 'adjusts', 'admin', 'administered', 'administering', 'administeringpills', 'administration', 'admirable', 'admire', 'admired', 'admist', 'admit', 'admits', 'admitted', 'admittedly', 'admitting', 'admonishing', 'adobo', 'adolescent', 'adopt', 'adopted', 'adoptee', 'adopters', 'adopting', 'adoptions', 'adoptive', 'adopts', 'adora', 'adorable', 'adore', 'adored', 'adores', 'ados', 'adrenal', 'adrenals', 'adria', 'ads', 'adult', 'adulterate', 'adulterated', 'adulthood', 'adults', 'adv', 'advance', 'advancement', 'advancing', 'advantage', 'advantages', 'advent', 'adventure', 'adventures', 'adventurous', 'adventurously', 'adverse', 'adversing', 'advertisement', 'advertisements', 'advertises', 'advertising', 'advertisment', 'advertize', 'advertized', 'advertizes', 'advertizing', 'advice', 'advil', 'advisable', 'advise', 'advised', 'advises', 'advising', 'advisor', 'advisory', 'advocare', 'advocate', 'advocating', 'adzuki', 'ae', 'aerated', 'aeration', 'aero', 'aeromatic', 'aeropress', 'aerosol', 'aesthetic', 'aesthetically', 'aesthetics', 'af', 'afew', 'affair', 'affairs', 'affect', 'affected', 'affecting', 'affection', 'affectionate', 'affects', 'afficianado', 'afficionado', 'affiliate', 'affiliated', 'affiliation', 'affinity', 'affix', 'affixed', 'afflicted', 'affliction', 'afforable', 'afford', 'affordability', 'affordable', 'affordably', 'affords', 'affortable', 'affront', 'afghanastan', 'afghanistan', 'afghans', 'aficionado', 'aficionadoes', 'aficionados', 'aflame', 'afnkjganfpbgneonb', 'afordable', 'afore', 'aforementioned', 'aforesaid', 'africa', 'african', 'aften', 'afterall', 'afterbite', 'afterburn', 'afterdeath', 'aftermath', 'afternoon', 'afternoons', 'aftertase', 'aftertaste', 'aftertastes', 'afterthey', 'afterthought', 'afterward', 'ag', 'aganin', 'aganist', 'agar', 'agatha', 'agave', 'age', 'aged', 'agen', 'agencies', 'agent', 'agents', 'ages', 'aggervated', 'aggie', 'aggravate', 'aggravated', 'aggravation', 'aggression', 'aggressive', 'aggressively', 'aggrevation', 'aghhh', 'agile', 'agility', 'agine', 'aging', 'agitate', 'agitated', 'agitating', 'aglio', 'ago', 'agonized', 'agony', 'agood', 'agoraphobic', 'agostino', 'agree', 'agreeable', 'agreed', 'agreeded', 'agreedthat', 'agreeing', 'agreement', 'agrees', 'agricultural', 'agriculture', 'agua', 'ahead', 'ahem', 'ahh', 'ahhh', 'ahhhhh', 'ahhhhhhhhhhhhh', 'ahhhing', 'ahing', 'ahmad', 'aholic', 'ahoy', 'ahs', 'ai', 'aid', 'aide', 'aided', 'aides', 'aiding', 'aids', 'aig', 'aikou', 'ailly', 'ailment', 'ailments', 'aim', 'aimed', 'aint', 'aioli', 'air', 'airbags', 'airborne', 'airbrush', 'airbrushed', 'aires', 'airfare', 'airiness', 'airline', 'airlock', 'airplane', 'airplanes', 'airpocket', 'airpopper', 'airport', 'airtight', 'airway', 'airyness', 'aisle', 'aisles', 'aj', 'ajowan', 'ajwan', 'aka', 'akc', 'akg', 'akin', 'akita', 'akitas', 'ala', 'alabama', 'alamosa', 'alan', 'alarger', 'alarm', 'alarming', 'alas', 'alaska', 'alaskan', 'albacore', 'albany', 'albeit', 'albers', 'alberta', 'albertson', 'albertsons', 'album', 'albumin', 'albums', 'albuterol', 'alcoholic', 'alcohols', 'aldi', 'ale', 'alec', 'alergic', 'alergies', 'alertness', 'ales', 'alessi', 'alex', 'alexander', 'alfalfa', 'alfrado', 'algae', 'algerian', 'ali', 'alia', 'alice', 'alien', 'alienating', 'aliento', 'align', 'aligned', 'aligns', 'alike', 'alikes', 'alimentari', 'alittle', 'alive', 'alka', 'alkali', 'alkaline', 'alkalized', 'alkalizing', 'alkaloid', 'alkaloids', 'alkylamides', 'alla', 'allan', 'allayed', 'allays', 'allbuy', 'allduring', 'allegation', 'alleged', 'allegedly', 'alleging', 'allegro', 'allen', 'allergen', 'allergens', 'allergic', 'allergies', 'allergins', 'allergist', 'allergy', 'allergyand', 'allert', 'alles', 'alleviate', 'alleviated', 'alleviates', 'alleviating', 'alley', 'alliance', 'alligator', 'alllergies', 'alllllllll', 'allmy', 'allot', 'alloted', 'allotment', 'allotted', 'allow', 'allowable', 'allowance', 'allowed', 'allowing', 'allows', 'alloy', 'allrecipes', 'allsort', 'allsorts', 'allspice', 'alludes', 'allure', 'alluring', 'ally', 'almond', 'almondmilknutrition', 'almonds', 'almondsalmonds', 'almostall', 'almowt', 'alo', 'aloe', 'aloha', 'alomost', 'along', 'alongside', 'alookin', 'alot', 'alotof', 'alouette', 'alow', 'alpaca', 'alphabet', 'alphabetical', 'alpine', 'alps', 'already', 'alright', 'als', 'also', 'alsoaid', 'alsobrings', 'alsoknow', 'alt', 'alter', 'alteration', 'alterations', 'alterative', 'altered', 'alternated', 'alternately', 'alternative', 'alternatives', 'alternitives', 'alterra', 'altho', 'althos', 'although', 'althought', 'altinbas', 'altitude', 'altitudes', 'altogether', 'altoid', 'altoids', 'altria', 'altruism', 'altura', 'alum', 'aluminium', 'aluminum', 'alvita', 'alwasy', 'alway', 'always', 'alzheimer', 'alzo', 'ama', 'amactually', 'amade', 'amagic', 'amake', 'amaltose', 'amamzon', 'amanda', 'amaon', 'amapley', 'amaranth', 'amaretto', 'amarillo', 'amash', 'amason', 'amassing', 'amastered', 'amatch', 'amateur', 'amateurs', 'amatriciana', 'amatuer', 'amazaing', 'amaze', 'amazed', 'amazement', 'amaziing', 'amazing', 'amazingggggggggg', 'amazingly', 'amazon', 'amazondid', 'amazonians', 'amazonn', 'amazonpurchase', 'amazons', 'amber', 'amberworth', 'ambiance', 'ambient', 'ambivalent', 'ambrosia', 'ambulance', 'amd', 'amdthe', 'ameal', 'amedei', 'amedium', 'amelt', 'amend', 'amended', 'amenity', 'america', 'american', 'americana', 'americanized', 'americano', 'americanos', 'americans', 'americas', 'americolor', 'amerika', 'amerimist', 'amexican', 'ami', 'amid', 'amidst', 'amilk', 'amilks', 'amini', 'amino', 'aminos', 'amish', 'amiss', 'amixed', 'amla', 'ammazon', 'ammonia', 'ammoniated', 'ammount', 'amolinillo', 'amon', 'among', 'amongst', 'amont', 'amore', 'amores', 'amos', 'amount', 'amountain', 'amounts', 'amountthat', 'amour', 'amout', 'amoxicillin', 'amozon', 'amped', 'ample', 'ampleased', 'ampliamente', 'amplifier', 'amplify', 'amply', 'amps', 'amsterdam', 'amt', 'amthinking', 'amukhwas', 'amused', 'amusement', 'amusing', 'amusingly', 'amy', 'amystery', 'amzaon', 'amzazon', 'amzn', 'amzon', 'ana', 'anad', 'anal', 'analize', 'analog', 'analogies', 'analogy', 'analyses', 'analysis', 'analysiscrude', 'analysisthis', 'analyze', 'analyzed', 'analyzer', 'analyzes', 'anaphylaxis', 'anappliance', 'anardana', 'anaylsis', 'ancestors', 'ancho', 'anchor', 'anchored', 'anchovies', 'anchovy', 'ancient', 'anciety', 'andacid', 'andao', 'andbo', 'andbones', 'andbuy', 'andcalcium', 'andcelestial', 'andclumped', 'andconvenience', 'andernette', 'andexcellent', 'andextremely', 'andfollow', 'andhe', 'andi', 'andit', 'andlet', 'andnot', 'andpassed', 'andpink', 'andrea', 'andrew', 'andsomoke', 'andtaste', 'andthey', 'andthis', 'andworcestershire', 'andy', 'andyou', 'andyway', 'ane', 'aneasy', 'anecdotal', 'anecdotally', 'anecdote', 'aneed', 'anemia', 'anesthesia', 'angel', 'angeles', 'angelic', 'angelina', 'angels', 'anger', 'angiogenesis', 'angle', 'angostura', 'angrily', 'anguish', 'angustifolia', 'animal', 'animals', 'animation', 'anise', 'aniseed', 'anisette', 'anjou', 'ankles', 'ann', 'anna', 'annatto', 'annd', 'anne', 'anneeavon', 'annerversery', 'annette', 'annie', 'annies', 'anniv', 'anniversary', 'anniversaryobso', 'anno', 'announce', 'announced', 'announcement', 'announces', 'annoy', 'annoyance', 'annoyed', 'annoying', 'annual', 'annually', 'anny', 'anonymous', 'anorexic', 'another', 'anothere', 'anothorized', 'anough', 'anoutstanding', 'answer', 'answered', 'answers', 'ant', 'antacid', 'antacids', 'antar', 'anthocyanins', 'anthony', 'anthopomorphizing', 'anthropologist', 'anti', 'antibacterial', 'antibiotic', 'antibiotics', 'antibodies', 'antibotics', 'antica', 'anticipate', 'anticipated', 'anticipating', 'anticipation', 'antics', 'antidote', 'antifungal', 'antihistamine', 'antioxidant', 'antioxidante', 'antioxidants', 'antioxidents', 'antipasto', 'antique', 'antirheumatic', 'antispasmodic', 'antler', 'antlers', 'antonio', 'antsy', 'anus', 'anway', 'anxieties', 'anxiety', 'anxious', 'anxiously', 'anyattention', 'anycase', 'anyday', 'anyhoo', 'anymore', 'anyone', 'anyonr', 'anyother', 'anyplace', 'anyrecipe', 'anyrhinf', 'anything', 'anythingbought', 'anytime', 'anyting', 'anyways', 'anywho', 'aong', 'aosta', 'aout', 'aoverall', 'ap', 'aparently', 'apart', 'apartment', 'ape', 'apeak', 'apetite', 'aphrodisiac', 'apiece', 'aplomb', 'apo', 'apollo', 'apologetic', 'apologetically', 'apologies', 'apologize', 'apologized', 'apologizing', 'apology', 'apon', 'app', 'appalled', 'appalling', 'apparent', 'apparently', 'appauled', 'appeal', 'appealed', 'appealing', 'appealingly', 'appeals', 'appear', 'appearance', 'appeared', 'appearing', 'appears', 'appease', 'appel', 'appetit', 'appetite', 'appetites', 'appetito', 'appetizer', 'applaud', 'applauded', 'apple', 'applebees', 'applegrapetangerineorangeacerola', 'appleorange', 'apples', 'applesauce', 'appleseed', 'applewood', 'appliances', 'applicable', 'application', 'applications', 'applicator', 'applied', 'applies', 'apply', 'applying', 'appma', 'appointment', 'apposed', 'appreciably', 'appreciate', 'appreciated', 'appreciates', 'appreciating', 'appreciation', 'appreciationwhen', 'appreciative', 'apprehensive', 'approach', 'approached', 'approaches', 'approaching', 'appropriated', 'appropriately', 'approval', 'approve', 'approved', 'approves', 'approx', 'approximate', 'approximately', 'approximates', 'approximenly', 'approximta', 'appt', 'apri', 'apricots', 'april', 'apriva', 'aprox', 'aproximately', 'apt', 'aptness', 'aqua', 'aquarello', 'aquired', 'ara', 'arabia', 'arabian', 'arabic', 'arabica', 'arable', 'aralia', 'arame', 'arbal', 'arbol', 'arcata', 'archer', 'archway', 'arctic', 'ardbeg', 'ardently', 'arduous', 'area', 'aready', 'areal', 'areas', 'areaswhere', 'arecharging', 'arecommended', 'areexcellent', 'arena', 'arent', 'ares', 'arescue', 'areverse', 'arevery', 'argan', 'argee', 'argentina', 'argentine', 'argentinean', 'argentino', 'argh', 'arghhh', 'arginine', 'arguably', 'argue', 'arguing', 'argument', 'arguments', 'arid', 'arise', 'arises', 'aristocats', 'aritficial', 'arive', 'arived', 'arizona', 'arkets', 'arm', 'armaretto', 'armed', 'armen', 'armor', 'armpits', 'arms', 'army', 'arnold', 'arnt', 'aroma', 'aromas', 'aromatherapy', 'aromatic', 'aromatics', 'arome', 'aroun', 'around', 'aroung', 'aroused', 'aroy', 'arrabiata', 'arrange', 'arranged', 'arrangement', 'arrangements', 'array', 'arrive', 'arrived', 'arrow', 'arrowhead', 'arrowroot', 'arrrrh', 'arse', 'arsenic', 'art', 'artagnans', 'artagnon', 'artemis', 'artery', 'artesanal', 'artful', 'arthritis', 'arthur', 'artichoke', 'articial', 'article', 'articlemozaffarian', 'articles', 'articulate', 'artifcal', 'artiffcial', 'artifial', 'artifical', 'artifically', 'artificial', 'artificiality', 'artificially', 'artificials', 'artisan', 'artisanal', 'artisans', 'artistic', 'arts', 'artwork', 'aruba', 'arugula', 'asada', 'asain', 'asap', 'asbach', 'ascertain', 'ascertained', 'ascorbic', 'ascribe', 'asda', 'aseptic', 'asfdnbbiougqiu', 'ash', 'ashamed', 'ashby', 'ashes', 'ashtray', 'ashy', 'asia', 'asian', 'asianfoodgrocer', 'asianfoods', 'asians', 'aside', 'asides', 'asin', 'asinine', 'asio', 'asit', 'asjfnboeb', 'ask', 'askcooking', 'asked', 'asking', 'asks', 'asleep', 'aslo', 'asommeee', 'asparagus', 'aspargus', 'aspartame', 'aspartamine', 'aspects', 'aspen', 'asperger', 'aspertame', 'aspertane', 'aspirations', 'aspirin', 'aspiring', 'aspragus', 'ass', 'assam', 'assams', 'assault', 'assaulted', 'assaulting', 'assemble', 'assembled', 'assembling', 'assembly', 'assertion', 'assertions', 'assertive', 'asset', 'assets', 'assi', 'assigned', 'assignment', 'assignments', 'assist', 'assistance', 'assistant', 'assisted', 'assists', 'associate', 'associated', 'associating', 'association', 'associators', 'assome', 'assorted', 'assortmentproduct', 'assortments', 'asssuming', 'assuages', 'assume', 'assumed', 'assuperior', 'assure', 'assured', 'assures', 'assuring', 'asta', 'asterisk', 'astexas', 'asthe', 'asthma', 'asthmatics', 'astonishing', 'astore', 'astounded', 'astounding', 'astragalus', 'astringency', 'astringent', 'astronaut', 'asying', 'ata', 'atascadero', 'ate', 'ater', 'atf', 'atheart', 'atherosclerosis', 'athlete', 'athletes', 'athletic', 'athough', 'atkins', 'atlanta', 'atlantic', 'atlas', 'atleast', 'atm', 'atmosphere', 'atomic', 'atomizer', 'atop', 'atrisian', 'atrocious', 'atrocities', 'atta', 'attach', 'attache', 'attached', 'attaches', 'attaching', 'attachment', 'attack', 'attacked', 'attacking', 'attain', 'attempt', 'attempted', 'attempting', 'attemt', 'attend', 'attendant', 'attended', 'attendees', 'attending', 'attention', 'attentive', 'attest', 'atthe', 'attic', 'attiki', 'attitudes', 'attorneys', 'attract', 'attracted', 'attracting', 'attraction', 'attractive', 'attractiveness', 'attracts', 'attributable', 'attribute', 'attributed', 'attributes', 'attributing', 'attrition', 'atty', 'au', 'aubrey', 'audacious', 'audible', 'audience', 'audio', 'auditors', 'audrey', 'auf', 'aug', 'aught', 'augment', 'august', 'augustine', 'aunt', 'auntie', 'aunts', 'aura', 'aussie', 'aussies', 'aussiesthese', 'aussiie', 'aust', 'austen', 'australia', 'australian', 'austria', 'austro', 'authentic', 'authentically', 'author', 'authority', 'authorization', 'authors', 'autism', 'autistic', 'autolyzed', 'automated', 'automatic', 'automatically', 'automatics', 'autry', 'autumn', 'avacaco', 'avacado', 'avail', 'availabe', 'availability', 'availabilty', 'availabily', 'available', 'availble', 'availibility', 'availibity', 'avalible', 'avanced', 'avaoderm', 'avarage', 'aveda', 'avenue', 'avenues', 'aver', 'average', 'averaged', 'averages', 'averaging', 'averse', 'aversion', 'avert', 'averted', 'avery', 'avg', 'avialable', 'avian', 'aviation', 'avid', 'avion', 'avo', 'avocados', 'avocadosthrow', 'avocaodo', 'avodart', 'avoderm', 'avoid', 'avoiding', 'avoids', 'aw', 'await', 'awaited', 'awaiting', 'awaits', 'awake', 'awakened', 'awakening', 'award', 'awarded', 'aware', 'awareness', 'awarenessof', 'away', 'awayall', 'awayany', 'aweek', 'aweful', 'awelfull', 'awesom', 'awesome', 'awesomely', 'awesomeness', 'awesomestuff', 'awful', 'awfully', 'awfulonly', 'awhile', 'awile', 'awkward', 'awonderful', 'awsome', 'awwfuul', 'axe', 'axle', 'ay', 'aykur', 'ayurvedic', 'az', 'azalea', 'azaleas', 'azar', 'aztec', 'azteca', 'azuki', 'baa', 'baajch', 'baar', 'baarrel', 'babanas', 'babe', 'babes', 'babies', 'babka', 'babsit', 'baby', 'babycook', 'babyfood', 'babys', 'babysitter', 'babysitting', 'bacame', 'bacause', 'bachelors', 'bacillus', 'back', 'backbones', 'backdrop', 'backed', 'background', 'backing', 'backlogged', 'backorder', 'backpack', 'backpacked', 'backpacker', 'backpackers', 'backpacking', 'backpacks', 'backs', 'backside', 'backup', 'backwards', 'backyard', 'bacon', 'baconnaise', 'bacteria', 'bacterial', 'bactine', 'bad', 'badass', 'badia', 'badly', 'baffled', 'bag', 'bagcaliope', 'bagcons', 'bagels', 'bagful', 'bagged', 'baggies', 'bagging', 'baggy', 'baghaving', 'bags', 'bagsonboard', 'bagthese', 'bagtotal', 'baguette', 'bahamas', 'bahlsen', 'bahlson', 'bahn', 'bailey', 'baileys', 'baird', 'baiting', 'baja', 'bajillion', 'bake', 'baked', 'bakehouse', 'baker', 'bakeries', 'bakers', 'bakery', 'bakes', 'bakeshop', 'bakeware', 'baking', 'baklava', 'baklavah', 'baklawah', 'balance', 'balanced', 'balancedagain', 'balancer', 'balances', 'balanchine', 'balancing', 'balcony', 'bald', 'baldwin', 'balence', 'balked', 'balks', 'ball', 'balled', 'ballerina', 'ballet', 'ballistic', 'balloon', 'ballooned', 'ballotin', 'ballpark', 'balm', 'balony', 'balsalmic', 'balsamic', 'balsamico', 'balsamics', 'baltic', 'baltimore', 'bam', 'bambi', 'bambino', 'bamboo', 'bamm', 'ban', 'banana', 'bananapeach', 'bananas', 'bananna', 'banaspaty', 'banded', 'bandit', 'bands', 'bandwagon', 'bang', 'bangin', 'banging', 'bangs', 'banh', 'banish', 'banished', 'banjo', 'bank', 'banks', 'bannana', 'banned', 'banner', 'banning', 'banquets', 'baot', 'baought', 'bar', 'barb', 'barbados', 'barbaque', 'barbara', 'barbecue', 'barbecued', 'barbecues', 'barbells', 'barbeque', 'barbequey', 'barbery', 'barbie', 'barbque', 'barcelona', 'barchetta', 'barcode', 'bare', 'bareable', 'barefoot', 'barely', 'barest', 'barf', 'barfed', 'bargain', 'bargained', 'bargains', 'bargan', 'bargin', 'bariatric', 'barilla', 'baring', 'barista', 'bark', 'barkin', 'barking', 'barkley', 'barks', 'barkster', 'barksters', 'barky', 'barley', 'barn', 'barolo', 'baronet', 'barr', 'barrel', 'barrels', 'barrier', 'barring', 'barrista', 'barritt', 'barritts', 'barrow', 'barry', 'bars', 'bartender', 'bartenders', 'bartolini', 'barvarian', 'base', 'baseball', 'baseballs', 'based', 'baseline', 'basement', 'basenji', 'bases', 'bash', 'bashed', 'bashing', 'basic', 'basically', 'basics', 'basil', 'basin', 'basing', 'basis', 'basket', 'basketball', 'basketeers', 'baskets', 'baskin', 'baskins', 'basmati', 'bass', 'basset', 'bassett', 'bast', 'basting', 'bat', 'batali', 'batch', 'batches', 'batchobsq', 'batchoesq', 'bated', 'bath', 'bathe', 'bathed', 'bathing', 'bathroom', 'bathrooms', 'baths', 'bathtub', 'batman', 'baton', 'bats', 'batter', 'battered', 'batteries', 'batters', 'battery', 'batting', 'battle', 'battlefield', 'battlestar', 'batty', 'baubles', 'bavarian', 'baxter', 'baxters', 'bay', 'bayer', 'baytril', 'bazooka', 'bb', 'bbb', 'bbq', 'bbqs', 'bc', 'bcause', 'bcn', 'bd', 'bday', 'beaba', 'beacause', 'beach', 'beachbody', 'beaches', 'beachfront', 'beachy', 'bead', 'beads', 'beagle', 'beagles', 'beak', 'beaker', 'beaks', 'beam', 'beams', 'bean', 'beancoffee', 'beaners', 'beanery', 'beans', 'beansto', 'bear', 'bearable', 'beard', 'bearded', 'beardie', 'beardies', 'bearing', 'bearnaise', 'bears', 'beast', 'beasts', 'beat', 'beaten', 'beatenthanks', 'beaters', 'beatfirst', 'beating', 'beats', 'beau', 'beauceron', 'beaumont', 'beause', 'beauties', 'beautiful', 'beautifully', 'beauty', 'beaver', 'beaware', 'bebere', 'became', 'becareful', 'becasue', 'becaue', 'becausee', 'becausehe', 'becausei', 'becauseotherwise', 'beceause', 'become', 'becomeing', 'becomes', 'becoming', 'becomming', 'becooled', 'becuase', 'bed', 'bedding', 'bedford', 'bedpost', 'bedroom', 'beds', 'bedtime', 'bee', 'beech', 'beef', 'beefers', 'beefier', 'beefsticks', 'beefy', 'beekeeper', 'beekeepers', 'beeline', 'beer', 'beers', 'bees', 'beeswax', 'beet', 'beetle', 'beetles', 'beets', 'befor', 'beforeand', 'beforeit', 'beg', 'began', 'beggars', 'begging', 'begin', 'beginner', 'beginners', 'beginning', 'beginnings', 'begins', 'begrudgingly', 'begrugingly', 'begs', 'begun', 'behalf', 'behave', 'behaved', 'behavior', 'behaviour', 'beheaded', 'behealthynfit', 'behest', 'behind', 'behing', 'behold', 'behren', 'behringer', 'beige', 'bein', 'beings', 'beingthicker', 'bela', 'belching', 'beleive', 'belgians', 'belief', 'believe', 'believed', 'believer', 'believers', 'believes', 'believewhat', 'believing', 'belive', 'bell', 'bella', 'bellagio', 'belle', 'bellevue', 'belli', 'bellied', 'bellies', 'bellini', 'bellplantation', 'bells', 'belly', 'bellyache', 'belong', 'belongs', 'beloved', 'beltsville', 'beluga', 'belugas', 'belying', 'bemy', 'ben', 'benadryl', 'bench', 'bend', 'bendable', 'bending', 'bendo', 'bends', 'beneath', 'benefactor', 'beneficios', 'benefit', 'benefited', 'benefiting', 'benefits', 'benefitted', 'benefitting', 'benefts', 'beneful', 'benevolent', 'benfits', 'bengal', 'bengali', 'bengals', 'benificial', 'benifits', 'beniful', 'benign', 'benjamin', 'benji', 'bennies', 'bens', 'benson', 'bensuf', 'bent', 'bentley', 'bentleys', 'benz', 'benzenehorrible', 'benzoate', 'bepieces', 'berber', 'berbere', 'berbers', 'bergamont', 'berger', 'bergin', 'bergomot', 'berkeley', 'bermudiandark', 'bernaise', 'bernards', 'bernese', 'bernie', 'berries', 'berry', 'berrys', 'berto', 'bertolli', 'bertucci', 'beseech', 'beside', 'besides', 'best', 'bestand', 'bestrafael', 'bestseller', 'bestselling', 'beta', 'betcha', 'beteer', 'beter', 'bethlehem', 'betsy', 'betta', 'bette', 'better', 'betterby', 'bettereating', 'bettermade', 'betterprice', 'betters', 'bettertasting', 'bettie', 'betting', 'bettter', 'betty', 'bettycrocker', 'betweenhighly', 'betwen', 'beverage', 'beverages', 'beveredge', 'beverly', 'bevmo', 'beware', 'bewildered', 'beyond', 'bf', 'bfast', 'bff', 'bg', 'bha', 'bhaji', 'bhajis', 'bhopubvf', 'bht', 'bhut', 'bi', 'bialetti', 'bianca', 'bianco', 'bias', 'biased', 'bibb', 'bible', 'bic', 'bicarbonate', 'bicarbonatepotassium', 'bice', 'bichon', 'bichons', 'bicon', 'bicycle', 'bid', 'bifidobacgterium', 'bifidobacterium', 'bifidus', 'big', 'bigalow', 'bigelow', 'biggby', 'bigger', 'biggest', 'biggie', 'biggy', 'bigshots', 'bigtime', 'bih', 'bihon', 'bike', 'biker', 'bikers', 'biking', 'bikini', 'bikram', 'bil', 'bilberry', 'bile', 'bill', 'billed', 'billing', 'billion', 'billions', 'bills', 'billy', 'billywould', 'biloxi', 'bin', 'bind', 'binder', 'binds', 'bing', 'binge', 'binging', 'bingo', 'binkie', 'bio', 'biochemical', 'biodegradable', 'biodegrade', 'biodiesel', 'biological', 'biology', 'bionaturae', 'bioplastic', 'biopsy', 'bioset', 'biotic', 'biotin', 'birch', 'bird', 'birds', 'birdy', 'birmingham', 'birth', 'birthday', 'birthdays', 'biryani', 'bischon', 'biscoff', 'biscotti', 'biscottis', 'biscuit', 'biscuite', 'biscuits', 'biscuts', 'bishon', 'bishop', 'bismol', 'bison', 'bisphenol', 'bisquick', 'bisquik', 'bisquit', 'bisquits', 'bistro', 'bisuifite', 'bisulfate', 'bisulfite', 'bit', 'bitayavon', 'bite', 'bitey', 'biting', 'bits', 'bitso', 'bitten', 'bitter', 'bitterer', 'bitterly', 'bitternesscons', 'bitters', 'bittersweet', 'bitterthan', 'bittman', 'bittter', 'bitty', 'bitz', 'bizarre', 'bizarrely', 'bizzare', 'bj', 'bjs', 'bkfst', 'black', 'blackberries', 'blackberry', 'blackbird', 'blackcurrant', 'blackened', 'blackening', 'blacker', 'blackie', 'blackish', 'blackness', 'blackstrap', 'bladder', 'blade', 'bladed', 'blades', 'blair', 'blairs', 'blame', 'blamed', 'blaming', 'blanch', 'blanching', 'bland', 'blander', 'blandest', 'blandness', 'blank', 'blankenshipthe', 'blanket', 'blanketed', 'blankets', 'blanks', 'blast', 'blasts', 'blazin', 'bleached', 'bleaching', 'bleachy', 'blech', 'blechhh', 'blecht', 'bleed', 'blegh', 'bleh', 'blehhh', 'blehk', 'blend', 'blended', 'blender', 'blenders', 'blending', 'blends', 'blendsaltpotassium', 'blendtec', 'blenheims', 'bless', 'blessed', 'blesses', 'blessing', 'bletch', 'bleu', 'blew', 'blind', 'blindfolded', 'bling', 'blink', 'blinking', 'bliser', 'bliss', 'blister', 'blistered', 'blistering', 'blitz', 'bloat', 'bloated', 'bloating', 'bloats', 'bloaty', 'blob', 'blobs', 'block', 'blockage', 'blockages', 'blocked', 'blocker', 'blocking', 'blocks', 'blog', 'blogger', 'blogs', 'blonde', 'blondies', 'bloodshed', 'bloodstream', 'bloody', 'bloom', 'bloomed', 'blooming', 'blossom', 'blossoms', 'blossomvalleyfoods', 'blot', 'blotted', 'blotting', 'blower', 'blowing', 'blown', 'blowout', 'blows', 'blt', 'bluberries', 'blucaffe', 'blue', 'bluebell', 'blueberries', 'blueberriesregardless', 'bluebird', 'bluebirds', 'bluegrass', 'blueish', 'blueprint', 'blues', 'bluish', 'blum', 'blunt', 'blunts', 'blurb', 'blush', 'blushes', 'blustery', 'blvd', 'bms', 'bn', 'bnecause', 'bo', 'boar', 'boarder', 'boarding', 'boards', 'boardwalk', 'boast', 'boasting', 'boat', 'boating', 'boatload', 'boats', 'bob', 'bobas', 'bobbie', 'bobble', 'bobby', 'bobs', 'boca', 'bod', 'bodega', 'bodies', 'bodum', 'bodums', 'body', 'bodybuilder', 'bodybuilding', 'bodyfat', 'bodyoesv', 'bodyscrub', 'bog', 'bogawantalawa', 'boggle', 'boggling', 'bogs', 'bogus', 'bohemian', 'boil', 'boilded', 'boiled', 'boiler', 'boilerplate', 'boiling', 'boils', 'boing', 'bois', 'bok', 'bold', 'bolder', 'boldly', 'bolds', 'boles', 'boletus', 'bolognese', 'bolognesi', 'bolster', 'bolts', 'bom', 'bomb', 'bombed', 'bombilla', 'bombing', 'bombproof', 'bombs', 'bon', 'bonafide', 'bonbons', 'bond', 'bonded', 'bonding', 'bone', 'boned', 'boneless', 'bones', 'bonheur', 'bonito', 'bonkers', 'bonn', 'bonne', 'bonnet', 'bonomo', 'bonsai', 'bonsais', 'bontemps', 'bonus', 'bonuses', 'bonz', 'bonzai', 'boo', 'booda', 'boodas', 'booger', 'bookbag', 'bookbinding', 'bookit', 'booklet', 'bookmarks', 'books', 'bookstore', 'boom', 'boomer', 'boomerang', 'boon', 'boondocks', 'boone', 'boost', 'boosted', 'booster', 'boosters', 'boostfor', 'boosting', 'boot', 'booth', 'boots', 'booty', 'boought', 'booze', 'bops', 'bora', 'borden', 'border', 'borderline', 'borders', 'bore', 'boredom', 'boreing', 'boring', 'boringness', 'borleans', 'borlotti', 'born', 'boron', 'borrachos', 'borrow', 'borrowed', 'borrowing', 'bosch', 'boscoli', 'boss', 'bossy', 'boston', 'bostons', 'botanical', 'botanically', 'botanicals', 'botch', 'bother', 'bothered', 'bothering', 'botter', 'bottle', 'bottled', 'bottlei', 'bottler', 'bottles', 'bottleseems', 'bottleworks', 'bottling', 'bottom', 'bottome', 'bottomed', 'bottoms', 'botulism', 'bought', 'boughton', 'bouht', 'bouillion', 'bouillon', 'bouillons', 'bouilon', 'boulder', 'boullion', 'bounce', 'bounced', 'bounces', 'bouncier', 'bouncing', 'bouncy', 'bound', 'bounds', 'bounty', 'bouqet', 'bouquet', 'bourbon', 'bourbonobsk', 'bourbonoesf', 'bourbons', 'bourgeois', 'boursin', 'bout', 'boutique', 'boutiques', 'bouvier', 'bovine', 'bow', 'bowel', 'bowels', 'bowl', 'bowled', 'bowlful', 'bowlleft', 'bowls', 'bowlsful', 'bowser', 'bowsers', 'box', 'boxed', 'boxer', 'boxers', 'boxes', 'boxful', 'boxies', 'boxing', 'boxto', 'boy', 'boyardee', 'boyce', 'boycott', 'boycotting', 'boyer', 'boyfriend', 'boylan', 'boyland', 'boylans', 'boys', 'bp', 'bpa', 'bq', 'brace', 'bracelet', 'bracelets', 'braces', 'brach', 'bracing', 'bracingly', 'brag', 'bragg', 'bragging', 'braggs', 'braid', 'braiding', 'braids', 'brain', 'brained', 'brainer', 'brains', 'brainwave', 'brake', 'bran', 'branc', 'branch', 'branched', 'brand', 'branded', 'brandhere', 'brandi', 'branding', 'brands', 'brandsfor', 'brandssome', 'brandswith', 'brandy', 'branston', 'brass', 'brat', 'brats', 'braun', 'braveheart', 'bravely', 'bravo', 'braziers', 'brazil', 'brazilian', 'brazils', 'bread', 'breadboard', 'breadcrumb', 'breadcrumbs', 'breading', 'breadmachine', 'breadmaker', 'breadman', 'breads', 'breadsticks', 'breafast', 'break', 'breakable', 'breakage', 'breakast', 'breakdown', 'breaker', 'breakfasr', 'breakfast', 'breakfasts', 'breakfasttype', 'breaking', 'breakout', 'breakouts', 'breakroom', 'breakup', 'breaskfast', 'breast', 'breastfeeding', 'breastmilk', 'breath', 'breathe', 'breathed', 'breathies', 'breathing', 'breaths', 'breathtakingly', 'breed', 'breeder', 'breeding', 'breeds', 'breeze', 'breezed', 'brek', 'brenda', 'brendan', 'brethren', 'brett', 'breville', 'brew', 'brewe', 'brewed', 'brewer', 'brewers', 'brewing', 'brewingadd', 'brews', 'brey', 'brian', 'bribed', 'bribery', 'bribing', 'brick', 'bricks', 'bridal', 'bridge', 'bridle', 'brie', 'brief', 'briefcase', 'briefest', 'briens', 'bries', 'bright', 'brighten', 'brightened', 'brighter', 'brightest', 'brightly', 'brightness', 'brigitte', 'brilliant', 'brilliantly', 'brillo', 'brim', 'brimming', 'brine', 'brined', 'bring', 'bringback', 'bringing', 'brings', 'bringthem', 'brink', 'brio', 'briquettes', 'brisk', 'brisket', 'briskness', 'bristle', 'bristles', 'bristol', 'brit', 'brita', 'britain', 'british', 'britons', 'brits', 'britt', 'brittany', 'brittle', 'brm', 'broad', 'broadcasting', 'broadcasts', 'broaden', 'broader', 'broadway', 'broc', 'broccli', 'broccoli', 'brochure', 'brocolli', 'broght', 'broil', 'broiled', 'broiler', 'broiling', 'broke', 'broken', 'bronchitis', 'bronze', 'brood', 'brooke', 'brooklyn', 'brookside', 'bros', 'brot', 'broth', 'brother', 'brothers', 'broths', 'brothy', 'brow', 'browies', 'brown', 'browncinnamon', 'browned', 'browner', 'brownie', 'brownies', 'browning', 'brownish', 'browns', 'brownsyrup', 'browsed', 'browser', 'browsers', 'browsing', 'brreder', 'bru', 'bruce', 'bruise', 'bruised', 'brulee', 'brumasgiftshop', 'brunch', 'brunswick', 'brunt', 'bruscetta', 'bruschetta', 'brush', 'brushed', 'brushes', 'brushing', 'brushings', 'brushtail', 'brussel', 'brussels', 'brutal', 'brutally', 'brute', 'bryce', 'bs', 'bsg', 'bsm', 'bt', 'btaste', 'bth', 'btt', 'btw', 'bubba', 'bubblemint', 'bubblemintslike', 'bubbles', 'bubblewrap', 'bubbling', 'bubbly', 'buble', 'bucatini', 'bucco', 'buck', 'bucket', 'buckets', 'bucking', 'buckle', 'bucks', 'buckwheat', 'bucky', 'bucolic', 'budda', 'buddhists', 'buddie', 'buddies', 'budding', 'buddy', 'budge', 'budget', 'budino', 'buds', 'budy', 'buen', 'buena', 'bueno', 'buenos', 'buffalo', 'buffered', 'buffet', 'buffets', 'buffett', 'bug', 'bugaboo', 'bugers', 'bugged', 'bugger', 'buggers', 'bugging', 'buggy', 'bugisu', 'bugle', 'bugs', 'bugsy', 'buh', 'build', 'builder', 'builders', 'building', 'buildup', 'built', 'bukhara', 'bulb', 'bulby', 'bulges', 'bulimic', 'bulk', 'bulkiness', 'bulks', 'bulky', 'bulkyness', 'bull', 'bulldogs', 'bullet', 'bulletproof', 'bullion', 'bulls', 'bullseye', 'bully', 'bumble', 'bumblebee', 'bumblebees', 'bummed', 'bummer', 'bump', 'bumped', 'bumpers', 'bumps', 'bunch', 'bunched', 'bunches', 'bundle', 'bundled', 'bundling', 'bundt', 'bungee', 'bunk', 'bunker', 'bunn', 'bunnies', 'bunny', 'buns', 'buon', 'burden', 'burdensome', 'burdock', 'burger', 'buried', 'burittos', 'burlington', 'burmese', 'burn', 'burned', 'burner', 'burning', 'burns', 'burnt', 'burp', 'burps', 'burr', 'burrito', 'burritos', 'burrough', 'burroughs', 'burrow', 'burst', 'bursts', 'burtbruma', 'bury', 'burying', 'bus', 'buses', 'bush', 'bushel', 'bushy', 'busily', 'business', 'businesses', 'busniess', 'busque', 'bussted', 'bust', 'busted', 'bustelo', 'buster', 'busters', 'busting', 'busts', 'butas', 'butch', 'butcher', 'butchering', 'buter', 'butmerry', 'butnow', 'butt', 'butter', 'buttercream', 'buttered', 'butterfat', 'butterfingers', 'butterfly', 'buttermilk', 'butternut', 'butters', 'butterscotch', 'buttersworth', 'butterworth', 'buttery', 'buttexture', 'butthe', 'buttie', 'buttocks', 'button', 'buttons', 'buttter', 'butwhen', 'buuuuuuuuuuuuuuuuy', 'buy', 'buyany', 'buyer', 'buyers', 'buying', 'buyingthem', 'buyit', 'buzz', 'buzzed', 'buzzing', 'buzzy', 'bw', 'bye', 'bypassed', 'byplacing', 'byproduct', 'byproducts', 'byzantine', 'bzz', 'bzzagent', 'ca', 'cab', 'cabanon', 'cabbage', 'cabernet', 'cabinet', 'cabinets', 'cable', 'cables', 'cabnet', 'cabo', 'cacao', 'cache', 'cactus', 'cadavers', 'cadbury', 'cadet', 'cadets', 'cadged', 'caducity', 'caesar', 'caesers', 'caf', 'cafe', 'cafecito', 'cafeine', 'cafes', 'cafeteria', 'caffaine', 'caffe', 'caffeic', 'caffein', 'caffeinated', 'caffeination', 'caffeine', 'caffellatte', 'caffenated', 'caffene', 'caffettiere', 'caffienated', 'caffiene', 'caffinated', 'caffine', 'cafine', 'caged', 'cairn', 'cajum', 'cake', 'cakes', 'cakester', 'cakesters', 'cakey', 'caking', 'cal', 'calais', 'calaorie', 'calcium', 'calculate', 'calculated', 'calculating', 'calculation', 'calculations', 'calcutta', 'caleb', 'caledonian', 'calendar', 'calf', 'calgary', 'calgon', 'cali', 'caliber', 'calibut', 'calico', 'calicos', 'calif', 'california', 'californiaand', 'californian', 'californiaserving', 'calimari', 'call', 'callard', 'callebaut', 'called', 'callendar', 'callie', 'calling', 'callled', 'callories', 'calls', 'calm', 'calmed', 'calmer', 'calming', 'calmly', 'calmness', 'calms', 'calores', 'calorically', 'calorie', 'caloriecount', 'calories', 'caloriesand', 'caloriesbottom', 'caloriesdeceptive', 'caloriesi', 'caloriesit', 'cals', 'calvary', 'calves', 'calypso', 'calzone', 'calzones', 'cam', 'cambodia', 'cambria', 'cambric', 'came', 'camelbak', 'camelbaks', 'camellia', 'camera', 'camomile', 'camomille', 'camp', 'campaign', 'campaigns', 'campbell', 'campbells', 'campell', 'camper', 'campers', 'campfires', 'campground', 'camping', 'campofilone', 'camps', 'campus', 'camu', 'canaan', 'canada', 'canadian', 'canadians', 'canal', 'canard', 'canarios', 'canavanine', 'canc', 'cancel', 'canceling', 'cancellation', 'cancelled', 'cancels', 'cancer', 'cancerous', 'cancers', 'cancun', 'cand', 'candiae', 'candida', 'candidate', 'candidates', 'candie', 'candies', 'candiesare', 'candle', 'candles', 'candy', 'candybar', 'candybars', 'candyland', 'cane', 'caned', 'canes', 'canfreeze', 'canidae', 'canidea', 'canin', 'canine', 'canines', 'caning', 'canister', 'canisters', 'cankeep', 'canmore', 'canndies', 'canned', 'cannedfood', 'canneloni', 'canneries', 'cannery', 'cannibalism', 'cannibals', 'canning', 'cannister', 'cannisters', 'cannot', 'canola', 'canoloa', 'cant', 'cantaloupe', 'canteloupe', 'cantuccini', 'canwrite', 'cany', 'canyon', 'cap', 'capabilities', 'capable', 'capacity', 'cape', 'capelin', 'capers', 'capful', 'capital', 'capitalism', 'capitalized', 'capitalizing', 'capitals', 'caponata', 'capp', 'cappaccino', 'capped', 'capping', 'cappucccino', 'cappuccino', 'cappuccinos', 'cappuccione', 'cappuccuino', 'cappuchinno', 'cappuchino', 'cappuchinos', 'cappucinos', 'caprese', 'capresso', 'capri', 'capriccio', 'caprisun', 'caps', 'capsaicin', 'capsels', 'capsicum', 'capsule', 'capsules', 'capt', 'captain', 'captains', 'caption', 'captivating', 'capture', 'captured', 'captures', 'capturing', 'capuccino', 'car', 'carabu', 'carafe', 'caramel', 'caramelize', 'caramelizes', 'caramello', 'caramelly', 'caramelos', 'caramels', 'caramely', 'caravan', 'caraway', 'carb', 'carba', 'carbalose', 'carber', 'carbers', 'carbing', 'carbo', 'carboard', 'carbohydrate', 'carbohydrates', 'carbon', 'carbonara', 'carbonate', 'carbonated', 'carbonatedcons', 'carbonating', 'carbonation', 'carbos', 'carbou', 'carboy', 'carboys', 'carbquick', 'carbquik', 'carbs', 'carbsconsdoes', 'carby', 'carcass', 'carcenogens', 'carcinogen', 'carcinogenic', 'card', 'cardamom', 'cardboard', 'cardemom', 'cardenas', 'cardiac', 'cardigan', 'cardimom', 'cardio', 'cardiod', 'cardioelectrophysicist', 'cardiologist', 'cardiomyopathy', 'cardiovascular', 'cards', 'care', 'carebquik', 'cared', 'career', 'carefree', 'careful', 'carefull', 'carefully', 'careless', 'carelessly', 'carelessness', 'caress', 'caribbean', 'caribbee', 'caribou', 'caribu', 'caring', 'cariogenic', 'carl', 'carlson', 'carlton', 'carmarlize', 'carmel', 'carmine', 'carnage', 'carnaroli', 'carnation', 'carnations', 'carne', 'carnecerias', 'carnegie', 'carnitas', 'carnitine', 'carnivore', 'carnivores', 'carnivorous', 'carnuba', 'carob', 'carolina', 'carolla', 'carotene', 'carousel', 'carousels', 'carpet', 'carpeted', 'carpets', 'carpetted', 'carr', 'carrabba', 'carrageenan', 'carrboro', 'carriage', 'carribbian', 'carribean', 'carried', 'carrier', 'carries', 'carring', 'carrot', 'carrots', 'carry', 'carrying', 'carryon', 'carrys', 'cars', 'carseat', 'cart', 'carte', 'cartilage', 'carton', 'cartons', 'cartoon', 'cartridge', 'cartridges', 'carts', 'carve', 'casa', 'cascade', 'case', 'caseful', 'casei', 'casein', 'caseinate', 'casenow', 'caserole', 'cases', 'cash', 'cashed', 'cashew', 'cashews', 'cashewversions', 'cashiers', 'casien', 'casing', 'casings', 'casino', 'cask', 'cassaroles', 'cassava', 'casserole', 'cassia', 'cassify', 'cassoulet', 'cast', 'castile', 'castlevetrano', 'castor', 'casually', 'catagory', 'catalan', 'catalina', 'catalog', 'catalogs', 'cataracts', 'cataria', 'catarized', 'catastrophic', 'catch', 'catches', 'catching', 'catchup', 'catchy', 'cate', 'catechins', 'categories', 'category', 'cater', 'catered', 'catering', 'catfish', 'catfood', 'catfoods', 'catheter', 'catholic', 'cathy', 'catit', 'catnip', 'catnipmist', 'cats', 'catsip', 'catss', 'catsup', 'catswell', 'catties', 'cattle', 'cattledog', 'cattledogs', 'caught', 'cauliflower', 'causan', 'cause', 'caused', 'causepink', 'causes', 'causing', 'causious', 'caution', 'cautionary', 'cautioned', 'cautioning', 'cautions', 'cautious', 'cautiously', 'cavachon', 'cavalier', 'cave', 'caveat', 'caveats', 'caved', 'cavendar', 'cavender', 'caves', 'caviar', 'caviars', 'cavier', 'caving', 'cavities', 'cavity', 'cavlier', 'cay', 'cayce', 'caykur', 'cbd', 'cbtl', 'ccame', 'cd', 'cds', 'ceasar', 'cease', 'ceased', 'cecco', 'ceciliajust', 'cedar', 'cee', 'ceiling', 'cel', 'celbes', 'celcius', 'celebrate', 'celebrated', 'celebrates', 'celebrating', 'celebration', 'celebrity', 'celephane', 'celery', 'celestial', 'celiacs', 'cell', 'cellar', 'cellars', 'cello', 'cellophane', 'cells', 'cellulose', 'celsius', 'celtic', 'cement', 'cemented', 'censor', 'censors', 'cent', 'centainly', 'centennial', 'center', 'centered', 'centerpiece', 'centerpieces', 'centers', 'centesimo', 'centimeters', 'cento', 'central', 'centralize', 'centre', 'centric', 'centrifuging', 'cents', 'centuries', 'century', 'ceo', 'ceral', 'ceramic', 'cereal', 'cereals', 'cerebral', 'ceremonial', 'ceremony', 'cerial', 'cerntainly', 'certain', 'certainly', 'certainlyexpected', 'certainty', 'certificate', 'certificates', 'certification', 'certifications', 'certified', 'certify', 'certs', 'cesar', 'cesky', 'cet', 'cetain', 'ceylon', 'cf', 'cfh', 'cfl', 'cfound', 'cfr', 'cfu', 'cha', 'chaat', 'chadwell', 'chae', 'chaff', 'chage', 'chagrin', 'chain', 'chains', 'chair', 'chairing', 'chairman', 'chais', 'chakra', 'chakras', 'chalcy', 'chalean', 'chalet', 'chalk', 'chalkiness', 'chalky', 'challenge', 'challenged', 'challenges', 'challenging', 'chalula', 'chamber', 'chambers', 'chamoile', 'champ', 'champagne', 'champange', 'champignon', 'champions', 'championship', 'champlain', 'champurrado', 'chana', 'chance', 'chande', 'chanel', 'change', 'changed', 'changeno', 'changer', 'changes', 'changing', 'changs', 'channel', 'channels', 'chantaboon', 'chaokoh', 'chap', 'chaplain', 'chappie', 'chapstick', 'chapter', 'char', 'character', 'characteristic', 'characteristics', 'characterizes', 'characters', 'charcoal', 'chardonnay', 'chardonnays', 'chared', 'charge', 'charged', 'charger', 'charges', 'charing', 'charitable', 'charities', 'charity', 'charlee', 'charles', 'charleston', 'charlie', 'charm', 'charming', 'charms', 'charred', 'chart', 'charter', 'charts', 'chary', 'chase', 'chased', 'chaser', 'chases', 'chasing', 'chat', 'chatanooga', 'chatchi', 'chattaooga', 'chay', 'chcoholic', 'chcolate', 'chd', 'che', 'cheap', 'cheapand', 'cheapened', 'cheapening', 'cheaper', 'cheapie', 'cheaply', 'cheapo', 'cheapskakes', 'cheapskate', 'cheat', 'cheated', 'cheater', 'cheating', 'cheatingthe', 'chebe', 'chech', 'check', 'checked', 'checken', 'checking', 'checkout', 'checks', 'checkup', 'checkups', 'cheddar', 'cheddary', 'cheddery', 'cheeesecake', 'cheeks', 'cheeper', 'cheer', 'cheerful', 'cheerfully', 'cheering', 'cheerio', 'cheeriors', 'cheerios', 'cheers', 'cheery', 'chees', 'cheese', 'cheeseburger', 'cheesecake', 'cheesecakeand', 'cheesecakes', 'cheesecloth', 'cheeselovers', 'cheeseno', 'cheeses', 'cheesey', 'cheesing', 'cheesy', 'cheesywith', 'cheetah', 'cheetahs', 'cheetos', 'cheez', 'cheeze', 'cheezie', 'cheezies', 'cheezit', 'chef', 'chefs', 'chelsea', 'chemex', 'chemical', 'chemicaled', 'chemicals', 'chemist', 'chemistry', 'chemo', 'chemotherapy', 'cherimoyas', 'cherise', 'cherish', 'cherished', 'cherishes', 'cherishing', 'chernobyl', 'cherries', 'cherrio', 'cherrios', 'cherrybrook', 'cherryneedless', 'cherrypink', 'chesapeake', 'chessbars', 'chesse', 'chessiest', 'chessy', 'chest', 'chested', 'chester', 'chestnut', 'chestnuts', 'chevron', 'chevy', 'chew', 'chewability', 'chewable', 'chewables', 'chewage', 'chewed', 'chewer', 'chewers', 'chewes', 'chewey', 'chewie', 'chewier', 'chewies', 'chewiness', 'chewing', 'chews', 'chewy', 'chewyness', 'chex', 'chez', 'chf', 'chi', 'chia', 'chianti', 'chiauau', 'chiavetta', 'chic', 'chicago', 'chicaronnes', 'chicekn', 'chicharrones', 'chick', 'chickadees', 'chickens', 'chickes', 'chicklet', 'chicklets', 'chickory', 'chickpea', 'chickpeas', 'chicks', 'chiclets', 'chicory', 'chiffon', 'chih', 'chihauhua', 'chihuaha', 'chihuahua', 'chihuahuas', 'child', 'childhood', 'childhoood', 'childproof', 'children', 'childrens', 'childs', 'chile', 'chilean', 'chileheads', 'chiles', 'chili', 'chilies', 'chilihead', 'chilis', 'chill', 'chille', 'chilli', 'chilling', 'chillis', 'chills', 'chilly', 'chily', 'chimbote', 'chime', 'chimes', 'chimichurri', 'chin', 'china', 'chinatown', 'chinchilla', 'chinchillas', 'chincoteague', 'chinese', 'chinsy', 'chintzy', 'chiou', 'chip', 'chipmunk', 'chipmunks', 'chipolte', 'chipotle', 'chipotles', 'chipped', 'chippedice', 'chipping', 'chips', 'chipsoctober', 'chiptole', 'chirardelli', 'chirps', 'chirstmas', 'chive', 'chives', 'chivetta', 'chiweenie', 'chloe', 'chlorhexidine', 'chloride', 'chlorinated', 'chlorine', 'chlorophyll', 'chlothianidin', 'chna', 'choc', 'chocaltes', 'chocaluah', 'chocelate', 'chock', 'chockablock', 'chocked', 'chocking', 'choclate', 'choclatey', 'chocloate', 'choco', 'chocoalte', 'chocoate', 'chococino', 'chocohalic', 'chocoholic', 'chocoholics', 'chocolat', 'chocolate', 'chocolatecovering', 'chocolated', 'chocolateif', 'chocolatela', 'chocolatelake', 'chocolately', 'chocolatemint', 'chocolates', 'chocolatesomewhat', 'chocolatetop', 'chocolatevosges', 'chocolatewhile', 'chocolatie', 'chocolatiers', 'chocolatiness', 'chocolatlove', 'chocolaty', 'chocoloate', 'chocolote', 'chocolove', 'chocoperfection', 'chocula', 'choice', 'choices', 'choicy', 'choir', 'choise', 'choke', 'choked', 'chokes', 'choking', 'cholate', 'cholesteral', 'cholesterol', 'cholesterols', 'cholestral', 'cholestrol', 'choline', 'chomp', 'chomped', 'chomping', 'chomps', 'chondriotin', 'chondro', 'chondroitin', 'chondroiton', 'chondrotin', 'chong', 'choo', 'choose', 'chooses', 'choosing', 'choosy', 'chop', 'choplets', 'chopped', 'chopping', 'chops', 'chore', 'chores', 'chorus', 'chose', 'chosen', 'chosing', 'chouquette', 'chow', 'chowder', 'chowders', 'chowed', 'chows', 'choy', 'chpped', 'chris', 'christ', 'christinejw', 'christmas', 'christmasgift', 'christmasholiday', 'christmass', 'christmastime', 'chrome', 'chromium', 'chron', 'chronicles', 'chrysanthemum', 'chrysler', 'chrystal', 'chub', 'chubbers', 'chubbiness', 'chubby', 'chubs', 'chuck', 'chuckle', 'chuckles', 'chug', 'chugging', 'chum', 'chun', 'chuncks', 'chung', 'chunk', 'chunkage', 'chunked', 'chunks', 'chunky', 'chuno', 'chupa', 'chups', 'church', 'churchill', 'churned', 'churning', 'chutneys', 'ci', 'cicegi', 'cichoric', 'cider', 'ciders', 'cierre', 'cifra', 'cifre', 'cigarette', 'cigarettes', 'cigars', 'cigs', 'ciles', 'cinammon', 'cinamonny', 'cinch', 'cincinnati', 'cinco', 'cindy', 'cinn', 'cinnamin', 'cinnammon', 'cinnamom', 'cinnamon', 'cinnamonblend', 'cinnamonbrown', 'cinnamony', 'cinnimon', 'ciprofloxacin', 'circle', 'circles', 'circling', 'circuit', 'circuits', 'circular', 'circulation', 'circulatory', 'circumference', 'circumstance', 'circus', 'ciric', 'cirriculum', 'cirtus', 'cis', 'citation', 'cited', 'cities', 'citiz', 'citizen', 'citrate', 'citratecellulose', 'citrateflavoring', 'citric', 'citrict', 'citrimax', 'citron', 'citrus', 'citrusy', 'city', 'citymade', 'cityroast', 'civet', 'civil', 'civilized', 'civit', 'cj', 'ck', 'cl', 'cla', 'claeys', 'claimed', 'claiming', 'claims', 'clam', 'clammy', 'clamored', 'clams', 'clan', 'clancy', 'clang', 'claret', 'clarification', 'clarified', 'clarify', 'clarity', 'clark', 'claro', 'clas', 'clash', 'clashes', 'clashing', 'clasico', 'class', 'classic', 'classical', 'classically', 'classicly', 'classics', 'classified', 'classify', 'classique', 'classmates', 'classroom', 'classy', 'claw', 'clawdette', 'clawed', 'clawing', 'claws', 'claxton', 'clay', 'clean', 'cleaned', 'cleaner', 'cleaners', 'cleanest', 'cleanings', 'cleanliness', 'cleanly', 'cleanses', 'cleansing', 'cleanup', 'clear', 'clearance', 'clearancing', 'cleared', 'clearer', 'clearest', 'clearingly', 'clearly', 'clearning', 'clears', 'cleavage', 'cleaver', 'cleen', 'cleft', 'clementine', 'clenching', 'clened', 'clerk', 'cleveland', 'clever', 'cleverly', 'cliche', 'cliches', 'click', 'clicked', 'clicker', 'clicking', 'clicks', 'client', 'clif', 'cliff', 'cliffhanger', 'climactic', 'climate', 'climb', 'climbing', 'climbs', 'cling', 'clinging', 'clings', 'clinic', 'clinical', 'clinically', 'clip', 'clipping', 'clippings', 'clips', 'clobber', 'clobbered', 'clock', 'clocks', 'clog', 'cloged', 'clogging', 'clogs', 'clomicalm', 'clomps', 'clone', 'clorox', 'close', 'closed', 'closely', 'closeness', 'closeout', 'closer', 'closes', 'closest', 'closestto', 'closet', 'closley', 'closure', 'cloth', 'clothes', 'clothianidin', 'clothing', 'cloths', 'clots', 'cloud', 'cloudberries', 'cloudberry', 'cloudiness', 'cloudy', 'clove', 'clover', 'cloves', 'clovesgood', 'clowns', 'cloy', 'cloying', 'cloyingly', 'club', 'clubs', 'clue', 'clueless', 'cluizel', 'clump', 'clumped', 'clumping', 'clumps', 'clumpy', 'clumsy', 'clunky', 'clusters', 'clutter', 'cluttered', 'cluttering', 'cm', 'cmpany', 'cna', 'co', 'coach', 'coachable', 'coaches', 'coagulated', 'coarsely', 'coarseness', 'coarser', 'coastarican', 'coaster', 'coasters', 'coastline', 'coat', 'coated', 'coating', 'coats', 'coatsmore', 'coax', 'coaxing', 'cobbler', 'cobblestone', 'coc', 'coca', 'cocaine', 'cocapoo', 'coccooned', 'cocina', 'cock', 'cockapoo', 'cocker', 'cockers', 'cockpoos', 'cockroaches', 'cocktail', 'cocktails', 'cocktals', 'coco', 'cocoa', 'cocoacontains', 'cocoanut', 'cocoas', 'cocoasarabeth', 'cococnut', 'cocolate', 'cocont', 'coconunt', 'coconut', 'coconutmilk', 'coconuts', 'coconutseason', 'coconutty', 'cocoquik', 'cocosrawchocolates', 'cocounut', 'cocunt', 'cocunut', 'cod', 'coded', 'codes', 'codfish', 'coding', 'cody', 'coerced', 'cofee', 'coffee', 'coffeeaholic', 'coffeeexcellent', 'coffeeforless', 'coffeehouses', 'coffeemaker', 'coffeemate', 'coffeemates', 'coffeepot', 'coffees', 'coffeeshop', 'coffeeshops', 'coffeesout', 'coffeewithout', 'coffeine', 'coffer', 'coffes', 'coffeshop', 'coffess', 'cognac', 'cognitive', 'cognizant', 'cognoscenti', 'cohen', 'cohesive', 'coho', 'coil', 'coils', 'coin', 'coincidence', 'coincidental', 'coincidentally', 'coincides', 'coined', 'coins', 'coke', 'cokie', 'cola', 'colada', 'coladas', 'colander', 'colas', 'colavita', 'colby', 'cold', 'coldaid', 'coldest', 'coldpress', 'colds', 'cole', 'coleman', 'coleslaw', 'colgilly', 'coli', 'colic', 'colicky', 'colindar', 'collaborative', 'collapse', 'collapsed', 'collar', 'collard', 'collards', 'colleague', 'colleagues', 'collect', 'collected', 'collecting', 'collection', 'collector', 'collectors', 'collegeinn', 'collertors', 'collie', 'collies', 'collins', 'colloidal', 'colmans', 'colombia', 'colombian', 'colombians', 'colombio', 'colon', 'colons', 'colony', 'color', 'colorado', 'colorants', 'coloration', 'colored', 'colorfastness', 'colorful', 'colorfully', 'coloring', 'colorings', 'colorsi', 'colour', 'colourful', 'colours', 'columbia', 'columbian', 'columbus', 'column', 'com', 'coma', 'comanddered', 'comb', 'combat', 'combating', 'combats', 'combatting', 'combimation', 'combination', 'combinations', 'combine', 'combined', 'combines', 'combing', 'combining', 'combos', 'combs', 'come', 'comedy', 'comercial', 'comes', 'comfor', 'comfort', 'comfortable', 'comfortably', 'comforted', 'comforting', 'comfotable', 'comfy', 'comi', 'comical', 'coming', 'comingling', 'comings', 'comino', 'command', 'commander', 'commands', 'commannd', 'commence', 'commenced', 'commend', 'commendable', 'comment', 'commented', 'commenter', 'commenters', 'commenting', 'commentors', 'comments', 'commentsthat', 'commercial', 'commercially', 'commercials', 'commerical', 'comming', 'commision', 'commissary', 'commission', 'commissory', 'commit', 'commited', 'commiting', 'commitment', 'committee', 'committing', 'commodity', 'common', 'commonly', 'commonw', 'commonwealth', 'commotion', 'commuicated', 'communal', 'communicate', 'communication', 'communicaton', 'communion', 'community', 'communitycoffee', 'commute', 'commuting', 'como', 'compact', 'compacted', 'compactness', 'compaired', 'companay', 'companies', 'companion', 'companions', 'companionship', 'company', 'companythis', 'comparability', 'comparably', 'comparative', 'comparatively', 'compare', 'compared', 'compariable', 'comparied', 'comparing', 'comparision', 'comparison', 'comparisons', 'comparson', 'compartment', 'compartments', 'compassion', 'compatibility', 'compatible', 'compelled', 'compelling', 'compensate', 'compensated', 'compensating', 'comperable', 'competative', 'compete', 'competes', 'competetive', 'competing', 'competition', 'competitions', 'competitive', 'competitively', 'competitors', 'competive', 'compilation', 'complacence', 'complacent', 'complained', 'complainers', 'complaining', 'complaint', 'compleates', 'compleats', 'complement', 'complementing', 'complements', 'complete', 'completed', 'completely', 'completelyand', 'completelycons', 'completes', 'completey', 'completing', 'completion', 'completley', 'completly', 'complexions', 'complexities', 'complexity', 'complexly', 'compliance', 'compliant', 'complicate', 'complicated', 'complications', 'compliment', 'complimented', 'comply', 'complying', 'component', 'components', 'composed', 'composite', 'composition', 'compostable', 'compote', 'compotes', 'compound', 'compounding', 'compounds', 'comprable', 'comprehensive', 'compress', 'compressed', 'comprise', 'comprised', 'comprises', 'compromise', 'compromised', 'compromises', 'compromising', 'compulsive', 'compulsively', 'computer', 'computers', 'comsume', 'comsumes', 'comthey', 'con', 'conagra', 'conceal', 'concealed', 'conceals', 'concentrate', 'concentrated', 'concentratedly', 'concentratedwith', 'concentrates', 'concentration', 'concept', 'conception', 'concepts', 'concerened', 'concern', 'concerned', 'concerning', 'concerns', 'concession', 'concessions', 'concetrate', 'concious', 'concise', 'concistency', 'conclude', 'concluded', 'conclusionif', 'concoct', 'concoction', 'concoctions', 'concord', 'concotion', 'concourse', 'concur', 'concurred', 'concurs', 'condensed', 'condenser', 'condensor', 'condiments', 'conditiion', 'condition', 'conditionally', 'conditioned', 'conditioner', 'conditioners', 'conditioning', 'conditions', 'condor', 'condroitan', 'condroitin', 'condroiton', 'condtion', 'conducive', 'conduct', 'conducted', 'conducting', 'conductive', 'cone', 'confectionary', 'confectioner', 'confectioners', 'confections', 'confer', 'conference', 'confess', 'confessed', 'confession', 'confessions', 'confidant', 'confidence', 'confident', 'configuration', 'configurations', 'confirm', 'confirmation', 'confirmed', 'confirming', 'confirms', 'confit', 'conflict', 'conflicting', 'conform', 'conformation', 'confrimation', 'confuse', 'confusing', 'confusingly', 'confusion', 'confustion', 'congeal', 'congealed', 'congenital', 'congested', 'congestion', 'conglomerate', 'congrats', 'congratulated', 'congratulations', 'congress', 'congris', 'coniferous', 'conistancy', 'conisted', 'conjou', 'conjugated', 'conjunction', 'conjure', 'conjured', 'conjures', 'connect', 'connected', 'connecticut', 'connecting', 'connection', 'connective', 'connector', 'connesiur', 'connesseiur', 'connie', 'connisseur', 'connivence', 'connoiseur', 'connoisseur', 'connoisseurs', 'connorpeoria', 'connosieurs', 'conotation', 'conpared', 'conpletely', 'conquer', 'conquered', 'cons', 'conscience', 'conscientious', 'conscious', 'consciousness', 'consecrated', 'consecutive', 'consensus', 'consents', 'consequences', 'consequently', 'consern', 'conservation', 'conservative', 'conserve', 'consider', 'considerable', 'considerably', 'considerate', 'consideration', 'considerations', 'considered', 'considering', 'considers', 'consious', 'consist', 'consistancy', 'consistant', 'consistantly', 'consisted', 'consistence', 'consistencies', 'consistenciesfrom', 'consistency', 'consistencycoombs', 'consistenly', 'consistent', 'consistently', 'consisting', 'consistly', 'consists', 'consitancy', 'consitency', 'consolation', 'console', 'consomme', 'conspicuously', 'conspiracy', 'constabtly', 'constancy', 'constanly', 'constant', 'constellations', 'constipated', 'constipation', 'constituents', 'constrict', 'constricted', 'construct', 'constructed', 'construction', 'consult', 'consultant', 'consulted', 'consumatori', 'consume', 'consumed', 'consumer', 'consumeraffairs', 'consumerreports', 'consumers', 'consumes', 'consuming', 'consummation', 'consumption', 'contact', 'contacting', 'contacts', 'contadina', 'contagious', 'contain', 'container', 'containers', 'containing', 'contains', 'containter', 'contaminant', 'contaminants', 'contaminated', 'contaminates', 'contamination', 'contant', 'contata', 'contend', 'contends', 'content', 'contented', 'contentment', 'contents', 'contesa', 'contessa', 'contest', 'contestable', 'context', 'contexts', 'contians', 'contiguous', 'continental', 'continents', 'contingent', 'continiued', 'continual', 'continually', 'continue', 'continued', 'continues', 'continuing', 'continuous', 'continuously', 'continure', 'continuum', 'contiue', 'contour', 'contract', 'contracted', 'contractions', 'contradict', 'contradicting', 'contradictory', 'contraire', 'contrarian', 'contribute', 'contributed', 'contributes', 'contributing', 'contribution', 'contributions', 'contributive', 'contributor', 'contributors', 'contributory', 'contrivances', 'control', 'controlled', 'controller', 'controlling', 'controls', 'controversy', 'convene', 'convenience', 'convenient', 'convenientand', 'conveniently', 'conveniet', 'conveninet', 'conventiently', 'conventional', 'conventionally', 'conversation', 'conversations', 'conversion', 'conversions', 'converted', 'converter', 'converts', 'convey', 'convience', 'convienence', 'convienent', 'convienient', 'convient', 'convince', 'convinced', 'convincing', 'convinence', 'convinent', 'convinience', 'coofee', 'cook', 'cookbook', 'cookbooks', 'cooke', 'cooked', 'cooker', 'cookers', 'cookie', 'cookies', 'cookieswith', 'cookiie', 'cookin', 'cooking', 'cooklie', 'cookout', 'cooks', 'cookware', 'cool', 'coolatta', 'coolattas', 'coolby', 'cooled', 'cooler', 'coolers', 'coolest', 'cooling', 'coolish', 'cools', 'cooltemperatures', 'coolwhip', 'coomb', 'coombs', 'coon', 'coonhound', 'coop', 'cooped', 'cooper', 'cooperate', 'cooperated', 'cooperating', 'coopers', 'coops', 'coordinated', 'coordinates', 'coordinator', 'cope', 'copenhagen', 'copied', 'copies', 'copntent', 'copolymers', 'coporation', 'copper', 'coppery', 'copy', 'copying', 'copyright', 'copyrighted', 'cor', 'corazona', 'corazonas', 'cord', 'cordial', 'cordiali', 'cordials', 'cords', 'cordura', 'core', 'corgi', 'corgis', 'coriander', 'cork', 'corks', 'corkscrew', 'corkscrews', 'corn', 'cornbread', 'cornbreads', 'corned', 'corner', 'corners', 'corney', 'cornflakes', 'cornflour', 'cornflower', 'cornflowers', 'corngluten', 'cornish', 'cornmeal', 'cornrows', 'corns', 'cornstarch', 'cornstart', 'cornsyup', 'cornucopia', 'corny', 'corona', 'coronary', 'corp', 'corporate', 'corporation', 'corporations', 'corporatizing', 'corprate', 'corps', 'correct', 'correctable', 'corrected', 'correcting', 'corrective', 'correctly', 'corresponded', 'corresponding', 'corrodes', 'corsa', 'corso', 'cortas', 'cortese', 'cortisone', 'corylus', 'cos', 'cosco', 'cosmetic', 'cosmetically', 'cosmic', 'cosmo', 'cosmos', 'cost', 'costa', 'costarican', 'costco', 'costcons', 'costed', 'costing', 'costly', 'costo', 'costof', 'costplus', 'costs', 'costso', 'costume', 'costumer', 'cosy', 'cotija', 'coton', 'cots', 'cotta', 'cottage', 'cotton', 'cottonseed', 'couch', 'couches', 'coudl', 'cougars', 'cough', 'coughed', 'coughing', 'coughs', 'coul', 'could', 'couldnot', 'couldnt', 'couldsay', 'couldve', 'coulod', 'count', 'counted', 'counter', 'counteract', 'counteracts', 'counterbalance', 'counterpart', 'counterparts', 'counterpoint', 'counters', 'countertop', 'countertops', 'counting', 'countless', 'countries', 'country', 'countryside', 'countrytime', 'county', 'coup', 'coupe', 'couple', 'coupled', 'couples', 'coupon', 'coupons', 'courage', 'coures', 'courier', 'course', 'courses', 'court', 'courteous', 'courtesy', 'courting', 'courts', 'couscous', 'couse', 'cousin', 'cousins', 'couton', 'couture', 'cover', 'coverage', 'covered', 'covering', 'covers', 'covet', 'cowardly', 'cowboy', 'cowboys', 'cowhide', 'coworker', 'coworkers', 'cows', 'cox', 'coxed', 'coyote', 'coyotes', 'coz', 'coziness', 'cpros', 'cr', 'crab', 'crabgrass', 'crabmeat', 'crabs', 'crabtree', 'crack', 'cracked', 'cracker', 'crackers', 'crackersand', 'crackerswould', 'cracking', 'crackingi', 'crackle', 'cracklin', 'crackling', 'cracklins', 'crackln', 'crackly', 'cracks', 'cradle', 'cradles', 'craft', 'crafted', 'crafts', 'craftsmanship', 'crafty', 'craig', 'craigslist', 'craisin', 'craisins', 'crakers', 'cram', 'cramp', 'cramping', 'crampy', 'cran', 'cranaloe', 'cranberry', 'cranbery', 'crane', 'crank', 'cranked', 'cranking', 'crap', 'crapload', 'crapper', 'crappy', 'craps', 'crapshoot', 'crashed', 'crashes', 'crashing', 'crate', 'crated', 'craters', 'crates', 'crave', 'craved', 'craves', 'cravin', 'craving', 'cravings', 'cravingsno', 'crawfish', 'crawford', 'crawl', 'crawled', 'crawling', 'crawls', 'crawlspace', 'crayon', 'crayons', 'craze', 'crazed', 'crazier', 'craziest', 'crazily', 'crazy', 'creak', 'creaky', 'cream', 'creamcicle', 'creamed', 'creamer', 'creamers', 'creamery', 'creamier', 'creamiest', 'creaminess', 'creamiscle', 'creampuff', 'creamsicle', 'creamwhite', 'creamy', 'creamyoesk', 'creased', 'created', 'creater', 'creates', 'creating', 'creatinine', 'creations', 'creative', 'creativity', 'creator', 'creators', 'creature', 'credence', 'credentials', 'credere', 'credibility', 'credible', 'credit', 'creditable', 'credited', 'crediting', 'credits', 'creek', 'creep', 'creeping', 'creeps', 'creepy', 'crema', 'creme', 'cremes', 'creosote', 'crepe', 'crepes', 'crescent', 'cresent', 'crested', 'crevasses', 'crew', 'crewing', 'cria', 'crickets', 'cried', 'cries', 'criminals', 'cringe', 'cringed', 'crinkle', 'crinkles', 'crip', 'cripple', 'crippling', 'crips', 'crisco', 'crisis', 'crisp', 'crispbread', 'crispbreads', 'crisped', 'crisper', 'crispest', 'crispie', 'crispier', 'crispies', 'crispiness', 'crisping', 'crisply', 'crispness', 'crispy', 'criteria', 'critic', 'critical', 'criticism', 'criticisms', 'criticize', 'criticized', 'criticizing', 'critics', 'critique', 'critter', 'critters', 'crmy', 'croccantini', 'crocker', 'crockpot', 'crohn', 'croil', 'croissants', 'croix', 'cronic', 'cronies', 'crooked', 'crop', 'crops', 'croquettes', 'cross', 'crossed', 'crosses', 'crossing', 'crossover', 'crostinis', 'croutons', 'crowd', 'crowded', 'crowding', 'crown', 'crowns', 'crows', 'cruches', 'crucial', 'crud', 'crude', 'crudite', 'crudites', 'cruel', 'cruise', 'cruising', 'crum', 'crumb', 'crumble', 'crumbled', 'crumbles', 'crumbless', 'crumbley', 'crumblier', 'crumbling', 'crumbly', 'crumbs', 'crumby', 'crummy', 'crumple', 'crumpled', 'crunch', 'crunchaholic', 'crunched', 'crunches', 'crunchie', 'crunchier', 'crunchies', 'crunchiest', 'crunchiness', 'crunching', 'crunchmaster', 'crunchy', 'crunchyour', 'cruncy', 'crunshy', 'crusade', 'crush', 'crushed', 'crushing', 'crust', 'crusted', 'crusties', 'crusts', 'crusty', 'cruz', 'cry', 'cryin', 'crying', 'crypt', 'crys', 'crystal', 'crystalized', 'crystalizes', 'crystallization', 'crystallize', 'crystallized', 'crystals', 'crytalize', 'csa', 'csrs', 'ct', 'cu', 'cub', 'cuba', 'cuban', 'cubans', 'cubase', 'cubbard', 'cubby', 'cube', 'cubed', 'cubes', 'cucs', 'cucumber', 'cucumbers', 'cud', 'cuddle', 'cuddled', 'cudve', 'cuervo', 'cuffs', 'cuginos', 'cuisane', 'cuisinart', 'cuisine', 'culinary', 'culminating', 'culprits', 'cult', 'cultivate', 'cultivated', 'cultural', 'culturally', 'culture', 'cultured', 'culturelle', 'cumbersome', 'cumin', 'cumulative', 'cunsumption', 'cup', 'cupboard', 'cupboards', 'cupborad', 'cupcake', 'cupcakes', 'cupcakespumpkin', 'cupful', 'cupof', 'cupor', 'cuppa', 'cupping', 'cupput', 'cups', 'cupspro', 'cupsstock', 'cupstir', 'cur', 'curb', 'curbs', 'curbside', 'curcumin', 'curd', 'curdled', 'curdles', 'curdling', 'curds', 'cure', 'cured', 'cures', 'curing', 'curios', 'curiosity', 'curious', 'curiousity', 'curiously', 'curled', 'curls', 'currant', 'currants', 'currency', 'currently', 'currents', 'curries', 'currry', 'curry', 'cursing', 'cursor', 'cursory', 'curt', 'curtail', 'curtailed', 'curve', 'curves', 'curving', 'cusack', 'cushings', 'cushion', 'cushioned', 'cushioning', 'cushions', 'cusine', 'cuss', 'cust', 'custard', 'custards', 'custom', 'customer', 'customers', 'customizable', 'customize', 'customizing', 'customs', 'cut', 'cute', 'cutest', 'cuticles', 'cutlery', 'cutlet', 'cutlets', 'cutopen', 'cutout', 'cuts', 'cutter', 'cutting', 'cuttlefish', 'cutup', 'cuz', 'cvs', 'cyanuric', 'cyber', 'cyberman', 'cycled', 'cycles', 'cycling', 'cyclist', 'cylinder', 'cynical', 'cynics', 'cyprus', 'cystitis', 'cysts', 'czar', 'czipetke', 'da', 'daal', 'dab', 'dabbed', 'dabbled', 'dabur', 'dachshunds', 'dachsie', 'dachsund', 'dad', 'dadbrought', 'daddy', 'dagoba', 'dagrees', 'dahlonega', 'daily', 'daintily', 'dainty', 'daiquiris', 'dairy', 'daisy', 'dakota', 'dalfour', 'dallas', 'dalliance', 'dallop', 'dalmation', 'dalys', 'dam', 'damage', 'damaged', 'damaging', 'damascus', 'damask', 'dammit', 'damn', 'damp', 'dampness', 'damson', 'dan', 'dance', 'danced', 'dancer', 'dancers', 'dancing', 'dandelion', 'dander', 'dandernow', 'dandruff', 'dandy', 'dane', 'daneman', 'danes', 'danesi', 'dang', 'danged', 'danger', 'dangerous', 'dangerously', 'dangers', 'dangling', 'daniel', 'daniels', 'danish', 'dannon', 'danny', 'dans', 'dare', 'dared', 'darednow', 'darell', 'darford', 'daring', 'darjeeling', 'darjeelings', 'dark', 'darken', 'darker', 'darkly', 'darkness', 'darks', 'darling', 'darn', 'darned', 'darrell', 'darshan', 'das', 'dash', 'dashchund', 'dashes', 'dashi', 'dashing', 'dastardly', 'dat', 'data', 'date', 'dated', 'datem', 'dates', 'dating', 'daugher', 'daughter', 'daughters', 'davandrew', 'dave', 'davidson', 'davidsons', 'davinci', 'davis', 'dawg', 'dawn', 'dawned', 'day', 'daybreak', 'daycare', 'daym', 'daysthey', 'daythis', 'daytime', 'daytona', 'daywatch', 'dazs', 'dazzle', 'dazzled', 'dc', 'dd', 'ddefinitely', 'de', 'dea', 'dead', 'deadened', 'deadline', 'deadly', 'deaf', 'deafie', 'deafness', 'deal', 'dealer', 'dealers', 'dealing', 'dealnews', 'deals', 'dealt', 'dean', 'deans', 'dear', 'dearborn', 'dearly', 'death', 'deathly', 'deaths', 'deb', 'debacle', 'debase', 'debatable', 'debate', 'debated', 'debating', 'debbie', 'debbiednorvell', 'debit', 'deboned', 'deborah', 'debris', 'debut', 'dec', 'decade', 'decadence', 'decadent', 'decadently', 'decades', 'decaf', 'decafe', 'decaff', 'decaffeinate', 'decaffeinated', 'decaffeinating', 'decaffeination', 'decaffeniated', 'decaffienated', 'decaffinated', 'decafinated', 'decafs', 'decal', 'decals', 'decant', 'decanted', 'decanter', 'decapitated', 'decatent', 'decathalon', 'decay', 'deceased', 'dececco', 'deceive', 'deceived', 'deceiving', 'december', 'decent', 'decently', 'deceptively', 'decide', 'decided', 'decidedly', 'decides', 'deciding', 'decimating', 'decision', 'decisions', 'decisively', 'deck', 'decker', 'declare', 'declared', 'declares', 'declawed', 'decline', 'declined', 'declining', 'deco', 'decomposed', 'decompression', 'deconstituted', 'decor', 'decorate', 'decorated', 'decorating', 'decoration', 'decorations', 'decorative', 'decoratively', 'decorator', 'decreae', 'decrease', 'decreased', 'decreases', 'decreasing', 'dedicated', 'dedication', 'deduce', 'deduct', 'deducted', 'deductive', 'deed', 'deeds', 'deeeeee', 'deeeelicious', 'deeelicious', 'deeelish', 'deeloped', 'deem', 'deemed', 'deems', 'deen', 'deepen', 'deeper', 'deepest', 'deeply', 'defaf', 'default', 'defeat', 'defeated', 'defeats', 'defect', 'defected', 'defective', 'defects', 'defence', 'defend', 'defended', 'defending', 'defense', 'defenses', 'defensive', 'defficiencies', 'deffinately', 'deffinitly', 'defiantly', 'defibrillator', 'deficiency', 'deficient', 'defidently', 'defies', 'definate', 'definatley', 'definatly', 'define', 'defined', 'definete', 'definetely', 'definetley', 'definetly', 'definiitly', 'definite', 'definitelt', 'definitely', 'definitentally', 'definition', 'definitive', 'definitively', 'definitley', 'definitly', 'definte', 'deflated', 'deformed', 'deformity', 'defragging', 'defray', 'defrost', 'defrosted', 'defroster', 'defrosting', 'defunct', 'defying', 'deg', 'degas', 'degeneres', 'degermed', 'deglet', 'degradation', 'degrade', 'degraded', 'degrades', 'degree', 'degrees', 'degreesf', 'dehydrate', 'dehydrated', 'dehydrating', 'dehydration', 'dehydrator', 'dei', 'deiced', 'deidrich', 'deighted', 'deign', 'dek', 'del', 'delaid', 'delallo', 'delaware', 'delay', 'delayed', 'delays', 'delcious', 'delectability', 'delectable', 'delectables', 'delectably', 'delema', 'deleted', 'deli', 'delia', 'deliberate', 'deliberately', 'deliberation', 'delicacies', 'delicacy', 'delicate', 'delicately', 'delice', 'delicicious', 'deliciouos', 'delicious', 'deliciousbut', 'deliciouss', 'delicous', 'delieved', 'delievered', 'delievery', 'delievy', 'delighfully', 'delight', 'delighted', 'delightful', 'delightfully', 'delights', 'delirious', 'delirium', 'delish', 'delishus', 'delisious', 'delisiouso', 'delisse', 'delite', 'delites', 'deliven', 'deliver', 'delivered', 'deliverer', 'deliveries', 'delivering', 'delivers', 'delivery', 'dell', 'dellivery', 'dells', 'delonghi', 'delscious', 'delsh', 'delta', 'deluca', 'delusional', 'deluxe', 'delve', 'delverde', 'demand', 'demanded', 'demanding', 'demands', 'demeanor', 'demi', 'deminishes', 'demise', 'demitasse', 'demitris', 'demographic', 'demolish', 'demolished', 'demon', 'demons', 'demonstrated', 'demonstrating', 'demonstration', 'demonstrations', 'demos', 'demurely', 'den', 'denali', 'denatures', 'denied', 'denigrates', 'denmark', 'dennisons', 'denoting', 'dense', 'densely', 'denser', 'density', 'dentabites', 'dentable', 'dentabone', 'dentabones', 'dental', 'dentalcheckups', 'dentastix', 'dente', 'dented', 'dentel', 'dentine', 'dentist', 'dentists', 'dentition', 'dents', 'dentures', 'denver', 'deny', 'denying', 'deodorant', 'deodorize', 'department', 'departments', 'departs', 'departure', 'depend', 'dependant', 'depended', 'dependence', 'dependency', 'dependent', 'dependingon', 'dependon', 'depends', 'depicted', 'depicts', 'depleting', 'deplorable', 'deployed', 'deployment', 'deposit', 'deposited', 'deposits', 'depot', 'depressed', 'depressing', 'depression', 'deprived', 'deprives', 'depriving', 'dept', 'depth', 'depuis', 'derail', 'deride', 'derivatives', 'derived', 'derives', 'deriving', 'derm', 'dermatitis', 'dermatologist', 'dermatologists', 'derogate', 'derogatory', 'desagree', 'descale', 'descent', 'desceptive', 'describe', 'described', 'describes', 'descripters', 'description', 'descriptions', 'descriptive', 'descriptors', 'desde', 'desensitized', 'desert', 'deserts', 'deserve', 'deserved', 'deserves', 'deserving', 'desiccated', 'design', 'designated', 'designates', 'designating', 'designations', 'designed', 'designer', 'designers', 'designing', 'designs', 'desinged', 'desintegrating', 'desirability', 'desirable', 'desire', 'desireable', 'desired', 'desires', 'desiring', 'desk', 'desks', 'desolve', 'desolved', 'despair', 'despaired', 'desparate', 'desperate', 'desperately', 'desperation', 'despicable', 'despise', 'despises', 'despite', 'desserts', 'destination', 'destinations', 'destined', 'destiny', 'destrcto', 'destroy', 'destroyed', 'destroyer', 'destroying', 'destruction', 'destructive', 'destructo', 'detachable', 'detached', 'detail', 'detailed', 'detailer', 'details', 'detained', 'detect', 'detectable', 'detected', 'detectible', 'detector', 'deter', 'detergent', 'detergents', 'deteriorate', 'deteriorated', 'deteriorates', 'deteriorating', 'deterioration', 'determination', 'determine', 'determined', 'determinedly', 'determines', 'determining', 'deterred', 'deterrent', 'deters', 'detest', 'detested', 'detests', 'detour', 'detox', 'detoxed', 'detoxes', 'detoxification', 'detoxifies', 'detoxify', 'detoxifying', 'detoxing', 'detract', 'detracted', 'detracting', 'detraction', 'detractor', 'detracts', 'detriment', 'detrimental', 'detroit', 'detroiters', 'devastated', 'devastating', 'develed', 'develop', 'developed', 'developers', 'developing', 'development', 'developments', 'deviate', 'deviating', 'devices', 'devil', 'deviled', 'devilishly', 'devils', 'devine', 'devise', 'devised', 'devistated', 'devleoped', 'devoid', 'devolves', 'devon', 'devote', 'devoted', 'devotees', 'devotes', 'devoting', 'devotion', 'devour', 'devoure', 'devoured', 'devouring', 'devours', 'dew', 'dewey', 'dewormer', 'dexter', 'dexterity', 'dextrin', 'dextrose', 'df', 'dha', 'dhave', 'dhl', 'di', 'dia', 'diabetes', 'diabetic', 'diabolically', 'diaeresis', 'diagnose', 'diagnosed', 'diagnostic', 'diagonal', 'diagonally', 'diagosed', 'diahrhea', 'dial', 'dialed', 'dialysis', 'diameter', 'diamond', 'diamondgreen', 'diamonds', 'diana', 'dianne', 'diaper', 'diapers', 'diaplay', 'diappeared', 'diappointed', 'diarhea', 'diarreha', 'diarrhea', 'diarria', 'diatribe', 'dibates', 'dibetic', 'diced', 'dices', 'dick', 'dickason', 'dickinsoningredients', 'dicqa', 'dictate', 'dictated', 'dident', 'didnt', 'didnttake', 'die', 'dieback', 'diebetic', 'died', 'diego', 'diehard', 'dieing', 'dies', 'diesel', 'diet', 'dietary', 'dieter', 'dieters', 'dieti', 'dietician', 'dietitian', 'diets', 'diference', 'diff', 'diffeent', 'differant', 'differen', 'difference', 'differences', 'different', 'differenthypoallergenic', 'differentiate', 'differentiation', 'differentprocessing', 'differentproduct', 'differing', 'differnce', 'differnet', 'differntly', 'differs', 'difficult', 'difficulties', 'difficultto', 'difficulty', 'diffrence', 'diffrent', 'diffuser', 'diffusers', 'dificult', 'digest', 'digestability', 'digestable', 'digested', 'digestibility', 'digestif', 'digesting', 'digestion', 'digestioni', 'digestive', 'digestively', 'digestives', 'digestivesvery', 'digestivesystem', 'digests', 'digestyou', 'digging', 'diggity', 'digidesign', 'digit', 'digits', 'diglycerides', 'dignified', 'dignify', 'digress', 'digressing', 'digs', 'digusting', 'dijkman', 'dijon', 'dilating', 'dilemma', 'dilicious', 'diligence', 'diligent', 'dilivery', 'dill', 'dilly', 'dilmah', 'dilute', 'diluted', 'dilutes', 'diluting', 'dilution', 'dim', 'dime', 'dimension', 'dimensional', 'dimensions', 'diminish', 'diminished', 'diminishing', 'diminishted', 'dimpling', 'dine', 'dined', 'diner', 'diners', 'dinged', 'dinging', 'dingo', 'dining', 'diningroom', 'dinky', 'dinner', 'dinners', 'dinning', 'dino', 'dinosaur', 'dint', 'dinty', 'dioxide', 'dip', 'diplomate', 'diplomatic', 'dipotassium', 'dippable', 'dipper', 'dippin', 'dipping', 'dips', 'dipt', 'dire', 'directed', 'direction', 'directions', 'directly', 'dirnks', 'dirt', 'dirtied', 'dirtier', 'dirty', 'dis', 'disabilities', 'disability', 'disabled', 'disadvantage', 'disadvantages', 'disagree', 'disagreeable', 'disagreed', 'disagreement', 'disapear', 'disapoint', 'disapointment', 'disappear', 'disappeared', 'disappearing', 'disappears', 'disappionted', 'disappoined', 'disappoint', 'disappointed', 'disappointedly', 'disappointing', 'disappointment', 'disappointments', 'disappoints', 'disassemble', 'disassembly', 'disasters', 'disbelief', 'disc', 'discard', 'discarded', 'discarding', 'discern', 'discernable', 'discernment', 'discharge', 'disciplinary', 'disclaimer', 'disclose', 'disclosing', 'disclosure', 'discoloration', 'discolored', 'discomfort', 'disconcerting', 'disconnects', 'discontinuing', 'discontnue', 'discount', 'discounted', 'discounting', 'discounts', 'discourage', 'discouraged', 'discouraging', 'discoved', 'discoverd', 'discovered', 'discovering', 'discoverpink', 'discovers', 'discovery', 'discredit', 'discreet', 'discrib', 'discriminating', 'discs', 'discuss', 'discussed', 'discussing', 'discussion', 'discusting', 'disdain', 'disease', 'diseased', 'diseases', 'disesase', 'disfrutar', 'disgrace', 'disgruntled', 'disguise', 'disguised', 'disguises', 'disgust', 'disgusted', 'disgusting', 'disgustingly', 'dish', 'disheartening', 'dished', 'dishes', 'dishonest', 'dishwasher', 'dishwashing', 'disinfect', 'disingenous', 'disintegrate', 'disintegrated', 'disintegrating', 'disinterested', 'disk', 'disks', 'dislike', 'disliked', 'dislikes', 'dislodge', 'dislodged', 'dismantled', 'dismay', 'dismayed', 'dismiss', 'dismissed', 'disney', 'disneyland', 'disodium', 'disolve', 'disolved', 'disorder', 'disorders', 'disorientated', 'disparate', 'dispatch', 'dispatched', 'dispelled', 'dispense', 'dispensed', 'dispenser', 'dispensers', 'dispenses', 'dispensing', 'disperse', 'dispersed', 'displaced', 'displasea', 'display', 'displayed', 'displaying', 'displays', 'displease', 'displeased', 'displeasure', 'disposable', 'disposacups', 'disposakup', 'disposakups', 'disposal', 'disposalkups', 'dispose', 'disposed', 'disposition', 'disproportionate', 'disproportioned', 'dispute', 'disputed', 'disqusting', 'disregard', 'disregarding', 'disrupted', 'dissapeared', 'dissapoint', 'dissapointed', 'dissapointing', 'dissapointment', 'dissappointed', 'dissappointment', 'dissatifed', 'dissatisfaction', 'dissatisfied', 'dissed', 'dissent', 'disservice', 'dissimilar', 'dissipate', 'dissipates', 'dissolvable', 'dissolve', 'dissolved', 'dissolving', 'dissovle', 'dissuade', 'dissuaded', 'dist', 'distance', 'distances', 'distant', 'distantly', 'distasteful', 'distillate', 'distillation', 'distilled', 'distiller', 'distillers', 'distillery', 'distincly', 'distinct', 'distinctions', 'distinctive', 'distinctly', 'distinguish', 'distinguishable', 'distinguished', 'distinguishes', 'distorted', 'distortion', 'distracted', 'distracters', 'distracting', 'distraction', 'distractor', 'distrbute', 'distress', 'distressed', 'distressing', 'distribute', 'distributed', 'distributer', 'distributing', 'distributors', 'district', 'distrust', 'disturb', 'disturbed', 'disturbing', 'disturbingly', 'disturbs', 'ditch', 'ditched', 'ditching', 'ditto', 'dittos', 'ditzy', 'diuretic', 'diva', 'dive', 'divergently', 'diverse', 'diversity', 'dives', 'dividable', 'divided', 'divider', 'dividers', 'divine', 'divinely', 'division', 'divisions', 'divvy', 'dixie', 'diy', 'dizzy', 'dj', 'dkh', 'dl', 'dls', 'dm', 'dmcdonald', 'dna', 'dnote', 'dnt', 'doa', 'doable', 'dob', 'dobemans', 'doberman', 'dobes', 'dobie', 'doble', 'dobt', 'doc', 'doce', 'dock', 'docking', 'doctor', 'doctored', 'doctoring', 'doctors', 'documentaries', 'documentary', 'documentation', 'documented', 'documents', 'dodge', 'dodger', 'doe', 'doesnt', 'doeverything', 'dogadvisor', 'dogfood', 'dogfoodadvisor', 'dogfoodanalysis', 'dogfoods', 'doggie', 'doggies', 'doggone', 'doggy', 'dogo', 'dogranola', 'dogs', 'dogsters', 'dogswell', 'dogwells', 'doh', 'doingbetter', 'dolce', 'dolcetto', 'dolche', 'doldrums', 'dole', 'doled', 'doll', 'dollares', 'dollars', 'dollats', 'dollop', 'dolloping', 'dollops', 'dolls', 'dolop', 'domata', 'domed', 'domenica', 'domenical', 'domestic', 'domestically', 'domesticated', 'dominant', 'dominate', 'dominated', 'dominates', 'dominating', 'dominican', 'dominick', 'domino', 'donate', 'donated', 'donates', 'donating', 'done', 'doneness', 'dong', 'donna', 'donny', 'dont', 'dontsell', 'donut', 'donuts', 'donvier', 'donwright', 'doo', 'doodle', 'doodles', 'doogie', 'doom', 'doomed', 'doone', 'door', 'doors', 'doorsteps', 'doorways', 'doosies', 'dooty', 'doozies', 'dope', 'doppelg', 'doree', 'dorito', 'dork', 'dorm', 'dormant', 'doro', 'dorthy', 'dos', 'dosage', 'dosas', 'dose', 'doses', 'dosing', 'dosnt', 'dosome', 'dot', 'doting', 'dots', 'double', 'doubled', 'doubles', 'doubleshop', 'doubleshot', 'doubling', 'doubt', 'doubted', 'doubtful', 'doubting', 'doubtless', 'doubts', 'doughball', 'doughnut', 'doughnuts', 'doughs', 'doughy', 'douglas', 'dounut', 'douse', 'doused', 'dousing', 'douwe', 'dove', 'dover', 'dowling', 'dowm', 'downed', 'downers', 'downfall', 'downgrade', 'downgraded', 'downhill', 'downing', 'download', 'downright', 'downs', 'downside', 'downsides', 'downsized', 'downstairs', 'downtown', 'downward', 'downwards', 'downy', 'dowside', 'doxee', 'doxie', 'doxies', 'dozen', 'dozens', 'dp', 'drab', 'drag', 'dragees', 'dragged', 'dragging', 'dragoba', 'dragon', 'dragons', 'dragonwater', 'drags', 'drain', 'drainage', 'draining', 'drains', 'dram', 'drama', 'dramatic', 'drambuie', 'drams', 'dran', 'drank', 'draped', 'drastic', 'drastically', 'draught', 'dravis', 'draw', 'drawback', 'drawbacks', 'drawer', 'drawers', 'drawing', 'drawn', 'draws', 'drawstring', 'dread', 'dreaded', 'dreadful', 'dreamed', 'dreamfield', 'dreamfields', 'dreamfiels', 'dreaming', 'dreams', 'dreamy', 'dreary', 'dreck', 'dredge', 'drenched', 'drenching', 'dresden', 'dress', 'dressed', 'dresser', 'dressing', 'dressings', 'dressy', 'drew', 'dribble', 'dried', 'driedprotein', 'drift', 'drill', 'drilled', 'drilling', 'dring', 'drink', 'drinkability', 'drinkable', 'drinker', 'drinkers', 'drinkin', 'drinkingstraight', 'drinks', 'drinkswe', 'drip', 'dripped', 'dripping', 'drippings', 'drippy', 'drips', 'drive', 'driven', 'drivers', 'drives', 'driveway', 'driving', 'drizzle', 'drizzled', 'drizzly', 'droewors', 'drogheria', 'drooled', 'drooler', 'drooling', 'drools', 'drooping', 'droops', 'drop', 'droplets', 'dropped', 'dropper', 'droppings', 'drops', 'droste', 'drostes', 'drove', 'drowned', 'drowning', 'drowns', 'drowsiness', 'drowsy', 'drs', 'drugged', 'drugs', 'drugstore', 'drugstores', 'drum', 'drumsticks', 'drunken', 'druthers', 'dry', 'dryer', 'drying', 'dryness', 'drywall', 'dsh', 'dsy', 'dthe', 'dual', 'duane', 'dubble', 'dubious', 'ducale', 'duchy', 'duck', 'ducks', 'dud', 'dude', 'duded', 'dudes', 'duds', 'due', 'dug', 'duh', 'dukan', 'dukans', 'duke', 'dukes', 'dulce', 'dulcificum', 'dull', 'dulled', 'duller', 'dum', 'dumas', 'dumb', 'dumbed', 'dummy', 'dump', 'dumped', 'dumping', 'dumpling', 'dums', 'duncan', 'dundee', 'dunes', 'dunk', 'dunkable', 'dunkan', 'dunker', 'dunkers', 'dunkin', 'dunking', 'dunkins', 'dunno', 'duo', 'duped', 'duping', 'duplicate', 'duplicated', 'durability', 'durable', 'durachew', 'durango', 'duration', 'durkee', 'durring', 'dusk', 'dust', 'dusted', 'dusting', 'dusty', 'dutch', 'dutched', 'dutching', 'dutchy', 'dutifully', 'duty', 'dvd', 'dwell', 'dweller', 'dwellers', 'dwelling', 'dwindled', 'dwindles', 'dye', 'dyed', 'dyes', 'dying', 'dynamic', 'dynamics', 'dynamite', 'dysfunctional', 'dyspepsiaand', 'dysplasia', 'dz', 'eaaaaaaaaaaaaaaaaaaaaaaaaat', 'eachother', 'eagely', 'eagerly', 'eagerness', 'eagle', 'eaiser', 'eaither', 'eal', 'ear', 'earily', 'earl', 'earlier', 'earliest', 'early', 'earlyshield', 'earn', 'earned', 'earning', 'earns', 'earrings', 'ears', 'earth', 'earthborn', 'earthiness', 'earthly', 'earthmate', 'earthquakes', 'earths', 'earthworm', 'earthworms', 'earthy', 'earty', 'eary', 'eas', 'ease', 'eased', 'easier', 'easiestways', 'easily', 'easing', 'easliy', 'east', 'easter', 'eastern', 'easterners', 'easy', 'easyto', 'eat', 'eata', 'eatable', 'eaten', 'eater', 'eaters', 'eateven', 'eatin', 'eating', 'eats', 'eatten', 'eatting', 'eatvery', 'eau', 'eb', 'ebates', 'ebay', 'eben', 'ecc', 'echinacea', 'echo', 'echoed', 'echoes', 'eclair', 'eclairs', 'eclipse', 'eco', 'ecoli', 'ecological', 'ecologically', 'ecology', 'economic', 'economical', 'economically', 'economics', 'economies', 'economy', 'ecorazzi', 'ecstasy', 'ecstatic', 'ect', 'ecthis', 'ecuador', 'eczema', 'ed', 'edamame', 'edema', 'eden', 'edenfoods', 'edensoy', 'edgar', 'edge', 'edged', 'edges', 'edgy', 'edgythat', 'edible', 'edibles', 'edinburgh', 'edit', 'edited', 'editing', 'edition', 'editions', 'edmond', 'edmund', 'educate', 'educated', 'educating', 'education', 'edulis', 'edward', 'ee', 'eeeeeee', 'eeeeem', 'eeeeewww', 'eerie', 'eery', 'efa', 'efectively', 'eff', 'effecting', 'effective', 'effectively', 'effects', 'effectsto', 'effervescence', 'efficacious', 'efficacy', 'efficent', 'efficiency', 'efficient', 'efficiently', 'effort', 'effortless', 'effortlessly', 'efforts', 'egbert', 'egberts', 'ege', 'egg', 'eggbeaters', 'eggface', 'eggless', 'eggnogg', 'eggnoggin', 'eggos', 'eggplant', 'eggrolls', 'eggwhites', 'eggy', 'egregio', 'egs', 'egss', 'egypt', 'egyptian', 'eh', 'ehow', 'ehr', 'ehvt', 'eight', 'eighty', 'einstein', 'eith', 'either', 'eitzehs', 'ejected', 'ejection', 'eko', 'ekobrew', 'el', 'elaborada', 'elaborate', 'elapsed', 'elastic', 'elasticity', 'elasticy', 'elbow', 'elder', 'elderberries', 'elderberry', 'elders', 'eldery', 'eldest', 'elected', 'electric', 'electrical', 'electricity', 'electrolites', 'electrolyte', 'electron', 'electronically', 'electronics', 'electrovoice', 'elegance', 'elegant', 'element', 'elementary', 'elements', 'elequent', 'eleuthero', 'elevate', 'elevated', 'elevates', 'elevating', 'eleven', 'elf', 'elicited', 'eliciting', 'eligible', 'elija', 'eliminate', 'eliminated', 'eliminates', 'eliminating', 'elinor', 'elite', 'elixir', 'eliz', 'elk', 'elkhound', 'ella', 'ellas', 'ellen', 'ellie', 'ello', 'elm', 'elmer', 'elmo', 'elongated', 'eloquent', 'else', 'elses', 'elsewhere', 'elves', 'elvis', 'em', 'emaciated', 'email', 'emailing', 'emails', 'emate', 'embalmed', 'embarassingly', 'embark', 'embarking', 'embarrasment', 'embarrass', 'embarrassing', 'embarrassment', 'embedded', 'emblazoned', 'emblem', 'embodies', 'embodiment', 'embody', 'embossed', 'embracing', 'emerald', 'emeraldforest', 'emerge', 'emerged', 'emergen', 'emergencies', 'emergency', 'emerges', 'emeril', 'emerils', 'emerita', 'emily', 'eminates', 'eminence', 'emit', 'emitted', 'emitting', 'emjoyed', 'emmerich', 'emollient', 'emongrass', 'emotion', 'emotional', 'emotions', 'empaque', 'empece', 'emperor', 'emperors', 'emphasis', 'empire', 'employ', 'employed', 'employee', 'employees', 'employer', 'employers', 'employing', 'employment', 'emporia', 'emporium', 'empress', 'emptied', 'empties', 'emptor', 'empty', 'emril', 'emulating', 'emulsifier', 'emulsifiers', 'emulsion', 'ena', 'enabled', 'enabler', 'enables', 'enabling', 'enamel', 'enameled', 'enamored', 'encantan', 'encase', 'encased', 'enchaladas', 'enchanted', 'enchanting', 'enchilada', 'enchiladas', 'encircling', 'enclosed', 'enclosure', 'encoded', 'encompassing', 'encontre', 'encounter', 'encountered', 'encounteredolive', 'encourage', 'encouragement', 'encourages', 'encouraging', 'encrusted', 'end', 'endangered', 'enddd', 'endearingly', 'endeavors', 'ended', 'endevor', 'endicott', 'ending', 'endings', 'endless', 'endlessly', 'endorphin', 'endorphins', 'endorse', 'endorsed', 'endorsement', 'endorsements', 'endowed', 'ends', 'endulge', 'endurance', 'endure', 'endured', 'enduring', 'endurolyte', 'enduroshot', 'endust', 'enemies', 'enemy', 'enenews', 'ener', 'energ', 'energetic', 'energeticetc', 'energized', 'energizes', 'energizing', 'energy', 'enerjets', 'enery', 'enfamil', 'engage', 'engaged', 'engagement', 'engaging', 'engerg', 'engery', 'engine', 'engineer', 'engineering', 'engineers', 'england', 'english', 'engorge', 'engorged', 'engraved', 'engulfs', 'enhance', 'enhanced', 'enhancement', 'enhancer', 'enhancers', 'enhancing', 'enjou', 'enjoy', 'enjoyable', 'enjoyed', 'enjoyer', 'enjoyingthe', 'enjoys', 'enjoysripping', 'enlarged', 'enlighten', 'enlightened', 'enlightening', 'enlightenment', 'enlisted', 'enliven', 'enlivened', 'enlivens', 'enough', 'enought', 'enouugh', 'enrich', 'enriched', 'enriching', 'enrichment', 'enrobed', 'enroll', 'enrolled', 'ensued', 'ensure', 'ensures', 'ensuring', 'entangled', 'entered', 'enterococcus', 'enterprise', 'enterprises', 'enters', 'entertain', 'entertained', 'entertaining', 'entertainment', 'entertains', 'entertainthemselves', 'enthused', 'enthusiasitically', 'enthusiasm', 'enthusiast', 'enthusiastic', 'enthusiastically', 'enthusiasts', 'entice', 'enticed', 'entices', 'enticing', 'entire', 'entirely', 'entirety', 'entirte', 'entitled', 'entity', 'entr', 'entrails', 'entrance', 'entree', 'entrees', 'entrenched', 'entrepreneur', 'entress', 'entries', 'entry', 'envelope', 'enveloped', 'envelopes', 'enviable', 'enviga', 'envio', 'envious', 'enviro', 'envirokids', 'environement', 'environmental', 'environmentalist', 'environmentalists', 'environmentally', 'environments', 'envision', 'envisioned', 'envy', 'enzymatic', 'enzyme', 'enzymes', 'enzymolysis', 'eons', 'epa', 'epcot', 'ephedra', 'ephemere', 'epicurious', 'epidemic', 'epidemiological', 'epidemiology', 'epidermis', 'epidural', 'epigen', 'epilepsy', 'epilogue', 'epiphany', 'episodes', 'epm', 'eponymous', 'epoque', 'epoxy', 'epsom', 'equal', 'equaled', 'equally', 'equals', 'equated', 'equation', 'equipment', 'equipped', 'equitably', 'equity', 'equivalant', 'equivalent', 'equivalents', 'equivilent', 'er', 'era', 'erase', 'eraser', 'eraserhead', 'ergonomic', 'erh', 'erhs', 'ericcson', 'erin', 'ero', 'erouhgpfnad', 'err', 'errands', 'erratic', 'erring', 'erroneously', 'error', 'errors', 'erruption', 'ers', 'ersatz', 'erucic', 'erupted', 'erythritol', 'esas', 'esasy', 'escape', 'escaped', 'escapees', 'escapes', 'eschew', 'ese', 'eskate', 'eskimo', 'esophageal', 'esophagitis', 'esophagus', 'esp', 'especally', 'especial', 'especially', 'espousing', 'espreso', 'espressivo', 'espresso', 'espressos', 'esque', 'essay', 'essentials', 'esspecially', 'esspresso', 'est', 'established', 'establishing', 'establishment', 'establishments', 'estado', 'estate', 'estatic', 'esteem', 'estense', 'esti', 'estimated', 'estimates', 'estimation', 'estomacales', 'estos', 'estoy', 'estract', 'estrogen', 'estrogenic', 'et', 'eta', 'etc', 'eternal', 'eternally', 'ethel', 'ether', 'ethic', 'ethical', 'ethics', 'ethiopia', 'ethiopian', 'ethos', 'ethoxyquin', 'ethyl', 'ets', 'eu', 'eucalyptus', 'eucharist', 'eukanauba', 'eukaneuba', 'eukanuba', 'euphoria', 'euphoric', 'eureka', 'euro', 'eurogrocer', 'europe', 'european', 'europeans', 'europien', 'euros', 'euthanized', 'eva', 'evacuate', 'evals', 'evaluate', 'evaluated', 'evaluating', 'evaluation', 'evangelist', 'evans', 'evaporate', 'evaporated', 'evaporates', 'evaporating', 'evasive', 'eve', 'evelyn', 'even', 'evening', 'evenings', 'evenly', 'evenovershadows', 'event', 'eventhough', 'events', 'eventual', 'eventually', 'evenunder', 'evenwhen', 'ever', 'everday', 'everee', 'evergreens', 'everhad', 'everhard', 'everidae', 'everlast', 'everlasting', 'everone', 'everrrr', 'everry', 'everthing', 'evertything', 'every', 'everycup', 'everyday', 'everydayforamonth', 'everymorning', 'everynight', 'everyonce', 'everyone', 'everyonelikes', 'everyones', 'everyonescritique', 'everyspoonful', 'everythiing', 'everything', 'everythingi', 'everytime', 'everyting', 'everywhere', 'eveyone', 'eveything', 'evict', 'evidence', 'evident', 'evidently', 'evinced', 'evo', 'evocation', 'evokes', 'evolve', 'evrey', 'evribody', 'evvvveeerr', 'ew', 'eww', 'ewwthis', 'ewwww', 'ex', 'exacerbate', 'exact', 'exacting', 'exactly', 'exactyl', 'exagerating', 'exaggerating', 'exaggeration', 'exam', 'examine', 'examined', 'examining', 'example', 'examples', 'exams', 'exasperated', 'excatly', 'excedrid', 'exceeding', 'exceedingly', 'exceeds', 'excelant', 'excelent', 'excellant', 'excellence', 'excellent', 'excellently', 'excellentversion', 'excelnt', 'excels', 'exceptionally', 'exceptions', 'excercise', 'excerpt', 'excessively', 'exchanged', 'excitable', 'excited', 'excitedly', 'excitedness', 'exciting', 'exclaim', 'exclaimed', 'exclaiming', 'exclamation', 'exclude', 'excluding', 'exclusions', 'exclusive', 'exclusively', 'excrement', 'excruciating', 'excursion', 'excursions', 'excuse', 'excused', 'excuses', 'exec', 'execellant', 'executed', 'executive', 'executives', 'exemplified', 'exepect', 'exeption', 'exeptional', 'exercise', 'exercised', 'exercises', 'exercising', 'exertion', 'exfoliate', 'exfoliating', 'exfoliation', 'exfoliator', 'exhasts', 'exhausted', 'exhausting', 'exhaustion', 'exhaustive', 'exhibit', 'exhibited', 'exhibiting', 'exhilarating', 'exhorbitant', 'exist', 'existed', 'existence', 'existent', 'existing', 'exists', 'exit', 'exited', 'exiting', 'exorbitant', 'exotic', 'exotically', 'exotoxic', 'exp', 'expand', 'expandable', 'expanded', 'expanding', 'expands', 'expansion', 'expat', 'expatriate', 'expecially', 'expectancy', 'expectant', 'expectation', 'expectations', 'expected', 'expecting', 'expectorant', 'expediant', 'expedited', 'expedition', 'expeditious', 'expel', 'expelled', 'expeller', 'expend', 'expended', 'expenditure', 'expenive', 'expense', 'expenses', 'expensive', 'expenspensive', 'expensvie', 'experation', 'expereience', 'experiance', 'experiece', 'experieincing', 'experience', 'experienced', 'experiencedenergy', 'experiences', 'experiencing', 'experimental', 'experimentation', 'experimented', 'experimenter', 'experimenting', 'experiments', 'experince', 'expermenting', 'expert', 'expertise', 'expiration', 'expire', 'expired', 'expiring', 'expiry', 'explain', 'explained', 'explaining', 'explains', 'explanation', 'explanations', 'explicitly', 'expllode', 'exploded', 'explodes', 'exploit', 'exploitation', 'exploited', 'exploiting', 'explore', 'explored', 'exploring', 'explosion', 'explosive', 'explosives', 'expo', 'exponentially', 'export', 'exported', 'expose', 'exposed', 'exposure', 'express', 'expressed', 'expresses', 'expressing', 'expressions', 'expressivo', 'expresso', 'exquisite', 'exquisitely', 'exreme', 'exsaustion', 'exsensive', 'exspensive', 'extemely', 'extend', 'extendable', 'extended', 'extenders', 'extending', 'extends', 'extensible', 'extension', 'extensions', 'extensive', 'extensively', 'extent', 'exterior', 'external', 'extinct', 'extinguish', 'extinguisher', 'extra', 'extract', 'extracted', 'extracti', 'extraction', 'extractions', 'extractive', 'extractives', 'extractpreparation', 'extracts', 'extraordinaire', 'extraordinarily', 'extraordinary', 'extras', 'extravagance', 'extravagant', 'extravagent', 'extreme', 'extremelly', 'extremely', 'extrememly', 'extremes', 'extremly', 'extricated', 'extruded', 'exude', 'exuding', 'exxercises', 'ey', 'eye', 'eyeball', 'eyeballs', 'eyebrow', 'eyebrows', 'eyed', 'eyedropper', 'eyeing', 'eyelids', 'eyes', 'eyesight', 'ez', 'ezcema', 'ezekiel', 'fa', 'faaaar', 'faar', 'fab', 'fabric', 'fabulaously', 'fabulosa', 'fabulously', 'face', 'facebook', 'facedwith', 'faces', 'facet', 'facial', 'facilitate', 'facilitates', 'facilities', 'facility', 'facilityit', 'facimilies', 'facing', 'facsimile', 'fact', 'facto', 'factor', 'factored', 'factoring', 'factors', 'factory', 'facts', 'factsserving', 'faculties', 'faculty', 'fad', 'fade', 'fadeaway', 'faded', 'fades', 'fading', 'fads', 'faecium', 'faen', 'faeries', 'faery', 'fage', 'fagioli', 'fahrenheit', 'fail', 'failed', 'failing', 'faillace', 'fails', 'failure', 'failures', 'faint', 'faintest', 'fainting', 'fair', 'faire', 'fairfield', 'fairground', 'fairly', 'fairmarinade', 'fairness', 'fairway', 'fairy', 'faith', 'faithful', 'faithfully', 'faithfulness', 'fajita', 'fajitas', 'fake', 'fakegrape', 'fakeness', 'fakers', 'faking', 'falafel', 'falcon', 'falksalt', 'fall', 'fallen', 'falling', 'falls', 'false', 'falsely', 'falst', 'falvor', 'fame', 'famed', 'familar', 'familia', 'families', 'familure', 'family', 'familyfor', 'famotidine', 'famoulsy', 'famous', 'fan', 'fanantics', 'fanatic', 'fanatics', 'fancied', 'fancier', 'fanciful', 'fanconi', 'fancy', 'fanfare', 'fanfreakintastic', 'fannings', 'fanny', 'fans', 'fant', 'fanta', 'fantabulous', 'fantasicakes', 'fantasies', 'fantastic', 'fantastically', 'fantasticly', 'fantasy', 'faq', 'faqs', 'far', 'fare', 'fared', 'fares', 'farm', 'farmed', 'farmer', 'farmers', 'farmhouse', 'farms', 'farmwiner', 'farro', 'farrr', 'fart', 'farther', 'farting', 'fartless', 'farts', 'fas', 'fascinating', 'fashion', 'fashioned', 'fashionpink', 'fasioned', 'fast', 'fasted', 'faster', 'fastest', 'fastidious', 'fasting', 'fat', 'fatal', 'fatally', 'father', 'fathers', 'fathom', 'fatigue', 'fatlove', 'fats', 'fatted', 'fatten', 'fattening', 'fatter', 'fattier', 'fatties', 'fattoria', 'fatty', 'fatwhich', 'faucet', 'fauchon', 'faucility', 'fault', 'faults', 'faulty', 'faux', 'fav', 'favaorite', 'fave', 'faves', 'favor', 'favorable', 'favorably', 'favored', 'favoring', 'favorirte', 'favorit', 'favorite', 'favorites', 'favoritesalmon', 'favoritism', 'favors', 'favortie', 'favortires', 'favour', 'favourite', 'favourites', 'favs', 'fazer', 'fb', 'fd', 'fda', 'fe', 'fear', 'feared', 'fearful', 'fearing', 'fears', 'feasible', 'feast', 'feat', 'feather', 'feathered', 'feathers', 'feature', 'features', 'featuresdescription', 'featuring', 'feb', 'february', 'fecal', 'feces', 'federal', 'federer', 'fedex', 'fedexing', 'feeble', 'feed', 'feedback', 'feeder', 'feeders', 'feeding', 'feedings', 'feeds', 'feedthey', 'feel', 'feelexpense', 'feeling', 'feelings', 'feels', 'fees', 'feet', 'felidae', 'feline', 'felines', 'felix', 'fell', 'felling', 'felt', 'female', 'females', 'femurs', 'fenagreek', 'fence', 'fenced', 'fend', 'fennel', 'fennelseed', 'fenominal', 'fentimans', 'fenugreek', 'feral', 'ferals', 'feridies', 'ferment', 'fermentation', 'fermented', 'fermenter', 'fermenting', 'ferndale', 'ferran', 'ferrara', 'ferrel', 'ferreros', 'ferrets', 'ferric', 'ferris', 'ferriss', 'ferrous', 'fertilizer', 'fertilizers', 'fervently', 'fervor', 'fesh', 'fest', 'festering', 'festival', 'festivals', 'festive', 'feta', 'fetaccini', 'fetid', 'fettacine', 'fettucine', 'fettucini', 'feullitees', 'fever', 'fewer', 'fewest', 'fexex', 'ff', 'fg', 'fi', 'fiance', 'fiancee', 'fiasco', 'fiber', 'fiberglass', 'fibers', 'fibre', 'fibromyalgia', 'fibrous', 'ficher', 'fiddle', 'fiddling', 'fido', 'field', 'fielding', 'fields', 'fiend', 'fierce', 'fiery', 'fiesta', 'fiesty', 'fifa', 'fifteen', 'fifth', 'fifths', 'fifty', 'fig', 'figaro', 'figgy', 'fight', 'fighting', 'fights', 'figs', 'figuratively', 'figure', 'figured', 'figureee', 'figures', 'figuring', 'fiirst', 'fiji', 'filberts', 'file', 'filed', 'filet', 'fileted', 'filets', 'filigree', 'filing', 'filipino', 'filiz', 'fill', 'filled', 'filledhard', 'filler', 'fillers', 'filleted', 'fillets', 'filling', 'fillingoverall', 'fillls', 'fills', 'filminess', 'filming', 'films', 'filmy', 'filter', 'filtered', 'filtering', 'filters', 'filth', 'filthy', 'filtration', 'filtro', 'fin', 'final', 'finalizing', 'finally', 'finals', 'finaly', 'finances', 'financial', 'financially', 'find', 'finding', 'findings', 'finds', 'findthat', 'findthe', 'fine', 'finegale', 'finely', 'fineness', 'finer', 'finesse', 'finger', 'fingernail', 'fingernails', 'fingers', 'fingersdropped', 'fingertips', 'fingr', 'fini', 'finick', 'finicky', 'finiky', 'finish', 'finished', 'finisher', 'finishes', 'finishing', 'finland', 'finnish', 'finshed', 'fireball', 'firecracker', 'firecrackers', 'fired', 'firelight', 'fireplace', 'fires', 'fireweed', 'firewire', 'fireworks', 'firm', 'firmed', 'firmer', 'firmly', 'firmness', 'first', 'firstly', 'firstmate', 'firsttime', 'firt', 'firts', 'fish', 'fishbait', 'fished', 'fisherman', 'fishery', 'fishes', 'fishie', 'fishier', 'fishiness', 'fishmarket', 'fishstick', 'fishy', 'fisrt', 'fist', 'fisticuffs', 'fists', 'fit', 'fitness', 'fitted', 'fitting', 'fittingly', 'fitz', 'five', 'fivebucks', 'fix', 'fixated', 'fixed', 'fixens', 'fixes', 'fixin', 'fixing', 'fixture', 'fixtures', 'fixx', 'fiz', 'fizz', 'fizzed', 'fizzes', 'fizziness', 'fizzle', 'fizzy', 'fl', 'fla', 'flabbergasted', 'flabby', 'flag', 'flagship', 'flail', 'flailing', 'flair', 'flake', 'flaked', 'flaking', 'flaky', 'flambeed', 'flames', 'flamin', 'flaming', 'flamingo', 'flammable', 'flan', 'flanders', 'flank', 'flannel', 'flaovor', 'flap', 'flapjacks', 'flapper', 'flaps', 'flare', 'flared', 'flares', 'flash', 'flashbacks', 'flashing', 'flashlight', 'flashy', 'flat', 'flatbread', 'flatbreads', 'flatly', 'flatten', 'flattened', 'flattening', 'flattens', 'flatter', 'flatulence', 'flaver', 'flavers', 'flavia', 'flavocol', 'flavones', 'flavonoid', 'flavonoids', 'flavor', 'flavorable', 'flavorand', 'flavored', 'flavores', 'flavorful', 'flavori', 'flavorice', 'flavoring', 'flavoringconspackage', 'flavorings', 'flavorl', 'flavorless', 'flavoro', 'flavorthe', 'flavorto', 'flavorul', 'flavos', 'flavour', 'flavoured', 'flavourful', 'flavouring', 'flavournow', 'flavours', 'flavrz', 'flaw', 'flawed', 'flawless', 'flawlessly', 'flaws', 'flax', 'flaxmeal', 'flaxseed', 'flaxseeds', 'flea', 'fledglings', 'flee', 'fleet', 'fleischmann', 'flesh', 'fleshy', 'flew', 'flex', 'flexes', 'flexibility', 'flexible', 'flicker', 'flickering', 'flicking', 'flies', 'flight', 'flights', 'flimsy', 'flinching', 'fling', 'flinging', 'flintstone', 'flip', 'flipped', 'flippin', 'flipping', 'flips', 'flipside', 'flmost', 'float', 'floaters', 'floating', 'flocculation', 'flocken', 'flood', 'flooding', 'floor', 'floored', 'flooring', 'floors', 'flop', 'flopped', 'flopping', 'flops', 'flora', 'floral', 'florentine', 'florida', 'florist', 'florists', 'floss', 'flossing', 'flour', 'floured', 'flourfor', 'flouridated', 'flouride', 'flourish', 'flourished', 'flourishes', 'flours', 'flovor', 'flovorful', 'flovors', 'flowed', 'flower', 'flowerbed', 'flowering', 'flowerwater', 'flowery', 'flowing', 'flows', 'fluaid', 'fluctuate', 'fluctuated', 'fluctuates', 'fluently', 'fluff', 'fluffed', 'fluffier', 'fluffiest', 'fluffiness', 'fluffing', 'fluffs', 'fluffy', 'fluid', 'fluids', 'fluke', 'flung', 'fluorescent', 'fluoridated', 'fluoride', 'flus', 'flush', 'flushed', 'flushing', 'flutd', 'flute', 'flutters', 'fluxuated', 'flvor', 'fly', 'flycatcher', 'flyer', 'flying', 'flynn', 'flys', 'flytrap', 'fnb', 'fne', 'foam', 'foamed', 'foaming', 'foams', 'foamy', 'fob', 'fobbing', 'focaccia', 'foccaccia', 'foccacia', 'foco', 'focus', 'focused', 'focuses', 'focusing', 'fod', 'fodant', 'fog', 'foggy', 'foie', 'foiled', 'fold', 'folded', 'folder', 'folders', 'folding', 'folds', 'folger', 'folgers', 'folghers', 'foliage', 'folic', 'folk', 'folks', 'follow', 'followed', 'following', 'fom', 'fond', 'fondant', 'fondants', 'fondarific', 'fondly', 'fondness', 'fong', 'fonts', 'foo', 'food', 'foodie', 'foodireland', 'foodist', 'foods', 'foodsaver', 'foodstore', 'foodstuff', 'foodstuffs', 'foodsubject', 'fool', 'fooled', 'fooling', 'foolish', 'foolishly', 'foolishness', 'foolproof', 'fools', 'foot', 'footage', 'football', 'footed', 'foothills', 'footprint', 'footrace', 'fop', 'fora', 'forabout', 'forage', 'foray', 'forbidden', 'force', 'forced', 'forcefeed', 'forcefully', 'forces', 'forcing', 'ford', 'forearms', 'foree', 'forego', 'foregoing', 'foreground', 'forehead', 'foreign', 'forelegs', 'foremost', 'foresee', 'foreseeable', 'foresight', 'forest', 'forests', 'forever', 'foreward', 'forewarned', 'forewarning', 'forge', 'forged', 'forget', 'forgetful', 'forgets', 'forgiving', 'forgo', 'forgor', 'forgotten', 'fork', 'forked', 'forking', 'forknot', 'forks', 'form', 'formal', 'formaldehyde', 'formally', 'format', 'formation', 'formed', 'former', 'formerly', 'formidable', 'forms', 'formula', 'formulacons', 'formular', 'formulary', 'formulas', 'formulate', 'formulated', 'formulation', 'formulations', 'forn', 'forquenching', 'forrest', 'fort', 'fortes', 'forth', 'forthcoming', 'forthe', 'forthright', 'fortification', 'fortified', 'fortify', 'fortnam', 'fortum', 'fortunate', 'fortunately', 'fortune', 'fortunes', 'fortunitly', 'forture', 'forty', 'forum', 'forumla', 'forums', 'forward', 'forwarded', 'fos', 'foster', 'fostered', 'fostering', 'fought', 'foul', 'foulest', 'found', 'founded', 'founder', 'founding', 'fountains', 'four', 'fours', 'fourteen', 'fourth', 'fourths', 'foward', 'fowl', 'fox', 'foxes', 'fpo', 'fr', 'fraction', 'fractionated', 'fracture', 'fractured', 'fragile', 'fragment', 'fragmentatized', 'fragmented', 'fragments', 'fragrance', 'fragrances', 'frame', 'framers', 'francaie', 'francaise', 'france', 'franchise', 'francine', 'francisco', 'frangelica', 'frank', 'franken', 'frankenfood', 'frankenstein', 'frankie', 'frankly', 'franks', 'frantic', 'frantically', 'frantoia', 'frappacino', 'frappe', 'frappes', 'frappuccino', 'frappuccinos', 'frappucino', 'fraud', 'frayed', 'fraying', 'frazzled', 'freak', 'freaked', 'freakin', 'freaking', 'freaks', 'freaky', 'freash', 'freckles', 'fred', 'frederick', 'free', 'freeand', 'freebies', 'freebird', 'freebirds', 'freecontains', 'freecycle', 'freed', 'freedom', 'freeing', 'freeinstantpistachio', 'freely', 'freetedward', 'freeway', 'freezdried', 'freeze', 'freezer', 'freezing', 'freh', 'freight', 'freighted', 'freind', 'french', 'frenchie', 'frenchies', 'frenetically', 'frenzy', 'frequencies', 'frequency', 'frequent', 'frequently', 'fresca', 'fresco', 'fresh', 'freshen', 'freshened', 'freshener', 'fresheners', 'freshening', 'fresher', 'freshes', 'freshest', 'freshing', 'freshly', 'freshman', 'freshner', 'freshness', 'fret', 'fri', 'friction', 'friday', 'fridays', 'fridge', 'fried', 'friend', 'friendliness', 'friendly', 'friends', 'friendship', 'friendsthe', 'fries', 'frig', 'friggin', 'frighten', 'frightened', 'frightens', 'frightfully', 'frijoles', 'frills', 'frinds', 'fringes', 'frisbee', 'frisbees', 'frise', 'friskie', 'friskies', 'frisky', 'frito', 'fritos', 'frittata', 'fritz', 'friulana', 'friut', 'frivolous', 'frizzies', 'frm', 'froggy', 'frogs', 'frolic', 'frolicking', 'froma', 'fromm', 'fromn', 'fromthe', 'front', 'frontier', 'frontporchpops', 'fronts', 'frost', 'frosted', 'frosting', 'frostingcombine', 'frostings', 'frosts', 'frosty', 'froth', 'frothed', 'frother', 'frothing', 'frothy', 'frowned', 'froze', 'frozen', 'frrrozen', 'fru', 'fruchte', 'fructooligosaccarides', 'fructose', 'fructouse', 'frugality', 'frugalone', 'fruit', 'fruitables', 'fruitcake', 'fruitcons', 'fruitful', 'fruiti', 'fruitie', 'fruitier', 'fruitiness', 'fruitless', 'fruits', 'fruity', 'frusterating', 'frustrated', 'frustrates', 'frustrating', 'frustration', 'fruta', 'frutose', 'fruztio', 'frw', 'fry', 'fryer', 'fryin', 'frying', 'frys', 'ft', 'ftgfop', 'ftw', 'fudgy', 'fuego', 'fuel', 'fueled', 'fueling', 'fuels', 'fuit', 'fuji', 'fukushima', 'ful', 'fulfil', 'fulfilled', 'fulfilling', 'fulfillment', 'fulfills', 'full', 'fuller', 'fullers', 'fullest', 'fullfillment', 'fullness', 'fulls', 'fulltime', 'fully', 'fumble', 'fumes', 'fun', 'function', 'functional', 'functionality', 'functionally', 'functioned', 'functioning', 'functions', 'fund', 'fundraising', 'funds', 'funeral', 'funfetti', 'fungal', 'fungicides', 'fungus', 'funk', 'funnel', 'funnier', 'funny', 'funyuns', 'fur', 'furbabies', 'furbaby', 'furballs', 'furious', 'furkids', 'furnace', 'furniture', 'furnitures', 'furred', 'furry', 'furthermore', 'furthur', 'fused', 'fusel', 'fushion', 'fusilli', 'fusion', 'fusions', 'fussbudget', 'fussie', 'fussinesseasy', 'fussing', 'fusspot', 'fussy', 'futile', 'futility', 'future', 'fuze', 'fuzz', 'fuzzies', 'fuzzy', 'fwiw', 'fyi', 'ga', 'gaas', 'gabacho', 'gabby', 'gabriel', 'gabriella', 'gad', 'gadgets', 'gag', 'gaga', 'gagged', 'gaggia', 'gags', 'gah', 'gained', 'gainesville', 'gaining', 'gains', 'gal', 'galactica', 'galaxy', 'galil', 'gall', 'galletas', 'galley', 'gallo', 'gallon', 'gallons', 'galois', 'gamble', 'gambling', 'gamboling', 'game', 'gamed', 'gamer', 'games', 'gamey', 'gamier', 'gamit', 'gamut', 'ganache', 'gang', 'gano', 'ganocafe', 'ganoderma', 'gap', 'gaps', 'garabaldis', 'garage', 'garageband', 'garam', 'garanteed', 'garbanzo', 'garden', 'gardener', 'gardeners', 'gardening', 'gardenlike', 'gardetto', 'gargle', 'garibaldi', 'garliced', 'garlicky', 'garlicy', 'garnered', 'garnet', 'garni', 'garnish', 'garten', 'gary', 'gas', 'gaseous', 'gasi', 'gasiness', 'gasket', 'gasmic', 'gasoline', 'gasped', 'gasping', 'gasreduced', 'gassy', 'gastric', 'gastritis', 'gastro', 'gastroenterologist', 'gastroesophageal', 'gastrointestinal', 'gastronomically', 'gate', 'gates', 'gather', 'gathered', 'gathering', 'gatherings', 'gator', 'gatorade', 'gatoraid', 'gatornorm', 'gatos', 'gaufres', 'gauge', 'gauging', 'gaurenteed', 'gave', 'gavin', 'gaviscon', 'gawked', 'gayles', 'gazette', 'gc', 'gd', 'gds', 'ge', 'gear', 'geared', 'geat', 'gee', 'geeh', 'geek', 'geeky', 'geenies', 'geese', 'geesh', 'geez', 'geeze', 'gefen', 'geisha', 'gelatenous', 'gelatin', 'gelatine', 'gelatinized', 'gelatinous', 'gelato', 'gelding', 'geliva', 'gelpotassium', 'gels', 'gem', 'gems', 'genache', 'gender', 'gene', 'general', 'generalized', 'generally', 'generate', 'generateed', 'generates', 'generation', 'generations', 'genererics', 'genererlous', 'generic', 'generously', 'generouslycoat', 'genes', 'genetically', 'genious', 'genisoy', 'genius', 'geniuses', 'genmai', 'genocide', 'gentle', 'gentlease', 'gentleman', 'gentlemen', 'gentler', 'gently', 'genuine', 'genuinely', 'genus', 'geographic', 'geomar', 'george', 'georgetown', 'georgia', 'georgie', 'geranium', 'geraniums', 'gerbers', 'gerd', 'geriatric', 'germ', 'german', 'germans', 'germany', 'germed', 'germinate', 'germinated', 'germinates', 'germinating', 'germination', 'germs', 'germy', 'gery', 'gest', 'gestalt', 'gestational', 'gesture', 'get', 'getaway', 'getcher', 'getme', 'gets', 'getsome', 'getthis', 'getting', 'gettinng', 'gettuing', 'gevalia', 'geyser', 'gf', 'gfcf', 'gfcfsf', 'gfree', 'gggrrreeeaattt', 'ghastly', 'ghee', 'gheeee', 'ghees', 'ghiardhelli', 'ghiradeli', 'ghiradelli', 'ghiradhelli', 'ghiraradelli', 'ghirardelli', 'ghost', 'ghosts', 'ghz', 'gi', 'giannini', 'giant', 'giblets', 'giddy', 'gift', 'gifted', 'gifting', 'gigantic', 'giger', 'giggle', 'giggles', 'gigi', 'gigner', 'gild', 'gilding', 'gilligan', 'gilroy', 'gimborn', 'gimlet', 'gimme', 'gimmemegimmegimmemegimmegimmemegimmegimmemegimmegimmemegimmegimmemegimme', 'gimmick', 'gimmicky', 'gin', 'giner', 'ginger', 'gingercons', 'gingerly', 'gingers', 'gingersnap', 'gingersnaps', 'gingerthis', 'gingery', 'gingivitus', 'ginseng', 'giorno', 'gioven', 'giradelli', 'girl', 'girlfriend', 'girlfriends', 'girlies', 'girls', 'girlscout', 'girth', 'gitters', 'giult', 'give', 'giveaway', 'given', 'giver', 'givers', 'gives', 'givin', 'giving', 'glace', 'glaceed', 'glaces', 'glad', 'gladly', 'glam', 'glamorous', 'glamour', 'glanced', 'gland', 'glands', 'glaring', 'glas', 'glass', 'glassafter', 'glasses', 'glassware', 'glassy', 'glaucoma', 'glaze', 'glazed', 'glazier', 'gleam', 'gleaming', 'glee', 'gleefully', 'glen', 'glenfiddich', 'glenny', 'glico', 'glide', 'glider', 'glistening', 'glitches', 'glitter', 'gloating', 'glob', 'globbed', 'globbs', 'globby', 'globe', 'globeat', 'globs', 'gloom', 'glop', 'gloppity', 'gloppy', 'gloria', 'glorified', 'glorious', 'glory', 'glossary', 'glossier', 'glossy', 'glove', 'glovebox', 'gloves', 'glow', 'glowering', 'glp', 'glucan', 'glucans', 'glucomannan', 'glucomsumine', 'glucosa', 'glucosamine', 'glucose', 'glucosomine', 'gludamate', 'glue', 'glued', 'glueton', 'gluey', 'gluing', 'glulten', 'glutamate', 'glutamateof', 'gluten', 'glutenfree', 'glutenous', 'glutens', 'glutino', 'glutinous', 'gluton', 'glutten', 'glutton', 'gluttonous', 'gluttonously', 'gluttony', 'glycemic', 'glycerides', 'glycerine', 'glycimic', 'glycogen', 'glycol', 'glyphosate', 'gm', 'gma', 'gmail', 'gmc', 'gmcr', 'gmo', 'gmos', 'gms', 'gn', 'gnarled', 'gnarls', 'gnarly', 'gnat', 'gnaw', 'gnawhide', 'gnawing', 'gnc', 'gnocchi', 'gnome', 'gnomes', 'gnu', 'go', 'goad', 'goal', 'goals', 'goat', 'goats', 'gobble', 'gobbling', 'goblet', 'gobsmacked', 'gobstoppers', 'gocery', 'gochujang', 'god', 'godiva', 'godly', 'gods', 'godsend', 'godzilla', 'goes', 'gogastudios', 'goggled', 'gogh', 'gogi', 'gogo', 'gogreenmart', 'goi', 'going', 'goji', 'gold', 'golden', 'goldendoodle', 'goldfish', 'goldfishes', 'goldfishies', 'goldie', 'goldilock', 'goldilocks', 'goldschmidt', 'golean', 'golf', 'golfer', 'golfing', 'golore', 'gomem', 'gomme', 'gong', 'gonna', 'goober', 'goobled', 'good', 'goodall', 'goodas', 'goodbars', 'goodbut', 'goodbye', 'gooddark', 'goodearth', 'goodies', 'goodlife', 'goodly', 'goodman', 'goodnes', 'goodnight', 'goodpersontest', 'goods', 'goodstart', 'goody', 'gooey', 'goof', 'goofed', 'goofy', 'google', 'googled', 'googling', 'googly', 'goood', 'goooddddd', 'goooood', 'goooooooooooooooooood', 'goop', 'goopy', 'goos', 'goose', 'gooy', 'gopher', 'gophers', 'gorcery', 'gordo', 'gorgeous', 'gorgeously', 'gorging', 'gorgonzola', 'gorilla', 'gormet', 'gorton', 'gos', 'gosh', 'goslings', 'gospel', 'got', 'gothese', 'goto', 'gotta', 'gotu', 'gouge', 'gouged', 'gouges', 'gouging', 'goulash', 'gourd', 'gourge', 'gourmantra', 'gourmet', 'gout', 'gov', 'government', 'goya', 'gr', 'grab', 'grabbed', 'grabber', 'grabbers', 'grabbing', 'grabby', 'graber', 'grabs', 'grace', 'gracefully', 'gracie', 'gracious', 'graciously', 'grackles', 'grad', 'grade', 'graded', 'grades', 'grading', 'gradual', 'gradually', 'graduate', 'graduated', 'graduating', 'grafefruit', 'graft', 'graham', 'grahams', 'grahm', 'grail', 'grain', 'grained', 'grainey', 'graininess', 'grainless', 'grains', 'graintry', 'grainy', 'graisse', 'gram', 'gramma', 'grammas', 'grammy', 'grammys', 'grams', 'gramsa', 'gramsdietary', 'gramsfiber', 'gramsprotein', 'gramssince', 'gramssugars', 'gramstotal', 'gran', 'granache', 'grandaughter', 'grandbaby', 'grandchild', 'grandchildren', 'granddaugher', 'granddaughter', 'granddaughters', 'grande', 'grandfather', 'grandkid', 'grandkidswere', 'grandkitten', 'grandma', 'grandmas', 'grandmother', 'grandmothers', 'grandomther', 'grandpa', 'grands', 'grandson', 'grandsons', 'granfather', 'granita', 'granny', 'granola', 'granolas', 'grans', 'grant', 'granted', 'granular', 'granularity', 'granulated', 'granule', 'grap', 'grape', 'grapefruit', 'grapeseed', 'grapette', 'grapey', 'graphic', 'graphics', 'gras', 'grasping', 'grass', 'grasses', 'grassfed', 'grasshoppers', 'grassmer', 'grassroots', 'grassy', 'grate', 'grateful', 'grater', 'grates', 'grateul', 'gratified', 'gratifying', 'gratin', 'grating', 'gratitude', 'gratted', 'gravel', 'gravey', 'gravies', 'graving', 'gravitas', 'gravy', 'gray', 'grayer', 'grayish', 'grazed', 'grazer', 'grazie', 'grazing', 'grcoery', 'grd', 'grea', 'grease', 'greased', 'greaseless', 'greasey', 'greasier', 'greasy', 'great', 'greate', 'greater', 'greatest', 'greatful', 'greatly', 'greatness', 'greattaste', 'greattea', 'greatway', 'greatzero', 'grecian', 'greece', 'greed', 'greedily', 'greeinies', 'greek', 'greeks', 'greemies', 'green', 'greened', 'greener', 'greenery', 'greenest', 'greenhouse', 'greenie', 'greenien', 'greenies', 'greening', 'greenish', 'greens', 'greenville', 'greenwich', 'greet', 'greeted', 'greetings', 'greets', 'greg', 'gregory', 'grenading', 'grenn', 'gretel', 'grey', 'greyhound', 'greyhounds', 'greyish', 'greys', 'grgrgreat', 'grid', 'griddle', 'grief', 'griffin', 'grill', 'griller', 'grillin', 'grilling', 'grillinsauce', 'grills', 'grimaced', 'grimy', 'grin', 'grind', 'grinder', 'grinders', 'grindes', 'grinds', 'gringo', 'grip', 'gripe', 'grisel', 'grissle', 'gristley', 'gristly', 'grit', 'grits', 'grittiness', 'gritting', 'gritty', 'grittyness', 'grizzly', 'gro', 'groan', 'groaned', 'groat', 'groccery', 'grocer', 'grocercy', 'grocers', 'grocery', 'grocerystore', 'groggy', 'groom', 'groomed', 'groomer', 'grooms', 'grooves', 'gross', 'grossed', 'grossest', 'grossing', 'grossly', 'grossness', 'ground', 'grounded', 'groundhog', 'grounditalian', 'grounds', 'group', 'grouped', 'grouper', 'groupon', 'groups', 'grove', 'groves', 'grow', 'grower', 'growers', 'growing', 'growl', 'growlin', 'growling', 'growls', 'grown', 'growning', 'grownup', 'grownups', 'grows', 'growth', 'grr', 'grrr', 'grrrr', 'grrrrr', 'grrrrrrrreat', 'grubbing', 'gruber', 'grudge', 'grudgingly', 'gruel', 'grumpiness', 'grumpy', 'gruyere', 'gs', 'gsa', 'gsd', 'gu', 'guacamole', 'guaifenisen', 'gualala', 'guam', 'guanciale', 'guano', 'guanylate', 'guar', 'guarana', 'guarani', 'guarantee', 'guaranteed', 'guarantees', 'guaranty', 'guard', 'guardians', 'guarding', 'guards', 'guatemala', 'guatemalan', 'guava', 'guayusa', 'gubment', 'gucamole', 'guess', 'guessed', 'guesses', 'guessing', 'guesswork', 'guest', 'guesto', 'guests', 'guidance', 'guide', 'guided', 'guideingredients', 'guidelines', 'guides', 'guilin', 'guilt', 'guiltfree', 'guiltily', 'guiltless', 'guilty', 'guinea', 'guise', 'guitar', 'gulab', 'gulf', 'gullet', 'gulp', 'gulped', 'gulping', 'gulps', 'gultin', 'gulyas', 'gum', 'gumballs', 'gumbo', 'gumcarrageenanso', 'gumline', 'gummed', 'gummi', 'gummib', 'gummie', 'gummier', 'gummis', 'gummy', 'gump', 'gums', 'gun', 'gundpowder', 'gunk', 'gunked', 'gunky', 'gunner', 'gunnermay', 'gunny', 'gunpowder', 'gunpwder', 'gunshot', 'gurgles', 'gurgling', 'guru', 'gushers', 'gushy', 'guso', 'gussie', 'gustaf', 'gustafs', 'gustatory', 'gusto', 'gustos', 'gut', 'gutaf', 'gute', 'guten', 'guts', 'gutsy', 'gutter', 'guy', 'guys', 'guzzle', 'guzzles', 'guzzling', 'gyahhh', 'gylcemic', 'gym', 'gyn', 'gypsy', 'gyros', 'ha', 'haagen', 'haba', 'habanero', 'habaneros', 'habenero', 'habit', 'habitat', 'habits', 'habitual', 'haccp', 'hachez', 'hacked', 'hacking', 'hackjob', 'haddock', 'hadi', 'hadmany', 'hafi', 'hafner', 'hagen', 'hagman', 'hah', 'haha', 'hahah', 'hahaha', 'hahahahah', 'hahahahahaha', 'haiga', 'hail', 'hailed', 'hair', 'hairball', 'hairballs', 'haircut', 'hairdo', 'haired', 'hairless', 'hairline', 'hairstylist', 'hairy', 'halachic', 'halal', 'halaleveryday', 'half', 'halibut', 'halitosis', 'hall', 'halleluja', 'hallelujah', 'hallelulah', 'halloween', 'halls', 'hallway', 'halo', 'halt', 'halted', 'haluckmarketing', 'halva', 'halvah', 'halved', 'halves', 'halving', 'ham', 'hamberger', 'hamburger', 'hamburgers', 'hamilton', 'hammer', 'hammered', 'hammock', 'hampshire', 'hams', 'hamsteak', 'hamster', 'hamsters', 'hand', 'handbag', 'handbags', 'handcrafted', 'handcut', 'handed', 'handful', 'handfull', 'handfuls', 'handicapped', 'handicaps', 'handier', 'handily', 'handing', 'handle', 'handled', 'handleful', 'handles', 'handling', 'handly', 'handsdown', 'handsome', 'handwriting', 'handwritten', 'handy', 'hanging', 'hangover', 'hangovers', 'hangs', 'hangups', 'hank', 'hankering', 'hankook', 'hannaford', 'hanoud', 'hanout', 'hanover', 'hans', 'hansen', 'hant', 'haphazardly', 'hapi', 'happed', 'happen', 'happend', 'happened', 'happening', 'happens', 'happiest', 'happily', 'happiness', 'happpy', 'happy', 'happybaby', 'happybellies', 'happycame', 'happymunchies', 'happytime', 'happytot', 'har', 'harassing', 'harbor', 'harbors', 'hard', 'hardcore', 'harden', 'hardend', 'hardened', 'hardening', 'hardens', 'hardest', 'hardier', 'harding', 'hardish', 'hardly', 'hardness', 'hards', 'hardship', 'hardshipi', 'hardtack', 'hardthat', 'hardwood', 'hardy', 'hare', 'haribo', 'harina', 'harm', 'harmed', 'harmfull', 'harming', 'harmless', 'harmonic', 'harmonious', 'harmonize', 'harmony', 'harney', 'harp', 'harried', 'harris', 'harrogate', 'harry', 'harsh', 'harsher', 'harshness', 'hartz', 'harvard', 'harvarti', 'harvest', 'harvested', 'harvesting', 'harvey', 'hasappeal', 'haselnuss', 'hash', 'hashbrown', 'hashbrowns', 'hasmade', 'hasmore', 'hasnt', 'hassel', 'haste', 'hastily', 'hasty', 'hatch', 'hatchet', 'hate', 'hated', 'hateful', 'hater', 'haters', 'hates', 'hating', 'hats', 'haul', 'haunting', 'hauntingly', 'haunts', 'haute', 'hav', 'havanese', 'havarti', 'haved', 'havegetable', 'haveing', 'havent', 'haveproven', 'havery', 'haves', 'havesomething', 'havi', 'havoc', 'havve', 'haw', 'hawai', 'hawaii', 'hawaiian', 'hawell', 'hawk', 'hawking', 'hawkins', 'hawt', 'hawthorn', 'hawthorne', 'hay', 'hayfever', 'hazards', 'haze', 'hazel', 'hazelnut', 'hazelnuts', 'hazenut', 'hazer', 'hazes', 'hazlenut', 'hcg', 'hd', 'hdl', 'hdpe', 'head', 'headache', 'headaches', 'headachy', 'headed', 'header', 'headers', 'heading', 'headless', 'headphone', 'heads', 'headway', 'heady', 'healed', 'heals', 'health', 'healthcare', 'healther', 'healthest', 'healthfood', 'healthfully', 'healthfulness', 'healthier', 'healthily', 'healthiness', 'healthly', 'healthwise', 'healthy', 'healthyway', 'healtier', 'healtiest', 'healty', 'heap', 'heaping', 'hear', 'hearburn', 'heard', 'hearing', 'hears', 'heart', 'heartbeat', 'heartbeats', 'heartbreaking', 'heartburn', 'hearted', 'heartedly', 'heartier', 'heartiest', 'heartily', 'heartiness', 'heartland', 'heartless', 'heartly', 'heartrending', 'hearts', 'heartworm', 'hearty', 'heat', 'heated', 'heater', 'heath', 'heathy', 'heating', 'heatlhy', 'heats', 'heatwaves', 'heave', 'heaved', 'heaven', 'heavenly', 'heavens', 'heaves', 'heavey', 'heavier', 'heaviest', 'heavily', 'heaviness', 'heavy', 'heb', 'hecho', 'heck', 'hectic', 'hedge', 'hediard', 'hee', 'heed', 'heeded', 'heeler', 'heels', 'heft', 'hefty', 'hehehe', 'heheheh', 'hehehehehe', 'hei', 'height', 'heighten', 'heightened', 'heights', 'heimlich', 'heinz', 'heirloom', 'held', 'helds', 'helfer', 'hell', 'hella', 'hellman', 'hellmans', 'hello', 'helm', 'heloooo', 'help', 'helped', 'helpedi', 'helper', 'helpers', 'helpful', 'helping', 'helpings', 'helps', 'helsinki', 'hemisphere', 'hemoglobin', 'hemorrhoid', 'hemorrhoids', 'hemp', 'hempmilk', 'hempseed', 'hempseeds', 'hempshake', 'hen', 'hence', 'henceforth', 'henna', 'hennesy', 'henry', 'hepatitis', 'hepburn', 'herb', 'herbal', 'herbalife', 'herbals', 'herbed', 'herbicide', 'herbicides', 'herbs', 'herbsand', 'herby', 'hercules', 'herd', 'herding', 'herds', 'herebeen', 'hereby', 'heritage', 'hermetic', 'hermetically', 'hermit', 'hernia', 'hero', 'heroin', 'herpes', 'herpink', 'herr', 'herradura', 'herring', 'herrings', 'hersehey', 'hersey', 'hershelf', 'hershey', 'hersheys', 'hes', 'hesistant', 'hesistate', 'hesitant', 'hesitate', 'hesitated', 'hesitates', 'hesitating', 'hesitation', 'hesse', 'hessitate', 'hexametaphosphate', 'hexane', 'hextra', 'hfc', 'hfcf', 'hfcs', 'hfcskelloggs', 'hh', 'hi', 'hiatus', 'hibachi', 'hibernate', 'hibicus', 'hibiscus', 'hibuscus', 'hickory', 'hickson', 'hid', 'hidden', 'hideous', 'hides', 'hienz', 'hierbes', 'high', 'highball', 'highest', 'highland', 'highlight', 'highlighted', 'highlights', 'highlite', 'highly', 'highs', 'hight', 'highway', 'highy', 'hijike', 'hijinks', 'hike', 'hiked', 'hiker', 'hikers', 'hikes', 'hiking', 'hilachas', 'hilarious', 'hill', 'hillbilly', 'hills', 'hillsbrothers', 'hillside', 'hilly', 'hilmo', 'himalania', 'himalayan', 'himalayas', 'himalya', 'hime', 'himsself', 'hind', 'hindenburg', 'hindsight', 'hines', 'hinged', 'hinges', 'hint', 'hinted', 'hints', 'hip', 'hippocrates', 'hippy', 'hipster', 'hipsters', 'hired', 'hirts', 'hisband', 'hisbiscus', 'hispaic', 'hispanic', 'hiss', 'hisses', 'hissing', 'historic', 'historical', 'history', 'hit', 'hitch', 'hither', 'hitler', 'hitman', 'hits', 'hitting', 'hiv', 'hive', 'hk', 'hm', 'hmm', 'hmmm', 'hmmmmm', 'hmmmmmm', 'hmo', 'hmong', 'hnf', 'ho', 'hoarded', 'hoarding', 'hobbies', 'hobbling', 'hobby', 'hobnobs', 'hoboken', 'hocked', 'hockey', 'hocks', 'hocus', 'hodges', 'hodgson', 'hoffmanwyoming', 'hog', 'hogs', 'hogson', 'hogwash', 'hoity', 'hojicha', 'hokey', 'hold', 'holder', 'holders', 'holding', 'holds', 'hole', 'holey', 'holic', 'holidays', 'holiest', 'holistic', 'holistix', 'holland', 'holloween', 'holly', 'hollywood', 'holmes', 'home', 'homeade', 'homecooked', 'homedepot', 'homegoods', 'homegrown', 'homeless', 'homemade', 'homeopathic', 'homer', 'homes', 'homestyle', 'hometown', 'homework', 'homey', 'homiedog', 'homing', 'homogeneous', 'homogenized', 'homogenizes', 'hon', 'honees', 'honest', 'honestly', 'honesty', 'honey', 'honeybees', 'honeybush', 'honeycomb', 'honeycombs', 'honeyed', 'honeygood', 'honeymilk', 'honeymoon', 'honeymooning', 'honeypot', 'honeys', 'honeyshe', 'honeyville', 'honeyvillgrain', 'hong', 'hongkong', 'honor', 'honored', 'honoring', 'honors', 'hontesly', 'hoo', 'hood', 'hoodoo', 'hoody', 'hook', 'hookah', 'hooked', 'hookworms', 'hooooorrraaaaaay', 'hoooray', 'hoopla', 'hootie', 'hoover', 'hooves', 'hop', 'hope', 'hoped', 'hopeful', 'hopefully', 'hopefuly', 'hopeing', 'hopelessly', 'hopes', 'hoping', 'hopjes', 'hopkins', 'hopped', 'hopper', 'hopping', 'hops', 'hording', 'horehound', 'horehounds', 'horendous', 'horeshound', 'horizon', 'horizontally', 'horked', 'hormel', 'hormonal', 'hormone', 'hormones', 'horn', 'hornel', 'horrendous', 'horreur', 'horriable', 'horrible', 'horribly', 'horrific', 'horrified', 'horrifying', 'horror', 'horrors', 'hors', 'horse', 'horsepower', 'horseradish', 'horsford', 'horton', 'hose', 'hoses', 'hospital', 'hospitality', 'hospitalization', 'hospitalized', 'hospitals', 'hostas', 'hosted', 'hostess', 'hot', 'hotair', 'hotcakes', 'hotchocolates', 'hotdog', 'hotel', 'hotels', 'hotmail', 'hotmustard', 'hotnot', 'hots', 'hotsauce', 'hotspots', 'hotta', 'hotter', 'hottest', 'hottness', 'hotttt', 'hotty', 'houji', 'houjicha', 'hounds', 'hour', 'hours', 'hoursthen', 'house', 'houseblend', 'housedogs', 'houseful', 'houseguests', 'household', 'households', 'housekeeping', 'houseplants', 'houses', 'housewarming', 'housewife', 'houston', 'houstonfor', 'houtte', 'hovered', 'hovering', 'howard', 'howdy', 'however', 'howling', 'howlong', 'howls', 'howold', 'howthat', 'howver', 'hoy', 'hp', 'hpd', 'hpe', 'hr', 'hre', 'hrissa', 'hrs', 'hs', 'htb', 'hu', 'huband', 'hubbard', 'hubby', 'hubs', 'huckleberry', 'hudson', 'hue', 'huffing', 'hug', 'huge', 'hugely', 'hugged', 'hugger', 'huggie', 'hugging', 'huh', 'huichol', 'hull', 'hulless', 'hullless', 'hulls', 'hully', 'hum', 'human', 'humane', 'humanely', 'humanity', 'humans', 'humble', 'humbled', 'humdity', 'humes', 'humid', 'humidifier', 'humidity', 'humiliating', 'humm', 'hummingbird', 'hummingbirds', 'hummus', 'humongous', 'humor', 'humour', 'hump', 'humus', 'hunan', 'hunch', 'hund', 'hunden', 'hundenflocken', 'hundered', 'hundred', 'hundreds', 'hungarian', 'hungarianbookstore', 'hungary', 'hunger', 'hungery', 'hungover', 'hungries', 'hungrily', 'hungry', 'hunk', 'hunks', 'hunny', 'hunt', 'hunted', 'hunter', 'hunters', 'hunting', 'hurl', 'hurling', 'hurray', 'hurrell', 'hurricaine', 'hurrican', 'hurricane', 'hurricanes', 'hurried', 'hurry', 'hurt', 'hurtful', 'hurting', 'hurts', 'husban', 'husband', 'husbands', 'husbie', 'husbnd', 'husk', 'huskies', 'husks', 'husky', 'hutch', 'huy', 'huyben', 'huzzah', 'hv', 'hve', 'hy', 'hybrid', 'hybridization', 'hybrids', 'hyde', 'hyderabadi', 'hydes', 'hydrant', 'hydrate', 'hydrated', 'hydrates', 'hydration', 'hydrocarbons', 'hydrochloric', 'hydrocholoride', 'hydrogen', 'hydrolized', 'hydrolysate', 'hydrolysed', 'hydrolyzed', 'hydrox', 'hydroxide', 'hydroxytyrosol', 'hygiene', 'hype', 'hyped', 'hyper', 'hyperactive', 'hyperactivity', 'hyperbole', 'hypersonic', 'hypersweet', 'hypertension', 'hyping', 'hypnotic', 'hypoallergenic', 'hypochlorhydric', 'hypocritical', 'hypoglycemia', 'hypothesized', 'hyrator', 'hysterically', 'hyvee', 'ia', 'iam', 'iams', 'ian', 'ibd', 'ibs', 'ibu', 'ibuprofen', 'ibuy', 'ic', 'ice', 'icebreakers', 'iceburg', 'icecream', 'iced', 'iceing', 'icelandic', 'icetea', 'icewater', 'ichill', 'icicle', 'icile', 'icing', 'icings', 'ick', 'icky', 'icy', 'id', 'idaho', 'ide', 'idea', 'ideal', 'ideas', 'identical', 'identifiable', 'identifica', 'identificare', 'identified', 'identifies', 'identity', 'idid', 'idiosyncratic', 'idiot', 'idiots', 'idividual', 'idk', 'idlys', 'idyllic', 'ie', 'iffy', 'ifyou', 'iga', 'ige', 'igg', 'ignorance', 'ignore', 'ignored', 'ignores', 'ignoring', 'ihave', 'iherb', 'ihop', 'ii', 'ike', 'ikea', 'ikeep', 'il', 'ilike', 'illegally', 'illegible', 'illicit', 'illinois', 'illl', 'illnesses', 'illogical', 'illuminated', 'illusion', 'illustrate', 'illustrated', 'illustrates', 'illustration', 'illustrative', 'illy', 'ilness', 'ilove', 'im', 'imac', 'image', 'images', 'imaginable', 'imagination', 'imaginative', 'imagine', 'imagined', 'imaging', 'imagining', 'imbalance', 'imbedded', 'imbibed', 'imeeditaley', 'imitate', 'imitates', 'imitating', 'imitation', 'imitations', 'imitators', 'imma', 'immaculately', 'immagined', 'immature', 'immeasurably', 'immediate', 'immediately', 'immediatelysee', 'immediatly', 'immense', 'immensly', 'immerse', 'immersed', 'immigrants', 'immortal', 'immportant', 'immume', 'immune', 'immunity', 'immunizations', 'immunosuppressives', 'imo', 'impacted', 'impaction', 'impacts', 'impair', 'impaired', 'impart', 'imparted', 'impartial', 'imparting', 'imparts', 'impatient', 'impecibly', 'impending', 'imperative', 'imperfect', 'imperial', 'impervious', 'implant', 'implement', 'implicity', 'implied', 'implies', 'imploded', 'imply', 'implying', 'import', 'importance', 'important', 'importantly', 'imported', 'importer', 'importing', 'importnat', 'imports', 'imporvements', 'imposed', 'imposible', 'impossible', 'imposter', 'impoundment', 'impractical', 'imprerssed', 'impress', 'impressed', 'impresses', 'impressice', 'impression', 'impressions', 'impressive', 'imprinted', 'improbable', 'impromptu', 'improper', 'improperly', 'improved', 'improvememnt', 'improvement', 'improvised', 'improvment', 'impurities', 'ina', 'inability', 'inaccessibility', 'inadequacy', 'inadequate', 'inadequately', 'inadvertantly', 'inadvertently', 'inappropriate', 'inc', 'incalifornia', 'incandescent', 'incandescents', 'incapacities', 'incarnations', 'incase', 'incentive', 'incentives', 'inches', 'inching', 'incident', 'incidentally', 'incidents', 'incised', 'incl', 'inclan', 'inclinded', 'inclined', 'include', 'included', 'includeing', 'includes', 'includin', 'including', 'inclusion', 'income', 'incomparable', 'incompatible', 'incompetent', 'incomplete', 'incompletely', 'incomprehensibly', 'inconclusion', 'inconclusive', 'inconsequential', 'inconsistency', 'inconsistent', 'inconsistently', 'incontrovertible', 'inconveinence', 'inconvenience', 'inconveniences', 'inconvenient', 'inconvienent', 'incorporate', 'incorporated', 'incorporates', 'incorporating', 'incorrect', 'incorrectly', 'increase', 'increased', 'increases', 'incredible', 'incredibledifference', 'incredibly', 'incredient', 'incredients', 'incredulity', 'incredulously', 'incriminate', 'incriminating', 'incubate', 'incubating', 'incubator', 'ind', 'indeed', 'indeedy', 'indefinitely', 'indentation', 'indentations', 'indention', 'independence', 'independent', 'independently', 'independents', 'indescribable', 'indespensable', 'indestinguishable', 'indestructable', 'indestructible', 'indgedients', 'india', 'indian', 'indiana', 'indianapolis', 'indians', 'indicate', 'indicated', 'indicating', 'indications', 'indicationsof', 'indicative', 'indicator', 'indicators', 'indicums', 'indifferent', 'indigenous', 'indigestible', 'indigestion', 'indirect', 'indispensable', 'indistinguishable', 'individual', 'individualcrystal', 'individualized', 'individually', 'individuals', 'indo', 'indochina', 'indonesia', 'indonesian', 'indonesians', 'indoor', 'indoors', 'induce', 'induced', 'inducer', 'induces', 'inducing', 'inducments', 'indulge', 'indulged', 'indulgence', 'indulgences', 'indulgent', 'indulger', 'indulging', 'industrializing', 'industrially', 'industrious', 'industry', 'inedible', 'ineed', 'ineeded', 'ineffective', 'ineligible', 'inert', 'iness', 'inevitable', 'inevitably', 'inexact', 'inexpensive', 'inexpensively', 'inexperienced', 'inexplicable', 'infact', 'infamous', 'infant', 'infants', 'infarctions', 'infatuation', 'infected', 'infection', 'infections', 'infer', 'inferior', 'inferiors', 'inferring', 'infestation', 'infestations', 'infested', 'infinite', 'infinitely', 'infinitesimal', 'infinity', 'infirst', 'inflamed', 'inflamitory', 'inflammation', 'inflammatory', 'inflate', 'inflated', 'inflationary', 'inflection', 'influence', 'influenced', 'influences', 'influenster', 'influentser', 'info', 'inform', 'informal', 'information', 'informational', 'informative', 'informed', 'informercial', 'informiamo', 'informing', 'infrequently', 'infuse', 'infuser', 'infuses', 'infusing', 'infusion', 'infusions', 'ing', 'ingedient', 'ingedients', 'ingenious', 'ingest', 'ingested', 'ingesting', 'ingestion', 'ingreadents', 'ingred', 'ingredents', 'ingrediant', 'ingrediants', 'ingredience', 'ingrediendts', 'ingredient', 'ingredients', 'ingredientsorganic', 'ingredientspotatoes', 'ingredientsselect', 'ingredientswater', 'ingreident', 'ingridents', 'ingridients', 'ingriedant', 'ingriedient', 'inhabitant', 'inhale', 'inhaled', 'inhaler', 'inhalers', 'inhales', 'inhaling', 'inherent', 'inherited', 'inhibit', 'inhibiting', 'inhibition', 'inhibits', 'inhumanely', 'inimitable', 'inital', 'initally', 'initial', 'initially', 'initiative', 'injected', 'injecting', 'injection', 'injections', 'injera', 'injuring', 'injury', 'ink', 'inkling', 'inlaws', 'inline', 'inluenster', 'innards', 'inner', 'innocent', 'innocuous', 'innova', 'innovative', 'innovator', 'inoperable', 'inordinate', 'inordinately', 'inormed', 'inosinate', 'inosinatefrom', 'input', 'inputs', 'inquire', 'inquired', 'inquiries', 'inquiring', 'inquiry', 'inreturn', 'ins', 'insane', 'insanely', 'insanity', 'insatiable', 'insect', 'insecticidal', 'insecticide', 'insecure', 'insert', 'inserted', 'inserting', 'inserts', 'inside', 'insider', 'insides', 'insight', 'insightbb', 'insights', 'insignia', 'insinuates', 'insipid', 'insist', 'insisted', 'insisting', 'insists', 'insofar', 'insomnia', 'insomniac', 'inspect', 'inspected', 'inspecting', 'inspection', 'inspections', 'inspector', 'inspectors', 'inspiration', 'inspirational', 'inspire', 'inspired', 'inspiring', 'install', 'installation', 'installed', 'instance', 'instances', 'instant', 'instantaneously', 'instantly', 'instants', 'instead', 'insteade', 'insterad', 'instills', 'instinct', 'instinctively', 'instincts', 'instituted', 'institution', 'instore', 'instruct', 'instructed', 'instructing', 'instruction', 'instructions', 'instructor', 'instructs', 'instrument', 'insufficient', 'insulate', 'insulated', 'insulating', 'insulation', 'insulin', 'insult', 'insulted', 'insulting', 'insults', 'insurance', 'insure', 'int', 'intact', 'intake', 'intakes', 'integral', 'integrated', 'integrity', 'intellect', 'intelligence', 'intelligent', 'intelligentsia', 'intended', 'intending', 'intense', 'intensely', 'intensified', 'intensifies', 'intensify', 'intensity', 'intensivo', 'intenso', 'intent', 'intentinal', 'intention', 'intentional', 'inter', 'interact', 'interaction', 'interactions', 'interactive', 'interchangeable', 'interest', 'interested', 'interesting', 'interests', 'interface', 'interfere', 'interferes', 'interferons', 'interim', 'interior', 'interiors', 'intermediate', 'intermittent', 'intermittently', 'internal', 'internally', 'international', 'internationally', 'internet', 'internist', 'interno', 'interpret', 'interpretation', 'interpretations', 'interpretive', 'interrupted', 'interspersed', 'interstate', 'interstital', 'interval', 'intervals', 'intervention', 'interview', 'intervls', 'intesely', 'intestinal', 'intestine', 'intestines', 'inthailand', 'inthe', 'intial', 'intially', 'inticing', 'intimidate', 'intimidated', 'intimidating', 'intolerable', 'intolerance', 'intolerant', 'intollerances', 'intoxicated', 'intoxicating', 'intrest', 'intrigue', 'intrigued', 'intriguing', 'intriuged', 'intro', 'introduce', 'introducing', 'introducted', 'introduction', 'introductory', 'intrudes', 'intuitive', 'inu', 'inus', 'invaded', 'invading', 'invalid', 'invaluable', 'invariable', 'invariably', 'invasion', 'invented', 'inventions', 'inventiveness', 'inventor', 'inventory', 'invermere', 'invert', 'invest', 'investigate', 'investigated', 'investigates', 'investigation', 'investigators', 'investing', 'investments', 'investors', 'invidually', 'invigorating', 'invisible', 'invitation', 'invite', 'invited', 'inviting', 'invoice', 'invoke', 'involuntary', 'involves', 'invovlved', 'iodate', 'iodide', 'iodine', 'iodized', 'iove', 'iowa', 'ipa', 'ipo', 'iprozon', 'iq', 'ir', 'ira', 'iran', 'iranian', 'iraq', 'ireland', 'irises', 'irish', 'irks', 'iron', 'ironically', 'ironworks', 'irony', 'irregularities', 'irregularity', 'irrelevant', 'irresistable', 'irresistible', 'irresponsible', 'irrigation', 'irritability', 'irritable', 'irritate', 'irritated', 'irritates', 'irritating', 'irritation', 'irritations', 'irvine', 'isabel', 'isactually', 'isafe', 'isalt', 'isaltine', 'isalty', 'isalways', 'isandwich', 'isavor', 'iscoffee', 'isdream', 'iseasy', 'iselfish', 'ish', 'ishoe', 'isi', 'isissy', 'iskiate', 'island', 'islanders', 'islands', 'islay', 'isle', 'isleeve', 'islippery', 'ism', 'ismall', 'ismooth', 'ismost', 'isnot', 'isnt', 'isoft', 'isoftness', 'isolate', 'isold', 'isolo', 'isomac', 'isomil', 'isone', 'isor', 'isotonic', 'ispackaged', 'isparkling', 'ispecially', 'ispicy', 'ispot', 'ispread', 'ispronounced', 'israel', 'israeli', 'isreal', 'issimo', 'issmooth', 'issmoth', 'issue', 'issued', 'issues', 'issuesfrom', 'issuing', 'istanbul', 'istewed', 'isticky', 'istill', 'istore', 'istrange', 'istrong', 'istuck', 'isubscribe', 'isubstitute', 'isugared', 'isugary', 'isuper', 'isweet', 'isweets', 'iswitch', 'iswould', 'italain', 'italia', 'italian', 'italians', 'italy', 'itch', 'itches', 'itchiness', 'itching', 'itchmoforums', 'itchy', 'itcons', 'itdurablekeeps', 'item', 'itemized', 'items', 'iterations', 'itfor', 'ithas', 'itif', 'itin', 'itis', 'itme', 'itms', 'ito', 'itsgreat', 'itslef', 'itsmells', 'itso', 'itsoftmilkysmootharomaticdelicious', 'itty', 'itusing', 'itworks', 'iu', 'iuka', 'iun', 'iuse', 'iv', 'ivd', 'ive', 'iveta', 'ivory', 'ivy', 'iw', 'izze', 'izzy', 'jab', 'jabc', 'jabs', 'jac', 'jack', 'jacked', 'jacket', 'jacking', 'jackpot', 'jacks', 'jackson', 'jacksonville', 'jacktends', 'jacob', 'jacobs', 'jacques', 'jaded', 'jading', 'jaffa', 'jagermeister', 'jagged', 'jaggery', 'jail', 'jake', 'jalape', 'jalapeno', 'jalapenos', 'jalapenoswatervinegarbrown', 'jalapneo', 'jalepemo', 'jalepenjo', 'jalepeno', 'jalepenos', 'jalopeno', 'jalpeno', 'jam', 'jamacian', 'jamaica', 'jamaicamecrazy', 'jamaican', 'jamba', 'jambalaya', 'jambalya', 'james', 'jameson', 'jamican', 'jamma', 'jammed', 'jammies', 'jamn', 'jams', 'jamun', 'jan', 'jane', 'janet', 'janie', 'japan', 'japaneese', 'japanese', 'japchae', 'japonica', 'jar', 'jarat', 'jarblum', 'jarred', 'jarring', 'jars', 'jasmin', 'jasmine', 'jason', 'jaundice', 'java', 'jaw', 'jawbone', 'jawbreaker', 'jaws', 'jax', 'jay', 'jaypaul', 'jazz', 'jazzed', 'jazzes', 'jazzing', 'jb', 'jealous', 'jean', 'jeans', 'jeapardizing', 'jeddy', 'jedi', 'jeebus', 'jeez', 'jeff', 'jeffjeff', 'jel', 'jell', 'jellies', 'jello', 'jelly', 'jellybean', 'jellybeans', 'jellyfish', 'jelous', 'jemima', 'jeremiah', 'jerk', 'jerked', 'jerkeys', 'jerkies', 'jerking', 'jerkyi', 'jerkys', 'jerkythat', 'jerqee', 'jerquee', 'jerry', 'jersey', 'jesper', 'jest', 'jesus', 'jet', 'jetsons', 'jetta', 'jewel', 'jewell', 'jewels', 'jewish', 'jfk', 'jiaogulan', 'jif', 'jiff', 'jig', 'jigglers', 'jigsaw', 'jim', 'jimmies', 'jimmy', 'jims', 'jing', 'jingle', 'jinjan', 'jipped', 'jitters', 'jittery', 'jitteryness', 'jjj', 'jlp', 'jmt', 'jo', 'joan', 'joann', 'joanna', 'job', 'jobbed', 'jobchris', 'jobs', 'jobsites', 'jodhpur', 'joe', 'joel', 'joes', 'joey', 'johnny', 'johnson', 'joice', 'join', 'joined', 'joining', 'joint', 'joints', 'joke', 'joked', 'jokes', 'jokingly', 'jolene', 'jolly', 'jolokia', 'jolt', 'jolts', 'jones', 'jonesing', 'joray', 'jorder', 'jose', 'joseph', 'josephs', 'jostled', 'jotting', 'jouice', 'journal', 'journals', 'joy', 'joyce', 'joyful', 'joyfully', 'joyous', 'joyously', 'jp', 'jpg', 'jr', 'jrt', 'jrts', 'jsut', 'jtc', 'juan', 'judge', 'judged', 'judgement', 'judges', 'judging', 'judgment', 'judy', 'judyk', 'jug', 'juggle', 'juggling', 'juggy', 'jugo', 'jugs', 'juice', 'juicecombine', 'juiced', 'juicefish', 'juicer', 'juicier', 'juicing', 'juicr', 'juicy', 'jujubes', 'julanne', 'julep', 'julia', 'julian', 'julianne', 'julienne', 'juliet', 'july', 'jumble', 'jumbled', 'jumbo', 'jumbone', 'jump', 'jumping', 'jumps', 'june', 'junior', 'juniper', 'junk', 'junkie', 'junkies', 'junky', 'junkyard', 'junque', 'jura', 'jury', 'jus', 'justbig', 'justice', 'justified', 'justifies', 'justify', 'justin', 'justsent', 'justwatery', 'jut', 'jutting', 'juuuuuust', 'juvenile', 'jvs', 'jw', 'jyoti', 'ka', 'kaboodle', 'kabul', 'kacey', 'kadoya', 'kaf', 'kaffee', 'kafka', 'kafkas', 'kahlua', 'kahluah', 'kaia', 'kaiser', 'kakes', 'kal', 'kalamata', 'kaldi', 'kaldis', 'kale', 'kalua', 'kamut', 'kansas', 'kanteen', 'kantrowitz', 'kapooey', 'kaput', 'karaj', 'karate', 'karavitis', 'karelian', 'karleton', 'karma', 'kasai', 'kasha', 'kashi', 'kasia', 'kat', 'kate', 'kathy', 'katie', 'katje', 'katkat', 'katrina', 'kats', 'katzan', 'kauai', 'kava', 'kavalactones', 'kavli', 'kay', 'kayak', 'kays', 'kcal', 'kctuscroke', 'kcups', 'kebabs', 'keebler', 'keeblers', 'keemah', 'keemun', 'keen', 'keep', 'keepers', 'keeping', 'keepingthe', 'keeps', 'keepsake', 'kefir', 'kefired', 'kefirs', 'keiller', 'kekep', 'keller', 'kellog', 'kellogg', 'kelloggs', 'kellogs', 'kelvin', 'kemper', 'ken', 'kennel', 'kenneled', 'kennewick', 'kenny', 'kensington', 'kentucky', 'kenya', 'kenyan', 'kenzi', 'kept', 'keptgoing', 'kerala', 'kernal', 'kernals', 'kernel', 'kernell', 'kernelly', 'kernels', 'kerug', 'keruig', 'kessler', 'keta', 'ketch', 'ketchup', 'ketchups', 'ketchupy', 'kethcup', 'keto', 'ketogenic', 'ketones', 'ketosis', 'ketostix', 'kettle', 'kettles', 'keuirg', 'keureg', 'keurig', 'keurigs', 'keuring', 'key', 'keychains', 'keylime', 'keys', 'kg', 'kgbeta', 'kgchondroitin', 'kglycopene', 'kgomega', 'kgtaurine', 'kh', 'ki', 'kibble', 'kibbled', 'kibbles', 'kick', 'kickball', 'kicked', 'kicker', 'kickin', 'kicking', 'kicks', 'kid', 'kiddie', 'kiddies', 'kiddin', 'kiddos', 'kidney', 'kidneys', 'kids', 'kidstaking', 'kiehls', 'kielbasa', 'kiki', 'kikkoman', 'kili', 'kill', 'killed', 'killer', 'killin', 'killings', 'kills', 'kilo', 'kilogram', 'kilos', 'kim', 'kimberly', 'kimche', 'kimchi', 'kind', 'kinda', 'kinder', 'kindergarden', 'kindergarten', 'kindergartens', 'kindergartner', 'kindle', 'kindly', 'kindness', 'kindof', 'kinds', 'kinetic', 'king', 'kingdom', 'kings', 'kink', 'kiosk', 'kipper', 'kippered', 'kippers', 'kirby', 'kirkland', 'kirklands', 'kirkwall', 'kirmani', 'kirsch', 'kis', 'kiss', 'kisser', 'kisses', 'kissoh', 'kit', 'kitamu', 'kitcen', 'kitchen', 'kitchenaid', 'kitchens', 'kiteand', 'kithen', 'kitkat', 'kitkats', 'kits', 'kitten', 'kitties', 'kiwi', 'kix', 'klean', 'kleenex', 'klein', 'klutz', 'kmart', 'kmarts', 'knack', 'knawing', 'knead', 'kneaded', 'kneading', 'knee', 'kneecap', 'kneeding', 'knew', 'knife', 'knights', 'knob', 'knock', 'knocked', 'knocking', 'knockoff', 'knockout', 'knockouts', 'knocks', 'knorr', 'knorrs', 'knot', 'knote', 'knots', 'knott', 'knotted', 'knotts', 'know', 'knowing', 'knowingly', 'knowledge', 'knowledgeable', 'knowledgeably', 'known', 'knows', 'knox', 'knuckle', 'knucklehead', 'knudsen', 'koa', 'koala', 'kodiac', 'kodiak', 'koeze', 'koffee', 'kohl', 'kohler', 'kohls', 'koi', 'kola', 'kolacki', 'kolkata', 'koma', 'kombo', 'kombu', 'kombucha', 'komodo', 'komoto', 'kone', 'kong', 'kongs', 'konriko', 'kookie', 'kookies', 'kookoo', 'kool', 'koolaid', 'kopali', 'kopei', 'kopi', 'kopili', 'koppers', 'korea', 'korean', 'koreans', 'korma', 'kos', 'kosciusko', 'kosher', 'kourig', 'kovacichauthor', 'kovacichcreator', 'kracie', 'krackel', 'kraft', 'kragness', 'kraut', 'krave', 'kravings', 'krazy', 'kretschmer', 'krigsman', 'krinkle', 'krinos', 'krispie', 'krispies', 'krisps', 'kristian', 'kroger', 'krogers', 'kronung', 'krueig', 'krunch', 'krups', 'krustead', 'krusteaz', 'ks', 'ksino', 'kudos', 'kuerig', 'kuerrig', 'kuh', 'kuna', 'kungsornen', 'kup', 'kups', 'kureg', 'kurig', 'kuro', 'kurt', 'kv', 'kyjen', 'kyle', 'kyoto', 'la', 'lab', 'labador', 'label', 'labelin', 'labeling', 'labelled', 'labelling', 'labels', 'lable', 'labled', 'labor', 'laboratories', 'laboratory', 'labored', 'laborious', 'labors', 'labrada', 'labradoodle', 'labrador', 'labradors', 'labs', 'lace', 'laces', 'laci', 'lack', 'lacking', 'lackluster', 'lackof', 'lacks', 'lacquat', 'lactaid', 'lactating', 'lactobacillus', 'lactose', 'lactosethings', 'lacy', 'laddoos', 'laden', 'ladened', 'ladies', 'ladle', 'lady', 'ladybug', 'ladybugs', 'ladyfinger', 'laffy', 'laffyher', 'lag', 'lager', 'lagers', 'lago', 'laguiole', 'lah', 'lair', 'laissez', 'lait', 'lake', 'lakes', 'lakewood', 'laks', 'lamb', 'lambert', 'lame', 'lamenting', 'laminated', 'lammy', 'lamp', 'lana', 'land', 'landaise', 'landed', 'landfill', 'landfills', 'landing', 'landmark', 'lands', 'landscape', 'landscaped', 'landslide', 'lane', 'lanes', 'language', 'languages', 'languishing', 'lanka', 'lankan', 'lankansourced', 'lantern', 'lao', 'lap', 'lapping', 'laps', 'lapsang', 'lapsed', 'lapses', 'laptop', 'lara', 'larabar', 'larabars', 'lard', 'larder', 'lare', 'largely', 'larger', 'largers', 'largest', 'lark', 'laroshell', 'larry', 'lars', 'larsen', 'larva', 'larvae', 'las', 'lasag', 'lasagna', 'lasagne', 'lasagnes', 'lasanga', 'laser', 'lasership', 'lash', 'lashings', 'lass', 'lassi', 'last', 'lasta', 'lasted', 'lastest', 'lasting', 'lastly', 'lasts', 'late', 'lately', 'later', 'latest', 'latex', 'latham', 'lather', 'lathers', 'latin', 'latina', 'latino', 'latte', 'latteput', 'latter', 'lattes', 'laugh', 'laughable', 'laughably', 'laughed', 'laughing', 'laughs', 'laughter', 'launch', 'launched', 'launching', 'laundry', 'laura', 'laurel', 'laurels', 'lava', 'lavazza', 'lavazzas', 'lavendar', 'lavender', 'lavish', 'lavor', 'law', 'lawn', 'lawnmower', 'lawrence', 'lawrenceburg', 'lawsuit', 'lawyer', 'lawyers', 'laxative', 'laxatives', 'laxitive', 'lay', 'layer', 'layering', 'layers', 'laying', 'layoff', 'layout', 'lays', 'lazed', 'lazer', 'laziest', 'laziness', 'lb', 'lbs', 'lbshe', 'lc', 'ldl', 'le', 'lea', 'leached', 'lead', 'leader', 'leadership', 'leading', 'leadsto', 'leaf', 'leafy', 'league', 'leah', 'leak', 'leaked', 'leaking', 'leaks', 'leaky', 'lean', 'leaned', 'leaner', 'leans', 'leap', 'leaped', 'leaps', 'learned', 'learner', 'learning', 'learns', 'leary', 'lease', 'leash', 'leasing', 'leastwhat', 'leather', 'leathery', 'leave', 'leavening', 'leavenworth', 'leaving', 'leblanc', 'lebowski', 'leche', 'leched', 'lechitin', 'lecithin', 'leclerc', 'lectures', 'led', 'ledge', 'lee', 'leech', 'leed', 'leek', 'leery', 'leeway', 'left', 'leftover', 'leftovers', 'leg', 'legacy', 'legal', 'legally', 'legand', 'legend', 'legendary', 'legged', 'legion', 'legitimate', 'legs', 'legume', 'legumes', 'leibniz', 'leilalove', 'leisure', 'leisurely', 'lelit', 'lemion', 'lemon', 'lemonade', 'lemonades', 'lemonaid', 'lemonaise', 'lemondade', 'lemons', 'lemony', 'lend', 'lending', 'lends', 'lenght', 'lengths', 'lengthwise', 'lengthy', 'lentil', 'lentils', 'leo', 'leonidas', 'leopard', 'les', 'lesions', 'less', 'lesscons', 'lessen', 'lessened', 'lessening', 'lessens', 'lesser', 'lesses', 'lesson', 'lessons', 'let', 'letdown', 'lethargic', 'lethargy', 'lethicin', 'lets', 'letter', 'lettering', 'letters', 'lettieri', 'letting', 'lettuce', 'leukemia', 'levas', 'level', 'leveling', 'levels', 'levelteaspoons', 'levening', 'lever', 'levon', 'lewis', 'lexington', 'lezzo', 'lg', 'lhasa', 'li', 'liaison', 'liar', 'liars', 'libation', 'libby', 'liberal', 'liberally', 'liberaly', 'liberties', 'librarian', 'library', 'libre', 'lice', 'license', 'licensed', 'licious', 'lick', 'licked', 'lickin', 'licking', 'lickins', 'licks', 'licorage', 'licorette', 'licorettes', 'licorice', 'licoricey', 'licorise', 'licroice', 'lid', 'lidded', 'liddy', 'lids', 'lie', 'lieberman', 'lied', 'liege', 'liek', 'lies', 'life', 'lifebits', 'lifeless', 'lifelike', 'lifeline', 'lifelong', 'lifesaver', 'lifesavers', 'lifesource', 'lifestyle', 'lifestyles', 'lifetime', 'lift', 'lifting', 'liftoff', 'light', 'lightand', 'lightbulb', 'lighten', 'lightening', 'lighter', 'lightest', 'lightheaded', 'lighting', 'lightish', 'lightlife', 'lightness', 'lightning', 'lightpink', 'lightweight', 'lightweights', 'lignans', 'ligther', 'liitle', 'likable', 'like', 'likea', 'likeable', 'liked', 'likeflavor', 'liken', 'likes', 'likesthis', 'likethe', 'liketo', 'likewise', 'likey', 'likeyou', 'liking', 'likke', 'likly', 'lil', 'lilies', 'lillies', 'lily', 'lima', 'limas', 'limb', 'limbaugh', 'limber', 'limbs', 'lime', 'limeade', 'limes', 'limey', 'limit', 'limitation', 'limitations', 'limited', 'limiting', 'limitng', 'limits', 'limonata', 'limoncella', 'limp', 'limped', 'limping', 'limpy', 'lincoln', 'linda', 'lindacaribou', 'linden', 'lindor', 'lindsay', 'lindsor', 'lindt', 'line', 'linea', 'lined', 'lineif', 'linemy', 'linen', 'linens', 'liner', 'liners', 'lines', 'lineschar', 'lineup', 'ling', 'linger', 'lingered', 'lingering', 'lingers', 'lingonberries', 'lingonberry', 'lingopink', 'lingual', 'linguine', 'lining', 'link', 'linked', 'links', 'linoleic', 'linolenic', 'linoleum', 'linseed', 'lint', 'linux', 'linzer', 'lion', 'lions', 'lip', 'lipid', 'lipil', 'lipitor', 'lipoic', 'lipped', 'liptons', 'liqour', 'liquefied', 'liqueurlike', 'liqueurs', 'liquid', 'liquids', 'liquidum', 'liquidy', 'liquified', 'liquify', 'liquorice', 'liquorish', 'liquors', 'lisa', 'lish', 'list', 'listed', 'listen', 'listened', 'listening', 'listens', 'listerine', 'listing', 'listings', 'listmania', 'listning', 'lists', 'lit', 'lite', 'liter', 'literacy', 'literally', 'literary', 'literately', 'literature', 'liters', 'litle', 'litmus', 'litte', 'litter', 'litterbox', 'littering', 'litters', 'littl', 'little', 'littlebit', 'littler', 'littlesweetness', 'littlewe', 'littlt', 'livanto', 'live', 'lived', 'liveglutenfreely', 'lively', 'liven', 'liver', 'livers', 'lives', 'livestock', 'livestrong', 'livi', 'liviing', 'living', 'livur', 'lizano', 'lizzies', 'llasa', 'llc', 'llegaron', 'llicorice', 'lllllllllooooooooooovvvvvvvvvveeeeeeeee', 'lme', 'lnt', 'lo', 'loa', 'loaded', 'loading', 'loads', 'loaf', 'loafs', 'loam', 'loath', 'loathe', 'loaves', 'lobby', 'lobster', 'loc', 'local', 'locally', 'locals', 'locate', 'located', 'locating', 'location', 'locations', 'lock', 'lockal', 'locked', 'locker', 'locking', 'locks', 'loco', 'lodge', 'lodged', 'log', 'logan', 'logged', 'logic', 'logically', 'logistics', 'logs', 'loin', 'lokum', 'lol', 'lolbut', 'loli', 'lolipop', 'lolipops', 'lolit', 'lollies', 'lollipop', 'lollipops', 'lolly', 'lollypop', 'lololol', 'lolour', 'loltaste', 'lolthese', 'loma', 'london', 'lone', 'lonely', 'loner', 'long', 'longan', 'longer', 'longers', 'longest', 'longevity', 'longevitywarehouse', 'longhaired', 'longibrachiatum', 'longing', 'longs', 'longtime', 'longum', 'loo', 'look', 'looked', 'lookes', 'lookfor', 'looking', 'lookingfor', 'lookout', 'looks', 'looming', 'looneystuff', 'loooong', 'loooooong', 'looooooooves', 'loooooove', 'loooove', 'looooves', 'looove', 'loooves', 'loops', 'loose', 'looseleaf', 'loosely', 'loosen', 'loosens', 'looser', 'loosing', 'loosly', 'loots', 'loped', 'lopped', 'lopsided', 'lorann', 'lord', 'lorenzo', 'loretta', 'lorina', 'lorivo', 'lorna', 'los', 'loses', 'losing', 'loss', 'losses', 'lost', 'lot', 'lotin', 'lotions', 'lotr', 'lots', 'lotsa', 'lott', 'lotta', 'lottery', 'lotto', 'lou', 'louana', 'loud', 'louder', 'loudly', 'louis', 'louise', 'louisiana', 'lounge', 'lounging', 'lourdes', 'lousinna', 'lousy', 'lovable', 'love', 'loveable', 'loved', 'loveeee', 'loveeeee', 'loveliness', 'lovely', 'lover', 'loveri', 'lovers', 'loves', 'lovesssss', 'lovessssssssssssssssssss', 'lovethe', 'lovin', 'loving', 'lovingly', 'lovvvve', 'low', 'lowcarb', 'lower', 'lowered', 'lowering', 'lowery', 'lowes', 'lowest', 'lowfat', 'lowrey', 'lowry', 'lox', 'loyal', 'loyalties', 'loyalty', 'lozenge', 'lozenges', 'lsu', 'lt', 'ltd', 'lte', 'lthat', 'luak', 'lubrication', 'lucaffe', 'lucid', 'lucidity', 'lucienne', 'lucille', 'lucini', 'lucinithe', 'luciousness', 'luck', 'lucked', 'luckily', 'luckly', 'lucks', 'lucky', 'lucy', 'ludenburg', 'ludicrous', 'lug', 'luggage', 'lugging', 'luis', 'luke', 'lukewarm', 'lull', 'lullaby', 'lulled', 'lulu', 'lump', 'lumpfish', 'lumps', 'lumpy', 'luna', 'lunacy', 'lunch', 'lunchables', 'lunchbox', 'lunchboxes', 'luncheon', 'lunches', 'lunchfood', 'lunchtime', 'lund', 'lundberg', 'lunge', 'lunges', 'lungo', 'lup', 'lupicia', 'lupini', 'lupinis', 'lupo', 'lupus', 'lure', 'lured', 'lures', 'lurking', 'lurks', 'lurrie', 'luscious', 'lusciousness', 'lush', 'lushest', 'lust', 'luster', 'lustrous', 'luuuuuv', 'luv', 'luwak', 'luxating', 'luxation', 'luxuries', 'luxurious', 'luxury', 'luzerne', 'luzianne', 'ly', 'lychee', 'lychees', 'lycopene', 'lye', 'lying', 'lyle', 'lyme', 'lymph', 'lymphedma', 'lynch', 'lysine', 'mabel', 'mac', 'maca', 'macabee', 'macadamia', 'macadamians', 'macadamias', 'macaron', 'macaroni', 'macarons', 'macaroon', 'macaroons', 'macbook', 'macchiato', 'macchiatos', 'macciato', 'macdonald', 'mace', 'macerated', 'macha', 'mache', 'machine', 'machinery', 'machines', 'machinesince', 'macho', 'macines', 'mackay', 'mackeral', 'mackerel', 'mackerels', 'macomb', 'macon', 'macrobars', 'macrobiotic', 'macs', 'madagascar', 'madarin', 'madascar', 'maddie', 'maddy', 'made', 'madeevery', 'madein', 'madelaine', 'madeleines', 'madhava', 'madhouse', 'madness', 'madoff', 'madras', 'mae', 'maeal', 'maeda', 'maestro', 'mafia', 'magazine', 'magazineraved', 'magazines', 'magdelene', 'maggie', 'maggiemay', 'maggots', 'maggy', 'magic', 'magical', 'magicbe', 'magicother', 'magnesium', 'magnesiumingredients', 'magnet', 'magnificent', 'magnificient', 'magnifique', 'magnum', 'mahal', 'mahi', 'mahogany', 'maid', 'maids', 'mail', 'mailbox', 'mailed', 'mailer', 'mailing', 'mails', 'maine', 'mainland', 'mainly', 'mainstay', 'mainstays', 'maintain', 'maintained', 'maintaining', 'maintains', 'maintenance', 'maintstream', 'maison', 'major', 'majorly', 'majors', 'make', 'maked', 'makeit', 'makeout', 'maker', 'makers', 'makes', 'makeup', 'making', 'makings', 'malabsorption', 'malamute', 'malamutes', 'malarky', 'malaseb', 'malaysia', 'malaysian', 'malcom', 'maldon', 'male', 'males', 'malevolent', 'malfuction', 'malfunction', 'malher', 'malic', 'malinois', 'malitol', 'mall', 'malleable', 'mallet', 'mallimute', 'malnourished', 'malnutrition', 'malnutritioned', 'malossol', 'malshi', 'malt', 'malta', 'malted', 'malteese', 'maltese', 'maltiness', 'maltipoo', 'maltise', 'maltodetrin', 'maltodextrin', 'maltodextring', 'maltodextrix', 'maltose', 'malts', 'malva', 'mama', 'maman', 'mamas', 'mambas', 'mamma', 'mamushka', 'man', 'manage', 'manageable', 'managed', 'management', 'manager', 'managers', 'manages', 'managing', 'manchego', 'manchester', 'mancor', 'mandarin', 'mandated', 'mandee', 'mandeling', 'mandeltorte', 'mandheling', 'mandrian', 'mandy', 'mane', 'manee', 'maneuver', 'maneuvering', 'maneuvers', 'manfacturers', 'manganese', 'manganous', 'mange', 'mangled', 'mango', 'mangoes', 'mangos', 'mangosteen', 'mangy', 'manhandle', 'manhattan', 'manhattans', 'manholes', 'maniac', 'maniacally', 'manicardi', 'manicured', 'manifold', 'manipulate', 'manipulating', 'mankind', 'manly', 'manmade', 'manna', 'manned', 'manner', 'mannered', 'mannitol', 'manor', 'mansion', 'mantienen', 'manual', 'manually', 'manufacture', 'manufactured', 'manufacturer', 'manufacturerer', 'manufacturers', 'manufacturerwho', 'manufactures', 'manufacturing', 'manukahealth', 'many', 'manycats', 'maple', 'mar', 'maranatha', 'maraschino', 'marathon', 'marathons', 'marble', 'marc', 'march', 'marchetti', 'marching', 'marcla', 'marco', 'marcona', 'marcos', 'marcs', 'mare', 'margaret', 'margarine', 'margarita', 'margaritas', 'margaritaville', 'margerine', 'margin', 'marginal', 'marginally', 'maria', 'mariage', 'mariani', 'marianne', 'marie', 'mariebelle', 'marietta', 'marijuana', 'marilyn', 'marina', 'marinade', 'marinades', 'marinading', 'marinagethis', 'marinara', 'marinate', 'marinated', 'marinating', 'marine', 'marines', 'mario', 'marionberry', 'marjoram', 'mark', 'markdown', 'marked', 'markedly', 'marker', 'markers', 'market', 'marketed', 'marketi', 'marketing', 'marketplace', 'markets', 'marketspice', 'marking', 'markup', 'markups', 'marlboro', 'marlborough', 'marley', 'marleys', 'marmalade', 'marmite', 'marriage', 'married', 'marrons', 'marrow', 'marry', 'marrying', 'mars', 'marshall', 'marshalls', 'marshawn', 'marshmallowish', 'marshmallows', 'marshmallowy', 'marshmellow', 'marshmellows', 'mart', 'martek', 'martha', 'martin', 'martinelli', 'martinez', 'martini', 'martinis', 'marts', 'maruchan', 'marvel', 'marvellous', 'marvelous', 'marvelously', 'mary', 'maryland', 'marzano', 'marzanomccann', 'marzipan', 'mas', 'masa', 'masala', 'masalas', 'mascarpone', 'masculine', 'mash', 'mashbill', 'mashbills', 'mashed', 'mashes', 'mashing', 'mashuga', 'mashy', 'mask', 'masked', 'masking', 'masks', 'masochist', 'mason', 'masquerading', 'mass', 'massachusetts', 'massage', 'massaged', 'massaman', 'masse', 'masses', 'massey', 'masseywould', 'massive', 'massively', 'mast', 'master', 'mastered', 'masterfully', 'mastering', 'masterpiece', 'masters', 'mastery', 'masticar', 'masticate', 'mastiff', 'mastiffs', 'mastopathy', 'mat', 'matccha', 'match', 'matcha', 'matchas', 'matched', 'matching', 'mate', 'mated', 'mater', 'material', 'materials', 'maternity', 'mates', 'math', 'mati', 'matic', 'matilda', 'matinee', 'matrix', 'mats', 'matt', 'matted', 'matter', 'mattered', 'matterhow', 'matters', 'matthew', 'matting', 'matty', 'mature', 'matures', 'maturin', 'matzah', 'matzos', 'maui', 'mauls', 'mauna', 'maunfacturer', 'maury', 'max', 'maxi', 'maximize', 'maximizes', 'maximum', 'maximus', 'maxshouse', 'maxwell', 'maxx', 'may', 'maya', 'mayan', 'maybe', 'maynard', 'maynards', 'mayo', 'mayonaise', 'mayonnaise', 'mayor', 'mayores', 'mays', 'maze', 'mazipan', 'mb', 'mba', 'mberries', 'mberry', 'mbox', 'mc', 'mccains', 'mccann', 'mcchain', 'mccormacks', 'mccormick', 'mccoy', 'mcdolnald', 'mcdonald', 'mcdonalds', 'mcdougall', 'mcdougalls', 'mcguffin', 'mckiernan', 'mcnab', 'mcqueen', 'mcustomer', 'mcvitie', 'mcvities', 'mcvitte', 'mead', 'meager', 'meal', 'mealmaker', 'mealnot', 'meals', 'mealsaver', 'mealtime', 'mealworms', 'mealy', 'mean', 'meaning', 'meaningful', 'meaningfully', 'meaningless', 'meant', 'meantime', 'meantop', 'meanwhile', 'measly', 'measurable', 'measure', 'measured', 'measurements', 'measuring', 'meat', 'meatballs', 'meatier', 'meatiertaste', 'meatless', 'meatloaf', 'meats', 'mechanical', 'mechanically', 'mechanism', 'mechanisms', 'med', 'medaglia', 'medaglio', 'medal', 'medallions', 'medfitny', 'media', 'medianos', 'mediate', 'medical', 'medically', 'medicating', 'medication', 'medications', 'medicinal', 'medicinally', 'medicinals', 'medicince', 'medicine', 'medicines', 'mediciney', 'mediciny', 'medidicne', 'medifast', 'medincials', 'mediocore', 'mediocre', 'meditation', 'mediterranean', 'meditteranean', 'medium', 'mediums', 'medley', 'medleys', 'medvet', 'mee', 'meean', 'meek', 'meet', 'meeting', 'meetings', 'meets', 'mef', 'mega', 'megabyte', 'megacup', 'megamart', 'meh', 'meijer', 'meiji', 'mein', 'mejores', 'melamine', 'melancholy', 'melange', 'melanine', 'melanosporum', 'melba', 'melbourne', 'meld', 'melded', 'melds', 'meleted', 'melissa', 'mello', 'mellower', 'mellowness', 'melody', 'melon', 'melow', 'melt', 'meltability', 'meltdown', 'melted', 'melters', 'melting', 'melts', 'melty', 'member', 'membership', 'membrane', 'membranes', 'memo', 'memorable', 'memorial', 'memorieswhen', 'memory', 'memphis', 'men', 'menard', 'mend', 'mendicino', 'menhaden', 'menopausal', 'menopause', 'mens', 'mensa', 'menstrual', 'ment', 'mental', 'mentality', 'mentally', 'mention', 'mentioned', 'mentioning', 'mentos', 'menu', 'meow', 'meowed', 'meowing', 'meowwwmeowwww', 'mercado', 'mercedes', 'merchandise', 'merchandisers', 'merchandising', 'merchant', 'mercifully', 'mercilessly', 'mercola', 'mercury', 'mercy', 'mere', 'merest', 'merey', 'merges', 'meringue', 'merit', 'merits', 'merlot', 'merrick', 'merrier', 'merrill', 'merry', 'merula', 'meryl', 'mesa', 'mesclun', 'mesh', 'mesmerized', 'mesquite', 'mess', 'message', 'messages', 'messand', 'messed', 'messes', 'messier', 'messy', 'mest', 'mesured', 'met', 'metabolic', 'metabolife', 'metabolism', 'metabolizable', 'metabolize', 'metabolized', 'metabolizing', 'metal', 'metalic', 'metaliqui', 'metallic', 'metallicized', 'metals', 'metalworking', 'metaphors', 'metaphysical', 'meter', 'metering', 'meth', 'method', 'methodology', 'methods', 'methyglyoxol', 'methysticum', 'meticulous', 'meting', 'metric', 'metro', 'metromint', 'metropolitan', 'metropolitian', 'mew', 'mex', 'mexgrocer', 'mexican', 'mexicans', 'mexico', 'meyeberg', 'meyenberg', 'meyer', 'meyerberg', 'meyers', 'mfgs', 'mfr', 'mg', 'mgo', 'mgof', 'mgs', 'mgsodium', 'mh', 'mhh', 'mi', 'mia', 'miam', 'mic', 'mice', 'michael', 'michaels', 'micheals', 'michel', 'michelle', 'michigan', 'mickey', 'mickwhose', 'micmate', 'micorwave', 'micowave', 'micro', 'microbial', 'microbrew', 'microbrews', 'microfiber', 'micrograms', 'microliters', 'microphone', 'microphones', 'microplane', 'microscope', 'microscopic', 'microvave', 'microwable', 'microwavable', 'microwave', 'microwaveable', 'microwaved', 'microwaveing', 'microwaves', 'microwaving', 'mics', 'mid', 'midafternoon', 'midas', 'midday', 'middle', 'middleman', 'middletown', 'middling', 'midgets', 'midgies', 'midi', 'midium', 'midlands', 'midnite', 'midpalate', 'midpoint', 'midst', 'midwatch', 'midwife', 'miffed', 'might', 'mighthelp', 'mighty', 'migraine', 'migraines', 'migranes', 'mike', 'miko', 'mil', 'milage', 'mild', 'milder', 'mildew', 'mildly', 'mildness', 'mile', 'mileage', 'miles', 'milestone', 'milhouse', 'military', 'milk', 'milka', 'milkas', 'milkbone', 'milkbones', 'milkdunk', 'milkiness', 'milkman', 'milks', 'milkshake', 'milkshakes', 'milksugarcocoa', 'milkthat', 'milky', 'mill', 'millay', 'milled', 'millenium', 'millennia', 'miller', 'millet', 'milligrams', 'milligramstotal', 'milliliters', 'millimeter', 'million', 'millions', 'millisecond', 'mills', 'millstone', 'milo', 'mim', 'mimic', 'mimics', 'mimosa', 'min', 'mina', 'minasgf', 'minature', 'mince', 'minced', 'mincemeat', 'minct', 'mind', 'minded', 'mindell', 'mindful', 'mindlessly', 'minds', 'mindy', 'mine', 'mineral', 'minerality', 'mineralsthat', 'minerls', 'minestrone', 'ming', 'mingle', 'mingled', 'mingling', 'mini', 'miniato', 'miniature', 'miniatures', 'miniaturized', 'minicrackers', 'minimal', 'minimalism', 'minimalist', 'minimally', 'minimize', 'minimized', 'minimizes', 'minimizing', 'minimu', 'minimum', 'mining', 'minions', 'minipoodles', 'minis', 'minischnauzers', 'miniscule', 'ministrone', 'miniture', 'minivan', 'minneapolis', 'minnesota', 'minor', 'minority', 'minorly', 'minpin', 'mins', 'minsafter', 'minsemergen', 'minsi', 'minslive', 'minsskip', 'minsunder', 'minswild', 'mint', 'mintier', 'mintiness', 'mints', 'mintues', 'minty', 'minuets', 'minus', 'minute', 'minutepour', 'minutes', 'minuteshow', 'minutesor', 'mir', 'miracid', 'miracle', 'miracles', 'miraculin', 'miraculous', 'miraculously', 'mired', 'mirepoix', 'miriani', 'mirobakery', 'mirror', 'miscalculation', 'miscellaneous', 'miscommunication', 'misconception', 'misconceptions', 'miserable', 'miserably', 'misfortune', 'misgivings', 'misguided', 'mish', 'mishandeling', 'mishandled', 'mishaps', 'mished', 'mishmash', 'misinformed', 'misinterpreted', 'mislabel', 'mislead', 'misleading', 'misled', 'mismatched', 'miso', 'misogynist', 'misperceptions', 'misplaced', 'misrepresentation', 'misrepresenting', 'misrepresents', 'miss', 'missed', 'misses', 'misshapen', 'missing', 'missingnegatives', 'mission', 'missions', 'mississippi', 'missouri', 'missus', 'missy', 'mist', 'mista', 'mistake', 'mistaken', 'mistakenly', 'mistakes', 'misted', 'misto', 'mistook', 'mistreated', 'misty', 'misunderstand', 'misunderstanding', 'misunderstandings', 'misunderstood', 'mit', 'mite', 'mites', 'mitigate', 'mitigated', 'mitigates', 'mitilinis', 'mix', 'mixe', 'mixed', 'mixedwith', 'mixer', 'mixers', 'mixesla', 'mixing', 'mixture', 'mixtures', 'mixturestir', 'mixuse', 'mj', 'mjg', 'mks', 'ml', 'mlf', 'mm', 'mmm', 'mmmm', 'mmmmm', 'mmmmmm', 'mmmmmmm', 'mmmmmmmm', 'mmmmmmmmm', 'mmmmmmmmmmm', 'mmmmmmmmmmmmmm', 'mmms', 'mn', 'mnc', 'mnney', 'mo', 'moans', 'moassess', 'mob', 'mobile', 'mobilizes', 'moccajava', 'moccamaster', 'mochas', 'mochi', 'mock', 'mocks', 'mocoa', 'mod', 'mode', 'model', 'modeled', 'modeling', 'moderate', 'modern', 'modernized', 'modes', 'modest', 'modesto', 'modification', 'modifications', 'modified', 'modifiied', 'modifying', 'modulate', 'moet', 'mohogany', 'moi', 'moist', 'moisten', 'moistened', 'moistening', 'moister', 'moistest', 'moistness', 'moisture', 'moisturethe', 'moisturized', 'moisturizer', 'moisturizes', 'moisturizing', 'moive', 'mojito', 'mojo', 'moka', 'molars', 'molasses', 'molassesthe', 'mold', 'molded', 'molding', 'molds', 'moldy', 'mole', 'molecular', 'molecule', 'moles', 'molestias', 'moley', 'mollasses', 'mollie', 'mollusks', 'molly', 'molten', 'molto', 'moly', 'mom', 'momcat', 'moment', 'momentarily', 'moments', 'momma', 'mommy', 'moms', 'mon', 'mona', 'monarch', 'monastero', 'monday', 'monde', 'mondo', 'money', 'moneyrip', 'moneys', 'mongolian', 'mongut', 'monin', 'monitor', 'monitored', 'monitoring', 'monkey', 'monkeys', 'mono', 'monocalcium', 'monoglycerides', 'mononitrate', 'monopolize', 'monopoly', 'monoprix', 'monor', 'monosaturated', 'monosodium', 'monotonous', 'monounsaturated', 'monsanto', 'monsodium', 'monster', 'monsters', 'monstrosities', 'monstrous', 'monta', 'montana', 'monte', 'montebello', 'monterey', 'monteux', 'month', 'monthand', 'monthat', 'monthly', 'months', 'monthsand', 'montmorency', 'montmorillonite', 'montreal', 'monumental', 'moo', 'mood', 'moolah', 'moon', 'moonlight', 'moonpie', 'moons', 'moore', 'moosh', 'mooshy', 'moot', 'mopey', 'moping', 'mopped', 'mor', 'morale', 'moreover', 'moretti', 'morgan', 'morgue', 'morinu', 'morito', 'morkie', 'morkies', 'morn', 'morning', 'morningeveryone', 'morningstar', 'morocan', 'moroccan', 'moroccans', 'morocco', 'morons', 'morphs', 'morris', 'morse', 'morsel', 'morsels', 'mortal', 'mortality', 'mortar', 'mortified', 'mos', 'moscato', 'moscatos', 'moscow', 'moses', 'mositure', 'moss', 'mostfilling', 'mostly', 'mostof', 'mosty', 'moth', 'mothballs', 'mother', 'mothers', 'moths', 'motions', 'motivate', 'motivated', 'motivater', 'motivation', 'motivator', 'motor', 'motorcoach', 'motorcycle', 'motorola', 'mott', 'mottled', 'motto', 'moulin', 'mound', 'mounds', 'mountain', 'mountainous', 'mountains', 'mounted', 'mounth', 'mountian', 'mountin', 'mouse', 'mousses', 'moutain', 'moutfeel', 'mouth', 'mouthed', 'mouthfeel', 'mouthful', 'mouthfuls', 'mouthing', 'mouthpiece', 'mouths', 'mouthwash', 'mouthwatering', 'move', 'moved', 'movement', 'movements', 'moveover', 'mover', 'moves', 'movie', 'movies', 'movietheatre', 'moving', 'mow', 'mowed', 'moxies', 'mozzarella', 'mozzerella', 'mph', 'mr', 'mre', 'mri', 'mroe', 'mrp', 'mrs', 'mrsa', 'ms', 'msb', 'msds', 'msg', 'mstard', 'mth', 'mtr', 'much', 'mucheasy', 'muched', 'muchie', 'muchly', 'muck', 'mucky', 'mucous', 'mucus', 'mud', 'muddle', 'muddled', 'mudslide', 'mueslix', 'muffin', 'muffins', 'mugpour', 'mugs', 'mugsy', 'muir', 'mukwas', 'mulberries', 'mulching', 'mule', 'muligrain', 'mullein', 'mulling', 'multi', 'multican', 'multicat', 'multicolored', 'multigrain', 'multimedia', 'multipack', 'multipak', 'multiple', 'multiples', 'multiplied', 'multiply', 'multiportion', 'multitaskful', 'multitude', 'multivitamin', 'mum', 'munch', 'munched', 'muncher', 'munches', 'munchie', 'munchies', 'munching', 'munchkin', 'muncho', 'munchos', 'munchy', 'mundane', 'mung', 'munuka', 'mur', 'murchie', 'murky', 'murmur', 'murmurs', 'murph', 'murphy', 'muscavado', 'muscle', 'muscles', 'muscovado', 'muscular', 'muselix', 'museum', 'mush', 'mushier', 'mushiness', 'mushing', 'mushroom', 'mushrooms', 'mushroomy', 'mushy', 'music', 'musical', 'musicians', 'musicrocksinaustin', 'musk', 'muske', 'musket', 'musketeers', 'musketters', 'musky', 'muslin', 'mussel', 'mussell', 'mussells', 'must', 'mustache', 'mustang', 'mustard', 'mustardiness', 'mustards', 'muster', 'mustiness', 'musty', 'muted', 'mutt', 'mutters', 'muuuuch', 'muy', 'mvvitie', 'mw', 'mx', 'mxed', 'mxl', 'mybaking', 'mycats', 'mycology', 'myer', 'myfirst', 'mylar', 'mylicon', 'myocardial', 'myopinion', 'myriad', 'myrtle', 'mysore', 'mysterious', 'mysteriously', 'mystery', 'mystic', 'mystical', 'myth', 'myths', 'myvet', 'mz', 'na', 'naan', 'naanwiches', 'nabbing', 'nabisco', 'nabiscos', 'nacho', 'nachoes', 'nachos', 'nad', 'nada', 'nagel', 'nagged', 'nagging', 'nah', 'nail', 'nailed', 'nailsare', 'nairn', 'nairns', 'naive', 'naively', 'naked', 'nakspop', 'nalgene', 'nam', 'namaste', 'name', 'namebrands', 'named', 'namely', 'nameneed', 'names', 'namesake', 'nana', 'nanas', 'nancy', 'nancyps', 'nano', 'napa', 'napalm', 'napkin', 'napkins', 'naples', 'napolitains', 'napolitans', 'napping', 'narcotic', 'narly', 'narnia', 'narrow', 'narrowed', 'narrower', 'narrowing', 'narrows', 'nary', 'nas', 'nasa', 'nascar', 'nashville', 'nastalgic', 'nastier', 'nastiness', 'nasty', 'natalie', 'natch', 'nathan', 'nation', 'national', 'nationality', 'nationally', 'nations', 'nationwide', 'native', 'nato', 'natrataste', 'natrual', 'natually', 'natuaral', 'natucket', 'naturade', 'natural', 'naturalaccording', 'naturale', 'naturally', 'naturalness', 'naturalno', 'naturalpathic', 'naturals', 'naturapath', 'naturapathic', 'naturaw', 'nature', 'naturel', 'natures', 'naturopath', 'naturopathic', 'naught', 'naughty', 'nausea', 'nauseant', 'nauseas', 'nauseate', 'nauseated', 'nauseating', 'nauseous', 'nausous', 'navajo', 'navel', 'navigate', 'navitas', 'navratan', 'navrattan', 'navy', 'naw', 'naws', 'nb', 'nbc', 'nbe', 'nc', 'nealry', 'neapolitan', 'neapolitansix', 'near', 'nearby', 'nearest', 'nearing', 'nearly', 'neat', 'neater', 'neathers', 'neatness', 'nebraska', 'nebulous', 'neccassary', 'neccessary', 'necco', 'neccos', 'necesity', 'necessacity', 'necessitates', 'necessitating', 'necessities', 'necessity', 'neck', 'neckbones', 'necklace', 'necropsy', 'nectar', 'nectarine', 'necter', 'ned', 'need', 'neede', 'needed', 'needeles', 'needing', 'needle', 'needs', 'needy', 'neeed', 'negate', 'negates', 'negating', 'negative', 'negatively', 'negatives', 'negging', 'negitive', 'neglect', 'neglected', 'neglectful', 'negligible', 'negotiate', 'negotiating', 'negs', 'nehi', 'neice', 'neighbor', 'neighborhood', 'neighboring', 'neighbors', 'neighbourhood', 'neighbours', 'nell', 'nem', 'neman', 'nemo', 'neo', 'neocate', 'neon', 'neoprene', 'neosure', 'neotame', 'nepal', 'nepeta', 'nephew', 'nephews', 'nerd', 'nerds', 'nerve', 'nerves', 'nervousness', 'nes', 'nesbitt', 'nescaf', 'nesco', 'nespresso', 'nesquik', 'ness', 'nest', 'nestea', 'nested', 'nesting', 'nestle', 'nests', 'netbuck', 'netflix', 'netgrocer', 'netherlands', 'neti', 'netrition', 'nettle', 'network', 'networks', 'neubrander', 'neufchatel', 'neuhaus', 'neuman', 'neumans', 'neuro', 'neurological', 'neuropathy', 'neurosurgeon', 'neurotic', 'neurotoxin', 'neuter', 'neutered', 'neutering', 'neutral', 'neutralize', 'neutralized', 'neutralizer', 'neutralizing', 'nevada', 'neve', 'never', 'nevergo', 'nevermind', 'nevertheless', 'new', 'newbie', 'newborn', 'newcastle', 'newcomers', 'newegg', 'newer', 'newest', 'newf', 'newfie', 'newfound', 'newfoundland', 'newfoundlands', 'newly', 'newlywed', 'newman', 'newmann', 'newmans', 'newmansbon', 'newproduct', 'news', 'newsletter', 'newspaper', 'newsworthy', 'newton', 'newtons', 'nex', 'next', 'nextag', 'nexus', 'nf', 'ng', 'nger', 'nguyen', 'niacin', 'niacinamide', 'niacinimide', 'niagara', 'nibble', 'nibbled', 'nibbler', 'nibblers', 'nibbles', 'nibblies', 'nibbling', 'nice', 'nicely', 'nicer', 'nicest', 'niche', 'nick', 'nickel', 'nickels', 'nickle', 'nickname', 'nicotine', 'nicotinic', 'nido', 'niece', 'nieces', 'niederegger', 'nielsen', 'nifty', 'night', 'nighter', 'nightly', 'nightmare', 'nightmares', 'nights', 'nightstand', 'nigths', 'niki', 'nil', 'nilla', 'nina', 'nine', 'nines', 'ninety', 'ning', 'ninja', 'nip', 'nipple', 'nipples', 'nippy', 'nips', 'nirmala', 'nirmalaskitchen', 'nirvana', 'nissan', 'nissin', 'nit', 'nitpick', 'nitrite', 'nitrogen', 'nj', 'nno', 'no', 'noble', 'nobodies', 'nobody', 'nocerino', 'nocks', 'nod', 'noddles', 'nodes', 'noes', 'nog', 'nogging', 'nogs', 'noh', 'nohs', 'noir', 'noire', 'noise', 'noises', 'noisy', 'nolonger', 'nom', 'nomatter', 'nominal', 'nomseriously', 'non', 'nonceliac', 'nondescript', 'none', 'nonesuch', 'nonetheless', 'nonexistant', 'nonexistent', 'nonfat', 'nong', 'nongshim', 'noni', 'nonni', 'nonorganic', 'nonpareil', 'nonplussed', 'nonrefundable', 'nonreturnable', 'nonsense', 'nonsensical', 'nonstick', 'nonstop', 'nonsuch', 'noodle', 'noodles', 'noodliness', 'noodly', 'noom', 'noon', 'noooo', 'noooooooooooo', 'noorange', 'nope', 'nor', 'nora', 'nordic', 'norfolk', 'nori', 'norm', 'norma', 'normal', 'normally', 'norman', 'north', 'northbrook', 'northeast', 'norther', 'northern', 'northwest', 'northwestern', 'norton', 'norway', 'norwegian', 'norwich', 'nos', 'nose', 'noses', 'nosey', 'nosh', 'noshing', 'nosing', 'nostagia', 'nostalgia', 'nostalgic', 'nostrils', 'not', 'nota', 'notable', 'notably', 'notang', 'notas', 'notaste', 'notasteless', 'notaters', 'notbe', 'notch', 'notched', 'notches', 'notcook', 'notdamaged', 'note', 'notea', 'notebook', 'noted', 'notedible', 'noteeny', 'notes', 'notest', 'noteworthy', 'notgrab', 'nothad', 'nothe', 'notheard', 'nother', 'nothin', 'nothing', 'nothingness', 'nothinking', 'nothis', 'noticable', 'noticably', 'notice', 'noticeable', 'noticeably', 'noticed', 'notices', 'noticiable', 'noticible', 'noticied', 'noticing', 'notification', 'notified', 'notify', 'notifying', 'notil', 'notill', 'noting', 'notion', 'notlike', 'noto', 'notobacco', 'notoo', 'notorious', 'notoriously', 'notouch', 'notreat', 'notricks', 'notricky', 'notruck', 'notruffle', 'notset', 'notsmell', 'notta', 'nottaste', 'notummy', 'notwo', 'nougat', 'nough', 'noung', 'nourish', 'nourished', 'nourishment', 'nov', 'novel', 'novelty', 'november', 'novetly', 'novices', 'novocaine', 'nowadays', 'nowdays', 'nowe', 'nowhere', 'nowvery', 'noxious', 'nozzel', 'nozzle', 'np', 'nrg', 'nt', 'nto', 'nuance', 'nuanced', 'nuances', 'nubby', 'nubs', 'nuclear', 'nudge', 'nueva', 'nuff', 'nugget', 'nuggets', 'nuggetts', 'nuitionists', 'nuke', 'nuked', 'nuking', 'nullified', 'numb', 'number', 'numbers', 'numbs', 'numero', 'numerous', 'numi', 'nummerz', 'nummy', 'nunaturals', 'nurish', 'nurishing', 'nurse', 'nursed', 'nurseries', 'nurses', 'nursing', 'nurtrition', 'nurture', 'nurtured', 'nurtureme', 'nurturing', 'nurturme', 'nusseling', 'nussinis', 'nut', 'nutbutter', 'nutbutters', 'nutcracker', 'nutella', 'nutes', 'nuthatches', 'nutients', 'nutiva', 'nutmeg', 'nutra', 'nutragrain', 'nutramigen', 'nutrasweet', 'nutreats', 'nutri', 'nutricious', 'nutricity', 'nutrident', 'nutrient', 'nutrients', 'nutrigrain', 'nutrio', 'nutrional', 'nutrionally', 'nutrish', 'nutrisystem', 'nutrition', 'nutritional', 'nutritionally', 'nutritionals', 'nutritionist', 'nutritious', 'nutritiously', 'nutritive', 'nutritonally', 'nutritous', 'nutro', 'nuts', 'nutseat', 'nutshell', 'nutshelland', 'nutter', 'nuttier', 'nuttiness', 'nutty', 'nuttzo', 'nutureme', 'nuturme', 'nuvo', 'nv', 'nver', 'nw', 'ny', 'nybone', 'nyc', 'nye', 'nylabone', 'nylabones', 'nylon', 'nyquil', 'nystatin', 'nz', 'oahu', 'oak', 'oakland', 'oaks', 'oat', 'oatcake', 'oatcakes', 'oatmeal', 'oatmealish', 'oatmeals', 'oatmela', 'oats', 'oaty', 'obama', 'obedience', 'oberto', 'obese', 'obesity', 'obey', 'obispo', 'object', 'objected', 'objection', 'objectionable', 'objective', 'objectives', 'objectivity', 'objects', 'obligatory', 'oblige', 'obliterated', 'oblivion', 'obnoxiously', 'obscure', 'observable', 'observant', 'observational', 'observations', 'observe', 'observed', 'observing', 'obsessed', 'obsessing', 'obsession', 'obsessionpink', 'obsessive', 'obsidian', 'obsolete', 'obsq', 'obstacles', 'obstructed', 'obsv', 'obtain', 'obtained', 'obtaining', 'obtrusive', 'obtrusively', 'obviosuly', 'obviously', 'ocassion', 'ocassional', 'ocassionally', 'occasion', 'occasional', 'occasionally', 'occasionaly', 'occasions', 'occassional', 'occassionally', 'occassionaly', 'occassions', 'occationally', 'occations', 'occupational', 'occupied', 'occupies', 'occupy', 'occupying', 'occurance', 'occured', 'occuring', 'occurrance', 'occurred', 'occurrence', 'occurring', 'occurs', 'ocd', 'ocean', 'oceania', 'oceans', 'ocho', 'oclock', 'oct', 'octagonal', 'octane', 'octavious', 'october', 'octopus', 'od', 'odd', 'oddball', 'oddness', 'odds', 'odense', 'oder', 'odering', 'odor', 'odorless', 'odorous', 'odour', 'odwalla', 'oekter', 'oem', 'oeuvre', 'oeuvres', 'ofa', 'ofaspirin', 'ofcourse', 'offal', 'offend', 'offended', 'offending', 'offends', 'offense', 'offensive', 'offer', 'offered', 'offering', 'offerings', 'offerr', 'offerred', 'offers', 'offffff', 'office', 'officer', 'offices', 'official', 'officials', 'officinados', 'offloading', 'offpopcorn', 'offs', 'offseason', 'offset', 'offsets', 'offsetting', 'offshore', 'offspring', 'ofr', 'ofsingle', 'often', 'oftened', 'ofter', 'ofthe', 'ofthese', 'ofwater', 'og', 'oh', 'ohh', 'ohhh', 'ohhhhh', 'ohhhhhh', 'ohio', 'ohman', 'ohter', 'oil', 'oilcolor', 'oiled', 'oilier', 'oiliness', 'oiling', 'oilive', 'oilpreheat', 'oils', 'oily', 'oinkies', 'ointment', 'oj', 'ojs', 'ok', 'okay', 'okey', 'okinawa', 'oklahoma', 'oknot', 'okra', 'okry', 'oktava', 'ol', 'ola', 'old', 'olde', 'olden', 'older', 'oldest', 'olds', 'oldtimer', 'ole', 'oleic', 'oleoresin', 'oleuropein', 'olewo', 'olfactory', 'olieshop', 'oligo', 'oligofructose', 'olio', 'olivator', 'olive', 'oliver', 'olives', 'ollies', 'olson', 'olvatine', 'om', 'omaha', 'omar', 'omega', 'omegas', 'omegs', 'omelet', 'omelets', 'omelette', 'omelettes', 'omeletts', 'omen', 'omeprazole', 'omg', 'omgz', 'omh', 'omit', 'omits', 'omitted', 'omitting', 'omni', 'omnivore', 'omnivorous', 'omnomonomnomnomnomnom', 'onces', 'oncology', 'ondr', 'one', 'oneand', 'ones', 'onesbut', 'oneself', 'oneyou', 'ongoing', 'onion', 'onioncook', 'onions', 'oniony', 'online', 'onlycomplaint', 'onlygive', 'onlything', 'onpink', 'onset', 'ont', 'ontario', 'onto', 'onus', 'onwards', 'oo', 'ooba', 'oober', 'ooey', 'oohh', 'oohing', 'oohs', 'ook', 'oolong', 'oolongs', 'oomph', 'ooo', 'oooh', 'oookies', 'ooold', 'ooooh', 'ooooooo', 'ooops', 'oopen', 'oops', 'oounces', 'oout', 'oozed', 'oozes', 'oozing', 'op', 'opa', 'opel', 'opelika', 'open', 'opened', 'openedfor', 'openedit', 'opener', 'openers', 'openind', 'opening', 'openings', 'openly', 'openning', 'opens', 'openso', 'operate', 'operated', 'operates', 'operational', 'operations', 'operative', 'operator', 'operators', 'ophelia', 'opinion', 'opinionated', 'opinions', 'opossums', 'opportunities', 'opportunity', 'opposable', 'opposed', 'opposing', 'opposite', 'oprah', 'opt', 'opted', 'optimal', 'optimistic', 'optimistically', 'optimize', 'optimum', 'opting', 'option', 'optional', 'optionally', 'options', 'oral', 'orally', 'orange', 'orangeblossoms', 'oranged', 'orangee', 'oranges', 'orangey', 'orangina', 'orangish', 'orangy', 'orbits', 'orbs', 'orcered', 'orchard', 'orchards', 'orchid', 'orchids', 'ordeal', 'order', 'orderd', 'ordered', 'ordering', 'orderingagain', 'ordernot', 'orders', 'ordinarily', 'ordinary', 'ording', 'orecchiette', 'oregano', 'oregonian', 'oreintal', 'oreo', 'oreos', 'org', 'organ', 'organci', 'organic', 'organically', 'organiccons', 'organicit', 'organics', 'organicville', 'organie', 'organism', 'organix', 'organization', 'organizations', 'organize', 'organized', 'organizes', 'organizing', 'organo', 'organs', 'orgasmic', 'orgeat', 'orgiginal', 'orginal', 'orginally', 'orginals', 'orgininal', 'orgran', 'orient', 'oriental', 'orientation', 'oriented', 'origen', 'origin', 'original', 'originally', 'originallyt', 'originalpepsi', 'originals', 'originate', 'originated', 'originates', 'originating', 'origins', 'orignal', 'orijen', 'oringinal', 'orkney', 'orlando', 'orleans', 'ornament', 'ornamental', 'ornately', 'oro', 'orother', 'orphan', 'orphans', 'ortega', 'ortho', 'orthodontic', 'orthopedic', 'orthophosphate', 'ortiz', 'orville', 'orzo', 'orzored', 'oscar', 'oscilloscope', 'ose', 'oskri', 'osmosis', 'osoba', 'osteoporosis', 'ostrim', 'oswego', 'ot', 'otc', 'others', 'otherwise', 'otis', 'otro', 'otter', 'otto', 'ottosson', 'ou', 'oue', 'ought', 'oughta', 'ounce', 'ouncegoats', 'ouncer', 'oursecondary', 'outages', 'outback', 'outburst', 'outchew', 'outcome', 'outcomes', 'outdated', 'outdid', 'outdoor', 'outed', 'outfits', 'outgoing', 'outgrew', 'outhouse', 'outhouses', 'outif', 'outing', 'outings', 'outlawed', 'outlet', 'outlets', 'outlier', 'outpunch', 'output', 'outrage', 'outraged', 'outrageous', 'outrageously', 'outragious', 'outright', 'outs', 'outshine', 'outside', 'outsmarted', 'outstandimg', 'outstanding', 'outta', 'outward', 'outweigh', 'outweighed', 'outweighs', 'ouzo', 'oval', 'ovaltine', 'ove', 'oven', 'ovens', 'overall', 'overally', 'overback', 'overbake', 'overbearing', 'overblown', 'overboard', 'overbrewing', 'overcarbonated', 'overcharged', 'overcharging', 'overcome', 'overcomes', 'overcook', 'overcooked', 'overcooking', 'overcoooked', 'overdo', 'overdoing', 'overdone', 'overdose', 'overdried', 'overdue', 'overeacting', 'overeat', 'overeaten', 'overeating', 'overfed', 'overfeed', 'overfeeding', 'overfishing', 'overflow', 'overflowed', 'overflowing', 'overflows', 'overgrowth', 'overhaul', 'overhauled', 'overhead', 'overheaded', 'overheard', 'overheat', 'overheated', 'overhypedand', 'overindulge', 'overindulgence', 'overindulging', 'overjoyed', 'overkill', 'overlapping', 'overload', 'overloaded', 'overlook', 'overlooked', 'overly', 'overnight', 'overnighted', 'overpaid', 'overpay', 'overpaying', 'overpopulated', 'overpower', 'overpowered', 'overpowering', 'overpoweringly', 'overpowers', 'overprice', 'overpriced', 'overpricing', 'overrated', 'overreacted', 'overridden', 'overripe', 'overroasts', 'overrode', 'overs', 'oversalted', 'oversea', 'overseas', 'overshadow', 'overshadowed', 'oversight', 'oversite', 'oversized', 'overstated', 'oversteeping', 'overstock', 'overstuff', 'overstuffed', 'oversweet', 'oversweetened', 'overt', 'overtake', 'overtakes', 'overtaste', 'overthe', 'overtly', 'overtone', 'overtones', 'overtook', 'overuse', 'overused', 'overwater', 'overweight', 'overwhelm', 'overwhelmed', 'overwhelming', 'overwhelmingly', 'overwhelms', 'owe', 'owed', 'owensoh', 'owes', 'owing', 'owl', 'owned', 'owner', 'owners', 'ownership', 'owning', 'owns', 'oxalate', 'oxidant', 'oxidants', 'oxidation', 'oxidative', 'oxide', 'oxidize', 'oxidized', 'oxo', 'oxygen', 'oy', 'oysters', 'ozarks', 'ozbo', 'ozonated', 'ozreg', 'pa', 'pablanos', 'pac', 'pacaging', 'pacakge', 'pace', 'paced', 'paces', 'pach', 'pacifica', 'pacing', 'pack', 'packable', 'package', 'packagealso', 'packaged', 'packagedin', 'packageit', 'packagepros', 'packages', 'packageso', 'packagign', 'packaging', 'packagings', 'packed', 'packer', 'packet', 'packged', 'packinghouse', 'packs', 'pad', 'padded', 'padding', 'paddock', 'paddy', 'pads', 'paducah', 'paella', 'page', 'paid', 'paidd', 'pail', 'painful', 'painfully', 'painless', 'painlessly', 'pains', 'painstakingly', 'painted', 'painting', 'paints', 'pair', 'paired', 'pairing', 'pairs', 'pak', 'pakistani', 'paks', 'pal', 'palace', 'palatable', 'palate', 'palates', 'palatte', 'pale', 'paleo', 'paleolithic', 'palete', 'palette', 'palettes', 'pallet', 'palletable', 'pallete', 'pallett', 'pallida', 'palm', 'palmer', 'palo', 'palouse', 'palpable', 'palpitations', 'pals', 'palsy', 'pamela', 'pamelas', 'pamper', 'pampered', 'pampering', 'pamphlet', 'pan', 'panang', 'pancake', 'pancakes', 'pancakesblend', 'pancit', 'pancreas', 'pancreatic', 'pancreatitis', 'panda', 'pander', 'paneer', 'panel', 'panera', 'panforte', 'pangs', 'panic', 'panicked', 'panini', 'panisse', 'panko', 'pansit', 'pant', 'panther', 'panting', 'pantone', 'pantothenate', 'pantothenic', 'pantoufle', 'pantries', 'pantry', 'pants', 'panzanella', 'papa', 'paper', 'paperboard', 'paperclip', 'papers', 'papertowel', 'paperwork', 'papillion', 'papillons', 'pappy', 'paprika', 'papua', 'par', 'para', 'paraffinum', 'paragon', 'paragraph', 'paraguay', 'paraiso', 'parallel', 'parallelograms', 'paralleogram', 'paralyzed', 'parameter', 'parameters', 'paramount', 'paramsan', 'paranoid', 'paraphrased', 'parasite', 'paratha', 'parboil', 'parboiled', 'parboiling', 'parcel', 'parchment', 'pared', 'pareil', 'parent', 'parenthesis', 'parenthetical', 'parenting', 'parents', 'parfait', 'paring', 'paris', 'parisian', 'parisienne', 'park', 'parking', 'parks', 'parlor', 'parm', 'parma', 'parmalat', 'parmasean', 'parmesean', 'parmessan', 'parms', 'paromi', 'parsecs', 'parsley', 'part', 'partake', 'partaking', 'parthenon', 'partial', 'partially', 'partials', 'participant', 'participants', 'participate', 'participated', 'participating', 'particle', 'particluar', 'particualr', 'particularily', 'particularly', 'particulary', 'partida', 'parties', 'parting', 'partitioned', 'partly', 'partner', 'partnered', 'partners', 'partook', 'parts', 'party', 'parve', 'pasadena', 'passable', 'passages', 'passed', 'passenger', 'passersby', 'passes', 'passing', 'passion', 'passionfruit', 'passover', 'past', 'pasta', 'pastaholic', 'pastahollic', 'pastas', 'pasted', 'pasteries', 'pastery', 'pastes', 'pasteurization', 'pasteurized', 'pastillage', 'pastilles', 'pastina', 'pastinaas', 'pastorelli', 'pastrami', 'pastries', 'pastry', 'pasts', 'pasture', 'pasty', 'pat', 'patak', 'patch', 'patches', 'pate', 'patella', 'patellas', 'patented', 'patenting', 'pates', 'path', 'pathetically', 'pathmark', 'paths', 'patience', 'patient', 'patiently', 'patients', 'patio', 'pato', 'patricia', 'patrick', 'patriot', 'patronizing', 'patrons', 'pats', 'patted', 'patterson', 'patties', 'patting', 'patton', 'patty', 'paul', 'paula', 'pause', 'pausing', 'pav', 'pavich', 'pavlovian', 'paw', 'pawed', 'pawing', 'paws', 'pay', 'paycheck', 'payday', 'paydirt', 'payed', 'payment', 'pays', 'pb', 'pba', 'pbest', 'pbgv', 'pbj', 'pbs', 'pc', 'pcc', 'pcs', 'pd', 'pdq', 'pea', 'peace', 'peaceful', 'peacefully', 'peaces', 'peaceworks', 'peach', 'peaches', 'peacheswhich', 'peachy', 'peacoe', 'peak', 'peaks', 'peant', 'peants', 'peanut', 'peanutbutter', 'peanuts', 'peanutty', 'pear', 'pearl', 'pearls', 'pearly', 'pears', 'pearson', 'peary', 'peas', 'peasant', 'peat', 'peaty', 'pebble', 'pebbles', 'pebbly', 'pecan', 'pecans', 'pecanspreparation', 'peccorino', 'peckish', 'pecorino', 'peculiar', 'ped', 'pedeatrician', 'pedestrian', 'pediagree', 'pedialite', 'pedialyte', 'pediatrian', 'pediatric', 'pediatrician', 'pediatricians', 'pedigree', 'peds', 'pee', 'peeked', 'peel', 'peeled', 'peeling', 'peer', 'peers', 'peesh', 'peet', 'peets', 'peeved', 'pefectly', 'pegged', 'peggy', 'pegs', 'pei', 'peice', 'peicer', 'peices', 'pekeingese', 'pekes', 'pekinese', 'pekingese', 'pekoe', 'pellegrino', 'pellet', 'pellets', 'pembroke', 'pemmi', 'pemmican', 'pen', 'penance', 'pencil', 'pencils', 'pending', 'penelope', 'penetrate', 'penetrates', 'penetrating', 'penetration', 'penguin', 'peninsula', 'penna', 'penne', 'pennie', 'pennies', 'pennsylvania', 'pennyat', 'pennywise', 'pens', 'penta', 'penuche', 'penzeys', 'peony', 'peopl', 'people', 'peoplefood', 'peopleon', 'peoples', 'peoplethat', 'pep', 'peperoncino', 'pepin', 'pepino', 'pepitas', 'pepper', 'peppercorn', 'peppercorns', 'pepperidge', 'peppermint', 'peppermintred', 'peppermints', 'pepperminty', 'pepperoni', 'peppers', 'peppery', 'pepsi', 'pepto', 'per', 'perceivable', 'perceived', 'percent', 'percentage', 'percentages', 'percentile', 'perceptible', 'perception', 'percnt', 'percolate', 'percolated', 'percolator', 'perennial', 'perez', 'perfect', 'perfected', 'perfecting', 'perfection', 'perfectionists', 'perfectly', 'perfecto', 'perfer', 'perferct', 'perforation', 'perforations', 'perform', 'performance', 'performances', 'performed', 'perfumed', 'perhaps', 'peri', 'perigord', 'perilous', 'perimeter', 'periodic', 'periodically', 'periods', 'perish', 'perishables', 'perk', 'perked', 'perkier', 'perking', 'perks', 'perky', 'perlite', 'perm', 'permanant', 'permanent', 'permanente', 'permanently', 'permaplastic', 'permeated', 'permeating', 'permissive', 'permissons', 'permit', 'permitted', 'perogies', 'peroied', 'peroxide', 'perpendicular', 'perpetual', 'perpetually', 'perpetuated', 'perplexing', 'perritos', 'perro', 'perros', 'perscription', 'perservative', 'perseverance', 'persian', 'persians', 'persimmons', 'persist', 'persisted', 'persistent', 'persistently', 'person', 'personal', 'personalcare', 'personalities', 'personality', 'personalize', 'personalized', 'personally', 'personin', 'persons', 'perspective', 'perspiration', 'persuade', 'persuaded', 'persuasion', 'persuasions', 'persuasively', 'pertained', 'pertaining', 'pertty', 'peru', 'peruses', 'perusing', 'peruvian', 'pervading', 'pervasive', 'perverse', 'pesky', 'pessimistic', 'pest', 'pester', 'pestered', 'pestering', 'pesticide', 'pesticides', 'pestle', 'pesto', 'pests', 'pet', 'peta', 'petal', 'petals', 'petcare', 'petcarerx', 'petco', 'petcos', 'pete', 'peter', 'peterreeve', 'peters', 'petersburg', 'peterson', 'petguard', 'petit', 'petits', 'petmart', 'petperks', 'petproducts', 'petri', 'petro', 'petroleum', 'pets', 'petshops', 'petsmart', 'petsmarts', 'petstore', 'petstores', 'petsupplies', 'petted', 'petticoat', 'petting', 'pf', 'pfaendl', 'pfay', 'pgpr', 'ph', 'phad', 'phantasia', 'pharma', 'pharmacy', 'phase', 'phased', 'phases', 'pheasant', 'phelansan', 'phenol', 'phenolic', 'phenols', 'phenomenally', 'phenomenon', 'phenylalanine', 'phew', 'phil', 'philip', 'philippines', 'philistine', 'phillip', 'philly', 'philmont', 'philosophy', 'phobias', 'phobic', 'phoenix', 'phone', 'phonics', 'phonobarbital', 'phony', 'phosphate', 'phosphates', 'phosphoric', 'phosphorous', 'phosphorus', 'photo', 'photographs', 'photography', 'photos', 'phrase', 'phrases', 'physical', 'physically', 'physician', 'physics', 'physiology', 'physique', 'phytic', 'phytochemical', 'phytocytes', 'phytonutrients', 'pi', 'pia', 'piana', 'pibb', 'pic', 'pica', 'picadillo', 'picante', 'piccolo', 'pice', 'pices', 'pick', 'picked', 'pickeled', 'picker', 'pickey', 'pickier', 'pickiest', 'pickiness', 'picking', 'pickings', 'pickle', 'pickled', 'picklejacks', 'pickles', 'pickling', 'pickmeup', 'picky', 'picnic', 'picnick', 'picnics', 'pico', 'pics', 'picth', 'picture', 'pictured', 'pictures', 'pie', 'piece', 'pieced', 'pieces', 'piecescon', 'pienaroma', 'pierce', 'pierced', 'pierces', 'piercing', 'pierogies', 'pies', 'piesand', 'pietro', 'pig', 'pigeon', 'pigeons', 'pigged', 'pigging', 'piggy', 'piggys', 'pignoli', 'pignolo', 'pigs', 'pigskin', 'pike', 'piked', 'pilafs', 'pile', 'piled', 'pilgrimages', 'piling', 'pill', 'pillars', 'pillboxes', 'pillow', 'pillows', 'pillowy', 'pills', 'pillsbury', 'pilot', 'piment', 'pimenta', 'pimento', 'pimentos', 'pimientos', 'pimp', 'pimples', 'pin', 'pina', 'pinaceae', 'pinacolada', 'pinata', 'pinch', 'pinches', 'pinching', 'pinchingly', 'pine', 'pineal', 'pineapple', 'pineapples', 'pineapplish', 'pinecones', 'pines', 'ping', 'pingshui', 'pinhead', 'pinholes', 'pinker', 'pinky', 'pinnacle', 'pinned', 'pinning', 'pinoli', 'pinot', 'pinpoint', 'pins', 'pinscher', 'pint', 'pinterest', 'pinto', 'pinus', 'pipe', 'pipeline', 'piper', 'pipes', 'pipette', 'piping', 'piquant', 'piranhas', 'pirate', 'pirated', 'pirates', 'pischinger', 'pismo', 'piss', 'pissed', 'pisses', 'pistachios', 'pistachos', 'pistacios', 'pit', 'pita', 'pitas', 'pitbull', 'pitched', 'pitcher', 'pitchers', 'pitching', 'pitiful', 'pitocin', 'pits', 'pitt', 'pittas', 'pitted', 'pittsburgh', 'pitty', 'pity', 'pixie', 'pixy', 'pizette', 'pizza', 'pizzas', 'pizzathese', 'pizzaz', 'pizzelles', 'pizzle', 'pizzles', 'pj', 'pjs', 'pjtips', 'pkg', 'pkgs', 'pkirk', 'pkt', 'pkts', 'place', 'placebo', 'placed', 'placedid', 'placement', 'places', 'placing', 'plack', 'plagued', 'plagues', 'plaid', 'plain', 'plainer', 'plainly', 'plains', 'plan', 'plane', 'planed', 'planes', 'planet', 'planks', 'planned', 'planning', 'plans', 'plant', 'plantagel', 'plantars', 'plantarum', 'plantation', 'plantations', 'planted', 'planter', 'planters', 'planting', 'plaque', 'plasic', 'plasmon', 'plaster', 'plastic', 'plasticized', 'plasticky', 'plasticy', 'plate', 'plateaud', 'plated', 'plateful', 'platefulls', 'plates', 'platform', 'platic', 'plating', 'platinum', 'platter', 'play', 'playdate', 'playdoh', 'played', 'player', 'playful', 'playfulness', 'playing', 'playmate', 'plays', 'playtimes', 'plaza', 'pleaaase', 'pleasant', 'pleasantly', 'please', 'pleaseantly', 'pleasebasically', 'pleased', 'pleasent', 'pleasently', 'pleaser', 'pleasers', 'pleases', 'pleasing', 'pleasingly', 'pleasnt', 'pleasntly', 'pleasurable', 'pleasure', 'pleasures', 'plebian', 'pledge', 'pleeze', 'plent', 'plentiful', 'plently', 'plenty', 'plesant', 'plese', 'plethora', 'plex', 'pliability', 'pliable', 'plian', 'plie', 'pliers', 'plight', 'plop', 'plopped', 'plowed', 'ploy', 'pluck', 'plucked', 'plug', 'plugged', 'plugs', 'plum', 'plumb', 'plumbing', 'plumes', 'plump', 'plumps', 'plums', 'plunge', 'plunger', 'plunging', 'plural', 'plus', 'pluse', 'plush', 'pm', 'pms', 'pn', 'pneumonia', 'po', 'poached', 'poaches', 'pobox', 'pocket', 'pocketbook', 'pockets', 'pocky', 'pocus', 'pod', 'podcast', 'pods', 'poducts', 'podunk', 'poeple', 'poetic', 'poetry', 'pog', 'point', 'pointed', 'pointedly', 'pointer', 'pointing', 'pointless', 'points', 'pointsplus', 'pointy', 'poised', 'poison', 'poisoned', 'poisoning', 'poisonings', 'poisonous', 'poisons', 'poke', 'poked', 'pokemon', 'poking', 'pokka', 'poland', 'polarize', 'pole', 'polenta', 'poles', 'police', 'policies', 'policy', 'polinarious', 'polish', 'polished', 'polishing', 'polite', 'politely', 'political', 'politically', 'pollard', 'pollen', 'pollinators', 'pollutes', 'polluting', 'pollution', 'pollux', 'polo', 'polpo', 'poly', 'polycyclic', 'polyester', 'polyethylene', 'polyglycerol', 'polyols', 'polyphenol', 'polyphenolic', 'polyphenols', 'polyphosphates', 'polyricinoleate', 'polysaccharides', 'polystyrene', 'polyunsaturate', 'polyunsaturated', 'pom', 'pomace', 'pomberry', 'pomegranate', 'pomegranateprice', 'pomegranates', 'pomegranite', 'pomegrante', 'pomegranted', 'pomegrantet', 'pomeian', 'pomengranate', 'pomeranian', 'pomeranians', 'pomganites', 'pompeian', 'pompelmo', 'pomperian', 'poms', 'poncho', 'pond', 'ponder', 'ponds', 'pong', 'ponytails', 'poo', 'pooch', 'pooches', 'poodle', 'poodles', 'poof', 'poofy', 'pooh', 'pool', 'poop', 'pooped', 'poopin', 'pooping', 'poops', 'poopy', 'poor', 'poore', 'poorer', 'poorly', 'poorsoul', 'poos', 'poound', 'pop', 'popchip', 'popchips', 'popcicles', 'popcorn', 'popcorners', 'popcornnote', 'popcornopolis', 'popcorns', 'poped', 'poper', 'popeye', 'poping', 'poplite', 'poporn', 'popovers', 'popped', 'popper', 'poppers', 'poppin', 'popping', 'popppie', 'poppy', 'pops', 'popsi', 'popsicle', 'popsicles', 'popsthese', 'popstootsie', 'popsupdate', 'popular', 'popularity', 'popularly', 'populated', 'population', 'porage', 'porc', 'porch', 'porcini', 'porcinis', 'pore', 'pored', 'pork', 'porkchops', 'porkrinds', 'porky', 'porride', 'porridge', 'porridges', 'port', 'portability', 'portableeasy', 'portafilter', 'portal', 'porterhouse', 'porthos', 'portion', 'portioning', 'portland', 'ports', 'portugal', 'porty', 'pos', 'posed', 'poses', 'posessive', 'posh', 'poshy', 'posibly', 'posions', 'position', 'positioned', 'positions', 'positive', 'positively', 'positives', 'positve', 'possess', 'possessed', 'possesses', 'possessing', 'possession', 'posset', 'possibilities', 'possibility', 'possibly', 'possum', 'post', 'postage', 'postassium', 'posted', 'postedand', 'poster', 'posterity', 'posters', 'posting', 'postmark', 'postponed', 'posts', 'postscript', 'pot', 'potao', 'potassium', 'potato', 'potatoe', 'potatoey', 'potatopros', 'potatos', 'potein', 'potency', 'potent', 'potential', 'potentially', 'potently', 'poter', 'potful', 'potion', 'potions', 'potluck', 'potlucks', 'pototoes', 'potpourri', 'potrero', 'pots', 'potted', 'potter', 'pottery', 'potty', 'pouch', 'pouched', 'pouches', 'pouchkine', 'pouf', 'poufy', 'poullex', 'poultry', 'pounce', 'pounced', 'pounces', 'pouncing', 'pound', 'poundage', 'poundcake', 'pounded', 'pounder', 'pounding', 'pounds', 'poupon', 'pour', 'poured', 'pourer', 'pourin', 'pouring', 'pourover', 'pours', 'pout', 'pouts', 'pov', 'pow', 'powder', 'powdercellulose', 'powdered', 'powderized', 'powderpuff', 'powders', 'powderto', 'powdery', 'poweder', 'powell', 'power', 'powerade', 'powerbar', 'powerbars', 'powerberries', 'powered', 'powerfully', 'powerhouse', 'powering', 'powermint', 'powerpop', 'powers', 'ppcoc', 'ppl', 'pple', 'ppm', 'pr', 'practical', 'practically', 'practice', 'practices', 'practicing', 'practitioners', 'praise', 'praised', 'praises', 'praising', 'praline', 'pralines', 'pranced', 'pranking', 'pranks', 'prato', 'prawn', 'prawns', 'pray', 'prayed', 'prayer', 'praying', 'pre', 'preaching', 'preamp', 'prebagged', 'prebiotic', 'prebiotics', 'precancerous', 'precaution', 'precautionary', 'precautions', 'precels', 'precious', 'precise', 'precisely', 'precooked', 'precursor', 'predecessor', 'prediabetic', 'predicaments', 'predict', 'predictability', 'predictable', 'predictive', 'predisposed', 'prednisone', 'predominant', 'predominantly', 'predominate', 'predominates', 'preface', 'prefect', 'prefer', 'preferable', 'preferably', 'prefere', 'prefered', 'preference', 'preferentially', 'prefernce', 'preferred', 'preferrence', 'preferring', 'prefers', 'prefilled', 'preform', 'preggo', 'pregnancy', 'pregnant', 'preground', 'preheat', 'preheated', 'prejudice', 'preliminary', 'prem', 'premade', 'premature', 'prematurely', 'premeasured', 'premie', 'premier', 'premium', 'premiums', 'premiun', 'premix', 'premixed', 'premixes', 'preoccupied', 'preorder', 'prep', 'prepackaged', 'preparation', 'preparations', 'prepare', 'prepares', 'preparethe', 'preparing', 'preparingit', 'prepartion', 'preperation', 'preperations', 'preposition', 'prepped', 'preppie', 'preppy', 'presa', 'preschool', 'preschooler', 'preschoolers', 'prescribed', 'prescribes', 'prescribing', 'prescription', 'prescriptions', 'presence', 'present', 'presentable', 'presentation', 'presentations', 'presented', 'presenting', 'presently', 'presents', 'preservative', 'preservatives', 'preservativesinformationgluten', 'preservativesno', 'preserve', 'preserved', 'preserves', 'preserving', 'president', 'presidor', 'presoak', 'presonally', 'press', 'pressed', 'presser', 'presses', 'pressing', 'pressure', 'presto', 'presumably', 'presume', 'presumed', 'presuming', 'pretend', 'pretending', 'pretense', 'pretenses', 'pretentious', 'prettier', 'prettily', 'pretty', 'pretzel', 'pretzels', 'pretzle', 'prevailant', 'prevails', 'prevalent', 'prevent', 'prevented', 'preventing', 'prevention', 'preventive', 'prevents', 'preview', 'previous', 'previously', 'prey', 'price', 'priceand', 'priceas', 'priced', 'pricedtea', 'pricefor', 'pricehas', 'priceless', 'prices', 'pricethan', 'pricethe', 'pricethese', 'pricewent', 'pricey', 'priceyness', 'pricier', 'pricing', 'prickly', 'pricy', 'pride', 'prides', 'pried', 'prilosec', 'prima', 'primarily', 'primary', 'primavera', 'prime', 'primed', 'priming', 'primitive', 'primo', 'primrose', 'primula', 'prince', 'princely', 'princes', 'princess', 'princesses', 'princeton', 'principal', 'principle', 'principles', 'pringle', 'pringles', 'print', 'printed', 'printing', 'priority', 'priorly', 'priouct', 'prisoner', 'prisrob', 'pristine', 'privacy', 'private', 'privately', 'privilege', 'privledge', 'prize', 'prized', 'prizes', 'prlice', 'pro', 'proactive', 'prob', 'probabbly', 'probable', 'probably', 'probablyfreeze', 'probaby', 'probaly', 'probars', 'probe', 'probing', 'probingly', 'probioitics', 'problem', 'problematic', 'problemm', 'problems', 'problemswith', 'probs', 'proccesed', 'proccess', 'procedure', 'procedures', 'proceed', 'proceeded', 'proceeding', 'proceedings', 'proceeds', 'process', 'processed', 'processer', 'processes', 'processing', 'processor', 'processors', 'proclaim', 'proclaimed', 'proclamation', 'procured', 'procusitto', 'prod', 'prodects', 'produc', 'produce', 'produced', 'producer', 'producers', 'produces', 'producing', 'product', 'productand', 'productas', 'productexcellent', 'production', 'productive', 'productivity', 'products', 'productseverything', 'productsnovember', 'productx', 'produst', 'produt', 'produts', 'produttiva', 'proetein', 'profecinal', 'professed', 'profession', 'professional', 'professionally', 'professionals', 'professors', 'proffit', 'proficient', 'profile', 'profiles', 'profit', 'profiting', 'profits', 'proflowers', 'profound', 'profusely', 'profusion', 'profusly', 'program', 'programmed', 'programmes', 'programs', 'progressed', 'progresses', 'progressing', 'progression', 'progressive', 'progressively', 'progresso', 'prohibition', 'prohibitively', 'proir', 'project', 'projected', 'projectile', 'projection', 'projects', 'prolapse', 'proliferate', 'prolific', 'prolong', 'prolonged', 'prom', 'promax', 'prominent', 'prominently', 'promise', 'promised', 'promises', 'promising', 'promo', 'promos', 'promote', 'promoted', 'promotes', 'promoting', 'promotion', 'promotional', 'promotions', 'promply', 'prompt', 'prompted', 'promptly', 'promptness', 'prompts', 'prompty', 'promt', 'prone', 'prong', 'prongs', 'pronounce', 'pronounceable', 'pronounced', 'pronto', 'proof', 'proofed', 'proofing', 'prop', 'propaganda', 'propagate', 'propel', 'propenamide', 'propenoate', 'properly', 'properties', 'property', 'prophecy', 'prophylactic', 'propolis', 'proponents', 'proportion', 'proportions', 'proposal', 'proposed', 'props', 'propylene', 'propylne', 'prosciutto', 'prosecco', 'prosexcellent', 'prosfast', 'prosgreat', 'prospect', 'prospective', 'prospects', 'prostate', 'prostitute', 'protability', 'protect', 'protected', 'protection', 'protective', 'protects', 'protein', 'proteinate', 'proteiningredients', 'proteins', 'protest', 'protestant', 'protested', 'protien', 'protions', 'protip', 'protocol', 'protocols', 'prototype', 'proud', 'proudct', 'proudcts', 'proudly', 'prouduct', 'provare', 'prove', 'proved', 'proven', 'provence', 'proves', 'provide', 'provided', 'providence', 'provider', 'providers', 'provides', 'providing', 'province', 'provinces', 'proving', 'provocative', 'provokes', 'prowl', 'prowling', 'proximity', 'prozyme', 'pruchased', 'prudent', 'prudhomme', 'prudish', 'pruduct', 'prune', 'prunes', 'pruney', 'pruning', 'pry', 'pryidoxine', 'prying', 'pseudo', 'psoriasis', 'psst', 'psthe', 'psuedoscientific', 'psyched', 'psychedelic', 'psychic', 'psychologically', 'psyllium', 'pt', 'pts', 'pu', 'pub', 'public', 'publication', 'publications', 'publicity', 'publicized', 'publicly', 'publish', 'published', 'publishing', 'publix', 'puchase', 'puchased', 'puches', 'puck', 'pucker', 'puckering', 'pudding', 'puddings', 'puddle', 'puerh', 'puerile', 'puerto', 'puff', 'puffball', 'puffed', 'puffery', 'puffie', 'puffier', 'puffing', 'puffs', 'puffy', 'pug', 'puget', 'puggle', 'pugliese', 'pugs', 'puke', 'puked', 'pukes', 'puking', 'pull', 'pullback', 'pulled', 'pulling', 'pulls', 'pulp', 'pulpy', 'pulse', 'pulverize', 'pulverized', 'pumkin', 'pump', 'pumped', 'pumping', 'pumpkin', 'pumpking', 'pumpkins', 'pumpkinseeds', 'pun', 'punch', 'punched', 'punches', 'punchy', 'puncture', 'punctured', 'punctures', 'pungency', 'pungent', 'punish', 'punished', 'punishment', 'punture', 'puny', 'pup', 'pupcake', 'pupil', 'pupperoni', 'puppies', 'puppy', 'puppychow', 'puppyhood', 'puppys', 'pups', 'pupster', 'pur', 'pura', 'purcahsed', 'purcase', 'purcased', 'purchace', 'purchaing', 'purchase', 'purchased', 'purchasedin', 'purchaseing', 'purchaser', 'purchasers', 'purchases', 'purchasing', 'purchse', 'purchsed', 'purchses', 'purchsing', 'pure', 'purebites', 'puree', 'pureed', 'pureelements', 'purees', 'purefit', 'purely', 'purest', 'purfict', 'purgative', 'purhcase', 'purified', 'purify', 'purine', 'purist', 'purists', 'purity', 'purityfarm', 'purloined', 'puroast', 'purple', 'purples', 'purported', 'purportedly', 'purports', 'purpose', 'purposed', 'purposeful', 'purposefully', 'purposely', 'purposes', 'purprea', 'purpurea', 'purr', 'purrfectly', 'purring', 'purrrrr', 'purrs', 'purschased', 'purse', 'pursue', 'pursuing', 'pursuit', 'purveyors', 'push', 'pushed', 'pushes', 'pushing', 'pushovers', 'pushy', 'puss', 'pussy', 'pussycat', 'put', 'putanesca', 'putrid', 'puts', 'puttanesca', 'putter', 'putting', 'putty', 'putuo', 'puzzle', 'puzzled', 'puzzles', 'pyekky', 'pylori', 'pyr', 'pyramid', 'pyrenees', 'pyrenese', 'pyrennes', 'pyrex', 'pyridoxine', 'pyrmethrin', 'pyrophosphate', 'qc', 'qfc', 'qickly', 'qt', 'qts', 'quadra', 'quadrants', 'quai', 'quail', 'quaility', 'quailty', 'quaker', 'quakers', 'qualifications', 'qualified', 'qualifies', 'qualify', 'qualifying', 'qualities', 'qualitly', 'quality', 'qualityincredible', 'qualitysyrup', 'qualm', 'qualms', 'quanities', 'quanity', 'quanties', 'quantify', 'quantities', 'quantity', 'quarrels', 'quart', 'quarter', 'quarterly', 'quarters', 'quarts', 'quash', 'quasi', 'qucikly', 'que', 'queasiness', 'queasy', 'queen', 'queing', 'quel', 'quell', 'quench', 'quenched', 'quencher', 'quenchers', 'quenches', 'quenching', 'quercia', 'queried', 'query', 'quesadilla', 'quesadillas', 'queso', 'quest', 'question', 'questionable', 'questionably', 'questioned', 'questions', 'quests', 'quibble', 'quibbling', 'quiche', 'quiches', 'quichua', 'quick', 'quicker', 'quickest', 'quickie', 'quickly', 'quicksand', 'quiet', 'quieter', 'quieting', 'quietly', 'quik', 'quilt', 'quinn', 'quinoa', 'quinona', 'quintessential', 'quirks', 'quirky', 'quiry', 'quit', 'quite', 'quiteand', 'quits', 'quitting', 'qulity', 'qunioa', 'quota', 'quotations', 'quote', 'quoted', 'quotes', 'quotient', 'quoto', 'qwerty', 'ra', 'rabbi', 'rabbit', 'rabbits', 'raccoon', 'raccoons', 'race', 'rachael', 'racing', 'racket', 'racks', 'racoons', 'rad', 'radar', 'radiating', 'radiation', 'radical', 'radically', 'radio', 'radioactive', 'radius', 'rae', 'raely', 'rafael', 'raft', 'rafting', 'rage', 'ragged', 'raging', 'ragu', 'raid', 'raider', 'rail', 'rails', 'rain', 'rainbow', 'rained', 'rainy', 'raised', 'raisens', 'raisin', 'raisinets', 'raisinettes', 'raising', 'raisins', 'raisons', 'rajah', 'raking', 'raley', 'rally', 'ralph', 'ralphs', 'ram', 'rambling', 'ramblings', 'ramekins', 'ramen', 'ramikens', 'ramon', 'rampage', 'rampant', 'rampolla', 'ramsey', 'ramune', 'ramyun', 'ran', 'ranch', 'ranchers', 'rancho', 'rancid', 'rancidity', 'rancilio', 'rancio', 'randalls', 'random', 'randomly', 'randomness', 'range', 'ranged', 'ranges', 'ranging', 'rangoons', 'rank', 'ranked', 'ranks', 'rant', 'ranting', 'rants', 'rao', 'rap', 'rapeseed', 'rapid', 'rapidly', 'rapids', 'rapini', 'rapt', 'rapture', 'rapunzel', 'rarely', 'rarest', 'rarified', 'rarity', 'ras', 'rasberries', 'rasberry', 'rash', 'rashes', 'rasin', 'rasins', 'rasp', 'raspberries', 'raspberry', 'rat', 'rata', 'ratatouille', 'ratatuille', 'rate', 'rated', 'rates', 'rather', 'rathr', 'rating', 'ratings', 'ratio', 'rational', 'rationale', 'rationalize', 'ratios', 'rats', 'rattle', 'rattling', 'rave', 'raved', 'ravenous', 'raves', 'ravioli', 'raviolis', 'raw', 'rawhide', 'rawhides', 'rawr', 'ray', 'raya', 'rays', 'razor', 'rbst', 'rc', 'rd', 'reaaaly', 'reabsorb', 'reach', 'reached', 'reachers', 'reaches', 'reaching', 'react', 'reacting', 'reaction', 'reactions', 'reactive', 'reacts', 'read', 'reader', 'readily', 'readiness', 'reading', 'readings', 'reads', 'ready', 'reagan', 'real', 'realise', 'realised', 'realist', 'realistic', 'realistically', 'realities', 'reality', 'realization', 'realize', 'realized', 'realizethat', 'realizing', 'realkopiluwak', 'reallemon', 'realllllllllllllly', 'realllllly', 'reallllly', 'reallly', 'reallt', 'really', 'reallygood', 'reallylike', 'reallywas', 'realthe', 'realtively', 'realy', 'reap', 'reaper', 'reappear', 'reapplication', 'rear', 'reared', 'rearranged', 'reasaonable', 'reasearch', 'reasearching', 'reason', 'reasonable', 'reasonably', 'reasonalbe', 'reasoned', 'reasonibly', 'reasoning', 'reasons', 'reassess', 'reassure', 'reassures', 'reassuring', 'reassuringly', 'reawakened', 'reba', 'rebalance', 'rebar', 'rebars', 'rebecca', 'reboot', 'rebooting', 'rebought', 'rebound', 'rebranding', 'rebrew', 'rebuffed', 'rec', 'recalculated', 'recall', 'recalled', 'recalling', 'recalls', 'recca', 'reccomeded', 'reccomend', 'reccomended', 'reccommend', 'reccommended', 'reccommending', 'rececived', 'receipe', 'receipes', 'receipies', 'receipt', 'receive', 'received', 'receivedit', 'receiver', 'receivers', 'receives', 'receiving', 'recent', 'recently', 'recepient', 'receptacle', 'reception', 'receptive', 'receptors', 'recessed', 'recesses', 'recession', 'recevied', 'recharging', 'recibida', 'recieve', 'recieved', 'recipe', 'recipecause', 'recipes', 'recipiant', 'recipie', 'recipient', 'recipients', 'recipies', 'recite', 'reciting', 'recive', 'reckless', 'reckon', 'reckoned', 'reclaim', 'recliner', 'reclosable', 'reclose', 'recloseable', 'reco', 'recognice', 'recognition', 'recognizable', 'recognizably', 'recognize', 'recognized', 'recognizes', 'recognizing', 'recoiled', 'recomand', 'recomend', 'recomended', 'recomiendo', 'recommand', 'recommeded', 'recommend', 'recommendable', 'recommendation', 'recommendations', 'recommended', 'recommendedfree', 'recommendedregarding', 'recommendedyour', 'recommending', 'recommendit', 'recommends', 'recommened', 'recomment', 'recommmend', 'recommmended', 'recommneded', 'recommnend', 'recondmend', 'reconsider', 'reconstitute', 'reconstituted', 'recoommend', 'record', 'recorded', 'recording', 'recordings', 'records', 'recouping', 'recourse', 'recovered', 'recovering', 'recovers', 'recovery', 'recreate', 'recreates', 'recreating', 'recrystallize', 'rectangle', 'rectangles', 'rectangular', 'rectify', 'recuperating', 'recuring', 'recurring', 'recycled', 'recycles', 'recycling', 'recyle', 'red', 'redbull', 'redbush', 'reddenbacher', 'reddi', 'reddish', 'reddiwip', 'redeaming', 'redeemed', 'redenbacher', 'redesigning', 'redhot', 'redi', 'rediculous', 'redilly', 'redirect', 'redistribute', 'rediwhip', 'redline', 'redmill', 'redness', 'redo', 'redolence', 'redolent', 'redone', 'redribbon', 'reds', 'redskins', 'reduce', 'reduced', 'reduces', 'reducing', 'reduction', 'redwood', 'reed', 'reeived', 'reel', 'reemburse', 'reembursed', 'reese', 'reeses', 'ref', 'refasten', 'refer', 'reference', 'references', 'referencing', 'referred', 'referring', 'refers', 'refigerate', 'refigerator', 'refill', 'refillable', 'refilled', 'refilling', 'refills', 'refind', 'refined', 'refinement', 'refining', 'reflect', 'reflected', 'reflecting', 'reflection', 'reflective', 'reflectix', 'reflects', 'refles', 'reflex', 'reflux', 'reforestation', 'reform', 'reforms', 'refrain', 'refraining', 'refreashing', 'refregirator', 'refresh', 'refreshed', 'refreshening', 'refreshes', 'refreshing', 'refreshingly', 'refresshing', 'refridgerate', 'refridgerated', 'refridgeration', 'refridgerator', 'refried', 'refrig', 'refrigerate', 'refrigerated', 'refrigerating', 'refrigeration', 'refrigerator', 'refuel', 'refuges', 'refund', 'refundable', 'refunded', 'refunding', 'refunds', 'refung', 'refuse', 'refused', 'refuses', 'refusing', 'reg', 'regain', 'regained', 'regale', 'regarded', 'regarding', 'regardles', 'regardless', 'regards', 'regardsadam', 'regarless', 'regatta', 'reggiano', 'regima', 'regime', 'regimen', 'regimine', 'region', 'regional', 'regions', 'register', 'registry', 'regressed', 'regret', 'regreted', 'regrets', 'regrettable', 'regrettably', 'regretted', 'reground', 'regrowing', 'regualar', 'regualry', 'reguards', 'reguested', 'regulargrind', 'regularity', 'regulart', 'regulary', 'regulate', 'regulated', 'regulating', 'regulation', 'regulations', 'regulator', 'regulatory', 'regurgitate', 'regurgitated', 'regurgitation', 'rehab', 'rehabilitating', 'rehash', 'rehearsal', 'reheat', 'reheated', 'reheating', 'rehydrant', 'rehydrated', 'rehydrates', 'rehydrating', 'rehydration', 'rei', 'reieved', 'reign', 'reigning', 'reily', 'reimagined', 'reimburse', 'reimbursed', 'reimbursing', 'reinforced', 'reinforcement', 'reinstating', 'reintroduced', 'reintroducing', 'reinvented', 'reishi', 'reissue', 'reiterate', 'reject', 'rejected', 'rejecting', 'rejection', 'rejects', 'rejuvenate', 'rejuvenated', 'rejuvenates', 'rejuvenator', 'rekamened', 'relabeled', 'relase', 'relate', 'related', 'relating', 'relation', 'relations', 'relationship', 'relationships', 'relationsthe', 'relative', 'relatively', 'relatives', 'relax', 'relaxation', 'relaxed', 'relaxer', 'relaxes', 'relaxing', 'relay', 'relayed', 'release', 'releaseoeso', 'releases', 'releasing', 'relegated', 'releived', 'relentlessly', 'relevant', 'reliability', 'reliable', 'reliably', 'relied', 'relief', 'relies', 'relieve', 'reliever', 'relieves', 'relieving', 'religion', 'religious', 'religiously', 'relinquishing', 'relish', 'relished', 'relishes', 'relive', 'relived', 'relize', 'relized', 'relocate', 'relocated', 'relocating', 'reluctance', 'reluctant', 'relunctly', 'rely', 'relying', 'remade', 'remain', 'remainder', 'remained', 'remaining', 'remains', 'remark', 'remarkably', 'remarked', 'remarks', 'remedied', 'remedies', 'remedy', 'remelted', 'remember', 'remembered', 'remembering', 'remembers', 'remembrance', 'remind', 'reminded', 'reminder', 'reminding', 'reminds', 'reminents', 'reminicent', 'reminiscent', 'remiss', 'remissed', 'remixed', 'remmoval', 'remnants', 'remorse', 'remotely', 'remotelyresemble', 'remoulade', 'removable', 'removal', 'remove', 'removeal', 'removed', 'remover', 'removes', 'removing', 'remy', 'ren', 'renaissance', 'renal', 'renamed', 'render', 'rendered', 'renderedmay', 'rendering', 'renders', 'reneofc', 'renew', 'renewable', 'renewal', 'renewed', 'renfro', 'renfros', 'renita', 'rennet', 'renounced', 'rental', 'rented', 'reoccur', 'reoccurences', 'reoccurring', 'reorder', 'reordered', 'reordering', 'reorders', 'reorderthe', 'rep', 'repackage', 'repackaged', 'repacked', 'repaid', 'repair', 'repairman', 'repeat', 'repeated', 'repeatedly', 'repeating', 'repeats', 'repellant', 'repellants', 'repelled', 'repellent', 'repellents', 'repels', 'repercussions', 'repertoire', 'repetetive', 'repetition', 'repetitive', 'rephrase', 'replace', 'replaceable', 'replaced', 'replacement', 'replacements', 'replacer', 'replaces', 'replacing', 'replacment', 'replay', 'replenished', 'replenisher', 'replenishes', 'replenishing', 'replete', 'replica', 'replicate', 'replicated', 'replication', 'replied', 'replies', 'replinish', 'replinished', 'replyfrom', 'repond', 'report', 'reported', 'reportedly', 'reporter', 'reporting', 'reports', 'repot', 'repotted', 'repotting', 'reprehensible', 'represent', 'representation', 'representatives', 'represented', 'representing', 'represents', 'repretoire', 'reprisal', 'reproducing', 'repsonse', 'reptiles', 'republic', 'republican', 'repudable', 'repulsing', 'repulsive', 'repurchase', 'reputable', 'reputation', 'reputed', 'request', 'requested', 'requesting', 'requests', 'requird', 'require', 'required', 'requirement', 'requirements', 'requiring', 'requirng', 'requisite', 'reread', 'resale', 'resaleable', 'rescinded', 'rescue', 'rescued', 'rescues', 'rescuing', 'reseach', 'reseal', 'resealable', 'resealed', 'research', 'researched', 'researchers', 'researching', 'resell', 'reseller', 'resellers', 'reselling', 'resells', 'resemblance', 'resemble', 'resembled', 'resembles', 'resembling', 'resend', 'resent', 'resently', 'reservation', 'reserve', 'reserved', 'reservegreen', 'reserves', 'reservoir', 'resevoir', 'reship', 'reshipped', 'reshop', 'resident', 'residents', 'resides', 'residing', 'residual', 'residuals', 'resifet', 'resin', 'resistance', 'resistant', 'resisted', 'resisting', 'reslish', 'resold', 'resolutely', 'resolution', 'resolve', 'resolved', 'resolves', 'resolvethat', 'resolving', 'reson', 'resonible', 'resort', 'resorted', 'resorting', 'resounding', 'resource', 'resources', 'respect', 'respectable', 'respected', 'respectfully', 'respecting', 'respectively', 'respects', 'respiratory', 'respiratoryissues', 'responded', 'responding', 'responds', 'respone', 'responisbility', 'response', 'responses', 'responsibilities', 'responsibility', 'responsible', 'responsibly', 'responsiveness', 'respoonds', 'ressucitated', 'rest', 'restaraunt', 'restarts', 'restate', 'restaurant', 'restaurante', 'rested', 'resterants', 'restful', 'resting', 'restless', 'restlessness', 'restock', 'restocked', 'restocking', 'restore', 'restored', 'restoring', 'restrain', 'restraint', 'restrict', 'restricted', 'restriction', 'restrictions', 'restrictive', 'restricts', 'restroom', 'restructured', 'restuarant', 'resturant', 'resubmittal', 'result', 'resulted', 'resulting', 'results', 'resume', 'resupplied', 'resurface', 'resused', 'retail', 'retailer', 'retailers', 'retailmenot', 'retails', 'retain', 'retained', 'retaining', 'retainment', 'retch', 'retching', 'retention', 'retestedd', 'rethink', 'retial', 'reticent', 'retire', 'retired', 'retirement', 'retiring', 'retort', 'retracted', 'retrain', 'retraining', 'retreated', 'retried', 'retrievals', 'retrieve', 'retrieved', 'retriever', 'retrieving', 'retriver', 'retro', 'retrospect', 'retrospective', 'return', 'returnable', 'returned', 'returning', 'reunion', 'reusable', 'reuse', 'reused', 'reusing', 'rev', 'reva', 'revamped', 'reveal', 'revealed', 'revealing', 'reveals', 'reveiw', 'reveiws', 'revel', 'revelation', 'revenue', 'reverentially', 'reverse', 'reversed', 'reversing', 'review', 'reviewa', 'reviewed', 'reviewer', 'reviewers', 'reviewing', 'reviews', 'reviewwe', 'revise', 'revised', 'revision', 'revitalizing', 'revive', 'reviw', 'reviws', 'revolt', 'revolting', 'revolution', 'revolutionised', 'revolving', 'revv', 'revvgreen', 'reward', 'rewarded', 'rewardfor', 'rewarding', 'rewards', 'rework', 'rewrap', 'rex', 'rey', 'reynard', 'rfn', 'rhapsody', 'rhetorical', 'rhino', 'rhizome', 'rhode', 'rhodesian', 'rhododendron', 'rhododendrons', 'rhubarb', 'rhyme', 'rhymes', 'rhythm', 'rhythmically', 'ri', 'rib', 'riba', 'ribbon', 'ribbons', 'ribena', 'ribeye', 'riboflavin', 'ribose', 'ribs', 'rica', 'rican', 'ricans', 'rice', 'ricecake', 'rices', 'riceselect', 'riceselet', 'rich', 'richart', 'richer', 'richest', 'richly', 'richness', 'ricin', 'rick', 'rico', 'ricore', 'ricotta', 'ricyness', 'rid', 'ridder', 'ride', 'rides', 'ridge', 'ridgebacks', 'ridged', 'ridges', 'ridicule', 'ridiculous', 'ridiculously', 'rids', 'riduclous', 'rieeazzall', 'riehl', 'rieme', 'riesen', 'riesling', 'rigate', 'right', 'righteous', 'rightful', 'rightfully', 'righti', 'rightly', 'rightno', 'rights', 'rigid', 'rigjt', 'rigorous', 'rigth', 'riley', 'rim', 'rimadyl', 'rims', 'rinas', 'rind', 'rindner', 'rinds', 'ring', 'ringer', 'ringing', 'rings', 'rink', 'rinse', 'rinsed', 'rinsing', 'rio', 'rios', 'rip', 'ripe', 'ripen', 'ripened', 'ripeness', 'ripes', 'ripley', 'ripped', 'ripping', 'ripple', 'ripples', 'rippppp', 'rips', 'risen', 'rises', 'rishi', 'rising', 'risk', 'riskier', 'risky', 'risotto', 'ristretto', 'rita', 'rite', 'rition', 'ritter', 'ritters', 'ritual', 'ritz', 'rival', 'rivaled', 'rivals', 'rivera', 'rivers', 'riviera', 'rizzo', 'rjb', 'rk', 'rna', 'roaches', 'road', 'roads', 'roadside', 'roamed', 'roaming', 'roand', 'roaring', 'roast', 'roastd', 'roasted', 'roaster', 'roasters', 'roastgood', 'roastgreen', 'roastiness', 'roasting', 'roastmasters', 'roasts', 'roaststarbucks', 'roastthis', 'roasty', 'rob', 'robbed', 'robbery', 'robbie', 'robbing', 'robbins', 'robert', 'roberts', 'robitussin', 'robot', 'robust', 'robusta', 'robustness', 'robusto', 'rocco', 'rock', 'rocker', 'rocket', 'rocketing', 'rockies', 'rocking', 'rocks', 'rockstar', 'rockwell', 'rocky', 'rod', 'rode', 'rodent', 'rodents', 'rodeo', 'rodney', 'rods', 'roe', 'roes', 'roger', 'roiling', 'roland', 'role', 'roles', 'rollcan', 'rolled', 'roller', 'rollers', 'rollhides', 'rolling', 'rolls', 'rollsome', 'roly', 'roman', 'romana', 'romance', 'romano', 'romanoff', 'romantic', 'rome', 'romeo', 'romping', 'ron', 'rona', 'ronald', 'roni', 'ronzini', 'ronzoni', 'roobios', 'rood', 'roof', 'rooibo', 'rooibos', 'room', 'roomconsdoes', 'roomm', 'roommate', 'roommates', 'rooms', 'root', 'rootball', 'rootbeer', 'rooted', 'roots', 'rooty', 'rope', 'ropes', 'rosa', 'rosamonte', 'rosario', 'rosarita', 'roscoe', 'rose', 'rosebuds', 'rosehip', 'rosehips', 'roses', 'rosewater', 'rosey', 'ross', 'rossa', 'rossi', 'roswell', 'rosy', 'rot', 'rotate', 'rotated', 'rotates', 'rotating', 'rotation', 'rotational', 'rote', 'rotel', 'rotfl', 'rotini', 'rotisserie', 'rototiller', 'rotted', 'rotten', 'rottie', 'rotting', 'rottweiler', 'rottwieler', 'rotty', 'rouge', 'rough', 'roughage', 'roughed', 'rougher', 'roughly', 'roughness', 'rougie', 'rouler', 'roulette', 'round', 'rounded', 'rounding', 'rounds', 'roundup', 'rouse', 'rousses', 'route', 'routed', 'routine', 'routinely', 'row', 'rowdy', 'rowing', 'rows', 'roy', 'royal', 'royally', 'royalties', 'royalty', 'rozoni', 'rprefer', 'rr', 'rreminds', 'rrreat', 'rt', 'rta', 'rtd', 'rthic', 'rtu', 'rub', 'rubbed', 'rubber', 'rubberas', 'rubberish', 'rubbermaid', 'rubbery', 'rubbing', 'rubbish', 'rubs', 'rude', 'rudely', 'rudeness', 'rudi', 'rudolph', 'rudy', 'ruff', 'ruffage', 'ruffle', 'ruffles', 'ruffly', 'rufus', 'rug', 'rugby', 'rugged', 'rugrats', 'rugs', 'ruin', 'ruined', 'ruining', 'ruinous', 'ruins', 'ruled', 'rulers', 'rules', 'rum', 'rumble', 'rumblings', 'rumbly', 'rumford', 'ruminating', 'rummaging', 'rumors', 'run', 'runa', 'runaround', 'runaway', 'runing', 'runner', 'runners', 'runnier', 'running', 'runny', 'runover', 'runs', 'runt', 'runthe', 'runway', 'rupture', 'ruptured', 'ruptures', 'rural', 'rush', 'rushes', 'rushing', 'russel', 'russell', 'russia', 'russian', 'russle', 'rust', 'rustic', 'rustling', 'rusty', 'rusult', 'rutabaga', 'rutabagas', 'ruth', 'ruthless', 'rutledge', 'rv', 'rving', 'rw', 'rwandan', 'rx', 'rye', 'ryvita', 'sa', 'saag', 'saaqin', 'sable', 'sabotaging', 'sabrozita', 'sac', 'saccharin', 'saccharine', 'sacchirine', 'sacha', 'sachet', 'sachets', 'sack', 'sacks', 'sacramento', 'sacred', 'sacrifice', 'sacrificed', 'sacrificial', 'sad', 'sadaf', 'saddened', 'saddle', 'saddlebag', 'saddled', 'sadie', 'sadistic', 'sadly', 'sadness', 'saeco', 'safe', 'safeguards', 'safely', 'safer', 'safest', 'safety', 'safflower', 'saffron', 'saga', 'sage', 'sahara', 'sahlen', 'said', 'saigon', 'sailboat', 'sailors', 'saint', 'sais', 'sakes', 'sal', 'salad', 'salada', 'salade', 'saladitos', 'salads', 'salame', 'salami', 'salamida', 'salba', 'sale', 'salem', 'salesman', 'salient', 'salinity', 'salisbury', 'saliva', 'salivate', 'salivating', 'sally', 'salmon', 'salmonella', 'salom', 'salon', 'salsa', 'salsas', 'salt', 'salted', 'saltier', 'saltiest', 'saltine', 'saltines', 'saltiness', 'salting', 'saltless', 'saltmy', 'saluki', 'salumeria', 'salut', 'saluti', 'salvage', 'salvation', 'salves', 'sam', 'samba', 'sambar', 'sambazon', 'sameseasoning', 'sami', 'samll', 'samoa', 'samoas', 'samosas', 'samovar', 'samoyed', 'sample', 'sampled', 'sampler', 'samplers', 'samples', 'sampling', 'sams', 'samsclub', 'samson', 'samurai', 'san', 'sanani', 'sanc', 'sanctified', 'sand', 'sandals', 'sandalwood', 'sanders', 'sandies', 'sanding', 'sandra', 'sandwhices', 'sandwhiches', 'sandwich', 'sandwiches', 'sandwiching', 'sandwitches', 'sandy', 'sane', 'sang', 'sangiovese', 'sangria', 'sanitary', 'sanity', 'sank', 'sanka', 'sanskriti', 'santander', 'santanders', 'santo', 'santos', 'sao', 'sap', 'sapidity', 'sapling', 'sapporo', 'saps', 'sara', 'sarah', 'saran', 'sarching', 'sardine', 'sardines', 'sarnese', 'sarsaparilla', 'sasha', 'sashimi', 'saskatoon', 'sassafras', 'sassy', 'sat', 'satan', 'satanic', 'satay', 'sate', 'sated', 'satiate', 'satiated', 'satiating', 'satiety', 'satified', 'satifies', 'satifsying', 'satify', 'satifying', 'satin', 'satisfaction', 'satisfactorily', 'satisfaftion', 'satisfatory', 'satisfecha', 'satisfied', 'satisfier', 'satisfiers', 'satisfies', 'satisfy', 'satisfys', 'satisifed', 'sato', 'satur', 'saturated', 'saturating', 'saturday', 'sauce', 'saucebut', 'saucecilantrohabanerogarlicspice', 'saucepan', 'saucer', 'saucers', 'sauces', 'saucing', 'saucy', 'saudi', 'sauer', 'sauerbraten', 'sauerkraut', 'saure', 'sausagei', 'sausages', 'sausege', 'saut', 'sautee', 'sauteed', 'sauteing', 'sauvignon', 'savage', 'savannah', 'save', 'saved', 'saver', 'savers', 'saves', 'saving', 'savings', 'savior', 'saviors', 'savor', 'savora', 'savored', 'savoring', 'savory', 'savoured', 'savvy', 'savy', 'saw', 'sawdust', 'sawed', 'saws', 'say', 'sayin', 'saying', 'sayings', 'says', 'sazon', 'sb', 'sbux', 'sc', 'sca', 'scads', 'scaf', 'scaffolding', 'scalding', 'scale', 'scales', 'scaling', 'scallions', 'scalloped', 'scallops', 'scalp', 'scammed', 'scamming', 'scampi', 'scan', 'scancal', 'scandal', 'scanned', 'scanner', 'scanning', 'scans', 'scant', 'scarce', 'scarcely', 'scarcity', 'scare', 'scared', 'scares', 'scarf', 'scarfed', 'scarffing', 'scarfing', 'scarfs', 'scarlette', 'scarred', 'scarring', 'scarves', 'scary', 'scathing', 'scatter', 'scattered', 'scavange', 'scavenge', 'scavenger', 'scd', 'sce', 'sceaming', 'scenario', 'scenarios', 'scence', 'scene', 'scent', 'scented', 'scents', 'sceptical', 'schanuzer', 'schar', 'scharffen', 'scheduled', 'schemes', 'schidigera', 'schipperke', 'schlag', 'schluckwerder', 'schmear', 'schmo', 'schnauzer', 'schnauzers', 'schnoodle', 'schnorkitzu', 'school', 'schoolbooks', 'schoolers', 'schpeal', 'schrod', 'schweppes', 'scienc', 'science', 'sciencediet', 'sciences', 'scientific', 'scientifically', 'scientist', 'scientists', 'scissors', 'sclerosis', 'scoff', 'scoffed', 'sconce', 'scone', 'scones', 'scooby', 'scoop', 'scoopable', 'scooped', 'scooper', 'scooping', 'scoops', 'scope', 'scopes', 'scorch', 'scorched', 'scorching', 'score', 'scored', 'scores', 'scoring', 'scorn', 'scorned', 'scorpion', 'scotch', 'scotland', 'scots', 'scott', 'scottie', 'scotties', 'scottish', 'scotts', 'scotty', 'scoured', 'scouring', 'scout', 'scouting', 'scovies', 'scoville', 'scovilles', 'scramble', 'scrambled', 'scrambling', 'scrap', 'scrape', 'scraped', 'scraping', 'scrapings', 'scrapped', 'scrapping', 'scratch', 'scratched', 'scratcher', 'scratches', 'scratchi', 'scratching', 'scratchy', 'scream', 'screamin', 'screaming', 'screams', 'screen', 'screening', 'screenplay', 'screenwriter', 'screw', 'screwdriver', 'screwed', 'screwing', 'screws', 'script', 'scripture', 'scrub', 'scrubbed', 'scrubber', 'scrubbing', 'scrubrush', 'scrum', 'scrumdiddliumptious', 'scrumdiddlyumptous', 'scrumptious', 'scrutinize', 'scrutiny', 'scuffs', 'sculpture', 'scum', 'scuse', 'sd', 'sdecure', 'sdkjasuab', 'se', 'sea', 'seach', 'seafood', 'seagrams', 'seahawks', 'seal', 'sealable', 'sealed', 'sealedvanilla', 'sealing', 'seals', 'seamless', 'seamlessly', 'seams', 'sear', 'search', 'searched', 'searches', 'searching', 'searchingdecided', 'seared', 'searing', 'sears', 'seas', 'seasalt', 'seasening', 'seasickness', 'seasnoning', 'season', 'seasonal', 'seasonally', 'seasoned', 'seasoning', 'seasons', 'seat', 'seattle', 'seattles', 'seaweed', 'sebastopol', 'sec', 'secchi', 'second', 'secondary', 'secondly', 'seconds', 'secret', 'secretly', 'secrets', 'secs', 'section', 'sectioned', 'sections', 'secure', 'secured', 'securely', 'secures', 'securing', 'securities', 'security', 'securly', 'sedating', 'sedative', 'seduces', 'seducing', 'seduction', 'seductive', 'see', 'seeding', 'seedless', 'seedlings', 'seeds', 'seedy', 'seeing', 'seeker', 'seeking', 'seelect', 'seem', 'seemed', 'seeming', 'seemingly', 'seems', 'seen', 'seep', 'seeped', 'seeping', 'seer', 'seered', 'sees', 'seesaw', 'segafredo', 'segment', 'segmented', 'segments', 'seince', 'seitan', 'seize', 'seizure', 'seizures', 'seldom', 'selecci', 'select', 'selected', 'selecting', 'selection', 'selections', 'selective', 'selects', 'selenite', 'selenium', 'self', 'selfishly', 'selfmade', 'selfsame', 'sell', 'sellar', 'seller', 'sellers', 'seltzer', 'seltzers', 'semblance', 'semesters', 'semisoft', 'semisweet', 'semolina', 'sen', 'sench', 'sencha', 'send', 'sender', 'sendgraff', 'sends', 'seneca', 'senentary', 'senior', 'seniors', 'sensation', 'sensational', 'sensations', 'sensative', 'sense', 'sensed', 'senseo', 'senses', 'sensibility', 'sensible', 'sensibly', 'sensing', 'sensitive', 'sensitives', 'sensitivies', 'sensitivities', 'sensitivity', 'senso', 'sensory', 'senstive', 'sensual', 'sented', 'sentence', 'sentient', 'sentiment', 'sep', 'separate', 'separated', 'separately', 'separates', 'separatesfrom', 'separating', 'separation', 'seperate', 'seperates', 'seperating', 'sept', 'september', 'septic', 'serch', 'sereal', 'serendipitea', 'serendipitous', 'serendipity', 'serge', 'sergea', 'serially', 'series', 'serious', 'seriously', 'seriousness', 'serivce', 'serrated', 'serration', 'servant', 'serve', 'served', 'server', 'serves', 'service', 'serviceable', 'serviceand', 'servicebest', 'serviced', 'services', 'servicewas', 'servicewolfgang', 'serving', 'servingcalories', 'servings', 'servizio', 'sesaame', 'seseo', 'sesmark', 'session', 'sessions', 'set', 'sets', 'setter', 'setters', 'settle', 'settled', 'settlement', 'settlements', 'settles', 'settling', 'setup', 'sev', 'seven', 'seventeen', 'seventies', 'seventy', 'several', 'severally', 'severalpouches', 'severe', 'severeal', 'severely', 'severity', 'severly', 'seviche', 'sevin', 'sewage', 'sewed', 'sewing', 'sewn', 'sex', 'sexy', 'sf', 'sha', 'shabby', 'shack', 'shacks', 'shade', 'shades', 'shadow', 'shady', 'shake', 'shaken', 'shakeology', 'shaker', 'shakers', 'shakes', 'shakespeare', 'shakey', 'shaking', 'shalako', 'shales', 'shall', 'shallots', 'shallow', 'shaman', 'shame', 'shameful', 'shamelessly', 'shames', 'shampoo', 'shampoos', 'shamrocks', 'shamshiry', 'shangri', 'shannon', 'shape', 'shaped', 'shapeher', 'shapes', 'shaping', 'shar', 'shards', 'share', 'shared', 'shareholders', 'shares', 'shark', 'sharks', 'sharp', 'sharpen', 'sharper', 'sharpness', 'sharppains', 'shasta', 'shattered', 'shaunty', 'shave', 'shaver', 'shaving', 'shavings', 'shaw', 'shawn', 'shazaam', 'shazam', 'shea', 'shears', 'sheba', 'shebear', 'shed', 'shedding', 'sheds', 'sheepdog', 'sheepdogs', 'sheeps', 'sheer', 'sheers', 'sheesh', 'sheet', 'sheets', 'sheher', 'sheldon', 'shelf', 'shelflife', 'shelfs', 'shell', 'shelled', 'shellfish', 'shelling', 'shells', 'shelter', 'sheltie', 'shelties', 'shelton', 'shelves', 'shep', 'shepard', 'shepards', 'shepesters', 'sheph', 'shephard', 'shepherd', 'shepherds', 'sheppard', 'sherbet', 'sherry', 'sheryl', 'shes', 'shetland', 'shewould', 'shhet', 'shhhakes', 'shhhh', 'shhhhhhhh', 'shi', 'shia', 'shiba', 'shibamoto', 'shielding', 'shift', 'shifted', 'shifting', 'shifts', 'shih', 'shihtzu', 'shiitake', 'shill', 'shilling', 'shills', 'shim', 'shin', 'shine', 'shined', 'shiner', 'shines', 'shiney', 'shinier', 'shiniest', 'shining', 'shinny', 'shiny', 'ship', 'shipment', 'shipments', 'shipped', 'shipper', 'shippers', 'shipping', 'shippingas', 'shippingsome', 'shippiong', 'shippment', 'shippments', 'shippped', 'shippping', 'ships', 'shirataki', 'shiritaki', 'shirt', 'shirts', 'shiseido', 'shitsu', 'shittake', 'shitzu', 'shitzus', 'shnitzel', 'shock', 'shocked', 'shocker', 'shocking', 'shockingly', 'shocks', 'shoebox', 'shoelaces', 'shoepeg', 'shoeveling', 'shook', 'shoot', 'shooting', 'shoots', 'shop', 'shoppe', 'shopped', 'shopper', 'shoppers', 'shopppe', 'shops', 'shopwww', 'shore', 'shores', 'shorkie', 'short', 'shortage', 'shortages', 'shortbread', 'shortbreads', 'shortcake', 'shortcakes', 'shortcoming', 'shortcomings', 'shortcuts', 'shorted', 'shortening', 'shorter', 'shortest', 'shorthair', 'shortish', 'shortly', 'shorts', 'shots', 'shotsprobably', 'shotsthe', 'shoula', 'shoulda', 'shoulder', 'shoulders', 'shouldnt', 'shout', 'shouting', 'shove', 'shoved', 'shovel', 'shoveling', 'shoving', 'show', 'showcases', 'showed', 'shower', 'showering', 'showing', 'shown', 'shows', 'showstoppers', 'shoyu', 'shrapnel', 'shredded', 'shredding', 'shreds', 'shrimp', 'shrink', 'shrinkage', 'shrinked', 'shrinks', 'shrinkwrapped', 'shriveled', 'shriveling', 'shroomy', 'shroomz', 'shrub', 'shrubs', 'shrunk', 'shu', 'shudder', 'shudderlicious', 'shudders', 'shun', 'shunning', 'shuns', 'shunt', 'shure', 'shus', 'shut', 'shutter', 'shuttle', 'shyly', 'siam', 'siamese', 'siberian', 'siberians', 'siblings', 'sibu', 'sic', 'sicilian', 'sicily', 'sick', 'sickened', 'sickeningly', 'sickie', 'sickly', 'sickthanks', 'sicktill', 'sicky', 'sicnesses', 'side', 'sided', 'sidedish', 'sidenote', 'sideof', 'sideoverall', 'sides', 'sidetracked', 'sidewalk', 'sidewalks', 'sideways', 'siegel', 'siena', 'sierra', 'sieve', 'sift', 'sifted', 'sifting', 'sigar', 'sigh', 'sighgive', 'sightly', 'sightpink', 'signal', 'signally', 'signature', 'signatures', 'signed', 'significance', 'significant', 'significantly', 'significat', 'signing', 'signor', 'signs', 'silence', 'silent', 'silicon', 'silicone', 'silk', 'silken', 'silki', 'silkier', 'silkiest', 'silky', 'sill', 'silliness', 'silly', 'silver', 'silverskin', 'silvery', 'silvia', 'simialer', 'simiar', 'similac', 'similar', 'similarities', 'similarity', 'similarly', 'similasan', 'similiar', 'simkhai', 'simlar', 'simliar', 'simmer', 'simmering', 'simmons', 'simple', 'simplepac', 'simpler', 'simplest', 'simplicity', 'simplier', 'simplified', 'simplify', 'simply', 'simplybeautiful', 'simular', 'simulate', 'simulated', 'simultaneously', 'sin', 'sinatrajon', 'since', 'sinced', 'sincere', 'sincerely', 'sine', 'sinec', 'sinensis', 'sinew', 'sinewaves', 'sinewy', 'sinful', 'sinfully', 'sing', 'singapore', 'singe', 'singing', 'single', 'singlehandedly', 'singletea', 'singly', 'sink', 'sinker', 'sinks', 'sinle', 'sinned', 'sinthetic', 'sinue', 'sinus', 'sinuses', 'sip', 'sippin', 'sipping', 'sippy', 'sips', 'sir', 'siracha', 'sirree', 'sirve', 'sis', 'sister', 'sisters', 'sit', 'site', 'sites', 'sits', 'sitter', 'sittin', 'sitting', 'sittingin', 'sittings', 'sittingwithout', 'sittting', 'situated', 'situation', 'situations', 'siu', 'six', 'sixteen', 'sixth', 'sixths', 'sixties', 'sixty', 'sizable', 'size', 'sizebowl', 'sized', 'sizes', 'sizethese', 'sizing', 'sizzle', 'sizzling', 'sjhipping', 'sjogrens', 'sjot', 'skallops', 'skare', 'skating', 'skeptic', 'skepticism', 'sketchy', 'skewed', 'skewer', 'skewers', 'ski', 'skid', 'skiing', 'skill', 'skilled', 'skilledretired', 'skillet', 'skillets', 'skills', 'skim', 'skimmed', 'skimmpy', 'skimp', 'skimping', 'skimpy', 'skin', 'skinless', 'skinner', 'skinners', 'skinney', 'skinnier', 'skinny', 'skins', 'skip', 'skipjack', 'skipped', 'skipping', 'skippy', 'skittles', 'skizip', 'skoller', 'skri', 'skunk', 'skunky', 'sky', 'skyline', 'skype', 'slab', 'slabaughkingston', 'slabs', 'slacked', 'slacker', 'slam', 'slammed', 'slammimg', 'slamming', 'slams', 'slanderous', 'slanted', 'slap', 'slapped', 'slashings', 'slate', 'slated', 'slather', 'slathered', 'slathering', 'slaughterhouse', 'slaved', 'slavery', 'slaves', 'slaw', 'slc', 'sledding', 'sleek', 'sleep', 'sleeper', 'sleepies', 'sleepily', 'sleeping', 'sleepless', 'sleepover', 'sleepy', 'sleepying', 'sleepytime', 'sleeve', 'sleeves', 'slenda', 'slender', 'slenderize', 'slept', 'sleptgood', 'sleuthing', 'slew', 'slice', 'sliced', 'slices', 'slick', 'slickdeals', 'slide', 'sliders', 'slides', 'sliding', 'slight', 'slightest', 'slightly', 'slighty', 'slim', 'slime', 'slimey', 'slimfast', 'slimmimg', 'slimming', 'slingshotted', 'slip', 'slipped', 'slipperly', 'slippery', 'slipping', 'slips', 'slit', 'slither', 'slits', 'sliver', 'slivered', 'slivers', 'slivver', 'slo', 'slob', 'slogan', 'slop', 'sloping', 'slopped', 'sloppiness', 'sloppy', 'slot', 'sloth', 'slots', 'slotted', 'slow', 'slowed', 'slower', 'slowing', 'slowly', 'slows', 'sls', 'slslsl', 'slt', 'sludge', 'slug', 'sluggish', 'slugs', 'slumber', 'slumming', 'slump', 'slung', 'slurpalicious', 'slurping', 'slurpy', 'slurry', 'slush', 'slushes', 'slushy', 'slut', 'slyly', 'smack', 'smacked', 'smackers', 'smacking', 'smacks', 'small', 'smaller', 'smallest', 'smallish', 'smallness', 'smalls', 'smarks', 'smart', 'smartblend', 'smartbones', 'smarter', 'smartest', 'smarties', 'smarty', 'smartykat', 'smashed', 'smashing', 'smear', 'smeared', 'smearing', 'smell', 'smelled', 'smellexactly', 'smelley', 'smellies', 'smelling', 'smells', 'smelly', 'smelt', 'smidge', 'smile', 'smiles', 'smiling', 'smith', 'smock', 'smoke', 'smoked', 'smokehouse', 'smoker', 'smokes', 'smokey', 'smokeys', 'smokeysthese', 'smokiesfatter', 'smokiness', 'smoking', 'smoky', 'smooooooooooooooooooth', 'smoooooooooooth', 'smoooooooth', 'smooshed', 'smooshy', 'smooth', 'smoothe', 'smoother', 'smoothering', 'smoothest', 'smoothie', 'smoothies', 'smoothiesor', 'smoothly', 'smoothy', 'smores', 'smother', 'smothered', 'smpling', 'smucker', 'smuckers', 'smudges', 'smuggle', 'smurf', 'smushed', 'snack', 'snacked', 'snacker', 'snackers', 'snacking', 'snackmasters', 'snacks', 'snacksbefore', 'snacksi', 'snackwell', 'snackwise', 'snacky', 'snadwich', 'snag', 'snake', 'snap', 'snaple', 'snapped', 'snapper', 'snapping', 'snappish', 'snapple', 'snapples', 'snappy', 'snaps', 'snarf', 'snarfed', 'snarfing', 'snatch', 'snatched', 'snatches', 'snausage', 'snausages', 'snazzy', 'sneak', 'sneakily', 'sneaking', 'sneaks', 'sneaky', 'sneeking', 'sneeze', 'sneezing', 'snicker', 'snickers', 'sniffed', 'sniffles', 'snip', 'snipped', 'sno', 'snob', 'snobbish', 'snobby', 'snobs', 'snookered', 'snoopy', 'snoot', 'snooze', 'snoozy', 'snoring', 'snorkelsandy', 'snorting', 'snotty', 'snout', 'snouts', 'snouty', 'snow', 'snowball', 'snowcaps', 'snowcone', 'snowcones', 'snowed', 'snowflake', 'snows', 'snowshoe', 'snowy', 'snub', 'snubbed', 'snubbing', 'snuck', 'snuffling', 'snug', 'snuggle', 'snugglling', 'snugly', 'snyder', 'snyders', 'soaked', 'soaking', 'soaks', 'soap', 'soaps', 'soapy', 'soar', 'sobe', 'socal', 'soccer', 'society', 'sock', 'sockarooni', 'sockeye', 'socks', 'sod', 'soda', 'sodas', 'sodifferent', 'sodium', 'sods', 'soeager', 'soem', 'soever', 'sofa', 'sofrito', 'soft', 'softball', 'soften', 'softened', 'softeners', 'softens', 'softest', 'softgels', 'softies', 'softish', 'softly', 'software', 'softy', 'sog', 'sogginess', 'soggy', 'soggying', 'sogo', 'soh', 'sohard', 'soi', 'soil', 'soili', 'soit', 'sojo', 'sojorner', 'sojos', 'sol', 'solace', 'solar', 'sold', 'solder', 'soldier', 'soldiers', 'sole', 'solely', 'soley', 'solicitation', 'solidified', 'solidifies', 'solidify', 'solidly', 'solids', 'solis', 'solitary', 'solitudinarian', 'solo', 'solobrew', 'solofil', 'solofill', 'solomon', 'soloveitchik', 'solstice', 'solubility', 'soluble', 'solucky', 'solution', 'solutions', 'solve', 'solvent', 'solves', 'solving', 'somedays', 'somehow', 'somehwat', 'somekitty', 'somemore', 'someone', 'someother', 'somer', 'somersaults', 'somersualts', 'somethin', 'something', 'somethingthat', 'somethng', 'sometime', 'sometimes', 'sometimesi', 'somewhat', 'somewhere', 'somewheremany', 'somewhwere', 'sommeliers', 'somoeone', 'somthing', 'son', 'sonar', 'song', 'sonic', 'sonny', 'sono', 'sonoma', 'sonoran', 'sons', 'sony', 'soo', 'soon', 'sooner', 'soonmy', 'sooo', 'sooooo', 'sooooooo', 'soooooooo', 'sooooooooo', 'soooooooooooo', 'sooooooooooooo', 'sooooooooooooooo', 'sooooooooooooooooooooo', 'soot', 'sooth', 'soothe', 'soothed', 'soother', 'soothes', 'sooths', 'soource', 'soozies', 'sophie', 'sophisticated', 'soporific', 'sopped', 'sopping', 'sopus', 'sorbatexanthan', 'sorbet', 'sorbets', 'sorbic', 'sorbitol', 'sore', 'sorel', 'sores', 'sorghum', 'sorkowitz', 'sorrel', 'sorrento', 'sorry', 'sort', 'sorta', 'sorted', 'sorting', 'sorts', 'sotanghon', 'sothat', 'souce', 'souchong', 'souffle', 'sought', 'soul', 'soulful', 'soulistic', 'souls', 'sound', 'soundcards', 'sounding', 'soundly', 'sounds', 'soup', 'souper', 'soupier', 'soups', 'soupy', 'sour', 'source', 'sourced', 'sourcedcoconut', 'sources', 'sourcream', 'sourdough', 'soured', 'sourest', 'sourkraut', 'sourness', 'sours', 'soury', 'south', 'southeast', 'southern', 'southerner', 'southerners', 'southwest', 'southwestern', 'souxsie', 'sowith', 'sox', 'soxs', 'soy', 'soya', 'soybean', 'soybeans', 'soylent', 'soymilk', 'soymilks', 'soyrizo', 'soyuz', 'sp', 'spa', 'space', 'spaced', 'spaces', 'spackle', 'spag', 'spagehetti', 'spagetti', 'spaghetti', 'spagitti', 'spain', 'spam', 'spammer', 'span', 'spaniel', 'spaniels', 'spanish', 'spankin', 'spare', 'sparingly', 'spark', 'sparked', 'sparkeling', 'sparkely', 'sparking', 'sparkle', 'sparkles', 'sparkling', 'sparkly', 'sparky', 'sparlking', 'sparse', 'spas', 'spat', 'spatula', 'spawned', 'spay', 'spayed', 'spaying', 'spca', 'spead', 'speak', 'speaker', 'speakers', 'speaking', 'speaks', 'spear', 'spearheaded', 'spearmint', 'spearmints', 'spears', 'spec', 'specfic', 'special', 'specialist', 'speciality', 'specialize', 'specially', 'specials', 'specialties', 'specialtreat', 'specialty', 'species', 'specific', 'specifically', 'specifications', 'specifics', 'specified', 'specifies', 'specifiy', 'specify', 'specimen', 'specious', 'specks', 'specs', 'spectacular', 'spectacularrockstar', 'spectator', 'spectrum', 'speculate', 'speculated', 'speculating', 'speculation', 'speechless', 'speeds', 'speedy', 'spell', 'spelled', 'spelling', 'spells', 'spelt', 'spend', 'spenda', 'spends', 'spendy', 'spent', 'spermint', 'spessarite', 'spewing', 'spherical', 'sphincter', 'sphynx', 'spice', 'spiceier', 'spices', 'spicesthat', 'spicey', 'spicezon', 'spicier', 'spiciest', 'spicing', 'spicy', 'spicyness', 'spider', 'spiders', 'spied', 'spiedie', 'spiedies', 'spike', 'spikes', 'spiking', 'spiky', 'spill', 'spillage', 'spilled', 'spilling', 'spills', 'spilt', 'spinach', 'spinachhopefully', 'spinachy', 'spinah', 'spinich', 'spinner', 'spinners', 'spinning', 'spins', 'spiral', 'spiraled', 'spirit', 'spirits', 'spiritual', 'spirulina', 'spit', 'spite', 'spiteful', 'spiting', 'spits', 'spitting', 'spitz', 'splash', 'splashed', 'splashes', 'splashing', 'splatter', 'splattering', 'spleen', 'splenda', 'splendasalt', 'splendia', 'splendid', 'splendor', 'splinter', 'splintered', 'splintering', 'splinters', 'splintery', 'split', 'spliting', 'splits', 'splitting', 'splurge', 'splurged', 'spoil', 'spoilage', 'spoiled', 'spoiling', 'spoils', 'spoilt', 'spoke', 'spoked', 'spoken', 'sponge', 'sponges', 'spongey', 'spongy', 'sponsoring', 'sponsors', 'spoodle', 'spook', 'spookey', 'spooky', 'spoon', 'spoonful', 'spoonfull', 'spoonfulls', 'spooning', 'spoons', 'sporadically', 'spores', 'sport', 'sporting', 'sports', 'sporty', 'spot', 'spots', 'spotted', 'spotting', 'spotty', 'spouse', 'spout', 'spouter', 'spouters', 'spouts', 'spray', 'sprayed', 'sprayhead', 'spraying', 'sprays', 'spread', 'spreadable', 'spreader', 'spreading', 'spreads', 'spreadsheet', 'sprectrum', 'spree', 'sprigs', 'sprikle', 'spring', 'springer', 'springing', 'springsteenfrank', 'springy', 'sprinkle', 'sprinkled', 'sprinkles', 'sprinkling', 'sprinle', 'sprint', 'sprite', 'spritz', 'spritzers', 'sprnkles', 'sproated', 'sprout', 'sproutables', 'sprouted', 'sprouter', 'sprouters', 'sprouting', 'sproutmaster', 'sprouts', 'spruce', 'sprue', 'sprung', 'spry', 'spudophile', 'spuds', 'spurious', 'spurlin', 'spurring', 'spurt', 'spurting', 'spurts', 'sq', 'sqirts', 'square', 'squares', 'squash', 'squashing', 'squat', 'squatting', 'squeak', 'squeaked', 'squeaker', 'squeaky', 'squeamish', 'squeeking', 'squeese', 'squeeze', 'squeezed', 'squeezedmix', 'squeezes', 'squeezing', 'squeezy', 'squid', 'squinting', 'squirels', 'squirrel', 'squirrels', 'squirt', 'squirting', 'squirts', 'squish', 'squished', 'squishiness', 'squishing', 'squishy', 'sr', 'sri', 'sriracha', 'srirracha', 'sryup', 'ssavory', 'sssooooo', 'sstart', 'st', 'stab', 'stabiliser', 'stability', 'stabilize', 'stabilizer', 'stabilizers', 'stable', 'stack', 'stackable', 'stacked', 'stacking', 'stacks', 'stadium', 'staff', 'staffordshire', 'stage', 'staged', 'stages', 'stagg', 'staggered', 'staggering', 'stagnant', 'staight', 'stain', 'stained', 'staining', 'stainless', 'stains', 'stake', 'staked', 'stakes', 'stale', 'staleness', 'stalk', 'stalked', 'stall', 'stalwart', 'stamina', 'stamp', 'stamped', 'stance', 'stand', 'standalone', 'standard', 'standardization', 'standardsmay', 'standby', 'standing', 'standout', 'standpoint', 'stands', 'stange', 'stanking', 'stanley', 'staph', 'stapled', 'staples', 'stapple', 'star', 'starbuck', 'starbuckery', 'starbucks', 'starburst', 'starbux', 'starch', 'starchcons', 'starches', 'starchy', 'stared', 'stargazer', 'staring', 'staritng', 'starkist', 'starred', 'starring', 'starsblack', 'starsfruit', 'starsgreen', 'starsi', 'start', 'started', 'starter', 'startere', 'starters', 'starthistle', 'starting', 'startle', 'startling', 'starts', 'starvation', 'starve', 'starved', 'starving', 'stash', 'stashi', 'stashing', 'stashiproduct', 'stashtea', 'state', 'stated', 'statements', 'stater', 'states', 'stateside', 'statesman', 'statesmen', 'statins', 'station', 'stationary', 'stationed', 'stations', 'stats', 'stature', 'status', 'staunch', 'stave', 'stay', 'stayed', 'staying', 'stays', 'stccking', 'stco', 'steadfastly', 'steadily', 'steady', 'steak', 'steakes', 'steakhouse', 'steakhouses', 'steaks', 'steaksopal', 'stealing', 'steals', 'steam', 'steambath', 'steamed', 'steamer', 'steamers', 'steaming', 'steamroll', 'steams', 'steamy', 'steaz', 'steel', 'steelcut', 'steeled', 'steep', 'steeped', 'steeping', 'steepings', 'steeps', 'steer', 'steered', 'steers', 'steggin', 'stelfoxsnohomish', 'stella', 'stellar', 'stem', 'stemlets', 'stemmy', 'stems', 'stench', 'stents', 'stepdaughters', 'stepdown', 'stepfather', 'stephen', 'stephens', 'stepped', 'stepping', 'steps', 'stereo', 'sterilize', 'sterling', 'sternly', 'sterns', 'steroid', 'steroids', 'sterol', 'sterols', 'steve', 'stevia', 'steviaplus', 'stevias', 'stevita', 'stew', 'stewarts', 'stewarttaylor', 'stewed', 'stews', 'steyrofoam', 'sth', 'sthe', 'sthg', 'stick', 'sticker', 'stickers', 'stickier', 'stickiest', 'stickiness', 'sticking', 'stickler', 'sticks', 'stickss', 'sticky', 'stico', 'stiff', 'stiffen', 'stiffness', 'stigmas', 'stil', 'stilll', 'stilton', 'stimulant', 'stimulate', 'stimulated', 'stimulating', 'stimulation', 'stimulator', 'stimulats', 'sting', 'stinger', 'stingers', 'stinging', 'stings', 'stingy', 'stink', 'stinking', 'stinks', 'stinkwhen', 'stinky', 'stint', 'stipulations', 'stir', 'stiradd', 'stirfry', 'stiring', 'stirred', 'stirrers', 'stirring', 'stixs', 'stock', 'stocked', 'stocking', 'stockings', 'stockmens', 'stockpile', 'stocks', 'stoked', 'stole', 'stolen', 'stollen', 'stomach', 'stomachache', 'stomache', 'stomached', 'stomaches', 'stomaching', 'stomachjust', 'stomachs', 'stomped', 'stomps', 'stone', 'stoned', 'stonewall', 'stonewalls', 'stoneware', 'stong', 'stonger', 'stood', 'stool', 'stools', 'stoop', 'stooped', 'stop', 'stoped', 'stoping', 'stopnshop', 'stopo', 'stopped', 'stopper', 'stopping', 'storability', 'storable', 'storage', 'store', 'storeage', 'stored', 'storeedit', 'stores', 'storesthe', 'storied', 'storing', 'stork', 'storm', 'stormy', 'story', 'stout', 'stover', 'stovetop', 'stow', 'straberry', 'straight', 'straighten', 'straightened', 'straightforward', 'strain', 'strained', 'strainer', 'strainers', 'straining', 'strains', 'strait', 'straits', 'strand', 'stranded', 'strands', 'strange', 'strangely', 'stranger', 'strangers', 'strap', 'strapping', 'strategically', 'strategies', 'strategy', 'stratosphere', 'straw', 'strawberries', 'strawberry', 'straws', 'stray', 'strays', 'streaking', 'streaks', 'stream', 'streamlines', 'streams', 'streep', 'street', 'streets', 'stregnth', 'stregth', 'streight', 'streit', 'strenght', 'strength', 'strengthen', 'strengthening', 'strengthobsf', 'strengths', 'strenous', 'strenth', 'strenuous', 'strep', 'stress', 'stresses', 'stressful', 'stressfull', 'stressing', 'stretch', 'stretched', 'stretches', 'streusel', 'strewn', 'strianese', 'strict', 'stricter', 'stride', 'strides', 'strike', 'strikes', 'striking', 'string', 'stringent', 'strings', 'stringy', 'strip', 'stripe', 'striped', 'stripes', 'stripped', 'strips', 'strirdy', 'strive', 'stroe', 'stroganoff', 'stroke', 'stroller', 'strolling', 'strong', 'stronger', 'strongly', 'stroopwafels', 'struck', 'structural', 'structure', 'struedel', 'struggle', 'struggled', 'struggles', 'struggling', 'strugled', 'strungo', 'struvite', 'strvia', 'stubb', 'stubble', 'stubborn', 'stubby', 'stuckcons', 'student', 'students', 'studied', 'studies', 'studio', 'study', 'studying', 'stuff', 'stuffed', 'stuffer', 'stuffers', 'stuffies', 'stuffiness', 'stuffing', 'stuffis', 'stuffs', 'stuffy', 'stufss', 'stumble', 'stumbled', 'stumped', 'stung', 'stunk', 'stunned', 'stunning', 'stunningly', 'stuns', 'stupendously', 'stupid', 'stupidity', 'stupidly', 'stupor', 'sturdier', 'sturdiest', 'sturdy', 'style', 'styled', 'styles', 'styro', 'styrofoam', 'subcontinent', 'subcribe', 'subcription', 'subdue', 'subdued', 'subject', 'subjected', 'subjective', 'subjects', 'sublime', 'sublte', 'submarine', 'submerge', 'submerged', 'submission', 'submit', 'submitted', 'submitting', 'subpar', 'subs', 'subscibe', 'subscribe', 'subscribeand', 'subscribed', 'subscriber', 'subscribers', 'subscribing', 'subscription', 'subscriptions', 'subscxription', 'subsequent', 'subsequently', 'subside', 'subsided', 'subsides', 'subsist', 'subsisted', 'subsitituting', 'subsribed', 'substances', 'substandard', 'substantial', 'substantially', 'substantive', 'substitue', 'substitues', 'substiture', 'substitute', 'substitutes', 'substitutethick', 'substitution', 'substitutions', 'substiute', 'subtile', 'subtilis', 'subtle', 'subtler', 'subtleties', 'subtlety', 'subtly', 'subtract', 'subtracting', 'suburb', 'suburbs', 'succanat', 'succeed', 'succeeded', 'succeeding', 'succeeds', 'successful', 'successfully', 'successive', 'succinctly', 'succinic', 'succulent', 'succumb', 'succumbed', 'suck', 'sucked', 'sucker', 'suckered', 'suckers', 'sucking', 'sucks', 'sucorse', 'sucralose', 'sucrose', 'sucrulose', 'suction', 'sudafed', 'sudden', 'suddenly', 'sudjook', 'sudorific', 'sue', 'sued', 'suet', 'suffer', 'suffered', 'sufferer', 'sufferers', 'suffering', 'suffers', 'suffice', 'sufficient', 'sufficiently', 'suffocating', 'suffolk', 'suffragettes', 'sugar', 'sugarcinnamon', 'sugardirections', 'sugardoes', 'sugarfree', 'sugari', 'sugarier', 'sugaring', 'sugarless', 'sugarlime', 'sugarsoooo', 'sugarworks', 'sugary', 'suger', 'sugerless', 'sugest', 'suggar', 'suggest', 'suggested', 'suggestibility', 'suggesting', 'suggestion', 'suggestions', 'suggests', 'sugguest', 'suing', 'suit', 'suitable', 'suitcase', 'suited', 'suites', 'suits', 'sulfate', 'sulfide', 'sulfite', 'sulfites', 'sulfur', 'sulked', 'sulphate', 'sulphur', 'sum', 'sumac', 'sumarta', 'sumatra', 'sumatran', 'summary', 'summed', 'summer', 'summers', 'summertime', 'summery', 'summit', 'summon', 'sumptious', 'sums', 'sun', 'sunbeam', 'sunbutter', 'suncured', 'sundae', 'sundaes', 'sunday', 'sundown', 'sundried', 'sundries', 'sunflower', 'sunflowers', 'sunflowery', 'sunk', 'sunkisk', 'sunkist', 'sunlight', 'sunmaid', 'sunning', 'sunny', 'sunnybrook', 'sunnyside', 'suns', 'sunset', 'sunshine', 'sunstart', 'sunup', 'super', 'superautomatic', 'superb', 'superblyunfortunately', 'superbowl', 'superfast', 'superficial', 'superfluous', 'superfood', 'superfoods', 'superfruit', 'superhots', 'superior', 'superiors', 'superiour', 'superlatives', 'supermakets', 'supermarket', 'supermarketland', 'supermarkets', 'supermix', 'supermodels', 'supernatural', 'superolive', 'supersaver', 'supersize', 'superstore', 'supersweet', 'supertaster', 'supervise', 'supervised', 'supervising', 'superwalmart', 'suplement', 'suplliers', 'supose', 'suposed', 'suposto', 'supp', 'supper', 'supple', 'supplement', 'supplemental', 'supplementation', 'supplemented', 'supplementing', 'supplements', 'supplied', 'supplier', 'suppliers', 'supplies', 'suppliment', 'supplimenting', 'suppliments', 'supplying', 'suppopose', 'supported', 'supporting', 'suppose', 'supposed', 'supposedly', 'supposing', 'suppositories', 'suppossed', 'supposta', 'suppress', 'suppressant', 'suppressants', 'suppressing', 'suppression', 'supprise', 'supprised', 'supps', 'supreme', 'supremely', 'supremo', 'suprise', 'suprised', 'suprising', 'suprisingly', 'suprized', 'sups', 'sur', 'sure', 'surehelped', 'surely', 'sureshe', 'surethat', 'sureyou', 'surf', 'surface', 'surfaces', 'surfed', 'surfing', 'surge', 'surgeon', 'surgeries', 'surgery', 'surges', 'surgical', 'surging', 'surly', 'surmise', 'surmising', 'surpassed', 'surpasses', 'surpirsed', 'surpise', 'surplus', 'surpringly', 'surprise', 'surprised', 'surpriseingly', 'surprises', 'surprising', 'surprisingly', 'surprize', 'surprized', 'surrogate', 'surround', 'surrounded', 'surrounding', 'surroundings', 'surrounds', 'surveys', 'survival', 'survive', 'survived', 'survives', 'surviving', 'survivor', 'susan', 'susceptible', 'suscribed', 'sushi', 'suspect', 'suspected', 'suspects', 'suspended', 'suspicion', 'suspicions', 'suspicious', 'sustain', 'sustainability', 'sustainable', 'sustainably', 'sustained', 'sustaining', 'sustains', 'sustenance', 'suttle', 'suzanne', 'suzie', 'sw', 'swallow', 'swallowed', 'swallowing', 'swallows', 'swampy', 'swanson', 'swansons', 'swap', 'swapped', 'swapping', 'swarm', 'swatter', 'swatting', 'sway', 'swayed', 'swaying', 'swearing', 'swears', 'sweat', 'sweatenned', 'sweating', 'sweden', 'swedish', 'sweeeet', 'sweeet', 'sweeetners', 'sweeney', 'sweentener', 'sweentness', 'sweep', 'sweet', 'sweetand', 'sweetbreads', 'sweeten', 'sweetend', 'sweetened', 'sweetener', 'sweeteners', 'sweetening', 'sweetenned', 'sweetens', 'sweeter', 'sweetest', 'sweetheart', 'sweeti', 'sweetie', 'sweeties', 'sweetish', 'sweetleaf', 'sweetly', 'sweetner', 'sweetnersone', 'sweetness', 'sweetpotato', 'sweets', 'sweetsamazon', 'sweettart', 'sweetz', 'swell', 'swelled', 'swelling', 'swells', 'swept', 'swich', 'swift', 'swiftie', 'swiftly', 'swig', 'swigs', 'swill', 'swim', 'swimming', 'swine', 'swing', 'swinging', 'swings', 'swipe', 'swirl', 'swirled', 'swirling', 'swish', 'swished', 'swiss', 'swissgold', 'switch', 'switched', 'switching', 'switchnow', 'swithed', 'switzer', 'switzerland', 'swollen', 'swooned', 'swoops', 'swordfish', 'sworn', 'swtich', 'swung', 'sy', 'sydney', 'symbol', 'symbols', 'symmetrical', 'sympathy', 'symphony', 'symptoms', 'symtoms', 'sync', 'syncope', 'syndromes', 'synonomous', 'synonymous', 'synsepalum', 'synthesis', 'synthesize', 'synthetic', 'syrah', 'syringe', 'syrp', 'syrup', 'syruping', 'syruplemonsgelling', 'syrups', 'syrupserve', 'syrupthe', 'syrupy', 'system', 'systemic', 'systems', 'systolic', 'sz', 'szechuan', 'szeged', 'ta', 'tab', 'tabasco', 'tabascos', 'tabbouleh', 'tabby', 'table', 'tablespoon', 'tablespoonful', 'tablespoons', 'tablespoonsful', 'tablet', 'tablets', 'tabs', 'tac', 'tack', 'tackle', 'tacks', 'tacky', 'taco', 'tacos', 'tacs', 'tact', 'tactical', 'tactics', 'tad', 'tada', 'tadka', 'taffy', 'taffyshe', 'tagged', 'tagine', 'tags', 'tahini', 'tahitian', 'taht', 'tai', 'tail', 'tailed', 'tailgating', 'tailless', 'tailo', 'tailor', 'taint', 'tainted', 'tainting', 'taints', 'taistes', 'taiwan', 'taiwanese', 'taj', 'tajin', 'taka', 'take', 'takeit', 'taken', 'takeout', 'takers', 'takes', 'taking', 'tale', 'talent', 'talented', 'talk', 'talked', 'talking', 'talkingrain', 'talks', 'tall', 'taller', 'tallest', 'tallking', 'talprid', 'tama', 'tamaki', 'tamales', 'tamari', 'tamarind', 'tamdidelam', 'tame', 'tamed', 'tamer', 'taming', 'tampa', 'tamped', 'tampered', 'tampering', 'tan', 'tandoor', 'tandoori', 'tang', 'tangarene', 'tangelos', 'tangerine', 'tangerines', 'tangible', 'tangier', 'tanginess', 'tangy', 'tangyness', 'tanic', 'tank', 'tannin', 'tanning', 'tannins', 'tannish', 'tantalizes', 'tantalizing', 'tantalizingly', 'tantaric', 'tante', 'tantes', 'tanzania', 'tanzanian', 'tao', 'tap', 'tapal', 'tapanade', 'tapatillo', 'tapatio', 'tape', 'taper', 'tapered', 'tapestry', 'taping', 'tapioca', 'tapped', 'tappers', 'tapping', 'tarahumara', 'tarako', 'tarallificio', 'tarallini', 'tarbucks', 'target', 'targeted', 'targeting', 'tarnished', 'taro', 'tarragon', 'tarrazu', 'tarred', 'tart', 'tartar', 'tartaric', 'tartas', 'tarter', 'tartiness', 'tartlets', 'tartness', 'tarts', 'tartufo', 'tarty', 'tase', 'tased', 'taset', 'tasing', 'task', 'tasks', 'tasmanian', 'tasse', 'tassel', 'tasselfield', 'tassimo', 'tassimodirect', 'tast', 'tasta', 'taste', 'tastebring', 'tastebud', 'tastebuds', 'tastecons', 'tasted', 'tasteful', 'tastefully', 'tasteing', 'tasteis', 'tasteless', 'tastelessly', 'tastelike', 'tastemild', 'tasteno', 'tastepour', 'taster', 'tasters', 'tastes', 'tastesmore', 'tastests', 'tastesy', 'tastewhat', 'tastewise', 'tastey', 'tastier', 'tastiest', 'tastiness', 'tasting', 'tastingfreshnice', 'tasts', 'tasty', 'tastyand', 'tastythis', 'tata', 'tater', 'taters', 'tather', 'tatley', 'tatooes', 'tatse', 'tatste', 'tatsy', 'taubes', 'taught', 'taurine', 'tavern', 'tavy', 'tawny', 'tax', 'taxed', 'taxidermist', 'taylor', 'taylors', 'taz', 'tazaa', 'tazo', 'tazps', 'tazz', 'tazzaru', 'tb', 'tbl', 'tbls', 'tblsp', 'tbps', 'tbs', 'tbspoons', 'tbsps', 'tca', 'tcp', 'tdisc', 'tds', 'te', 'tea', 'teaand', 'teabag', 'teabags', 'teac', 'teacakecoffee', 'teach', 'teacher', 'teachers', 'teaching', 'teacup', 'teadrop', 'teagarden', 'teague', 'teaism', 'team', 'teams', 'tean', 'teapot', 'teapots', 'tear', 'teared', 'tearing', 'tears', 'tearstains', 'teary', 'teas', 'teasan', 'tease', 'teased', 'teasincluding', 'teasource', 'teaspoon', 'teaspoonful', 'teaspoonfuls', 'teaspoons', 'teat', 'teath', 'teats', 'teavana', 'teavanna', 'technica', 'technical', 'technically', 'technique', 'techniques', 'technivorm', 'technologies', 'technology', 'techs', 'tecture', 'ted', 'teddy', 'tedious', 'tee', 'teebeutel', 'teeccino', 'teeli', 'teen', 'teenage', 'teenaged', 'teenager', 'teenagers', 'teenie', 'teenies', 'teeniest', 'teens', 'teensy', 'teeny', 'teeter', 'teeth', 'teething', 'teethy', 'teff', 'teh', 'televised', 'television', 'tell', 'tellichery', 'telling', 'tells', 'telltale', 'temp', 'tempation', 'tempations', 'temped', 'tempeh', 'temper', 'temperament', 'temperatures', 'tempered', 'tempersature', 'temperture', 'temple', 'temporarily', 'temporary', 'tempranillo', 'temps', 'tempt', 'temptation', 'tempted', 'tempting', 'tempts', 'tempura', 'ten', 'tend', 'tendancy', 'tended', 'tendencies', 'tendency', 'tender', 'tenderize', 'tenderized', 'tenderizer', 'tenderloin', 'tenderloins', 'tenderly', 'tenderness', 'tenders', 'tendon', 'tendons', 'tends', 'tenessee', 'tenfold', 'tennessee', 'tension', 'tensions', 'tent', 'tentacle', 'tentacles', 'tentative', 'tentatively', 'tenth', 'tents', 'tenuous', 'tepid', 'teriyaki', 'termination', 'terminator', 'terminology', 'termperatures', 'terms', 'terner', 'terra', 'terrafina', 'terrain', 'terrapins', 'terrarium', 'terriable', 'terriaki', 'terrible', 'terribly', 'terrier', 'terriers', 'terrifc', 'terriffic', 'terrified', 'terrior', 'territory', 'terrium', 'terriyaki', 'terroir', 'terror', 'terrorizing', 'terrrible', 'terry', 'terryaki', 'tervis', 'teryaki', 'tes', 'test', 'testament', 'tested', 'tester', 'testify', 'testimonials', 'testings', 'tests', 'testure', 'testy', 'tetley', 'tetly', 'tetra', 'tetrapak', 'tetrapaks', 'tetras', 'tetsubin', 'tex', 'texarkana', 'texas', 'texmati', 'text', 'textbook', 'textual', 'textural', 'texturally', 'texture', 'textured', 'textures', 'texure', 'tgfop', 'tgi', 'tgif', 'th', 'tha', 'thai', 'thailand', 'thailandthe', 'thaimine', 'thank', 'thankee', 'thankfully', 'thanks', 'thanksfor', 'thanksgiving', 'thanksmike', 'thankully', 'thankyou', 'thansk', 'thanthe', 'thanthese', 'thanx', 'thare', 'thatare', 'thati', 'thatis', 'thatmoderation', 'thatmuch', 'thatrescues', 'thats', 'thatsa', 'thatsalotta', 'thatshe', 'thatstinky', 'thatthe', 'thatvita', 'thatwas', 'thaw', 'thawed', 'thaws', 'thay', 'theactual', 'theanine', 'thearte', 'thease', 'theater', 'theaters', 'theatre', 'theatres', 'thebones', 'thee', 'thegrain', 'thegreen', 'thei', 'theirdark', 'theirdrip', 'theirproduct', 'theleast', 'theliquid', 'theloose', 'themas', 'theme', 'themeven', 'themintmovieman', 'thems', 'themself', 'themselveswith', 'themtogether', 'themwas', 'thenamaste', 'thenext', 'thenstirring', 'theo', 'theobromine', 'theonly', 'theophylline', 'theor', 'theoretically', 'theoriginal', 'theorized', 'theory', 'thepod', 'thepot', 'thepowder', 'theprice', 'ther', 'thera', 'theraflu', 'therapeutic', 'therapist', 'therapy', 'therather', 'thereafter', 'thereal', 'thereason', 'therefor', 'therefore', 'therekettle', 'thereof', 'theres', 'thermal', 'thermite', 'thermogenesis', 'thermometer', 'thermophilum', 'thesa', 'thesauce', 'theseagain', 'theseand', 'theses', 'thesse', 'thesupplement', 'thesweet', 'thetastier', 'thetea', 'theu', 'thevery', 'theworldaccordingtoeggface', 'theyare', 'theydo', 'theyhave', 'theyhelp', 'theyre', 'theywould', 'thhe', 'thhis', 'thia', 'thiamin', 'thiamine', 'thick', 'thicken', 'thickened', 'thickener', 'thickeners', 'thickening', 'thickens', 'thicker', 'thickest', 'thickly', 'thickness', 'thicknesses', 'thie', 'thier', 'thievery', 'thieves', 'thighs', 'thikn', 'thin', 'thing', 'thingand', 'thingi', 'thingie', 'thingies', 'things', 'thingsbeside', 'thingsespecially', 'thingsreally', 'thingys', 'think', 'thinking', 'thinks', 'thinksits', 'thinkthin', 'thinly', 'thinner', 'thinness', 'thinnest', 'thinning', 'thins', 'thir', 'third', 'thirds', 'thirst', 'thirstier', 'thirsty', 'thirstycatfountains', 'thirteen', 'thirties', 'thisanyone', 'thisis', 'thisnature', 'thisone', 'thisproduct', 'thither', 'thity', 'thnaks', 'thoes', 'thomas', 'thoose', 'thornton', 'thoroughly', 'thot', 'thou', 'though', 'thoughi', 'thought', 'thoughtful', 'thoughtfully', 'thoughtfulness', 'thoughtless', 'thoughts', 'thouht', 'thousands', 'thr', 'thrash', 'thrashers', 'thre', 'thread', 'threaded', 'threading', 'threads', 'threatened', 'threatening', 'threats', 'three', 'threes', 'threesome', 'threw', 'thrice', 'thrifty', 'thrill', 'thrilledto', 'thrips', 'thrive', 'thrived', 'thrives', 'thriving', 'throats', 'throttle', 'throughhere', 'throughly', 'throughout', 'throught', 'throughtful', 'througout', 'throw', 'throwback', 'throwbacks', 'throwing', 'thrown', 'throws', 'thru', 'thrus', 'thrush', 'thry', 'ths', 'thse', 'thsese', 'thsi', 'thu', 'thuggish', 'thumb', 'thumbing', 'thumbnail', 'thump', 'thumping', 'thunder', 'thundering', 'thunk', 'thurs', 'thursday', 'thus', 'thusfar', 'thusly', 'thw', 'thyme', 'thyroid', 'ti', 'tia', 'tiajuana', 'tibetan', 'tibetin', 'tic', 'tick', 'ticked', 'ticketed', 'ticking', 'tickle', 'tickled', 'tickles', 'tictacs', 'tidbit', 'tidbits', 'tide', 'tidings', 'tidy', 'tie', 'tied', 'tiempo', 'tiene', 'tier', 'tiered', 'tierra', 'tiger', 'tigers', 'tigger', 'tight', 'tighten', 'tightened', 'tightens', 'tighter', 'tightly', 'tightwad', 'tijuana', 'tiki', 'tikka', 'til', 'tilapia', 'tilda', 'tile', 'tilia', 'till', 'tillamook', 'tillen', 'tilt', 'tilted', 'tilth', 'tilting', 'tim', 'time', 'timebombs', 'timed', 'timeevery', 'timei', 'timely', 'timemy', 'timer', 'timers', 'times', 'timex', 'timey', 'timid', 'timing', 'timmis', 'timmothy', 'timor', 'timothy', 'timothys', 'tin', 'tincture', 'tines', 'tinfoil', 'ting', 'tinge', 'tinged', 'tingle', 'tingles', 'tingling', 'tingly', 'tings', 'tini', 'tinier', 'tiniest', 'tinker', 'tinkers', 'tinkyada', 'tinned', 'tinnie', 'tinny', 'tins', 'tint', 'tinted', 'tinting', 'tiny', 'tio', 'tip', 'tipo', 'tipped', 'tipping', 'tipple', 'tipps', 'tippy', 'tips', 'tir', 'tiramisu', 'tired', 'tiredness', 'tiredof', 'tires', 'tiresome', 'tiring', 'tis', 'tisane', 'tish', 'tissue', 'tissues', 'titan', 'titanic', 'titanium', 'title', 'titled', 'tj', 'tjmaxx', 'tk', 'tl', 'tlbs', 'tlc', 'tm', 'tmi', 'tmj', 'tn', 'tnr', 'toanyone', 'toast', 'toasted', 'toastedtastei', 'toasting', 'toasts', 'toasty', 'tobacco', 'tobago', 'tobasco', 'toblerone', 'tobut', 'toby', 'tocook', 'tocoperols', 'tocopherois', 'tocopherol', 'tocotrienols', 'today', 'todays', 'toddlers', 'toddy', 'todip', 'todo', 'todos', 'toe', 'toed', 'toenail', 'toes', 'tofee', 'toffee', 'toffees', 'toffifay', 'tofu', 'tofurkey', 'tofutti', 'tog', 'togeather', 'toget', 'together', 'togethers', 'togo', 'toh', 'toiled', 'toilet', 'toilets', 'toilette', 'tointroduce', 'toity', 'token', 'told', 'tolerable', 'tolerance', 'tolerant', 'tolerate', 'tolerated', 'tolerates', 'toll', 'tollerate', 'tollhouse', 'tolls', 'tolrates', 'tom', 'tomarinara', 'tomaties', 'tomatillo', 'tomatillos', 'tomato', 'tomatoe', 'tomatoesmeat', 'tomatoey', 'tomatos', 'tome', 'tommy', 'tomsg', 'ton', 'tone', 'toned', 'tones', 'tonga', 'tongs', 'tongue', 'tongues', 'tonic', 'tonics', 'tonight', 'tonighti', 'tonightyou', 'toning', 'tonkatsu', 'tonkatus', 'tons', 'tony', 'toob', 'toocons', 'toofast', 'tool', 'tools', 'toomrs', 'tooo', 'toooo', 'tooooooooooo', 'tooth', 'toothbrush', 'toothbrushes', 'toothiness', 'toothless', 'toothpaste', 'toothpastes', 'toothpick', 'toothpicks', 'toothpics', 'toothsome', 'toothy', 'tootsie', 'tootsies', 'top', 'tope', 'topiaries', 'topic', 'topnotch', 'topped', 'topper', 'toppers', 'topping', 'toppings', 'tops', 'torani', 'torch', 'torched', 'toriani', 'tormented', 'torn', 'tornandos', 'torque', 'torres', 'torrone', 'torrones', 'torte', 'tortes', 'tortie', 'torties', 'tortilla', 'tortillas', 'tortoises', 'tortuga', 'tortuous', 'torture', 'torturing', 'torturous', 'torula', 'torwoiwiore', 'tos', 'tosatisfy', 'toslink', 'toslow', 'toss', 'tossed', 'tosses', 'tossing', 'tostadas', 'tostados', 'tosteeping', 'toster', 'tot', 'total', 'totaled', 'totaling', 'totally', 'totals', 'totaly', 'tote', 'toto', 'totoall', 'totolicious', 'totw', 'tou', 'touch', 'touched', 'touches', 'touching', 'tough', 'toughened', 'toughness', 'tought', 'tounge', 'tour', 'tourangelle', 'touring', 'tourist', 'tout', 'touted', 'touts', 'tova', 'toward', 'towards', 'towel', 'toweling', 'towels', 'town', 'townhouse', 'towns', 'toxic', 'toxicity', 'toxicology', 'toxin', 'toxins', 'toy', 'toying', 'toys', 'toysdiva', 'tp', 'tps', 'tr', 'traced', 'traces', 'tracheas', 'tracked', 'tracking', 'tract', 'tractor', 'trade', 'traded', 'trademark', 'tradeoff', 'trader', 'traders', 'trading', 'tradition', 'traditional', 'traditionalist', 'traditionally', 'traditions', 'tradtional', 'traffic', 'trahana', 'trahanas', 'trail', 'trailed', 'trails', 'train', 'trained', 'trainer', 'trainings', 'trait', 'traits', 'tramp', 'trance', 'trang', 'tranquil', 'trans', 'transacation', 'transaction', 'transcendence', 'transcontinental', 'transcript', 'transfat', 'transfats', 'transfer', 'transferred', 'transferring', 'transformation', 'transformed', 'transformer', 'transforms', 'transistioning', 'transit', 'transition', 'transitioned', 'transitioning', 'translate', 'translated', 'translates', 'translation', 'translations', 'translucent', 'transluscent', 'transmission', 'transparency', 'transparent', 'transplant', 'transplanted', 'transplanting', 'transport', 'transportability', 'transportable', 'transportation', 'transported', 'transports', 'trap', 'trapped', 'trapper', 'trappings', 'traps', 'trash', 'trashed', 'trashing', 'trauma', 'traumatic', 'traumatized', 'travel', 'traveler', 'travelers', 'traveling', 'travellin', 'travelling', 'travels', 'travelsa', 'travesty', 'travis', 'tray', 'tre', 'treacle', 'treadmill', 'treas', 'treasure', 'treasures', 'treat', 'treated', 'treaters', 'treatie', 'treating', 'treatment', 'treatments', 'treats', 'treatsto', 'treatzipfizz', 'tree', 'treeeeeat', 'treeing', 'trees', 'treesshould', 'treetop', 'treets', 'trek', 'tremendouly', 'tremendous', 'tremendously', 'tremors', 'trend', 'trendleditor', 'trendsetter', 'trendy', 'trenton', 'trepidation', 'trepidations', 'tri', 'trial', 'trials', 'triangle', 'triangled', 'triangles', 'triangular', 'triathlete', 'triathlon', 'tribal', 'tribe', 'tribute', 'tricalcium', 'trichoderma', 'trick', 'tricked', 'trickery', 'trickier', 'trickling', 'tricks', 'tricksbecause', 'tricky', 'tricolor', 'trident', 'tried', 'triedand', 'triedlemonade', 'triedthis', 'tries', 'trieste', 'trifecta', 'triffle', 'trifle', 'trifles', 'trigger', 'triggered', 'triggers', 'triglicerides', 'triglycerides', 'trim', 'trimmed', 'trimmer', 'trimming', 'trimmings', 'tring', 'trinidad', 'trinity', 'trio', 'trip', 'tripe', 'triple', 'tripled', 'triplets', 'tripped', 'tripping', 'trippy', 'trips', 'tripswith', 'triscuit', 'triscuits', 'tristan', 'triticale', 'trivial', 'trocomare', 'trod', 'trolley', 'trolling', 'troop', 'trooper', 'troops', 'tropic', 'tropical', 'tropicana', 'tropics', 'trot', 'trots', 'trouble', 'troubled', 'troubles', 'troubleshooting', 'troublesome', 'trouserin', 'trout', 'trow', 'trp', 'trubar', 'truck', 'trucks', 'truckstop', 'trudi', 'true', 'truebars', 'truely', 'truenature', 'trues', 'truffes', 'truffle', 'truffles', 'trufles', 'truley', 'trulli', 'trully', 'trump', 'trumpet', 'trumps', 'trunature', 'trung', 'trunk', 'trunked', 'trunks', 'truson', 'trust', 'trusted', 'trusting', 'trustworthy', 'trusty', 'truth', 'truthful', 'truthfully', 'truths', 'truvia', 'try', 'tryed', 'tryin', 'trying', 'tryptophan', 'ts', 'tsa', 'tsc', 'tsk', 'tso', 'tsp', 'ttake', 'tthan', 'ttime', 'tu', 'tually', 'tub', 'tube', 'tuber', 'tuberculosis', 'tubes', 'tubing', 'tubs', 'tuby', 'tucked', 'tucking', 'tucson', 'tudor', 'tuened', 'tues', 'tuesday', 'tuff', 'tuffles', 'tuffy', 'tuft', 'tug', 'tugajug', 'tugging', 'tulear', 'tulley', 'tulleys', 'tully', 'tullys', 'tulsi', 'tumbelova', 'tumble', 'tumbler', 'tumblers', 'tumbles', 'tumblr', 'tumeic', 'tumeric', 'tummies', 'tummy', 'tumor', 'tumors', 'tums', 'tuna', 'tune', 'tunisia', 'tunnel', 'tunnels', 'tuos', 'tupelo', 'tupperware', 'tupperwares', 'turbinado', 'turbo', 'turbofire', 'turd', 'turducken', 'turf', 'turffle', 'turine', 'turist', 'turked', 'turkey', 'turkish', 'turmeric', 'turms', 'turn', 'turned', 'turning', 'turnoff', 'turnout', 'turnover', 'turnovers', 'turnpike', 'turnpikes', 'turns', 'turntable', 'turpentine', 'turtle', 'tuscan', 'tuscany', 'tush', 'tut', 'tutti', 'tutu', 'tv', 'tvp', 'twain', 'twang', 'tweak', 'tweaked', 'tweaks', 'tweek', 'tweens', 'twelve', 'twenty', 'twice', 'twig', 'twigs', 'twin', 'twine', 'twining', 'twinings', 'twinkie', 'twinkies', 'twinning', 'twinnings', 'twins', 'twirl', 'twirling', 'twist', 'twisted', 'twister', 'twisting', 'twists', 'twitches', 'twitching', 'twitter', 'twizzler', 'two', 'twos', 'tx', 'ty', 'tylan', 'tylenol', 'type', 'typed', 'types', 'typhoo', 'typical', 'typically', 'typicaly', 'typing', 'typographical', 'tyra', 'tyring', 'tyrophile', 'tyrosol', 'tyrptophan', 'tyson', 'tzao', 'tzatziki', 'tzu', 'tzus', 'uall', 'uber', 'ubiquitous', 'uc', 'ucky', 'ucla', 'uda', 'uder', 'udi', 'udo', 'udon', 'ues', 'ufl', 'uganda', 'ugh', 'ughh', 'ugly', 'uh', 'uhg', 'uht', 'uk', 'ukra', 'ulcer', 'ulgh', 'ultima', 'ultimate', 'ultimately', 'ultra', 'ultramix', 'ultrasonic', 'um', 'umami', 'umbrellait', 'umf', 'ummmm', 'ummmmm', 'umph', 'un', 'unable', 'unacceptable', 'unacceptably', 'unadorned', 'unadulterate', 'unadulterated', 'unaffected', 'unanimous', 'unanimously', 'unanswered', 'unapologetically', 'unappealing', 'unappetizedly', 'unassuming', 'unattended', 'unattractive', 'unattractiveness', 'unavoidably', 'unaware', 'unbaked', 'unbalanced', 'unbearable', 'unbearably', 'unbelevably', 'unbelievable', 'unbelieveable', 'unbiased', 'unbleached', 'unblemished', 'unbounded', 'unbrittle', 'unbroken', 'uncertain', 'unchallenged', 'unchanged', 'unchewable', 'uncle', 'unclear', 'unclutterd', 'uncomfortably', 'uncommon', 'unconcern', 'unconcsiouly', 'unconditional', 'unconditionally', 'unconscious', 'uncontrollable', 'uncontrollably', 'unconventional', 'unconvinced', 'uncooked', 'uncountable', 'uncouth', 'uncover', 'uncovered', 'uncovers', 'uncracked', 'und', 'undamaged', 'undamamaged', 'undaunted', 'undecipherable', 'undefined', 'undeliverable', 'undeniable', 'undented', 'underarm', 'undercooked', 'undercuts', 'underestimate', 'underestimated', 'underfoot', 'undergoing', 'underlit', 'underlying', 'underneaths', 'undernote', 'underrated', 'underroasted', 'underside', 'undersides', 'undersized', 'understand', 'understandgary', 'understanding', 'understands', 'understated', 'understatement', 'understood', 'undertaste', 'undertone', 'undertones', 'underurges', 'underway', 'underwear', 'underweight', 'underwhelmed', 'underwhelming', 'undeserving', 'undesirable', 'undetectable', 'undiagnosed', 'undid', 'undigested', 'undiluted', 'undiminished', 'undiscriminating', 'undistinguished', 'undivided', 'undoing', 'undon', 'undoubtably', 'undoubtedly', 'undoubtely', 'undrained', 'undressing', 'undrinkable', 'undrinkably', 'undue', 'unduely', 'unduly', 'undying', 'unearthed', 'unease', 'uneasy', 'unedible', 'uneducated', 'unemployed', 'unencumbered', 'unenjoyable', 'unenthusiastic', 'unequaled', 'unethical', 'uneven', 'unexciting', 'unexpected', 'unexpectedly', 'unexplainable', 'unfailingly', 'unfair', 'unfairly', 'unfamiliar', 'unfasten', 'unfermented', 'unfiltered', 'unfit', 'unflavored', 'unfold', 'unforgettable', 'unformed', 'unfortionaley', 'unfortunaly', 'unfortunatally', 'unfortunate', 'unfortunately', 'unfortunatley', 'unfortunatly', 'unfortunetly', 'unfotunately', 'unfounded', 'unfrozen', 'unfurl', 'unfussy', 'ungodly', 'unhappy', 'unharmed', 'unhealthful', 'unhealthier', 'unheard', 'unhulled', 'unhungry', 'unhydrogenated', 'unidentifiable', 'unidentified', 'uniform', 'uniformally', 'uniformity', 'unilever', 'unimaginable', 'unimpressed', 'unimpressive', 'uninformed', 'uninitiated', 'uninspiring', 'uninstalling', 'uninterested', 'uninteresting', 'union', 'unique', 'uniquely', 'uniqueness', 'unison', 'unit', 'united', 'units', 'univeral', 'universal', 'universally', 'universe', 'university', 'unknowingly', 'unknown', 'unlabeled', 'unlabelled', 'unleash', 'unless', 'unlessyou', 'unlike', 'unlikely', 'unlimited', 'unloaded', 'unloading', 'unlock', 'unlocks', 'unlucky', 'unmatched', 'unmelted', 'unmistakable', 'unmixed', 'unmotivated', 'unnamed', 'unnaturally', 'unnaturnal', 'unnecessary', 'unneeded', 'uno', 'unoaked', 'unofficial', 'unorthodox', 'unpack', 'unpackaged', 'unpacked', 'unpacking', 'unpaid', 'unperturbed', 'unplanned', 'unpleant', 'unpleasaant', 'unpleasant', 'unpleasantly', 'unpleasantness', 'unpleasent', 'unpleasing', 'unplug', 'unplugged', 'unpopped', 'unpoppped', 'unpopular', 'unpredictable', 'unpretensious', 'unpretentious', 'unpretty', 'unprocessed', 'unprofessional', 'unprofitable', 'unpronounceable', 'unprotected', 'unproven', 'unpuffed', 'unqualified', 'unquestionable', 'unquestionably', 'unravel', 'unraveling', 'unreal', 'unrealistic', 'unreasonable', 'unreasonably', 'unrefined', 'unrefrigerated', 'unrelentingly', 'unreliability', 'unreliable', 'unrelieved', 'unremarkable', 'unresisting', 'unreturnable', 'unrewarding', 'unrivaled', 'unroasted', 'unroll', 'unsafe', 'unsalted', 'unsaltedi', 'unsatiated', 'unsatisfactory', 'unsatisfying', 'unsaturated', 'unscathed', 'unscrew', 'unscrewed', 'unscrewing', 'unscrews', 'unseal', 'unsealed', 'unseasoned', 'unseen', 'unsettled', 'unsettling', 'unshelled', 'unshielded', 'unsightly', 'unsmashed', 'unsmoked', 'unsolveable', 'unsophisticated', 'unspectacular', 'unspreadable', 'unsprouted', 'unstable', 'unsteady', 'unstick', 'unsubscribe', 'unsuccessful', 'unsuccessfully', 'unsuitable', 'unsuited', 'unsulfured', 'unsupervised', 'unsupervized', 'unsure', 'unsurpassed', 'unsurprisingly', 'unsuspecting', 'unsustainable', 'unsweet', 'unsweetened', 'untested', 'untie', 'untied', 'untill', 'unto', 'untoasted', 'untouched', 'untreated', 'untrue', 'untterly', 'unusable', 'unusual', 'unusually', 'unveiled', 'unveiling', 'unwanted', 'unwarranted', 'unwholesome', 'unwieldy', 'unwilling', 'unwind', 'unwinding', 'unwittingly', 'unwrap', 'unwrapped', 'unwrapping', 'upalatable', 'upand', 'upc', 'upcoming', 'upcons', 'updaate', 'update', 'updated', 'updatenormally', 'updates', 'updating', 'upend', 'upfront', 'upgrade', 'upgraded', 'upholstery', 'uplifting', 'upload', 'uploaded', 'uploading', 'upon', 'upper', 'uppers', 'upping', 'upright', 'ups', 'upsacale', 'upscale', 'upset', 'upsets', 'upsetting', 'upside', 'upsides', 'upstairs', 'upstate', 'uptake', 'uptight', 'uptonteas', 'upward', 'ur', 'uranium', 'urbani', 'urea', 'urge', 'urged', 'urgently', 'urges', 'uric', 'urin', 'urinate', 'urination', 'urmil', 'urninary', 'urologist', 'uruguay', 'us', 'usa', 'usage', 'usb', 'usd', 'usdyou', 'use', 'useable', 'used', 'useful', 'usefullness', 'useing', 'useit', 'user', 'users', 'uses', 'using', 'usingbirth', 'uso', 'usps', 'ust', 'ustream', 'usual', 'usually', 'usualy', 'ususal', 'ususally', 'ut', 'utah', 'utensil', 'utensils', 'uterine', 'uterus', 'util', 'utility', 'utilize', 'utilized', 'utilizes', 'utmost', 'utter', 'utterly', 'utz', 'uuu', 'va', 'vacant', 'vacation', 'vacationed', 'vacationing', 'vacations', 'vaccinate', 'vaccinating', 'vaccination', 'vaccine', 'vaccum', 'vaccuum', 'vacum', 'vacuum', 'vacuumed', 'vague', 'vaguely', 'vaguelyespressoesque', 'vain', 'vainy', 'valdez', 'valdosta', 'valentina', 'valentine', 'valerian', 'valerie', 'valid', 'validate', 'vallarta', 'valley', 'vally', 'valrhona', 'valuable', 'valuables', 'value', 'valued', 'values', 'valuetotal', 'valuewhen', 'valve', 'valves', 'vampires', 'vandals', 'vanilla', 'vanillaand', 'vanillacinnamon', 'vanillaey', 'vanillamilkshake', 'vanillas', 'vanillayellow', 'vanillia', 'vanillin', 'vanillins', 'vanish', 'vanished', 'vanishes', 'vanishing', 'vannila', 'vanquish', 'vanquished', 'vapor', 'vapors', 'vareity', 'variability', 'variable', 'variance', 'variances', 'variant', 'variants', 'variaties', 'variation', 'variations', 'varicose', 'varied', 'varies', 'varietals', 'varieties', 'variety', 'variously', 'varities', 'varity', 'varsities', 'vary', 'varying', 'varys', 'vascular', 'vase', 'vases', 'vasrieties', 'vast', 'vastly', 'vat', 'vatika', 'vbg', 'veal', 'veeeeery', 'veer', 'veered', 'veery', 'veg', 'vegan', 'vegani', 'vegas', 'vege', 'vegemite', 'vegenomicon', 'vegeplast', 'veges', 'vegetable', 'vegetables', 'vegetal', 'vegetation', 'vegetative', 'vegg', 'vegge', 'veggie', 'veggiedent', 'veggies', 'vegie', 'vegies', 'vegis', 'vegit', 'vegitables', 'vegtables', 'vehicle', 'veinier', 'veins', 'velcro', 'velvet', 'velveta', 'velvety', 'velvita', 'venchi', 'vend', 'venders', 'vending', 'vendor', 'vendors', 'veneer', 'venerable', 'venison', 'vent', 'venti', 'ventilation', 'vents', 'venture', 'ventured', 'venues', 'venus', 'vera', 'verbally', 'verde', 'verdict', 'verge', 'vergnano', 'verification', 'verify', 'verifying', 'verison', 'veritable', 'verity', 'vermicelli', 'vermiculite', 'vermin', 'vernor', 'vernors', 'verona', 'veronastarbucks', 'verrrrry', 'verrrry', 'verrrryyyy', 'verrry', 'versa', 'versailles', 'versatile', 'versatility', 'verse', 'versin', 'version', 'versions', 'versionsto', 'versitile', 'versitle', 'verson', 'vertical', 'vertically', 'vertigo', 'verypink', 'vessel', 'vessels', 'vestal', 'vested', 'vet', 'veteran', 'veterinarian', 'veterinary', 'veteriniarian', 'vets', 'vey', 'vfw', 'vi', 'via', 'viability', 'viable', 'vial', 'vialone', 'vials', 'vibrance', 'vibrancy', 'vibrant', 'vibration', 'vice', 'vices', 'vickie', 'vicks', 'vicky', 'victim', 'victimizes', 'victims', 'victor', 'victorian', 'victorio', 'victory', 'vida', 'vidalia', 'vidalya', 'videos', 'vidration', 'viennese', 'viet', 'vietnam', 'view', 'viewed', 'viewing', 'viewpoint', 'views', 'viggies', 'vigilant', 'vigor', 'vigorous', 'vigorously', 'viinegret', 'viki', 'village', 'vimto', 'vinager', 'vinagrette', 'vinaigreet', 'vinaigrette', 'vinaigrettes', 'vindaloo', 'vine', 'vinegarbut', 'vinegary', 'vinegers', 'vines', 'viney', 'vinigary', 'vinous', 'vintage', 'vinyl', 'viola', 'violated', 'violent', 'violently', 'violet', 'vip', 'vir', 'viral', 'virbac', 'virgin', 'virginian', 'virtually', 'virtues', 'virtuous', 'virus', 'viruses', 'visably', 'visalus', 'viscosity', 'viscous', 'viscus', 'visible', 'visibly', 'visioned', 'visions', 'visist', 'visit', 'visited', 'visiting', 'visits', 'vista', 'visting', 'visually', 'vit', 'vitacoco', 'vitacost', 'vitakraft', 'vital', 'vitality', 'vitally', 'vitalyte', 'vitamin', 'vitamineral', 'vitaminize', 'vitamins', 'vitamix', 'vitamns', 'vitamuffin', 'vitamuffins', 'vitaplus', 'vitatops', 'vitro', 'vittles', 'vive', 'vivian', 'vivid', 'vizlas', 'vizsla', 'vlasic', 'vlrn', 'vm', 'vnaf', 'vocal', 'vocally', 'vocals', 'vodkas', 'vogel', 'vogels', 'vohc', 'voice', 'voices', 'void', 'voil', 'voila', 'volatile', 'volatiles', 'volcanic', 'volcano', 'volitile', 'volt', 'voltages', 'volume', 'volumes', 'volumiizing', 'volumizing', 'volunteer', 'volunteered', 'vomit', 'vomited', 'vomitted', 'vomitting', 'vommited', 'von', 'vons', 'voodoo', 'voom', 'voracious', 'vosges', 'voss', 'vote', 'voted', 'voting', 'vouch', 'voucher', 'vow', 'vowed', 'voxbox', 'voyage', 'vpi', 'vs', 'vualaa', 'vue', 'vulnerable', 'vultures', 'vwhich', 'wa', 'waa', 'waaaay', 'waaay', 'wabash', 'wabo', 'wach', 'wachusett', 'wacko', 'wacky', 'wad', 'waddled', 'wads', 'waers', 'wafers', 'waffels', 'waffle', 'wafflesblend', 'waffling', 'wagatha', 'wage', 'wager', 'waggin', 'wagging', 'waggled', 'wagner', 'wagon', 'wags', 'wah', 'wahhh', 'waht', 'waif', 'waist', 'waistline', 'waited', 'waiter', 'waiters', 'waiting', 'waitress', 'waits', 'waiver', 'wake', 'waker', 'wakes', 'wakeup', 'waking', 'wal', 'walden', 'wales', 'walgreen', 'walgreens', 'walk', 'walked', 'walker', 'walkers', 'walkies', 'walking', 'walks', 'wall', 'walla', 'wallboard', 'walle', 'walled', 'walley', 'wallop', 'wallpaper', 'walls', 'wally', 'walmaart', 'walmar', 'walmart', 'walmarts', 'walnut', 'walnuts', 'walnutty', 'walsh', 'walter', 'walton', 'wan', 'wanda', 'wander', 'wanderers', 'wanders', 'waned', 'wanna', 'wannabe', 'wannabee', 'wannabees', 'wannabes', 'want', 'wantblack', 'wantcelery', 'wantd', 'wanted', 'wanting', 'wantit', 'wantmore', 'wantonion', 'wants', 'wantto', 'wantyellow', 'war', 'ward', 'wardrobe', 'wards', 'ware', 'warehouse', 'warehouses', 'wareouse', 'wares', 'warfare', 'warheads', 'waring', 'warm', 'warmed', 'warmer', 'warmest', 'warming', 'warmly', 'warms', 'warmth', 'warmthey', 'warn', 'warning', 'warnings', 'warns', 'warped', 'warps', 'warrant', 'warranted', 'warrants', 'warranty', 'warren', 'warrent', 'warrior', 'wart', 'warts', 'wary', 'wasa', 'wasabi', 'wasabia', 'wasfor', 'wasgluten', 'wasgreat', 'wash', 'washable', 'washcloth', 'washed', 'washedwhite', 'washer', 'washes', 'washing', 'washings', 'washington', 'wasnt', 'waspleasantly', 'wasstill', 'wast', 'waste', 'wasted', 'wasteful', 'wastenot', 'wastes', 'wasting', 'watch', 'watchdog', 'watcher', 'watchers', 'watches', 'watching', 'wated', 'water', 'wateralso', 'waterbath', 'waterbottle', 'watercolor', 'watercress', 'watered', 'watering', 'watermelon', 'waters', 'watertown', 'waterways', 'watery', 'waterzyto', 'wating', 'watkin', 'watmore', 'watson', 'watt', 'watter', 'wattles', 'watts', 'wave', 'waved', 'wavered', 'waves', 'waving', 'wavy', 'wawa', 'wax', 'waxed', 'waxey', 'waxiness', 'way', 'wayne', 'ways', 'wayside', 'wayy', 'wayyy', 'weak', 'weaken', 'weakened', 'weakest', 'weakly', 'weakness', 'weaknesses', 'wealth', 'wean', 'weaned', 'weaning', 'weapon', 'wear', 'wearing', 'wears', 'weary', 'weather', 'weatherly', 'weaver', 'weavers', 'weaving', 'weay', 'web', 'weber', 'webers', 'webinars', 'webpage', 'website', 'websites', 'wedding', 'weddings', 'wedge', 'wedged', 'wedges', 'wednesday', 'wednesdays', 'wedrink', 'wee', 'weed', 'weeds', 'week', 'weekday', 'weekdays', 'weekend', 'weekends', 'weekly', 'weeknight', 'weeks', 'weekshighly', 'ween', 'weenie', 'weening', 'weep', 'weeping', 'weezer', 'wegman', 'wegmans', 'wehave', 'weigh', 'weighed', 'weighs', 'weight', 'weighted', 'weighting', 'weightless', 'weightly', 'weights', 'weightwatcher', 'weil', 'weimaraner', 'weiners', 'weirdest', 'weirdly', 'wel', 'welch', 'welchs', 'welcome', 'welcomed', 'welcomes', 'welcoming', 'welfare', 'well', 'wellas', 'welless', 'welll', 'wellness', 'wells', 'wellthe', 'wellthey', 'welsh', 'went', 'wepurchased', 'wer', 'werein', 'wereso', 'wernt', 'werther', 'werthers', 'weruva', 'wessel', 'wessex', 'west', 'westbrae', 'western', 'westerners', 'westie', 'westies', 'weston', 'westto', 'wet', 'wetland', 'wetter', 'wewere', 'wewould', 'wf', 'wgt', 'wha', 'whacked', 'whacks', 'whaling', 'whammy', 'whang', 'whatevertheheck', 'whatevs', 'whatni', 'whatnot', 'whatsoever', 'whattya', 'wheat', 'wheaten', 'wheatfree', 'wheatgrass', 'wheather', 'wheatier', 'wheaties', 'wheats', 'wheaty', 'wheel', 'wheelchair', 'wheels', 'wheeze', 'wheezing', 'whelming', 'whenall', 'whence', 'whenever', 'whenit', 'whenshe', 'whereas', 'whereby', 'whereever', 'wherehouse', 'wherever', 'whet', 'whether', 'whew', 'whey', 'whhaaaaattt', 'whichever', 'whicih', 'whiff', 'whileall', 'whilst', 'whim', 'whimper', 'whimpering', 'whims', 'whimsical', 'whines', 'whining', 'whiny', 'whip', 'whipit', 'whippets', 'whipping', 'whips', 'whir', 'whirl', 'whirleypop', 'whirls', 'whirly', 'whis', 'whisk', 'whiskas', 'whisked', 'whisker', 'whiskers', 'whiskey', 'whiskeys', 'whisking', 'whisks', 'whisky', 'whisper', 'whistle', 'whistleblower', 'white', 'whitefish', 'whiten', 'whitening', 'whiter', 'whites', 'whitey', 'whiting', 'whitish', 'whittle', 'whiz', 'whizz', 'whoever', 'whole', 'wholeexperience', 'wholefood', 'wholefoods', 'wholegrain', 'wholeheartedly', 'wholesale', 'wholesaler', 'wholesalers', 'wholesome', 'wholesomeness', 'wholespice', 'wholewheat', 'whomei', 'whomever', 'whonu', 'whoof', 'whooping', 'whoops', 'whopping', 'whos', 'whose', 'wi', 'wich', 'wicked', 'wickedly', 'wickles', 'wide', 'widely', 'wider', 'widespread', 'widower', 'width', 'wierd', 'wife', 'wiff', 'wiffs', 'wiggle', 'wih', 'wihout', 'wiht', 'wihtout', 'wii', 'wikipedia', 'wikipediapine', 'wil', 'wild', 'wildberry', 'wilde', 'wilderness', 'wildest', 'wildfire', 'wildfires', 'wildflower', 'wildlife', 'wile', 'willbring', 'willbuy', 'willett', 'willhave', 'willhelp', 'willi', 'william', 'williams', 'williamson', 'williamsville', 'willies', 'willing', 'willingly', 'willingness', 'willow', 'willpower', 'wilson', 'wilt', 'wilted', 'wilting', 'wilton', 'wiltonton', 'wimp', 'wimpers', 'wimps', 'wimpy', 'win', 'winced', 'winchester', 'wincingly', 'winco', 'wind', 'winded', 'windfall', 'winding', 'window', 'windows', 'windowsxp', 'winds', 'windswept', 'windy', 'wine', 'wined', 'winegums', 'winery', 'wines', 'winey', 'wing', 'winging', 'wingman', 'wings', 'wink', 'winn', 'winner', 'winners', 'winnie', 'winning', 'winnings', 'winnow', 'wins', 'wint', 'winter', 'wintergreeen', 'wintergreen', 'wintergreens', 'winters', 'wintertime', 'wipe', 'wiped', 'wipes', 'wipethe', 'wiping', 'wire', 'wired', 'wiredweird', 'wirehair', 'wirehaired', 'wires', 'wirth', 'wiry', 'wisconsin', 'wisdom', 'wise', 'wisecrackers', 'wisely', 'wiser', 'wisewhat', 'wish', 'wished', 'wishes', 'wishful', 'wishing', 'wishlist', 'wiska', 'wispride', 'wisps', 'witch', 'witchcrafts', 'witches', 'withdrawal', 'withdrawals', 'withdrawing', 'withdrawl', 'withe', 'withfine', 'within', 'withing', 'withinthe', 'withmixed', 'withnatural', 'without', 'withouut', 'withpistacios', 'withpro', 'withstand', 'withstood', 'withsugar', 'witht', 'witin', 'witnessed', 'wits', 'witty', 'wive', 'wjat', 'wk', 'wks', 'wle', 'wls', 'wmt', 'wnen', 'wo', 'woah', 'wobbles', 'woe', 'woeber', 'woj', 'wok', 'woke', 'woken', 'wokeup', 'wolf', 'wolfe', 'wolfed', 'wolfgang', 'wolfhound', 'wolfing', 'wolfs', 'wolkgang', 'woman', 'women', 'wondeful', 'wonder', 'wondered', 'wonderfluff', 'wonderfu', 'wonderful', 'wonderfull', 'wonderfulness', 'wonderous', 'wonders', 'wondrous', 'wonky', 'wonton', 'wontons', 'woo', 'woodbecause', 'wooded', 'wooden', 'woodie', 'woods', 'woodster', 'woodsy', 'woody', 'woof', 'woofed', 'woofs', 'woohoo', 'woon', 'woop', 'woot', 'wooww', 'worcestershire', 'worchestershire', 'wording', 'words', 'wore', 'work', 'workable', 'workat', 'workbench', 'workdays', 'worker', 'workers', 'working', 'workingout', 'workmanlike', 'workout', 'workouts', 'workplace', 'workplaces', 'works', 'workup', 'world', 'worlds', 'worldwide', 'worm', 'worms', 'worn', 'worned', 'worrid', 'worried', 'worries', 'worrisome', 'worry', 'worryied', 'worrying', 'worse', 'worsei', 'worsen', 'worsened', 'worsening', 'worship', 'worst', 'wort', 'worth', 'worthiness', 'worthing', 'worthington', 'worthless', 'worthwhile', 'worthy', 'woud', 'woudl', 'would', 'woulda', 'wouldarn', 'wouldate', 'woulde', 'wouldeal', 'wouldefinitely', 'wouldiet', 'wouldirty', 'wouldiscovering', 'wouldisgusting', 'wouldnt', 'wouldo', 'wouldog', 'wouldownside', 'wouldress', 'wouldyou', 'wound', 'wounder', 'woven', 'wow', 'wowed', 'wows', 'wowzer', 'wp', 'wrangle', 'wrap', 'wrapped', 'wrapper', 'wrappers', 'wrappes', 'wraps', 'wreak', 'wreaked', 'wreaking', 'wreck', 'wrestle', 'wrestler', 'wrestling', 'wretched', 'wrigley', 'wrigleys', 'wring', 'wrinked', 'wrinkled', 'wrinkles', 'wrist', 'write', 'writegirl', 'writer', 'writers', 'writes', 'writeup', 'writing', 'written', 'writtenonly', 'wriye', 'wrong', 'wrongful', 'wrote', 'wsj', 'wsorth', 'wt', 'wter', 'wtf', 'wthout', 'wtih', 'wu', 'wuality', 'wudgy', 'wuite', 'wuz', 'ww', 'wwooohhooo', 'www', 'wyoming', 'wysong', 'xanax', 'xanthan', 'xanthine', 'xanthum', 'xcvznzxcnnj', 'xd', 'xi', 'xiangsi', 'xiv', 'xl', 'xlear', 'xlent', 'xlr', 'xmas', 'xoxox', 'xp', 'xrays', 'xsmall', 'xstores', 'xtra', 'xtreme', 'xv', 'xvi', 'xx', 'xxl', 'xxx', 'xyla', 'xylichew', 'xylitol', 'xylitotl', 'xyllitol', 'yaaaaay', 'yaayyyy', 'yaayyyyy', 'yada', 'yadda', 'yahoo', 'yak', 'yale', 'yam', 'yama', 'yamamoto', 'yamamotoyama', 'yami', 'yams', 'yan', 'yang', 'yangtse', 'yanks', 'yappers', 'yard', 'yards', 'yarfing', 'yaucono', 'yawning', 'yawns', 'yay', 'yaya', 'ycca', 'ye', 'yea', 'yeah', 'yeahpink', 'yearly', 'yearning', 'yearold', 'years', 'yeast', 'yeasts', 'yeasty', 'yeats', 'yeech', 'yeeeeessss', 'yeesh', 'yeh', 'yeilds', 'yell', 'yelled', 'yelling', 'yellow', 'yellowed', 'yellowfin', 'yellowing', 'yellows', 'yells', 'yelps', 'yen', 'yeowww', 'yep', 'yepper', 'yer', 'yerba', 'yerbas', 'yes', 'yess', 'yessteday', 'yesterday', 'yet', 'yeti', 'yi', 'yield', 'yielded', 'yielding', 'yields', 'yike', 'yikes', 'ying', 'yippy', 'yixing', 'ymmv', 'yo', 'yocurt', 'yoga', 'yogart', 'yoghurt', 'yogi', 'yogourmet', 'yogscast', 'yogur', 'yogurt', 'yogurtland', 'yoki', 'yolk', 'yolks', 'yoo', 'yoohoo', 'yoplait', 'yore', 'york', 'yorker', 'yorkie', 'yorkiechon', 'yorkiepoo', 'yorkies', 'yorkipoo', 'yorkshire', 'yorksire', 'yorky', 'youas', 'youcould', 'youdo', 'youghurt', 'yougurt', 'youjames', 'youll', 'young', 'younger', 'youngest', 'youngster', 'youngsters', 'yourdaily', 'yourelf', 'yourfat', 'yourteeth', 'yous', 'youself', 'youth', 'youtube', 'youv', 'youwill', 'yowie', 'yowling', 'yr', 'yrs', 'ys', 'yuban', 'yucatan', 'yucateco', 'yucca', 'yuch', 'yuck', 'yucky', 'yukon', 'yum', 'yumm', 'yummier', 'yummies', 'yummiest', 'yumminess', 'yummm', 'yummmm', 'yummmmm', 'yummmmmmm', 'yummmmmy', 'yummmy', 'yummo', 'yummu', 'yummy', 'yummyness', 'yummys', 'yuna', 'yunnan', 'yup', 'yur', 'yuuummmyyy', 'yuuuuuuuuuuum', 'yuzu', 'yyeecchh', 'yyyeeeeaaahhhh', 'zack', 'zagnut', 'zagnuts', 'zamouri', 'zang', 'zango', 'zany', 'zap', 'zapped', 'zapps', 'zatarain', 'zatarains', 'zaxby', 'zazu', 'zd', 'zeal', 'zealand', 'zealous', 'zeb', 'zeco', 'zen', 'zero', 'zerocholesterol', 'zerosodium', 'zest', 'zesty', 'zetia', 'zevia', 'zevias', 'zhejiang', 'zhena', 'zico', 'zicos', 'ziggies', 'zilch', 'zillion', 'zin', 'zinc', 'zinfandels', 'zing', 'zinger', 'zinging', 'zingy', 'zip', 'zipfizz', 'ziploc', 'ziplock', 'ziplok', 'zipped', 'zipper', 'zippered', 'zippfizz', 'zipping', 'zippy', 'ziti', 'zito', 'zits', 'ziwi', 'ziwipeak', 'zn', 'zoe', 'zoey', 'zojirushi', 'zojishuri', 'zola', 'zombie', 'zon', 'zone', 'zoo', 'zoomed', 'zotz', 'zout', 'zowie', 'zp', 'zreport', 'zucchini', 'zuccini', 'zuchinni', 'zuke', 'zukes', 'zwieback']\n",
            "Train confusion matrix\n",
            "[[ 3104   478]\n",
            " [   98 17926]]\n",
            "Test confusion matrix\n",
            "[[ 1424   840]\n",
            " [  419 11139]]\n"
          ],
          "name": "stdout"
        },
        {
          "output_type": "execute_result",
          "data": {
            "text/plain": [
              "<matplotlib.axes._subplots.AxesSubplot at 0x7fc073cadd30>"
            ]
          },
          "metadata": {
            "tags": []
          },
          "execution_count": 124
        },
        {
          "output_type": "display_data",
          "data": {
            "image/png": "[encoded data removed]",
            "text/plain": [
              "<Figure size 432x288 with 2 Axes>"
            ]
          },
          "metadata": {
            "tags": []
          }
        }
      ]
    },
    {
      "cell_type": "markdown",
      "metadata": {
        "id": "u-ZSD3tlJklg",
        "colab_type": "text"
      },
      "source": [
        "### [5.1.1] Top 10 important features of positive class from<font color='red'> SET 1</font>"
      ]
    },
    {
      "cell_type": "code",
      "metadata": {
        "id": "86fu_aO8Jklg",
        "colab_type": "code",
        "outputId": "4fb81d38-dc51-418a-8921-8cba97c61fcf",
        "colab": {
          "base_uri": "https://localhost:8080/",
          "height": 51
        }
      },
      "source": [
        "feature_names = vectorizer.get_feature_names()\n",
        "last10 = np.argsort(NB_optimal.coef_[0])[-10:]\n",
        "print(\"top words for +Ve class is\")\n",
        "Top_Positive = []\n",
        "for j in last10:\n",
        "  Top_Positive.append(feature_names[j])\n",
        "print(Top_Positive)\n",
        "\n",
        "\n"
      ],
      "execution_count": 0,
      "outputs": [
        {
          "output_type": "stream",
          "text": [
            "top words for +Ve class is\n",
            "['already', 'asjfnboeb', 'cornsilk', 'attribute', 'buddhists', 'client', 'cocker', 'capful', 'canadian', 'controlled']\n"
          ],
          "name": "stdout"
        }
      ]
    },
    {
      "cell_type": "markdown",
      "metadata": {
        "id": "mquFtwF5Jklj",
        "colab_type": "text"
      },
      "source": [
        "### [5.1.2] Top 10 important features of negative class from<font color='red'> SET 1</font>"
      ]
    },
    {
      "cell_type": "code",
      "metadata": {
        "id": "_RacUnTrJklj",
        "colab_type": "code",
        "outputId": "498e08e4-5834-4ba3-f4b4-f488231f199b",
        "colab": {
          "base_uri": "https://localhost:8080/",
          "height": 51
        }
      },
      "source": [
        "print(\"top words for -Ve class is\")\n",
        "top10 = np.argsort(LR_optimal.coef_[0])[1:10]\n",
        "Top_Negative = []\n",
        "for j in top10:\n",
        "  Top_Negative.append(feature_names[j])\n",
        "print(Top_Negative)  "
      ],
      "execution_count": 0,
      "outputs": [
        {
          "output_type": "stream",
          "text": [
            "top words for -Ve class is\n",
            "['disappointing', 'awful', 'terrible', 'horrible', 'disappointed', 'disappointment', 'sorry', 'yuck', 'unfortunately']\n"
          ],
          "name": "stdout"
        }
      ]
    },
    {
      "cell_type": "code",
      "metadata": {
        "id": "hDMvVtro7JYk",
        "colab_type": "code",
        "colab": {}
      },
      "source": [
        "# Pretty table update\n",
        "from prettytable import PrettyTable\n",
        "x = PrettyTable()\n",
        "x.field_names = [\"Vectorize Model\", \"ROC Test score\", \"Top 10 +ve features\", \"Top 10 -ve review features\"]\n",
        "x.add_row([\"BOW\",str(auc(test_fpr, test_tpr)), Top_Positive, Top_Negative])"
      ],
      "execution_count": 0,
      "outputs": []
    },
    {
      "cell_type": "markdown",
      "metadata": {
        "id": "6bp7BbwCJkll",
        "colab_type": "text"
      },
      "source": [
        "## [5.2] Applying Logistic Regression on TFIDF,<font color='red'> SET 2</font>"
      ]
    },
    {
      "cell_type": "code",
      "metadata": {
        "id": "oL29fzPFJkll",
        "colab_type": "code",
        "outputId": "a883616d-e3c4-4806-8c56-5e9d2f431680",
        "colab": {
          "base_uri": "https://localhost:8080/",
          "height": 1489
        }
      },
      "source": [
        "# Please write all the code with proper documentation\n",
        "# https://scikit-learn.org/stable/modules/generated/sklearn.model_selection.train_test_split.html\n",
        "from sklearn.model_selection import train_test_split\n",
        "from sklearn.feature_extraction.text import CountVectorizer\n",
        "from sklearn.metrics import roc_auc_score\n",
        "from sklearn.linear_model import LogisticRegression\n",
        "import seaborn as sn\n",
        "from sklearn.model_selection import GridSearchCV\n",
        "from sklearn.model_selection import RandomizedSearchCV\n",
        "from sklearn.preprocessing import StandardScaler\n",
        "from sklearn import preprocessing\n",
        "# Split the SET1 in Train, CV and test data set\n",
        "\n",
        "Y = final['Score'].values\n",
        "X = preprocessed_reviews\n",
        "\n",
        "\n",
        "\n",
        "\n",
        "\n",
        "X_train, X_test, y_train, y_test = train_test_split(X,Y, test_size = 0.3, random_state = 100)\n",
        "X_train, X_cv, y_train, y_cv = train_test_split(X_train, y_train, test_size=0.33) # this is random splitting\n",
        "\n",
        "\n",
        "vectorizer = TfidfVectorizer(ngram_range=(1,2), min_df=10)\n",
        "vectorizer.fit(X_train)\n",
        "X_train_bow = vectorizer.transform(X_train)\n",
        "X_cv_bow = vectorizer.transform(X_cv)\n",
        "X_test_bow = vectorizer.transform(X_test)\n",
        "\n",
        "\n",
        "scaler = StandardScaler(with_mean=False, with_std=True)\n",
        "scaler.fit(X_train_bow)\n",
        "scaler.transform(X_train_bow)\n",
        "scaler.transform(X_cv_bow)\n",
        "scaler.transform(X_test_bow)\n",
        "#preprocessing.scale(X_train_bow)\n",
        "\n",
        "\n",
        "print(X_train_bow.get_shape())\n",
        "print(X_cv_bow.get_shape())\n",
        "print(X_test_bow.get_shape())\n",
        "\n",
        "# getting AUC ROC curve\n",
        "\n",
        "# Getting the optimal function with Grid search\n",
        "parameters = [{'C':[5,1,0.1,0.01,0.05,0.01,0.005,0.001, 0.0005, 0.0001]}]\n",
        "LR_optimal = GridSearchCV(LogisticRegression(penalty='l2'),parameters,scoring = 'f1',cv=8)\n",
        "LR_optimal.fit(X_train_bow, y_train)\n",
        "print(\"Best estimator & Score for the LR with GridSearchCV\")\n",
        "print(LR_optimal.best_estimator_)\n",
        "print(LR_optimal.score(X_train_bow, y_train))\n",
        "\n",
        "# Getting the optimal function with normal looping\n",
        "train_auc = []\n",
        "cv_auc = []\n",
        "alpha = [10,5,1,0.5,0.1,0.05,0.01,0.005,0.001, 0.0005, 0.0001]\n",
        "for i in alpha:\n",
        "    LR_optimal = LogisticRegression(C=i, class_weight=None, dual=False, fit_intercept=True, max_iter=100, multi_class='warn',n_jobs=None, penalty='l2', random_state=None, solver='warn',tol=0.0001, verbose=0, warm_start=False)\n",
        "    LR_optimal.fit(X_train_bow, y_train)\n",
        "    # roc_auc_score(y_true, y_score) the 2nd parameter should be probability estimates of the positive class\n",
        "    # not the predicted outputs\n",
        "    y_train_pred =  LR_optimal.predict_log_proba(X_train_bow)[:,1]\n",
        "    y_cv_pred =  LR_optimal.predict_log_proba(X_cv_bow)[:,1]\n",
        "    \n",
        "    train_auc.append(roc_auc_score(y_train,y_train_pred))\n",
        "    cv_auc.append(roc_auc_score(y_cv, y_cv_pred))\n",
        "    \n",
        "plt.plot(np.log(alpha), train_auc, label='Train AUC')\n",
        "plt.plot(np.log(alpha), cv_auc, label='CV AUC')\n",
        "plt.legend()\n",
        "plt.xlabel(\"log alpha\")\n",
        "plt.ylabel(\"Error\")\n",
        "plt.title(\"ERROR PLOTS\")\n",
        "plt.show()\n",
        "\n",
        "\n",
        "\n",
        "#Checking if sparsity increases with L1 regularizer\n",
        "clf = LogisticRegression(C=1,penalty = 'l1')\n",
        "clf.fit(X_train_bow, y_train)\n",
        "w=clf.coef_\n",
        "print(np.count_nonzero(w))\n",
        "\n",
        "clf = LogisticRegression(C=0.1,penalty = 'l1')\n",
        "clf.fit(X_train_bow, y_train)\n",
        "w=clf.coef_\n",
        "print(np.count_nonzero(w))\n",
        "\n",
        "# Fitting with best hyperparamter\n",
        "LR_optimal = LogisticRegression(C=1, class_weight=None, dual=False, fit_intercept=True,intercept_scaling=1, max_iter=100, multi_class='warn',n_jobs=None, penalty='l2', random_state=None, solver='warn',tol=0.0001, verbose=0, warm_start=False)\n",
        "LR_optimal.fit(X_train_bow, y_train)\n",
        "train_fpr, train_tpr, thresholds = roc_curve(y_train, LR_optimal.predict_log_proba(X_train_bow)[:,1])\n",
        "test_fpr, test_tpr, thresholds = roc_curve(y_test, LR_optimal.predict_log_proba(X_test_bow)[:,1])\n",
        "plt.plot(train_fpr, train_tpr, label=\"train AUC =\"+str(auc(train_fpr, train_tpr)))\n",
        "plt.plot(test_fpr, test_tpr, label=\"test AUC =\"+str(auc(test_fpr, test_tpr)))\n",
        "plt.legend()\n",
        "plt.xlabel(\"FPR\")\n",
        "plt.ylabel(\"TPR\")\n",
        "plt.title(\"ROC AUC Plot\")\n",
        "plt.show()\n",
        "\n",
        "print(\"Printing weight vector befor noise\")\n",
        "W1 = LR_optimal.coef_\n",
        "print(W1)\n",
        "\n",
        "print(\"=\"*100)\n",
        "\n",
        "# Adding some noise\n",
        "print(\"Plotting the graph after some adding some noise\")\n",
        "e = np.random.normal()\n",
        "X_train_bow.data = X_train_bow.data + e\n",
        "X_cv_bow.data = X_cv_bow.data + e\n",
        "X_test_bow.data = X_test_bow.data + e\n",
        "\n",
        "LR_optimal = LogisticRegression(C=1, class_weight=None, dual=False, fit_intercept=True,intercept_scaling=1, max_iter=100, multi_class='warn',n_jobs=None, penalty='l2', random_state=None, solver='warn',tol=0.0001, verbose=0, warm_start=False)\n",
        "LR_optimal.fit(X_train_bow, y_train)\n",
        "train_fpr, train_tpr, thresholds = roc_curve(y_train, LR_optimal.predict_log_proba(X_train_bow)[:,1])\n",
        "test_fpr, test_tpr, thresholds = roc_curve(y_test, LR_optimal.predict_log_proba(X_test_bow)[:,1])\n",
        "plt.plot(train_fpr, train_tpr, label=\"train AUC =\"+str(auc(train_fpr, train_tpr)))\n",
        "plt.plot(test_fpr, test_tpr, label=\"test AUC =\"+str(auc(test_fpr, test_tpr)))\n",
        "plt.legend()\n",
        "plt.xlabel(\"FPR\")\n",
        "plt.ylabel(\"TPR\")\n",
        "plt.title(\"ROC AUC PLOTS with Noise\")\n",
        "plt.show()\n",
        "\n",
        "print(\"Printing weight vector after noise\")\n",
        "W2 = LR_optimal.coef_\n",
        "print(W2)\n",
        "#W1 = W1 + e\n",
        "#W2 = W2 + e\n",
        "# Finding percentage difference between 2 vectors\n",
        "percentage_change_vector = np.abs((W2-W1)/W1)*100\n",
        "print(\"%change\",percentage_change_vector)\n",
        "change=[]\n",
        "for i in range(90,101):\n",
        "   change.append(np.percentile(percentage_change_vector,i))\n",
        "x1 = list(range(90,101))\n",
        "y1 = change\n",
        "plt.title(\"Multicolliniearlity test\")\n",
        "plt.plot(x1,y1)\n",
        "plt.show()"
      ],
      "execution_count": 0,
      "outputs": [
        {
          "output_type": "stream",
          "text": [
            "(21606, 13012)\n",
            "(10643, 13012)\n",
            "(13822, 13012)\n",
            "Best estimator & Score for the LR with GridSearchCV\n",
            "LogisticRegression(C=5, class_weight=None, dual=False, fit_intercept=True,\n",
            "                   intercept_scaling=1, l1_ratio=None, max_iter=100,\n",
            "                   multi_class='warn', n_jobs=None, penalty='l2',\n",
            "                   random_state=None, solver='warn', tol=0.0001, verbose=0,\n",
            "                   warm_start=False)\n",
            "0.9838616872619667\n"
          ],
          "name": "stdout"
        },
        {
          "output_type": "display_data",
          "data": {
            "image/png": "[encoded data removed]",
            "text/plain": [
              "<Figure size 432x288 with 1 Axes>"
            ]
          },
          "metadata": {
            "tags": []
          }
        },
        {
          "output_type": "stream",
          "text": [
            "636\n",
            "42\n"
          ],
          "name": "stdout"
        },
        {
          "output_type": "display_data",
          "data": {
            "image/png": "[encoded data removed]",
            "text/plain": [
              "<Figure size 432x288 with 1 Axes>"
            ]
          },
          "metadata": {
            "tags": []
          }
        },
        {
          "output_type": "stream",
          "text": [
            "Printing weight vector befor noise\n",
            "[[-0.02417053  0.84261663  0.31286546 ...  0.28783337  0.34075569\n",
            "   0.21508563]]\n",
            "====================================================================================================\n",
            "Plotting the graph after some adding some noise\n"
          ],
          "name": "stdout"
        },
        {
          "output_type": "display_data",
          "data": {
            "image/png": "[encoded data removed]",
            "text/plain": [
              "<Figure size 432x288 with 1 Axes>"
            ]
          },
          "metadata": {
            "tags": []
          }
        },
        {
          "output_type": "stream",
          "text": [
            "Printing weight vector after noise\n",
            "[[-0.32543563  0.42190273  0.09299864 ...  0.19361893  0.26825894\n",
            "   0.26739364]]\n",
            "%change [[1246.41469671   49.92945665   70.27519681 ...   32.73228559\n",
            "    21.27528702   24.3196255 ]]\n"
          ],
          "name": "stdout"
        },
        {
          "output_type": "display_data",
          "data": {
            "image/png": "[encoded data removed]",
            "text/plain": [
              "<Figure size 432x288 with 1 Axes>"
            ]
          },
          "metadata": {
            "tags": []
          }
        }
      ]
    },
    {
      "cell_type": "markdown",
      "metadata": {
        "id": "Dtpj7iMSJkln",
        "colab_type": "text"
      },
      "source": [
        "### [5.2.1] Top 10 important features of positive class from<font color='red'> SET 2</font>"
      ]
    },
    {
      "cell_type": "code",
      "metadata": {
        "id": "g3flcTmmJklo",
        "colab_type": "code",
        "outputId": "a31d4a88-bce8-45ac-a2e1-dacdd575786b",
        "colab": {
          "base_uri": "https://localhost:8080/",
          "height": 51
        }
      },
      "source": [
        "feature_names = vectorizer.get_feature_names()\n",
        "last10 = np.argsort(LR_optimal.coef_[0])[-10:]\n",
        "print(\"top words for +Ve class is\")\n",
        "Top_Positive = []\n",
        "for j in last10:\n",
        "  #print(feature_names[j])\n",
        "  Top_Positive.append(feature_names[j])\n",
        "print(Top_Positive)  \n",
        "  "
      ],
      "execution_count": 0,
      "outputs": [
        {
          "output_type": "stream",
          "text": [
            "top words for +Ve class is\n",
            "['fantastic', 'yummy', 'pleased', 'excellent', 'wonderful', 'hooked', 'best', 'delicious', 'perfect', 'not disappointed']\n"
          ],
          "name": "stdout"
        }
      ]
    },
    {
      "cell_type": "markdown",
      "metadata": {
        "id": "UovIVRyEJklq",
        "colab_type": "text"
      },
      "source": [
        "### [5.2.2] Top 10 important features of negative class from<font color='red'> SET 2</font>"
      ]
    },
    {
      "cell_type": "code",
      "metadata": {
        "id": "i3i3cShuJklr",
        "colab_type": "code",
        "outputId": "41b3fec9-088d-402c-ef83-f3ea2eba9f39",
        "colab": {
          "base_uri": "https://localhost:8080/",
          "height": 51
        }
      },
      "source": [
        "print(\"top words for -Ve class is\")\n",
        "top10 = np.argsort(LR_optimal.coef_[0])[1:10]\n",
        "Top_Negative = []\n",
        "for j in top10:\n",
        "  #print(feature_names[j])\n",
        "  Top_Negative.append(feature_names[j])\n",
        "print(Top_Negative)  \n",
        "x.add_row([\"TFIDF\",str(auc(test_fpr, test_tpr)), Top_Positive, Top_Negative])"
      ],
      "execution_count": 0,
      "outputs": [
        {
          "output_type": "stream",
          "text": [
            "top words for -Ve class is\n",
            "['not worth', 'not happy', 'terrible', 'disappointing', 'awful', 'not recommend', 'disappointed', 'disappointment', 'not purchase']\n"
          ],
          "name": "stdout"
        }
      ]
    },
    {
      "cell_type": "markdown",
      "metadata": {
        "id": "zYg1Emy9rHsR",
        "colab_type": "text"
      },
      "source": [
        "## [5.2] Applying Logistic Regression on WordToVec,<font color='red'> SET 3</font>"
      ]
    },
    {
      "cell_type": "code",
      "metadata": {
        "id": "fq1w1-jkrgFk",
        "colab_type": "code",
        "outputId": "4cb2551f-4e12-4b6f-df9d-be34889d68ce",
        "colab": {
          "base_uri": "https://localhost:8080/",
          "height": 927
        }
      },
      "source": [
        "Y = final['Score'].values\n",
        "X = preprocessed_reviews\n",
        "\n",
        "X_train, X_test, y_train, y_test = train_test_split(X,Y, test_size = 0.3, random_state = 100)\n",
        "X_train, X_cv, y_train, y_cv = train_test_split(X_train, y_train, test_size=0.33) # this is random splitting\n",
        "\n",
        "# Computing Average Word2Vec for X_train\n",
        "i=0\n",
        "list_of_sentance=[]\n",
        "for sentance in X_train:\n",
        "    list_of_sentance.append(sentance.split())\n",
        "print(list_of_sentance[1:10])  \n",
        "w2v_model=Word2Vec(list_of_sentance,min_count=5,size=500, workers=4)\n",
        "w2v_words = list(w2v_model.wv.vocab)\n",
        "sent_vectors_X_train = []; # the avg-w2v for each sentence/review is stored in this list\n",
        "for sent in tqdm(list_of_sentance): # for each review/sentence\n",
        "    sent_vec = np.zeros(500) # as word vectors are of zero length 50, you might need to change this to 300 if you use google's w2v\n",
        "    cnt_words =0; # num of words with a valid vector in the sentence/review\n",
        "    for word in sent: # for each word in a review/sentence\n",
        "        if word in w2v_words:\n",
        "            vec = w2v_model.wv[word]\n",
        "            sent_vec += vec\n",
        "            cnt_words += 1\n",
        "    if cnt_words != 0:\n",
        "        sent_vec /= cnt_words\n",
        "    sent_vectors_X_train.append(sent_vec)\n",
        "print('count',cnt_words)    \n",
        "print(len(sent_vectors_X_train))\n",
        "print(len(sent_vectors_X_train[0]))\n",
        "\n",
        "\n",
        "# Computing Average Word2Vec for X_cv\n",
        "i=0\n",
        "list_of_sentance=[]\n",
        "for sentance in X_cv:\n",
        "    list_of_sentance.append(sentance.split())\n",
        "#print(list_of_sentance[1:10])  \n",
        "#w2v_model=Word2Vec(list_of_sentance,min_count=5,size=500, workers=4)\n",
        "#w2v_words = list(w2v_model.wv.vocab)\n",
        "\n",
        "sent_vectors_X_cv = []; # the avg-w2v for each sentence/review is stored in this list\n",
        "for sent in tqdm(list_of_sentance): # for each review/sentence\n",
        "    sent_vec = np.zeros(500) # as word vectors are of zero length 50, you might need to change this to 300 if you use google's w2v\n",
        "    cnt_words =0; # num of words with a valid vector in the sentence/review\n",
        "    for word in sent: # for each word in a review/sentence\n",
        "        if word in w2v_words:\n",
        "            vec = w2v_model.wv[word]\n",
        "            sent_vec += vec\n",
        "            cnt_words += 1\n",
        "    if cnt_words != 0:\n",
        "        sent_vec /= cnt_words\n",
        "    sent_vectors_X_cv.append(sent_vec)    \n",
        " \n",
        "#Computing Average Word2Vec for X_Test\n",
        "i=0\n",
        "list_of_sentance=[]\n",
        "for sentance in X_test:\n",
        "    list_of_sentance.append(sentance.split())\n",
        "#print(list_of_sentance[1:10])  \n",
        "#w2v_model=Word2Vec(list_of_sentance,min_count=5,size=500, workers=4)\n",
        "#w2v_words = list(w2v_model.wv.vocab)\n",
        "\n",
        "sent_vectors_X_test = []; # the avg-w2v for each sentence/review is stored in this list\n",
        "for sent in tqdm(list_of_sentance): # for each review/sentence\n",
        "    sent_vec = np.zeros(500) # as word vectors are of zero length 50, you might need to change this to 300 if you use google's w2v\n",
        "    cnt_words =0; # num of words with a valid vector in the sentence/review\n",
        "    for word in sent: # for each word in a review/sentence\n",
        "        if word in w2v_words:\n",
        "            vec = w2v_model.wv[word]\n",
        "            sent_vec += vec\n",
        "            cnt_words += 1\n",
        "    if cnt_words != 0:\n",
        "        sent_vec /= cnt_words\n",
        "    sent_vectors_X_test.append(sent_vec)    \n",
        "\n",
        "# Getting the optimal function with Grid search\n",
        "parameters = [{'C':[5,1,0.1,0.01,0.05,0.01,0.005,0.001, 0.0005, 0.0001]}]\n",
        "LR_optimal = GridSearchCV(LogisticRegression(penalty='l2'),parameters,scoring = 'f1',cv=8)\n",
        "LR_optimal.fit(sent_vectors_X_train, y_train)\n",
        "print(\"Best estimator & Score for the LR with GridSearchCV\")\n",
        "print(LR_optimal.best_estimator_)\n",
        "print(LR_optimal.score(sent_vectors_X_train, y_train))\n",
        "\n",
        "# Getting the optimal function with normal looping\n",
        "train_auc = []\n",
        "cv_auc = []\n",
        "alpha = [10,5,1,0.5,0.1,0.05,0.01,0.005,0.001, 0.0005, 0.0001]\n",
        "for i in alpha:\n",
        "    LR_optimal = LogisticRegression(C=i, class_weight=None, dual=False, fit_intercept=True, max_iter=100, multi_class='warn',n_jobs=None, penalty='l2', random_state=None, solver='warn',tol=0.0001, verbose=0, warm_start=False)\n",
        "    LR_optimal.fit(sent_vectors_X_train, y_train)\n",
        "    # roc_auc_score(y_true, y_score) the 2nd parameter should be probability estimates of the positive class\n",
        "    # not the predicted outputs\n",
        "    y_train_pred =  LR_optimal.predict_log_proba(sent_vectors_X_train)[:,1]\n",
        "    y_cv_pred =  LR_optimal.predict_log_proba(sent_vectors_X_cv)[:,1]\n",
        "    \n",
        "    train_auc.append(roc_auc_score(y_train,y_train_pred))\n",
        "    cv_auc.append(roc_auc_score(y_cv, y_cv_pred))\n",
        "    \n",
        "plt.plot(np.log(alpha), train_auc, label='Train AUC')\n",
        "plt.plot(np.log(alpha), cv_auc, label='CV AUC')\n",
        "plt.legend()\n",
        "plt.xlabel(\"log alpha\")\n",
        "plt.ylabel(\"Error\")\n",
        "plt.title(\"ERROR PLOTS\")\n",
        "plt.show()\n",
        "\n",
        "\n",
        "\n",
        "#Checking if sparsity increases with L1 regularizer\n",
        "clf = LogisticRegression(C=1,penalty = 'l1')\n",
        "clf.fit(sent_vectors_X_train, y_train)\n",
        "w=clf.coef_\n",
        "print(np.count_nonzero(w))\n",
        "\n",
        "clf = LogisticRegression(C=0.1,penalty = 'l1')\n",
        "clf.fit(sent_vectors_X_train, y_train)\n",
        "w=clf.coef_\n",
        "print(np.count_nonzero(w))\n",
        "\n",
        "# Fitting with best hyperparamter\n",
        "LR_optimal = LogisticRegression(C=1, class_weight=None, dual=False, fit_intercept=True,intercept_scaling=1, max_iter=100, multi_class='warn',n_jobs=None, penalty='l2', random_state=None, solver='warn',tol=0.0001, verbose=0, warm_start=False)\n",
        "LR_optimal.fit(sent_vectors_X_train, y_train)\n",
        "train_fpr, train_tpr, thresholds = roc_curve(y_train, LR_optimal.predict_log_proba(sent_vectors_X_train)[:,1])\n",
        "test_fpr, test_tpr, thresholds = roc_curve(y_test, LR_optimal.predict_log_proba(sent_vectors_X_test)[:,1])\n",
        "plt.plot(train_fpr, train_tpr, label=\"train AUC =\"+str(auc(train_fpr, train_tpr)))\n",
        "plt.plot(test_fpr, test_tpr, label=\"test AUC =\"+str(auc(test_fpr, test_tpr)))\n",
        "plt.legend()\n",
        "plt.xlabel(\"FPR\")\n",
        "plt.ylabel(\"TPR\")\n",
        "plt.title(\"ROC AUC Plot\")\n",
        "plt.show()\n",
        "\n",
        "print(\"Printing weight vector befor noise\")\n",
        "W1 = LR_optimal.coef_\n",
        "print(W1)\n",
        "\n",
        "print(\"=\"*100)\n",
        "\n",
        "# Adding some noise\n",
        "print(\"Plotting the graph after some adding some noise\")\n",
        "e = np.random.normal()\n",
        "sent_vectors_X_train.data = sent_vectors_X_train + e\n",
        "sent_vectors_X_cv.data = sent_vectors_X_cv + e\n",
        "sent_vectors_X_test.data = sent_vectors_X_test + e\n",
        "\n",
        "LR_optimal = LogisticRegression(C=1, class_weight=None, dual=False, fit_intercept=True,intercept_scaling=1, max_iter=100, multi_class='warn',n_jobs=None, penalty='l2', random_state=None, solver='warn',tol=0.0001, verbose=0, warm_start=False)\n",
        "LR_optimal.fit(sent_vectors_X_train, y_train)\n",
        "train_fpr, train_tpr, thresholds = roc_curve(y_train, LR_optimal.predict_log_proba(sent_vectors_X_train)[:,1])\n",
        "test_fpr, test_tpr, thresholds = roc_curve(y_test, LR_optimal.predict_log_proba(sent_vectors_X_test)[:,1])\n",
        "plt.plot(train_fpr, train_tpr, label=\"train AUC =\"+str(auc(train_fpr, train_tpr)))\n",
        "plt.plot(test_fpr, test_tpr, label=\"test AUC =\"+str(auc(test_fpr, test_tpr)))\n",
        "plt.legend()\n",
        "plt.xlabel(\"FPR\")\n",
        "plt.ylabel(\"TPR\")\n",
        "plt.title(\"ROC AUC PLOTS with Noise\")\n",
        "plt.show()\n",
        "\n",
        "print(\"Printing weight vector after noise\")\n",
        "W2 = LR_optimal.coef_\n",
        "print(W2)\n",
        "#W1 = W1 + e\n",
        "#W2 = W2 + e\n",
        "# Finding percentage difference between 2 vectors\n",
        "percentage_change_vector = np.abs((W2-W1)/W1)*100\n",
        "print(\"%change\",percentage_change_vector)\n",
        "change=[]\n",
        "for i in range(90,101):\n",
        "   change.append(np.percentile(percentage_change_vector,i))\n",
        "x1 = list(range(90,101))\n",
        "y1 = change\n",
        "plt.title(\"Multicolliniearlity test\")\n",
        "plt.plot(x1,y1)\n",
        "plt.show()"
      ],
      "execution_count": 0,
      "outputs": [
        {
          "output_type": "stream",
          "text": [
            "[['got', 'two', 'teas', 'one', 'type', 'iced', 'coffe', 'rest', 'holiday', 'coffees', 'apple', 'cider', 'spicy', 'eggnog', 'gingerbread', 'bait', 'swtich', 'redeeming', 'factor', 'amazon', 'great', 'issued', 'refund'], ['like', 'light', 'sodium', 'varieties', 'think', 'others', 'much', 'salt', 'small', 'servings', 'one', 'uses', 'whole', 'wheat', 'couscous'], ['second', 'order', 'healthiest', 'best', 'tasting', 'smoked', 'fish', 'ive', 'ever', 'eaten', 'no', 'b', 'p', 'low', 'sodium', 'boot'], ['surprised', 'negative', 'reviews', 'dried', 'blueberries', 'little', 'two', 'sweet', 'make', 'snack', 'mix', 'nuts', 'balances', 'nicely', 'plump', 'tasty', 'great', 'pancakes', 'muffins', 'needed', 'add', 'less', 'sugar', 'mix', 'yummy'], ['husband', 'favorite', 'green', 'tea', 'drink', 'brands', 'must', 'usually', 'ran', 'waiting', 'next', 'shipment', 'arrive', 'really', 'prefers', 'one', 'no', 'frills', 'no', 'extra', 'flavors', 'plain', 'green', 'tea', 'goodness', 'sure', 'not', 'let', 'tea', 'steep', 'long', 'become', 'bitter'], ['possible', 'obtain', 'spearmint', 'naturally', 'flavored', 'favorite', 'long', 'time', 'bought', 'dozen', 'pack', 'stock', 'new', 'great', 'taste', 'curiously', 'bad', 'oh', 'oh', 'bad', 'not', 'like', 'naturally', 'artificially', 'flavored', 'ruin', 'good', 'product', 'could', 'trade', 'new', 'great', 'taste', 'punch', 'old', 'really', 'great', 'taste', 'delicious', 'not', 'even', 'give', 'away', 'no', 'one', 'wants', 'taste', 'new', 'great', 'taste', 'say', 'no', 'thanks', 'done', 'altoids', 'way', 'changing', 'good', 'product', 'show', 'old', 'box', 'web', 'site', 'not', 'store', 'way', 'stronger', 'us', 'dollar', 'moment', 'uncle', 'keeps', 'borrowing', 'money', 'mints', 'remain', 'curiously', 'supreme', 'way', 'favorite', 'ginger', 'mints', 'spearmint'], ['dog', 'treats', 'smell', 'awful', 'puppy', 'dog', 'happiest', 'ever', 'seen', 'life', 'ever', 'find', 'annoyed', 'puppy', 'wants', 'play', 'play', 'play', 'give', 'em', 'one', 'little', 'things', 'not', 'hear', 'peep', 'hours', 'kind', 'messy', 'sure', 'give', 'one', 'puppy', 'safe', 'area', 'course', 'always', 'keep', 'close', 'eye', 'one', 'bones'], ['simply', 'one', 'best', 'chocolates', 'ever', 'not', 'believe', 'look', 'way', 'nephews', 'nieces', 'act', 'bring', 'eyes', 'light', 'instantly', 'way', 'simply', 'ignore', 'everything', 'else', 'world', 'enjoying', 'chocolaty', 'goodness', 'five', 'star', 'review', 'four', 'stars', 'pricey', 'never', 'stops', 'buying'], ['tasty', 'cacao', 'powder', 'arrived', 'unmarked', 'bag', 'not', 'organic', 'symbol', 'product', 'description', 'seems', 'real', 'deal', 'good', 'flavor', 'similar', 'better', 'name', 'brand', 'powders', 'purchased', 'past', 'definitely', 'purchase']]\n"
          ],
          "name": "stdout"
        },
        {
          "output_type": "stream",
          "text": [
            "\n",
            "  0%|          | 0/21606 [00:00<?, ?it/s]\u001b[A\n",
            "  0%|          | 93/21606 [00:00<00:24, 893.67it/s]\u001b[A\n",
            "  1%|          | 171/21606 [00:00<00:25, 855.18it/s]\u001b[A\n",
            "  1%|          | 249/21606 [00:00<00:25, 831.09it/s]\u001b[A\n",
            "  1%|▏         | 313/21606 [00:00<00:27, 762.34it/s]\u001b[A\n",
            "  2%|▏         | 371/21606 [00:00<00:30, 696.53it/s]\u001b[A\n",
            "  2%|▏         | 438/21606 [00:00<00:30, 687.55it/s]\u001b[A\n",
            "  2%|▏         | 519/21606 [00:00<00:29, 719.09it/s]\u001b[A\n",
            "  3%|▎         | 585/21606 [00:00<00:31, 677.85it/s]\u001b[A\n",
            "  3%|▎         | 652/21606 [00:00<00:31, 669.52it/s]\u001b[A\n",
            "  3%|▎         | 717/21606 [00:01<00:32, 643.25it/s]\u001b[A\n",
            "  4%|▎         | 789/21606 [00:01<00:31, 661.33it/s]\u001b[A\n",
            "  4%|▍         | 855/21606 [00:01<00:31, 648.59it/s]\u001b[A\n",
            "  4%|▍         | 920/21606 [00:01<00:33, 615.43it/s]\u001b[A\n",
            "  5%|▍         | 984/21606 [00:01<00:33, 619.78it/s]\u001b[A\n",
            "  5%|▍         | 1046/21606 [00:01<00:34, 601.53it/s]\u001b[A\n",
            "  5%|▌         | 1108/21606 [00:01<00:33, 606.33it/s]\u001b[A\n",
            "  5%|▌         | 1172/21606 [00:01<00:33, 616.02it/s]\u001b[A\n",
            "  6%|▌         | 1234/21606 [00:01<00:35, 566.00it/s]\u001b[A\n",
            "  6%|▌         | 1299/21606 [00:02<00:34, 586.88it/s]\u001b[A\n",
            "  6%|▋         | 1359/21606 [00:02<00:36, 558.13it/s]\u001b[A\n",
            "  7%|▋         | 1416/21606 [00:02<00:36, 557.78it/s]\u001b[A\n",
            "  7%|▋         | 1473/21606 [00:02<00:38, 519.81it/s]\u001b[A\n",
            "  7%|▋         | 1531/21606 [00:02<00:37, 534.92it/s]\u001b[A\n",
            "  7%|▋         | 1597/21606 [00:02<00:35, 566.78it/s]\u001b[A\n",
            "  8%|▊         | 1660/21606 [00:02<00:34, 579.64it/s]\u001b[A\n",
            "  8%|▊         | 1719/21606 [00:02<00:35, 565.68it/s]\u001b[A\n",
            "  8%|▊         | 1777/21606 [00:02<00:36, 548.20it/s]\u001b[A\n",
            "  9%|▊         | 1845/21606 [00:02<00:34, 577.16it/s]\u001b[A\n",
            "  9%|▉         | 1909/21606 [00:03<00:33, 593.07it/s]\u001b[A\n",
            "  9%|▉         | 1969/21606 [00:03<00:35, 553.29it/s]\u001b[A\n",
            "  9%|▉         | 2026/21606 [00:03<00:37, 522.71it/s]\u001b[A\n",
            " 10%|▉         | 2081/21606 [00:03<00:36, 529.53it/s]\u001b[A\n",
            " 10%|▉         | 2142/21606 [00:03<00:35, 545.90it/s]\u001b[A\n",
            "\u001b[A"
          ],
          "name": "stderr"
        },
        {
          "output_type": "error",
          "ename": "KeyboardInterrupt",
          "evalue": "ignored",
          "traceback": [
            "\u001b[0;31m---------------------------------------------------------------------------\u001b[0m",
            "\u001b[0;31mKeyboardInterrupt\u001b[0m                         Traceback (most recent call last)",
            "\u001b[0;32m<ipython-input-136-75dd9191c8d7>\u001b[0m in \u001b[0;36m<module>\u001b[0;34m()\u001b[0m\n\u001b[1;32m     18\u001b[0m     \u001b[0mcnt_words\u001b[0m \u001b[0;34m=\u001b[0m\u001b[0;36m0\u001b[0m\u001b[0;34m;\u001b[0m \u001b[0;31m# num of words with a valid vector in the sentence/review\u001b[0m\u001b[0;34m\u001b[0m\u001b[0;34m\u001b[0m\u001b[0m\n\u001b[1;32m     19\u001b[0m     \u001b[0;32mfor\u001b[0m \u001b[0mword\u001b[0m \u001b[0;32min\u001b[0m \u001b[0msent\u001b[0m\u001b[0;34m:\u001b[0m \u001b[0;31m# for each word in a review/sentence\u001b[0m\u001b[0;34m\u001b[0m\u001b[0;34m\u001b[0m\u001b[0m\n\u001b[0;32m---> 20\u001b[0;31m         \u001b[0;32mif\u001b[0m \u001b[0mword\u001b[0m \u001b[0;32min\u001b[0m \u001b[0mw2v_words\u001b[0m\u001b[0;34m:\u001b[0m\u001b[0;34m\u001b[0m\u001b[0;34m\u001b[0m\u001b[0m\n\u001b[0m\u001b[1;32m     21\u001b[0m             \u001b[0mvec\u001b[0m \u001b[0;34m=\u001b[0m \u001b[0mw2v_model\u001b[0m\u001b[0;34m.\u001b[0m\u001b[0mwv\u001b[0m\u001b[0;34m[\u001b[0m\u001b[0mword\u001b[0m\u001b[0;34m]\u001b[0m\u001b[0;34m\u001b[0m\u001b[0;34m\u001b[0m\u001b[0m\n\u001b[1;32m     22\u001b[0m             \u001b[0msent_vec\u001b[0m \u001b[0;34m+=\u001b[0m \u001b[0mvec\u001b[0m\u001b[0;34m\u001b[0m\u001b[0;34m\u001b[0m\u001b[0m\n",
            "\u001b[0;31mKeyboardInterrupt\u001b[0m: "
          ]
        }
      ]
    },
    {
      "cell_type": "markdown",
      "metadata": {
        "id": "sPZx5fYarcHs",
        "colab_type": "text"
      },
      "source": [
        "## [5.2] Applying Logistic Regression on TFIDF Word2Vec,<font color='red'> SET 4</font>"
      ]
    },
    {
      "cell_type": "code",
      "metadata": {
        "id": "AfUhxq1DrhBl",
        "colab_type": "code",
        "colab": {}
      },
      "source": [
        "  # Split the SET1 in Train, CV and test data set\n",
        "\n",
        "Y = final['Score'].values\n",
        "X = preprocessed_reviews\n",
        "\n",
        "X_train, X_test, y_train, y_test = train_test_split(X,Y, test_size = 0.3, random_state = 100)\n",
        "X_train, X_cv, y_train, y_cv = train_test_split(X_train, y_train, test_size=0.33) # this is random splitting\n",
        "\n",
        "# Computing TFIDF Average Word2Vec for X_train\n",
        "# S = [\"abc def pqr\", \"def def def abc\", \"pqr pqr def\"]\n",
        "\n",
        "i=0\n",
        "list_of_sentance=[]\n",
        "for sentance in X_train:\n",
        "    list_of_sentance.append(sentance.split())\n",
        "    \n",
        "model = TfidfVectorizer()\n",
        "model.fit(X_train)\n",
        "# we are converting a dictionary with word as a key, and the idf as a value\n",
        "dictionary = dict(zip(model.get_feature_names(), list(model.idf_)))\n",
        "tfidf_feat = model.get_feature_names()\n",
        "\n",
        "w2v_model=Word2Vec(list_of_sentance,min_count=5,size=500, workers=4)\n",
        "w2v_words = list(w2v_model.wv.vocab)\n",
        "tfidf_sent_vectors_X_train = []; # the avg-w2v for each sentence/review is stored in this list\n",
        "row=0;\n",
        "for sent in tqdm(list_of_sentance): # for each review/sentence \n",
        "    sent_vec = np.zeros(500) # as word vectors are of zero length\n",
        "    weight_sum =0; # num of words with a valid vector in the sentence/review\n",
        "    for word in sent: # for each word in a review/sentence\n",
        "        if word in w2v_words and word in tfidf_feat:\n",
        "            vec = w2v_model.wv[word]\n",
        "#             tf_idf = tf_idf_matrix[row, tfidf_feat.index(word)]\n",
        "            # to reduce the computation we are \n",
        "            # dictionary[word] = idf value of word in whole courpus\n",
        "            # sent.count(word) = tf valeus of word in this review\n",
        "            tf_idf = dictionary[word]*(sent.count(word)/len(sent))\n",
        "            sent_vec += (vec * tf_idf)\n",
        "            weight_sum += tf_idf\n",
        "    if weight_sum != 0:\n",
        "        sent_vec /= weight_sum\n",
        "    tfidf_sent_vectors_X_train.append(sent_vec)\n",
        "    row += 1\n",
        "print('count',cnt_words)    \n",
        "print(len(tfidf_sent_vectors_X_train))\n",
        "print(len(tfidf_sent_vectors_X_train[0]))\n",
        "\n",
        "\n",
        "# Computing Average Word2Vec for X_cv\n",
        "\n",
        "i=0\n",
        "list_of_sentance=[]\n",
        "for sentance in X_cv:\n",
        "    list_of_sentance.append(sentance.split())\n",
        "    \n",
        "#model = TfidfVectorizer()\n",
        "#model.fit(X_cv)\n",
        "# we are converting a dictionary with word as a key, and the idf as a value\n",
        "dictionary = dict(zip(model.get_feature_names(), list(model.idf_)))\n",
        "tfidf_feat = model.get_feature_names()\n",
        "\n",
        "#w2v_model=Word2Vec(list_of_sentance,min_count=5,size=500, workers=4)\n",
        "#w2v_words = list(w2v_model.wv.vocab)\n",
        "\n",
        "tfidf_sent_vectors_X_cv = []; # the avg-w2v for each sentence/review is stored in this list\n",
        "row=0;\n",
        "for sent in tqdm(list_of_sentance): # for each review/sentence \n",
        "    sent_vec = np.zeros(500) # as word vectors are of zero length\n",
        "    weight_sum =0; # num of words with a valid vector in the sentence/review\n",
        "    for word in sent: # for each word in a review/sentence\n",
        "        if word in w2v_words and word in tfidf_feat:\n",
        "            vec = w2v_model.wv[word]\n",
        "#             tf_idf = tf_idf_matrix[row, tfidf_feat.index(word)]\n",
        "            # to reduce the computation we are \n",
        "            # dictionary[word] = idf value of word in whole courpus\n",
        "            # sent.count(word) = tf valeus of word in this review\n",
        "            tf_idf = dictionary[word]*(sent.count(word)/len(sent))\n",
        "            sent_vec += (vec * tf_idf)\n",
        "            weight_sum += tf_idf\n",
        "    if weight_sum != 0:\n",
        "        sent_vec /= weight_sum\n",
        "    tfidf_sent_vectors_X_cv.append(sent_vec)\n",
        "    row += 1\n",
        "    \n",
        " \n",
        "# Computing Average Word2Vec for X_Test\n",
        "\n",
        "i=0\n",
        "list_of_sentance=[]\n",
        "for sentance in X_test:\n",
        "    list_of_sentance.append(sentance.split())\n",
        "    \n",
        "#model = TfidfVectorizer()\n",
        "#model.fit(X_test)\n",
        "# we are converting a dictionary with word as a key, and the idf as a value\n",
        "dictionary = dict(zip(model.get_feature_names(), list(model.idf_)))\n",
        "tfidf_feat = model.get_feature_names()\n",
        "  \n",
        "#w2v_model=Word2Vec(list_of_sentance,min_count=5,size=500, workers=4)\n",
        "#w2v_words = list(w2v_model.wv.vocab)\n",
        "\n",
        "tfidf_sent_vectors_X_test = []; # the avg-w2v for each sentence/review is stored in this list\n",
        "row=0;\n",
        "for sent in tqdm(list_of_sentance): # for each review/sentence \n",
        "    sent_vec = np.zeros(500) # as word vectors are of zero length\n",
        "    weight_sum =0; # num of words with a valid vector in the sentence/review\n",
        "    for word in sent: # for each word in a review/sentence\n",
        "        if word in w2v_words and word in tfidf_feat:\n",
        "            vec = w2v_model.wv[word]\n",
        "#             tf_idf = tf_idf_matrix[row, tfidf_feat.index(word)]\n",
        "            # to reduce the computation we are \n",
        "            # dictionary[word] = idf value of word in whole courpus\n",
        "            # sent.count(word) = tf valeus of word in this review\n",
        "            tf_idf = dictionary[word]*(sent.count(word)/len(sent))\n",
        "            sent_vec += (vec * tf_idf)\n",
        "            weight_sum += tf_idf\n",
        "    if weight_sum != 0:\n",
        "        sent_vec /= weight_sum\n",
        "    tfidf_sent_vectors_X_test.append(sent_vec)\n",
        "    row += 1  \n",
        "\n",
        "scaler = StandardScaler(with_mean=False, with_std=True)\n",
        "scaler.fit(tfidf_sent_vectors_X_train)\n",
        "scaler.transform(tfidf_sent_vectors_X_train)\n",
        "scaler.transform(tfidf_sent_vectors_X_cv)\n",
        "scaler.transform(tfidf_sent_vectors_X_test)\n",
        "#preprocessing.scale(X_train_bow)\n",
        "\n",
        "\n",
        "\n",
        "# getting AUC ROC curve\n",
        "\n",
        "# Getting the optimal function with Grid search\n",
        "parameters = [{'C':[5,1,0.1,0.01,0.05,0.01,0.005,0.001, 0.0005, 0.0001]}]\n",
        "LR_optimal = GridSearchCV(LogisticRegression(penalty='l2'),parameters,scoring = 'f1',cv=8)\n",
        "LR_optimal.fit(tfidf_sent_vectors_X_train, y_train)\n",
        "print(\"Best estimator & Score for the LR with GridSearchCV\")\n",
        "print(LR_optimal.best_estimator_)\n",
        "print(LR_optimal.score(tfidf_sent_vectors_X_train, y_train))\n",
        "\n",
        "# Getting the optimal function with normal looping\n",
        "train_auc = []\n",
        "cv_auc = []\n",
        "alpha = [10,5,1,0.5,0.1,0.05,0.01,0.005,0.001, 0.0005, 0.0001]\n",
        "for i in alpha:\n",
        "    LR_optimal = LogisticRegression(C=i, class_weight=None, dual=False, fit_intercept=True, max_iter=100, multi_class='warn',n_jobs=None, penalty='l2', random_state=None, solver='warn',tol=0.0001, verbose=0, warm_start=False)\n",
        "    LR_optimal.fit(tfidf_sent_vectors_X_train, y_train)\n",
        "    # roc_auc_score(y_true, y_score) the 2nd parameter should be probability estimates of the positive class\n",
        "    # not the predicted outputs\n",
        "    y_train_pred =  LR_optimal.predict_log_proba(tfidf_sent_vectors_X_train)[:,1]\n",
        "    y_cv_pred =  LR_optimal.predict_log_proba(tfidf_sent_vectors_X_cv)[:,1]\n",
        "    \n",
        "    train_auc.append(roc_auc_score(y_train,y_train_pred))\n",
        "    cv_auc.append(roc_auc_score(y_cv, y_cv_pred))\n",
        "    \n",
        "plt.plot(np.log(alpha), train_auc, label='Train AUC')\n",
        "plt.plot(np.log(alpha), cv_auc, label='CV AUC')\n",
        "plt.legend()\n",
        "plt.xlabel(\"log alpha\")\n",
        "plt.ylabel(\"Error\")\n",
        "plt.title(\"ERROR PLOTS\")\n",
        "plt.show()\n",
        "\n",
        "\n",
        "\n",
        "#Checking if sparsity increases with L1 regularizer\n",
        "clf = LogisticRegression(C=1,penalty = 'l1')\n",
        "clf.fit(tfidf_sent_vectors_X_train, y_train)\n",
        "w=clf.coef_\n",
        "print(np.count_nonzero(w))\n",
        "\n",
        "clf = LogisticRegression(C=0.1,penalty = 'l1')\n",
        "clf.fit(tfidf_sent_vectors_X_train, y_train)\n",
        "w=clf.coef_\n",
        "print(np.count_nonzero(w))\n",
        "\n",
        "# Fitting with best hyperparamter\n",
        "LR_optimal = LogisticRegression(C=1, class_weight=None, dual=False, fit_intercept=True,intercept_scaling=1, max_iter=100, multi_class='warn',n_jobs=None, penalty='l2', random_state=None, solver='warn',tol=0.0001, verbose=0, warm_start=False)\n",
        "LR_optimal.fit(tfidf_sent_vectors_X_train, y_train)\n",
        "train_fpr, train_tpr, thresholds = roc_curve(y_train, LR_optimal.predict_log_proba(tfidf_sent_vectors_X_train)[:,1])\n",
        "test_fpr, test_tpr, thresholds = roc_curve(y_test, LR_optimal.predict_log_proba(tfidf_sent_vectors_X_test)[:,1])\n",
        "plt.plot(train_fpr, train_tpr, label=\"train AUC =\"+str(auc(train_fpr, train_tpr)))\n",
        "plt.plot(test_fpr, test_tpr, label=\"test AUC =\"+str(auc(test_fpr, test_tpr)))\n",
        "plt.legend()\n",
        "plt.xlabel(\"FPR\")\n",
        "plt.ylabel(\"TPR\")\n",
        "plt.title(\"ROC AUC Plot\")\n",
        "plt.show()\n",
        "\n",
        "print(\"Printing weight vector befor noise\")\n",
        "W1 = LR_optimal.coef_\n",
        "print(W1)\n",
        "\n",
        "print(\"=\"*100)\n",
        "\n",
        "# Adding some noise\n",
        "print(\"Plotting the graph after some adding some noise\")\n",
        "e = np.random.normal()\n",
        "tfidf_sent_vectors_X_train.data = tfidf_sent_vectors_X_train + e\n",
        "tfidf_sent_vectors_X_cv.data = tfidf_sent_vectors_X_cv + e\n",
        "tfidf_sent_vectors_X_test.data = tfidf_sent_vectors_X_test + e\n",
        "\n",
        "LR_optimal = LogisticRegression(C=1, class_weight=None, dual=False, fit_intercept=True,intercept_scaling=1, max_iter=100, multi_class='warn',n_jobs=None, penalty='l2', random_state=None, solver='warn',tol=0.0001, verbose=0, warm_start=False)\n",
        "LR_optimal.fit(tfidf_sent_vectors_X_train, y_train)\n",
        "train_fpr, train_tpr, thresholds = roc_curve(y_train, LR_optimal.predict_log_proba(tfidf_sent_vectors_X_train)[:,1])\n",
        "test_fpr, test_tpr, thresholds = roc_curve(y_test, LR_optimal.predict_log_proba(tfidf_sent_vectors_X_test)[:,1])\n",
        "plt.plot(train_fpr, train_tpr, label=\"train AUC =\"+str(auc(train_fpr, train_tpr)))\n",
        "plt.plot(test_fpr, test_tpr, label=\"test AUC =\"+str(auc(test_fpr, test_tpr)))\n",
        "plt.legend()\n",
        "plt.xlabel(\"FPR\")\n",
        "plt.ylabel(\"TPR\")\n",
        "plt.title(\"ROC AUC PLOTS with Noise\")\n",
        "plt.show()\n",
        "\n",
        "print(\"Printing weight vector after noise\")\n",
        "W2 = LR_optimal.coef_\n",
        "print(W2)\n",
        "#W1 = W1 + e\n",
        "#W2 = W2 + e\n",
        "# Finding percentage difference between 2 vectors\n",
        "percentage_change_vector = np.abs((W2-W1)/W1)*100\n",
        "print(\"%change\",percentage_change_vector)\n",
        "change=[]\n",
        "for i in range(90,101):\n",
        "   change.append(np.percentile(percentage_change_vector,i))\n",
        "x1 = list(range(90,101))\n",
        "y1 = change\n",
        "plt.title(\"Multicolliniearlity test\")\n",
        "plt.plot(x1,y1)\n",
        "plt.show()\n",
        "x.add_row([\"TFIDF_Avg_Word_To_Vec\",str(auc(test_fpr, test_tpr)), Top_Positive, Top_Negative])"
      ],
      "execution_count": 0,
      "outputs": []
    },
    {
      "cell_type": "markdown",
      "metadata": {
        "id": "vst5Y7mmJklu",
        "colab_type": "text"
      },
      "source": [
        "# [6] Conclusions"
      ]
    },
    {
      "cell_type": "code",
      "metadata": {
        "id": "De9HYtIGJklv",
        "colab_type": "code",
        "outputId": "690e7c6b-77a6-4750-8750-7fb22fa7a07b",
        "colab": {
          "base_uri": "https://localhost:8080/",
          "height": 156
        }
      },
      "source": [
        "\n",
        "print(x)\n"
      ],
      "execution_count": 0,
      "outputs": [
        {
          "output_type": "stream",
          "text": [
            "+-----------------+--------------------+---------------------------------------------------------------------------------------------------------------------------+-------------------------------------------------------------------------------------------------------------------------------------+\n",
            "| Vectorize Model |   ROC Test score   |                                                    Top 10 +ve features                                                    |                                                      Top 10 -ve review features                                                     |\n",
            "+-----------------+--------------------+---------------------------------------------------------------------------------------------------------------------------+-------------------------------------------------------------------------------------------------------------------------------------+\n",
            "|       BOW       | 0.9271975279692465 |   ['already', 'asjfnboeb', 'cornsilk', 'attribute', 'buddhists', 'client', 'cocker', 'capful', 'canadian', 'controlled']  |        ['disappointing', 'awful', 'terrible', 'horrible', 'disappointed', 'disappointment', 'sorry', 'yuck', 'unfortunately']       |\n",
            "|      TFIDF      | 0.9460144396948377 | ['fantastic', 'yummy', 'pleased', 'excellent', 'wonderful', 'hooked', 'best', 'delicious', 'perfect', 'not disappointed'] | ['not worth', 'not happy', 'terrible', 'disappointing', 'awful', 'not recommend', 'disappointed', 'disappointment', 'not purchase'] |\n",
            "|      TFIDF      | 0.886932597433011  | ['fantastic', 'yummy', 'pleased', 'excellent', 'wonderful', 'hooked', 'best', 'delicious', 'perfect', 'not disappointed'] | ['not worth', 'not happy', 'terrible', 'disappointing', 'awful', 'not recommend', 'disappointed', 'disappointment', 'not purchase'] |\n",
            "+-----------------+--------------------+---------------------------------------------------------------------------------------------------------------------------+-------------------------------------------------------------------------------------------------------------------------------------+\n"
          ],
          "name": "stdout"
        }
      ]
    }
  ]
}